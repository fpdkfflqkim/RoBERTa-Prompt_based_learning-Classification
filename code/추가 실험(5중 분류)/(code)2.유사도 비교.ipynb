{
 "cells": [
  {
   "cell_type": "markdown",
   "metadata": {},
   "source": [
    "# 유사도 비교"
   ]
  },
  {
   "cell_type": "markdown",
   "metadata": {},
   "source": [
    "데이터 불러오기"
   ]
  },
  {
   "cell_type": "code",
   "execution_count": 1,
   "metadata": {},
   "outputs": [],
   "source": [
    "import pandas as pd\n",
    "import numpy as np"
   ]
  },
  {
   "cell_type": "code",
   "execution_count": 2,
   "metadata": {},
   "outputs": [],
   "source": [
    "df_train = pd.read_csv(\"C:/Users/user/Desktop/논문리뷰/Pattern-Exploiting-Training(PET)/code/testPET/data/df_train_400_train.csv\")\n",
    "df_test = pd.read_csv(\"C:/Users/user/Desktop/논문리뷰/Pattern-Exploiting-Training(PET)/code/testPET/data/df_test.csv\")\n",
    "df_unlabeled = pd.read_csv(\"C:/Users/user/Desktop/논문리뷰/Pattern-Exploiting-Training(PET)/code/testPET/data/df_train_400_train_unlabeled.csv\")"
   ]
  },
  {
   "cell_type": "markdown",
   "metadata": {},
   "source": [
    "라벨 str로 변경"
   ]
  },
  {
   "cell_type": "code",
   "execution_count": 3,
   "metadata": {},
   "outputs": [],
   "source": [
    "df_train = df_train.astype(str)\n",
    "df_test = df_test.astype(str)\n",
    "df_unlabeled = df_unlabeled.astype(str)"
   ]
  },
  {
   "cell_type": "markdown",
   "metadata": {},
   "source": [
    "pvp+text 만들기"
   ]
  },
  {
   "cell_type": "code",
   "execution_count": 4,
   "metadata": {},
   "outputs": [],
   "source": [
    "def text_with_pattern_1(df):\n",
    "    if df['label'] == '1':\n",
    "        return f\"It was worst. {df['text']}.\"\n",
    "    elif df['label'] == '2':\n",
    "        return f\"It was bad. {df['text']}.\"\n",
    "    elif df['label'] == '3':\n",
    "        return f\"It was normal. {df['text']}.\"\n",
    "    elif df['label'] == '4':\n",
    "        return f\"It was good. {df['text']}.\"\n",
    "    elif df['label'] == '5':\n",
    "        return f\"It was great. {df['text']}.\""
   ]
  },
  {
   "cell_type": "code",
   "execution_count": 5,
   "metadata": {},
   "outputs": [],
   "source": [
    "def text_with_pattern_2(df):\n",
    "    if df['label'] == '1':\n",
    "        return f\"{df['text'] }. All in all, it was worst.\"\n",
    "    elif df['label'] == '2':\n",
    "        return f\"{df['text']}. All in all, it was bad.\"\n",
    "    elif df['label'] == '3':\n",
    "        return f\"{df['text']}. All in all, it was normal.\"\n",
    "    elif df['label'] == '4':\n",
    "        return f\"{df['text']}. All in all, it was good.\"\n",
    "    elif df['label'] == '5':\n",
    "        return f\"{df['text']}. All in all, it was great.\""
   ]
  },
  {
   "cell_type": "code",
   "execution_count": 6,
   "metadata": {},
   "outputs": [],
   "source": [
    "def text_with_pattern_3(df):\n",
    "    if df['label'] == '1':\n",
    "        return f\"In summary, the restaurant is worst. {df['text']}.\"\n",
    "    elif df['label'] == '2':\n",
    "        return f\"In summary, the restaurant is bad. {df['text']}.\"\n",
    "    elif df['label'] == '3':\n",
    "        return f\"In summary, the restaurant is normal. {df['text']}.\"\n",
    "    elif df['label'] == '4':\n",
    "        return f\"In summary, the restaurant is good. {df['text']}.\"\n",
    "    elif df['label'] == '5':\n",
    "        return f\"In summary, the restaurant is great. {df['text']}.\""
   ]
  },
  {
   "cell_type": "code",
   "execution_count": 7,
   "metadata": {},
   "outputs": [],
   "source": [
    "df_train['PVPtext_1'] = df_train.apply(text_with_pattern_1, axis=1)\n",
    "df_train['PVPtext_2'] = df_train.apply(text_with_pattern_2, axis=1)\n",
    "df_train['PVPtext_3'] = df_train.apply(text_with_pattern_3, axis=1)"
   ]
  },
  {
   "cell_type": "markdown",
   "metadata": {},
   "source": [
    "Pvp만 비교"
   ]
  },
  {
   "cell_type": "code",
   "execution_count": 8,
   "metadata": {},
   "outputs": [],
   "source": [
    "def pvp_1(df):\n",
    "    if df['label'] == '1':\n",
    "        return f\"It was worst.\"\n",
    "    elif df['label'] == '2':\n",
    "        return f\"It was bad.\"\n",
    "    elif df['label'] == '3':\n",
    "        return f\"It was normal.\"\n",
    "    elif df['label'] == '4':\n",
    "        return f\"It was good.\"\n",
    "    elif df['label'] == '5':\n",
    "        return f\"It was great.\""
   ]
  },
  {
   "cell_type": "code",
   "execution_count": 9,
   "metadata": {},
   "outputs": [],
   "source": [
    "def pvp_2(df):\n",
    "    if df['label'] == '1':\n",
    "        return f\"All in all, it was worst.\"\n",
    "    elif df['label'] == '2':\n",
    "        return f\"All in all, it was bad.\"\n",
    "    elif df['label'] == '3':\n",
    "        return f\"All in all, it was normal.\"\n",
    "    elif df['label'] == '4':\n",
    "        return f\"All in all, it was good.\"\n",
    "    elif df['label'] == '5':\n",
    "        return f\"All in all, it was great.\""
   ]
  },
  {
   "cell_type": "code",
   "execution_count": 10,
   "metadata": {},
   "outputs": [],
   "source": [
    "def pvp_3(df):\n",
    "    if df['label'] == '1':\n",
    "        return f\"In summary, the restaurant is worst.\"\n",
    "    elif df['label'] == '2':\n",
    "        return f\"In summary, the restaurant is bad.\"\n",
    "    elif df['label'] == '3':\n",
    "        return f\"In summary, the restaurant is normal.\"\n",
    "    elif df['label'] == '4':\n",
    "        return f\"In summary, the restaurant is good.\"\n",
    "    elif df['label'] == '5':\n",
    "        return f\"In summary, the restaurant is great.\""
   ]
  },
  {
   "cell_type": "code",
   "execution_count": 11,
   "metadata": {},
   "outputs": [],
   "source": [
    "df_train['PVP_1'] = df_train.apply(pvp_1, axis=1)\n",
    "df_train['PVP_2'] = df_train.apply(pvp_2, axis=1)\n",
    "df_train['PVP_3'] = df_train.apply(pvp_3, axis=1)"
   ]
  },
  {
   "cell_type": "markdown",
   "metadata": {},
   "source": [
    "sample pvp(유사도 낮은)"
   ]
  },
  {
   "cell_type": "code",
   "execution_count": 12,
   "metadata": {},
   "outputs": [],
   "source": [
    "def pvp_4(df):\n",
    "    if df['label'] == '1':\n",
    "        return f\"This book is worst.\"\n",
    "    elif df['label'] == '2':\n",
    "        return f\"This book is bad.\"\n",
    "    elif df['label'] == '3':\n",
    "        return f\"This book is normal.\"\n",
    "    elif df['label'] == '4':\n",
    "        return f\"This book is good.\"\n",
    "    elif df['label'] == '5':\n",
    "        return f\"This book is great.\""
   ]
  },
  {
   "cell_type": "code",
   "execution_count": 13,
   "metadata": {},
   "outputs": [],
   "source": [
    "def pvp_5(df):\n",
    "    if df['label'] == '1':\n",
    "        return f\"I do not know why it is worst.\"\n",
    "    elif df['label'] == '2':\n",
    "        return f\"I do not know why it is bad.\"\n",
    "    elif df['label'] == '3':\n",
    "        return f\"I do not know why it is normal.\"\n",
    "    elif df['label'] == '4':\n",
    "        return f\"I do not know why it is good.\"\n",
    "    elif df['label'] == '5':\n",
    "        return f\"I do not know why it is great.\""
   ]
  },
  {
   "cell_type": "code",
   "execution_count": 14,
   "metadata": {},
   "outputs": [],
   "source": [
    "def pvp_6(df):\n",
    "    if df['label'] == '1':\n",
    "        return f\"my friends think it was worst.\"\n",
    "    elif df['label'] == '2':\n",
    "        return f\"my friends think it was bad.\"\n",
    "    elif df['label'] == '3':\n",
    "        return f\"my friends think it was normal.\"\n",
    "    elif df['label'] == '4':\n",
    "        return f\"my friends think it was good.\"\n",
    "    elif df['label'] == '5':\n",
    "        return f\"my friends think it was great.\""
   ]
  },
  {
   "cell_type": "code",
   "execution_count": 15,
   "metadata": {},
   "outputs": [],
   "source": [
    "df_train['PVP_4'] = df_train.apply(pvp_4, axis=1)\n",
    "df_train['PVP_5'] = df_train.apply(pvp_5, axis=1)\n",
    "df_train['PVP_6'] = df_train.apply(pvp_6, axis=1)"
   ]
  },
  {
   "cell_type": "code",
   "execution_count": 16,
   "metadata": {},
   "outputs": [
    {
     "data": {
      "text/html": [
       "<div>\n",
       "<style scoped>\n",
       "    .dataframe tbody tr th:only-of-type {\n",
       "        vertical-align: middle;\n",
       "    }\n",
       "\n",
       "    .dataframe tbody tr th {\n",
       "        vertical-align: top;\n",
       "    }\n",
       "\n",
       "    .dataframe thead th {\n",
       "        text-align: right;\n",
       "    }\n",
       "</style>\n",
       "<table border=\"1\" class=\"dataframe\">\n",
       "  <thead>\n",
       "    <tr style=\"text-align: right;\">\n",
       "      <th></th>\n",
       "      <th>label</th>\n",
       "      <th>text</th>\n",
       "      <th>PVPtext_1</th>\n",
       "      <th>PVPtext_2</th>\n",
       "      <th>PVPtext_3</th>\n",
       "      <th>PVP_1</th>\n",
       "      <th>PVP_2</th>\n",
       "      <th>PVP_3</th>\n",
       "      <th>PVP_4</th>\n",
       "      <th>PVP_5</th>\n",
       "      <th>PVP_6</th>\n",
       "    </tr>\n",
       "  </thead>\n",
       "  <tbody>\n",
       "    <tr>\n",
       "      <th>0</th>\n",
       "      <td>1</td>\n",
       "      <td>Stopped here for a byte to eat with about 8 pe...</td>\n",
       "      <td>It was worst. Stopped here for a byte to eat w...</td>\n",
       "      <td>Stopped here for a byte to eat with about 8 pe...</td>\n",
       "      <td>In summary, the restaurant is worst. Stopped h...</td>\n",
       "      <td>It was worst.</td>\n",
       "      <td>All in all, it was worst.</td>\n",
       "      <td>In summary, the restaurant is worst.</td>\n",
       "      <td>This book is worst.</td>\n",
       "      <td>I do not know why it is worst.</td>\n",
       "      <td>my friends think it was worst.</td>\n",
       "    </tr>\n",
       "    <tr>\n",
       "      <th>1</th>\n",
       "      <td>1</td>\n",
       "      <td>Yuk-O. I work just down the street and read th...</td>\n",
       "      <td>It was worst. Yuk-O. I work just down the stre...</td>\n",
       "      <td>Yuk-O. I work just down the street and read th...</td>\n",
       "      <td>In summary, the restaurant is worst. Yuk-O. I ...</td>\n",
       "      <td>It was worst.</td>\n",
       "      <td>All in all, it was worst.</td>\n",
       "      <td>In summary, the restaurant is worst.</td>\n",
       "      <td>This book is worst.</td>\n",
       "      <td>I do not know why it is worst.</td>\n",
       "      <td>my friends think it was worst.</td>\n",
       "    </tr>\n",
       "    <tr>\n",
       "      <th>2</th>\n",
       "      <td>1</td>\n",
       "      <td>So disappointed. The BWW that we normally go t...</td>\n",
       "      <td>It was worst. So disappointed. The BWW that we...</td>\n",
       "      <td>So disappointed. The BWW that we normally go t...</td>\n",
       "      <td>In summary, the restaurant is worst. So disapp...</td>\n",
       "      <td>It was worst.</td>\n",
       "      <td>All in all, it was worst.</td>\n",
       "      <td>In summary, the restaurant is worst.</td>\n",
       "      <td>This book is worst.</td>\n",
       "      <td>I do not know why it is worst.</td>\n",
       "      <td>my friends think it was worst.</td>\n",
       "    </tr>\n",
       "    <tr>\n",
       "      <th>3</th>\n",
       "      <td>1</td>\n",
       "      <td>I wanted put zero but yelp does not allow.Wors...</td>\n",
       "      <td>It was worst. I wanted put zero but yelp does ...</td>\n",
       "      <td>I wanted put zero but yelp does not allow.Wors...</td>\n",
       "      <td>In summary, the restaurant is worst. I wanted ...</td>\n",
       "      <td>It was worst.</td>\n",
       "      <td>All in all, it was worst.</td>\n",
       "      <td>In summary, the restaurant is worst.</td>\n",
       "      <td>This book is worst.</td>\n",
       "      <td>I do not know why it is worst.</td>\n",
       "      <td>my friends think it was worst.</td>\n",
       "    </tr>\n",
       "    <tr>\n",
       "      <th>4</th>\n",
       "      <td>1</td>\n",
       "      <td>Don't waste your time in vegas. \\n\\nThe good: ...</td>\n",
       "      <td>It was worst. Don't waste your time in vegas. ...</td>\n",
       "      <td>Don't waste your time in vegas. \\n\\nThe good: ...</td>\n",
       "      <td>In summary, the restaurant is worst. Don't was...</td>\n",
       "      <td>It was worst.</td>\n",
       "      <td>All in all, it was worst.</td>\n",
       "      <td>In summary, the restaurant is worst.</td>\n",
       "      <td>This book is worst.</td>\n",
       "      <td>I do not know why it is worst.</td>\n",
       "      <td>my friends think it was worst.</td>\n",
       "    </tr>\n",
       "    <tr>\n",
       "      <th>...</th>\n",
       "      <td>...</td>\n",
       "      <td>...</td>\n",
       "      <td>...</td>\n",
       "      <td>...</td>\n",
       "      <td>...</td>\n",
       "      <td>...</td>\n",
       "      <td>...</td>\n",
       "      <td>...</td>\n",
       "      <td>...</td>\n",
       "      <td>...</td>\n",
       "      <td>...</td>\n",
       "    </tr>\n",
       "    <tr>\n",
       "      <th>95</th>\n",
       "      <td>5</td>\n",
       "      <td>We are so thrilled with the service and window...</td>\n",
       "      <td>It was great. We are so thrilled with the serv...</td>\n",
       "      <td>We are so thrilled with the service and window...</td>\n",
       "      <td>In summary, the restaurant is great. We are so...</td>\n",
       "      <td>It was great.</td>\n",
       "      <td>All in all, it was great.</td>\n",
       "      <td>In summary, the restaurant is great.</td>\n",
       "      <td>This book is great.</td>\n",
       "      <td>I do not know why it is great.</td>\n",
       "      <td>my friends think it was great.</td>\n",
       "    </tr>\n",
       "    <tr>\n",
       "      <th>96</th>\n",
       "      <td>5</td>\n",
       "      <td>Good, healthy choices of typical Mediterranean...</td>\n",
       "      <td>It was great. Good, healthy choices of typical...</td>\n",
       "      <td>Good, healthy choices of typical Mediterranean...</td>\n",
       "      <td>In summary, the restaurant is great. Good, hea...</td>\n",
       "      <td>It was great.</td>\n",
       "      <td>All in all, it was great.</td>\n",
       "      <td>In summary, the restaurant is great.</td>\n",
       "      <td>This book is great.</td>\n",
       "      <td>I do not know why it is great.</td>\n",
       "      <td>my friends think it was great.</td>\n",
       "    </tr>\n",
       "    <tr>\n",
       "      <th>97</th>\n",
       "      <td>5</td>\n",
       "      <td>I haven't even gotten my food yet and this pla...</td>\n",
       "      <td>It was great. I haven't even gotten my food ye...</td>\n",
       "      <td>I haven't even gotten my food yet and this pla...</td>\n",
       "      <td>In summary, the restaurant is great. I haven't...</td>\n",
       "      <td>It was great.</td>\n",
       "      <td>All in all, it was great.</td>\n",
       "      <td>In summary, the restaurant is great.</td>\n",
       "      <td>This book is great.</td>\n",
       "      <td>I do not know why it is great.</td>\n",
       "      <td>my friends think it was great.</td>\n",
       "    </tr>\n",
       "    <tr>\n",
       "      <th>98</th>\n",
       "      <td>5</td>\n",
       "      <td>Just ate here today and this place is great! T...</td>\n",
       "      <td>It was great. Just ate here today and this pla...</td>\n",
       "      <td>Just ate here today and this place is great! T...</td>\n",
       "      <td>In summary, the restaurant is great. Just ate ...</td>\n",
       "      <td>It was great.</td>\n",
       "      <td>All in all, it was great.</td>\n",
       "      <td>In summary, the restaurant is great.</td>\n",
       "      <td>This book is great.</td>\n",
       "      <td>I do not know why it is great.</td>\n",
       "      <td>my friends think it was great.</td>\n",
       "    </tr>\n",
       "    <tr>\n",
       "      <th>99</th>\n",
       "      <td>5</td>\n",
       "      <td>Especially in Phoenix where everything is so s...</td>\n",
       "      <td>It was great. Especially in Phoenix where ever...</td>\n",
       "      <td>Especially in Phoenix where everything is so s...</td>\n",
       "      <td>In summary, the restaurant is great. Especiall...</td>\n",
       "      <td>It was great.</td>\n",
       "      <td>All in all, it was great.</td>\n",
       "      <td>In summary, the restaurant is great.</td>\n",
       "      <td>This book is great.</td>\n",
       "      <td>I do not know why it is great.</td>\n",
       "      <td>my friends think it was great.</td>\n",
       "    </tr>\n",
       "  </tbody>\n",
       "</table>\n",
       "<p>100 rows × 11 columns</p>\n",
       "</div>"
      ],
      "text/plain": [
       "   label                                               text  \\\n",
       "0      1  Stopped here for a byte to eat with about 8 pe...   \n",
       "1      1  Yuk-O. I work just down the street and read th...   \n",
       "2      1  So disappointed. The BWW that we normally go t...   \n",
       "3      1  I wanted put zero but yelp does not allow.Wors...   \n",
       "4      1  Don't waste your time in vegas. \\n\\nThe good: ...   \n",
       "..   ...                                                ...   \n",
       "95     5  We are so thrilled with the service and window...   \n",
       "96     5  Good, healthy choices of typical Mediterranean...   \n",
       "97     5  I haven't even gotten my food yet and this pla...   \n",
       "98     5  Just ate here today and this place is great! T...   \n",
       "99     5  Especially in Phoenix where everything is so s...   \n",
       "\n",
       "                                            PVPtext_1  \\\n",
       "0   It was worst. Stopped here for a byte to eat w...   \n",
       "1   It was worst. Yuk-O. I work just down the stre...   \n",
       "2   It was worst. So disappointed. The BWW that we...   \n",
       "3   It was worst. I wanted put zero but yelp does ...   \n",
       "4   It was worst. Don't waste your time in vegas. ...   \n",
       "..                                                ...   \n",
       "95  It was great. We are so thrilled with the serv...   \n",
       "96  It was great. Good, healthy choices of typical...   \n",
       "97  It was great. I haven't even gotten my food ye...   \n",
       "98  It was great. Just ate here today and this pla...   \n",
       "99  It was great. Especially in Phoenix where ever...   \n",
       "\n",
       "                                            PVPtext_2  \\\n",
       "0   Stopped here for a byte to eat with about 8 pe...   \n",
       "1   Yuk-O. I work just down the street and read th...   \n",
       "2   So disappointed. The BWW that we normally go t...   \n",
       "3   I wanted put zero but yelp does not allow.Wors...   \n",
       "4   Don't waste your time in vegas. \\n\\nThe good: ...   \n",
       "..                                                ...   \n",
       "95  We are so thrilled with the service and window...   \n",
       "96  Good, healthy choices of typical Mediterranean...   \n",
       "97  I haven't even gotten my food yet and this pla...   \n",
       "98  Just ate here today and this place is great! T...   \n",
       "99  Especially in Phoenix where everything is so s...   \n",
       "\n",
       "                                            PVPtext_3          PVP_1  \\\n",
       "0   In summary, the restaurant is worst. Stopped h...  It was worst.   \n",
       "1   In summary, the restaurant is worst. Yuk-O. I ...  It was worst.   \n",
       "2   In summary, the restaurant is worst. So disapp...  It was worst.   \n",
       "3   In summary, the restaurant is worst. I wanted ...  It was worst.   \n",
       "4   In summary, the restaurant is worst. Don't was...  It was worst.   \n",
       "..                                                ...            ...   \n",
       "95  In summary, the restaurant is great. We are so...  It was great.   \n",
       "96  In summary, the restaurant is great. Good, hea...  It was great.   \n",
       "97  In summary, the restaurant is great. I haven't...  It was great.   \n",
       "98  In summary, the restaurant is great. Just ate ...  It was great.   \n",
       "99  In summary, the restaurant is great. Especiall...  It was great.   \n",
       "\n",
       "                        PVP_2                                 PVP_3  \\\n",
       "0   All in all, it was worst.  In summary, the restaurant is worst.   \n",
       "1   All in all, it was worst.  In summary, the restaurant is worst.   \n",
       "2   All in all, it was worst.  In summary, the restaurant is worst.   \n",
       "3   All in all, it was worst.  In summary, the restaurant is worst.   \n",
       "4   All in all, it was worst.  In summary, the restaurant is worst.   \n",
       "..                        ...                                   ...   \n",
       "95  All in all, it was great.  In summary, the restaurant is great.   \n",
       "96  All in all, it was great.  In summary, the restaurant is great.   \n",
       "97  All in all, it was great.  In summary, the restaurant is great.   \n",
       "98  All in all, it was great.  In summary, the restaurant is great.   \n",
       "99  All in all, it was great.  In summary, the restaurant is great.   \n",
       "\n",
       "                  PVP_4                           PVP_5  \\\n",
       "0   This book is worst.  I do not know why it is worst.   \n",
       "1   This book is worst.  I do not know why it is worst.   \n",
       "2   This book is worst.  I do not know why it is worst.   \n",
       "3   This book is worst.  I do not know why it is worst.   \n",
       "4   This book is worst.  I do not know why it is worst.   \n",
       "..                  ...                             ...   \n",
       "95  This book is great.  I do not know why it is great.   \n",
       "96  This book is great.  I do not know why it is great.   \n",
       "97  This book is great.  I do not know why it is great.   \n",
       "98  This book is great.  I do not know why it is great.   \n",
       "99  This book is great.  I do not know why it is great.   \n",
       "\n",
       "                             PVP_6  \n",
       "0   my friends think it was worst.  \n",
       "1   my friends think it was worst.  \n",
       "2   my friends think it was worst.  \n",
       "3   my friends think it was worst.  \n",
       "4   my friends think it was worst.  \n",
       "..                             ...  \n",
       "95  my friends think it was great.  \n",
       "96  my friends think it was great.  \n",
       "97  my friends think it was great.  \n",
       "98  my friends think it was great.  \n",
       "99  my friends think it was great.  \n",
       "\n",
       "[100 rows x 11 columns]"
      ]
     },
     "execution_count": 16,
     "metadata": {},
     "output_type": "execute_result"
    }
   ],
   "source": [
    "df_train"
   ]
  },
  {
   "cell_type": "markdown",
   "metadata": {},
   "source": [
    "임베딩"
   ]
  },
  {
   "cell_type": "code",
   "execution_count": 17,
   "metadata": {},
   "outputs": [],
   "source": [
    "from transformers import RobertaTokenizer, RobertaModel\n",
    "import torch"
   ]
  },
  {
   "cell_type": "code",
   "execution_count": 18,
   "metadata": {},
   "outputs": [
    {
     "name": "stderr",
     "output_type": "stream",
     "text": [
      "Some weights of the model checkpoint at roberta-large were not used when initializing RobertaModel: ['lm_head.decoder.weight', 'lm_head.bias', 'lm_head.layer_norm.bias', 'lm_head.layer_norm.weight', 'lm_head.dense.bias', 'lm_head.dense.weight']\n",
      "- This IS expected if you are initializing RobertaModel from the checkpoint of a model trained on another task or with another architecture (e.g. initializing a BertForSequenceClassification model from a BertForPreTraining model).\n",
      "- This IS NOT expected if you are initializing RobertaModel from the checkpoint of a model that you expect to be exactly identical (initializing a BertForSequenceClassification model from a BertForSequenceClassification model).\n"
     ]
    }
   ],
   "source": [
    "tokenizer = RobertaTokenizer.from_pretrained('roberta-large')\n",
    "model = RobertaModel.from_pretrained('roberta-large')"
   ]
  },
  {
   "cell_type": "code",
   "execution_count": 19,
   "metadata": {},
   "outputs": [],
   "source": [
    "texts = df_train['text'].tolist()\n",
    "pvp_texts_1 = df_train['PVPtext_1'].tolist()\n",
    "pvp_texts_2 = df_train['PVPtext_2'].tolist()\n",
    "pvp_texts_3 = df_train['PVPtext_3'].tolist()\n",
    "pvp_1 = df_train['PVP_1'].tolist()\n",
    "pvp_2 = df_train['PVP_2'].tolist()\n",
    "pvp_3 = df_train['PVP_3'].tolist()"
   ]
  },
  {
   "cell_type": "code",
   "execution_count": 20,
   "metadata": {},
   "outputs": [],
   "source": [
    "pvp_4 = df_train['PVP_4'].tolist()\n",
    "pvp_5 = df_train['PVP_5'].tolist()\n",
    "pvp_6 = df_train['PVP_6'].tolist()"
   ]
  },
  {
   "cell_type": "code",
   "execution_count": 21,
   "metadata": {},
   "outputs": [],
   "source": [
    "text_tokens = tokenizer(texts, padding=True, truncation=True, return_tensors='pt')\n",
    "\n",
    "pvp_texts_1_tokens = tokenizer(pvp_texts_1, padding=True, truncation=True, return_tensors='pt')\n",
    "pvp_texts_2_tokens = tokenizer(pvp_texts_2, padding=True, truncation=True, return_tensors='pt')\n",
    "pvp_texts_3_tokens = tokenizer(pvp_texts_3, padding=True, truncation=True, return_tensors='pt')\n",
    "\n",
    "pvp_1_tokens = tokenizer(pvp_1, padding=True, truncation=True, return_tensors='pt')\n",
    "pvp_2_tokens = tokenizer(pvp_2, padding=True, truncation=True, return_tensors='pt')\n",
    "pvp_3_tokens = tokenizer(pvp_3, padding=True, truncation=True, return_tensors='pt')"
   ]
  },
  {
   "cell_type": "code",
   "execution_count": 22,
   "metadata": {},
   "outputs": [],
   "source": [
    "pvp_4_tokens = tokenizer(pvp_4, padding=True, truncation=True, return_tensors='pt')\n",
    "pvp_5_tokens = tokenizer(pvp_5, padding=True, truncation=True, return_tensors='pt')\n",
    "pvp_6_tokens = tokenizer(pvp_6, padding=True, truncation=True, return_tensors='pt')"
   ]
  },
  {
   "cell_type": "code",
   "execution_count": 23,
   "metadata": {},
   "outputs": [],
   "source": [
    "with torch.no_grad():\n",
    "    text_outputs = model(**text_tokens)\n",
    "    \n",
    "    pvp_text_outputs_1 = model(**pvp_texts_1_tokens)\n",
    "    pvp_text_outputs_2 = model(**pvp_texts_2_tokens)\n",
    "    pvp_text_outputs_3 = model(**pvp_texts_3_tokens)\n",
    "    \n",
    "    pvp_outputs_1 = model(**pvp_1_tokens)\n",
    "    pvp_outputs_2 = model(**pvp_2_tokens)\n",
    "    pvp_outputs_3 = model(**pvp_3_tokens)\n",
    "    \n",
    "    pvp_outputs_4 = model(**pvp_4_tokens)\n",
    "    pvp_outputs_5 = model(**pvp_5_tokens)\n",
    "    pvp_outputs_6 = model(**pvp_6_tokens)"
   ]
  },
  {
   "cell_type": "code",
   "execution_count": 24,
   "metadata": {},
   "outputs": [],
   "source": [
    "text_embeddings = text_outputs.last_hidden_state[:, 0, :].numpy()\n",
    "\n",
    "pvp_text_1_embeddings = pvp_text_outputs_1.last_hidden_state[:, 0, :].numpy()\n",
    "pvp_text_2_embeddings = pvp_text_outputs_2.last_hidden_state[:, 0, :].numpy()\n",
    "pvp_text_3_embeddings = pvp_text_outputs_3.last_hidden_state[:, 0, :].numpy()\n",
    "\n",
    "pvp_1_embeddings = pvp_outputs_1.last_hidden_state[:, 0, :].numpy()\n",
    "pvp_2_embeddings = pvp_outputs_2.last_hidden_state[:, 0, :].numpy()\n",
    "pvp_3_embeddings = pvp_outputs_3.last_hidden_state[:, 0, :].numpy()"
   ]
  },
  {
   "cell_type": "code",
   "execution_count": 25,
   "metadata": {},
   "outputs": [],
   "source": [
    "pvp_4_embeddings = pvp_outputs_4.last_hidden_state[:, 0, :].numpy()\n",
    "pvp_5_embeddings = pvp_outputs_5.last_hidden_state[:, 0, :].numpy()\n",
    "pvp_6_embeddings = pvp_outputs_6.last_hidden_state[:, 0, :].numpy()"
   ]
  },
  {
   "cell_type": "markdown",
   "metadata": {},
   "source": [
    "유사도 비교"
   ]
  },
  {
   "cell_type": "code",
   "execution_count": 26,
   "metadata": {},
   "outputs": [],
   "source": [
    "from sklearn.metrics.pairwise import cosine_similarity"
   ]
  },
  {
   "cell_type": "code",
   "execution_count": 27,
   "metadata": {},
   "outputs": [],
   "source": [
    "def cosine_similarity_mean(text_embeddings, pvp_embeddings):\n",
    "    cosine_similarities = cosine_similarity(text_embeddings, pvp_embeddings)\n",
    "\n",
    "    num_rows = cosine_similarities.shape[0]\n",
    "\n",
    "    similarity_scores = np.zeros(num_rows)\n",
    "\n",
    "    for i in range(num_rows):\n",
    "        similarity_scores[i] = cosine_similarities[i, i]\n",
    "\n",
    "    cosine_similarity_mean = np.mean(similarity_scores)\n",
    "\n",
    "    return cosine_similarity_mean"
   ]
  },
  {
   "cell_type": "code",
   "execution_count": 28,
   "metadata": {},
   "outputs": [],
   "source": [
    "pvp_text_1_cosine_similarity_mean = cosine_similarity_mean(text_embeddings, pvp_text_1_embeddings)\n",
    "pvp_text_2_cosine_similarity_mean = cosine_similarity_mean(text_embeddings, pvp_text_2_embeddings)\n",
    "pvp_text_3_cosine_similarity_mean = cosine_similarity_mean(text_embeddings, pvp_text_3_embeddings)\n",
    "\n",
    "pvp_1_cosine_similarity_mean = cosine_similarity_mean(text_embeddings, pvp_1_embeddings)\n",
    "pvp_2_cosine_similarity_mean = cosine_similarity_mean(text_embeddings, pvp_2_embeddings)\n",
    "pvp_3_cosine_similarity_mean = cosine_similarity_mean(text_embeddings, pvp_3_embeddings)"
   ]
  },
  {
   "cell_type": "code",
   "execution_count": 29,
   "metadata": {},
   "outputs": [],
   "source": [
    "pvp_4_cosine_similarity_mean = cosine_similarity_mean(text_embeddings, pvp_4_embeddings)\n",
    "pvp_5_cosine_similarity_mean = cosine_similarity_mean(text_embeddings, pvp_5_embeddings)\n",
    "pvp_6_cosine_similarity_mean = cosine_similarity_mean(text_embeddings, pvp_6_embeddings)"
   ]
  },
  {
   "cell_type": "code",
   "execution_count": 30,
   "metadata": {},
   "outputs": [
    {
     "data": {
      "text/plain": [
       "0.9973906290531158"
      ]
     },
     "execution_count": 30,
     "metadata": {},
     "output_type": "execute_result"
    }
   ],
   "source": [
    "pvp_text_1_cosine_similarity_mean"
   ]
  },
  {
   "cell_type": "code",
   "execution_count": 31,
   "metadata": {},
   "outputs": [
    {
     "data": {
      "text/plain": [
       "0.9978017061948776"
      ]
     },
     "execution_count": 31,
     "metadata": {},
     "output_type": "execute_result"
    }
   ],
   "source": [
    "pvp_text_2_cosine_similarity_mean"
   ]
  },
  {
   "cell_type": "code",
   "execution_count": 32,
   "metadata": {},
   "outputs": [
    {
     "data": {
      "text/plain": [
       "0.9973061043024063"
      ]
     },
     "execution_count": 32,
     "metadata": {},
     "output_type": "execute_result"
    }
   ],
   "source": [
    "pvp_text_3_cosine_similarity_mean"
   ]
  },
  {
   "cell_type": "code",
   "execution_count": 33,
   "metadata": {},
   "outputs": [
    {
     "data": {
      "text/plain": [
       "0.9483323007822037"
      ]
     },
     "execution_count": 33,
     "metadata": {},
     "output_type": "execute_result"
    }
   ],
   "source": [
    "pvp_1_cosine_similarity_mean"
   ]
  },
  {
   "cell_type": "code",
   "execution_count": 34,
   "metadata": {},
   "outputs": [
    {
     "data": {
      "text/plain": [
       "0.952739377617836"
      ]
     },
     "execution_count": 34,
     "metadata": {},
     "output_type": "execute_result"
    }
   ],
   "source": [
    "pvp_2_cosine_similarity_mean"
   ]
  },
  {
   "cell_type": "code",
   "execution_count": 35,
   "metadata": {},
   "outputs": [
    {
     "data": {
      "text/plain": [
       "0.9502512681484222"
      ]
     },
     "execution_count": 35,
     "metadata": {},
     "output_type": "execute_result"
    }
   ],
   "source": [
    "pvp_3_cosine_similarity_mean"
   ]
  },
  {
   "cell_type": "code",
   "execution_count": null,
   "metadata": {},
   "outputs": [],
   "source": []
  },
  {
   "cell_type": "code",
   "execution_count": 36,
   "metadata": {},
   "outputs": [
    {
     "data": {
      "text/plain": [
       "0.9484441322088242"
      ]
     },
     "execution_count": 36,
     "metadata": {},
     "output_type": "execute_result"
    }
   ],
   "source": [
    "pvp_4_cosine_similarity_mean"
   ]
  },
  {
   "cell_type": "code",
   "execution_count": 37,
   "metadata": {},
   "outputs": [
    {
     "data": {
      "text/plain": [
       "0.9530035424232483"
      ]
     },
     "execution_count": 37,
     "metadata": {},
     "output_type": "execute_result"
    }
   ],
   "source": [
    "pvp_5_cosine_similarity_mean"
   ]
  },
  {
   "cell_type": "code",
   "execution_count": 38,
   "metadata": {},
   "outputs": [
    {
     "data": {
      "text/plain": [
       "0.9493521523475646"
      ]
     },
     "execution_count": 38,
     "metadata": {},
     "output_type": "execute_result"
    }
   ],
   "source": [
    "pvp_6_cosine_similarity_mean"
   ]
  },
  {
   "cell_type": "code",
   "execution_count": null,
   "metadata": {},
   "outputs": [],
   "source": []
  }
 ],
 "metadata": {
  "kernelspec": {
   "display_name": "PY39_",
   "language": "python",
   "name": "python3"
  },
  "language_info": {
   "codemirror_mode": {
    "name": "ipython",
    "version": 3
   },
   "file_extension": ".py",
   "mimetype": "text/x-python",
   "name": "python",
   "nbconvert_exporter": "python",
   "pygments_lexer": "ipython3",
   "version": "3.9.16"
  },
  "orig_nbformat": 4
 },
 "nbformat": 4,
 "nbformat_minor": 2
}
