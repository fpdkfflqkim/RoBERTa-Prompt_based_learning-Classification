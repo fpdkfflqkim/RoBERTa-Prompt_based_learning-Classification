{
 "cells": [
  {
   "cell_type": "markdown",
   "metadata": {},
   "source": [
    "# 데이터 전처리"
   ]
  },
  {
   "cell_type": "markdown",
   "metadata": {},
   "source": [
    "마운트 폴더 지정"
   ]
  },
  {
   "cell_type": "code",
   "execution_count": 1,
   "metadata": {},
   "outputs": [],
   "source": [
    "import sys"
   ]
  },
  {
   "cell_type": "code",
   "execution_count": 2,
   "metadata": {},
   "outputs": [],
   "source": [
    "sys.path.append(r'C:/Users/user/Desktop/논문리뷰/Pattern-Exploiting-Training(PET)/code/testPET/src')"
   ]
  },
  {
   "cell_type": "markdown",
   "metadata": {},
   "source": [
    "데이터 불러오기"
   ]
  },
  {
   "cell_type": "code",
   "execution_count": 3,
   "metadata": {},
   "outputs": [],
   "source": [
    "import helper_functions\n",
    "import pet.modeling\n",
    "import pet.wrapper"
   ]
  },
  {
   "cell_type": "code",
   "execution_count": 4,
   "metadata": {},
   "outputs": [],
   "source": [
    "import pandas as pd\n",
    "import numpy as np"
   ]
  },
  {
   "cell_type": "code",
   "execution_count": 5,
   "metadata": {},
   "outputs": [],
   "source": [
    "from sklearn.feature_extraction.text import CountVectorizer\n",
    "from sklearn.linear_model import LogisticRegression\n",
    "import pet\n",
    "import os\n",
    "import numpy as np\n",
    "import tqdm\n",
    "import datasets\n",
    "import pandas as pd"
   ]
  },
  {
   "cell_type": "markdown",
   "metadata": {},
   "source": [
    "yelp_review_full(5중)"
   ]
  },
  {
   "cell_type": "code",
   "execution_count": 6,
   "metadata": {},
   "outputs": [
    {
     "name": "stderr",
     "output_type": "stream",
     "text": [
      "2023-07-18 18:29:59,621 - WARNING - builder - Found cached dataset yelp_review_full (C:/Users/user/.cache/huggingface/datasets/yelp_review_full/yelp_review_full/1.0.0/e8e18e19d7be9e75642fc66b198abadb116f73599ec89a69ba5dd8d1e57ba0bf)\n"
     ]
    },
    {
     "data": {
      "application/vnd.jupyter.widget-view+json": {
       "model_id": "39841798c86c4892976b8995f2e35a68",
       "version_major": 2,
       "version_minor": 0
      },
      "text/plain": [
       "  0%|          | 0/2 [00:00<?, ?it/s]"
      ]
     },
     "metadata": {},
     "output_type": "display_data"
    }
   ],
   "source": [
    "yelp_review_full_dataset = datasets.load_dataset(\"yelp_review_full\")"
   ]
  },
  {
   "cell_type": "markdown",
   "metadata": {},
   "source": [
    "방법1"
   ]
  },
  {
   "cell_type": "code",
   "execution_count": 7,
   "metadata": {},
   "outputs": [],
   "source": [
    "def get_yelp_review_full_data(show_progress_bars=False):\n",
    "\n",
    "    if not show_progress_bars: datasets.logging.disable_progress_bar()\n",
    "    \n",
    "    # yelp_polarity_dataset = datasets.load_dataset('yelp_polarity')\n",
    "    \n",
    "    yelp_review_full_data = datasets.load_dataset('yelp_review_full')\n",
    "    df_train = pd.DataFrame(yelp_review_full_dataset['train'][:2040])\n",
    "    df_test = pd.DataFrame(yelp_review_full_dataset['test'])\n",
    "    df_train['label'] = (df_train['label'] + 1).astype(str)\n",
    "    df_test['label'] = (df_test['label'] + 1).astype(str)\n",
    "    return df_train.loc[:40], df_train.loc[40:], df_test"
   ]
  },
  {
   "cell_type": "markdown",
   "metadata": {},
   "source": [
    "방법2"
   ]
  },
  {
   "cell_type": "code",
   "execution_count": 7,
   "metadata": {},
   "outputs": [],
   "source": [
    "def get_yelp_review_full_data_2(show_progress_bars=False):\n",
    "\n",
    "    if not show_progress_bars: datasets.logging.disable_progress_bar()\n",
    "    \n",
    "    # yelp_polarity_dataset = datasets.load_dataset('yelp_polarity')\n",
    "    \n",
    "    yelp_review_full_data = datasets.load_dataset('yelp_review_full')\n",
    "    df_train = pd.DataFrame(yelp_review_full_data['train'])\n",
    "    df_test = pd.DataFrame(yelp_review_full_data['test'])\n",
    "    df_train['label'] = (df_train['label'] + 1).astype(str)\n",
    "    df_test['label'] = (df_test['label'] + 1).astype(str)\n",
    "    return df_train, df_test"
   ]
  },
  {
   "cell_type": "markdown",
   "metadata": {},
   "source": [
    "방법2로 진행"
   ]
  },
  {
   "cell_type": "code",
   "execution_count": 8,
   "metadata": {},
   "outputs": [
    {
     "name": "stderr",
     "output_type": "stream",
     "text": [
      "2023-07-19 02:53:59,541 - WARNING - builder - Found cached dataset yelp_review_full (C:/Users/user/.cache/huggingface/datasets/yelp_review_full/yelp_review_full/1.0.0/e8e18e19d7be9e75642fc66b198abadb116f73599ec89a69ba5dd8d1e57ba0bf)\n"
     ]
    }
   ],
   "source": [
    "df_train, df_test = get_yelp_review_full_data_2(show_progress_bars=False)"
   ]
  },
  {
   "cell_type": "code",
   "execution_count": 9,
   "metadata": {},
   "outputs": [
    {
     "data": {
      "text/plain": [
       "5    130000\n",
       "2    130000\n",
       "4    130000\n",
       "1    130000\n",
       "3    130000\n",
       "Name: label, dtype: int64"
      ]
     },
     "execution_count": 9,
     "metadata": {},
     "output_type": "execute_result"
    }
   ],
   "source": [
    "pd.value_counts(df_train[\"label\"])"
   ]
  },
  {
   "cell_type": "code",
   "execution_count": 10,
   "metadata": {},
   "outputs": [
    {
     "data": {
      "text/plain": [
       "1    10000\n",
       "3    10000\n",
       "2    10000\n",
       "4    10000\n",
       "5    10000\n",
       "Name: label, dtype: int64"
      ]
     },
     "execution_count": 10,
     "metadata": {},
     "output_type": "execute_result"
    }
   ],
   "source": [
    "pd.value_counts(df_test[\"label\"])"
   ]
  },
  {
   "cell_type": "markdown",
   "metadata": {},
   "source": [
    "문장 길이 제한"
   ]
  },
  {
   "cell_type": "code",
   "execution_count": 11,
   "metadata": {},
   "outputs": [],
   "source": [
    "df_train_400 = df_train[df_train['text'].str.len().between(400, 600)].reset_index(drop=True)"
   ]
  },
  {
   "cell_type": "code",
   "execution_count": 12,
   "metadata": {},
   "outputs": [
    {
     "data": {
      "text/html": [
       "<div>\n",
       "<style scoped>\n",
       "    .dataframe tbody tr th:only-of-type {\n",
       "        vertical-align: middle;\n",
       "    }\n",
       "\n",
       "    .dataframe tbody tr th {\n",
       "        vertical-align: top;\n",
       "    }\n",
       "\n",
       "    .dataframe thead th {\n",
       "        text-align: right;\n",
       "    }\n",
       "</style>\n",
       "<table border=\"1\" class=\"dataframe\">\n",
       "  <thead>\n",
       "    <tr style=\"text-align: right;\">\n",
       "      <th></th>\n",
       "      <th>label</th>\n",
       "      <th>text</th>\n",
       "    </tr>\n",
       "  </thead>\n",
       "  <tbody>\n",
       "    <tr>\n",
       "      <th>0</th>\n",
       "      <td>5</td>\n",
       "      <td>dr. goldberg offers everything i look for in a...</td>\n",
       "    </tr>\n",
       "    <tr>\n",
       "      <th>1</th>\n",
       "      <td>4</td>\n",
       "      <td>Been going to Dr. Goldberg for over 10 years. ...</td>\n",
       "    </tr>\n",
       "    <tr>\n",
       "      <th>2</th>\n",
       "      <td>3</td>\n",
       "      <td>Decent range somewhat close to the city.  The ...</td>\n",
       "    </tr>\n",
       "    <tr>\n",
       "      <th>3</th>\n",
       "      <td>1</td>\n",
       "      <td>This place is absolute garbage...  Half of the...</td>\n",
       "    </tr>\n",
       "    <tr>\n",
       "      <th>4</th>\n",
       "      <td>5</td>\n",
       "      <td>Let there be no question: Alexions owns the be...</td>\n",
       "    </tr>\n",
       "    <tr>\n",
       "      <th>...</th>\n",
       "      <td>...</td>\n",
       "      <td>...</td>\n",
       "    </tr>\n",
       "    <tr>\n",
       "      <th>115074</th>\n",
       "      <td>3</td>\n",
       "      <td>Honestly i expected much much more out of a la...</td>\n",
       "    </tr>\n",
       "    <tr>\n",
       "      <th>115075</th>\n",
       "      <td>5</td>\n",
       "      <td>As apart of our daily business, we value the w...</td>\n",
       "    </tr>\n",
       "    <tr>\n",
       "      <th>115076</th>\n",
       "      <td>2</td>\n",
       "      <td>A man came to the house to estimate. He gave m...</td>\n",
       "    </tr>\n",
       "    <tr>\n",
       "      <th>115077</th>\n",
       "      <td>5</td>\n",
       "      <td>MACARONS!!!! I've died and gone to heaven. \\n\\...</td>\n",
       "    </tr>\n",
       "    <tr>\n",
       "      <th>115078</th>\n",
       "      <td>1</td>\n",
       "      <td>Looks like all of the good reviews have gone t...</td>\n",
       "    </tr>\n",
       "  </tbody>\n",
       "</table>\n",
       "<p>115079 rows × 2 columns</p>\n",
       "</div>"
      ],
      "text/plain": [
       "       label                                               text\n",
       "0          5  dr. goldberg offers everything i look for in a...\n",
       "1          4  Been going to Dr. Goldberg for over 10 years. ...\n",
       "2          3  Decent range somewhat close to the city.  The ...\n",
       "3          1  This place is absolute garbage...  Half of the...\n",
       "4          5  Let there be no question: Alexions owns the be...\n",
       "...      ...                                                ...\n",
       "115074     3  Honestly i expected much much more out of a la...\n",
       "115075     5  As apart of our daily business, we value the w...\n",
       "115076     2  A man came to the house to estimate. He gave m...\n",
       "115077     5  MACARONS!!!! I've died and gone to heaven. \\n\\...\n",
       "115078     1  Looks like all of the good reviews have gone t...\n",
       "\n",
       "[115079 rows x 2 columns]"
      ]
     },
     "execution_count": 12,
     "metadata": {},
     "output_type": "execute_result"
    }
   ],
   "source": [
    "df_train_400"
   ]
  },
  {
   "cell_type": "code",
   "execution_count": 13,
   "metadata": {},
   "outputs": [
    {
     "data": {
      "text/plain": [
       "3    23776\n",
       "4    23232\n",
       "5    23029\n",
       "2    22894\n",
       "1    22148\n",
       "Name: label, dtype: int64"
      ]
     },
     "execution_count": 13,
     "metadata": {},
     "output_type": "execute_result"
    }
   ],
   "source": [
    "pd.value_counts(df_train_400[\"label\"])"
   ]
  },
  {
   "cell_type": "markdown",
   "metadata": {},
   "source": [
    "train data"
   ]
  },
  {
   "cell_type": "code",
   "execution_count": 14,
   "metadata": {},
   "outputs": [],
   "source": [
    "def sample_data_by_label(dataframe, label_column, label_values, num_samples, random_state=42):\n",
    "    sampled_data = pd.concat([dataframe[dataframe[label_column] == label].sample(n=num_samples, random_state=random_state)\n",
    "                             for label in label_values], ignore_index=True)\n",
    "    return sampled_data"
   ]
  },
  {
   "cell_type": "code",
   "execution_count": 17,
   "metadata": {},
   "outputs": [],
   "source": [
    "df_train_400_train = sample_data_by_label(df_train_400, 'label', ['1', '2', '3', '4', '5'], 20, random_state=42)"
   ]
  },
  {
   "cell_type": "code",
   "execution_count": 18,
   "metadata": {},
   "outputs": [
    {
     "data": {
      "text/html": [
       "<div>\n",
       "<style scoped>\n",
       "    .dataframe tbody tr th:only-of-type {\n",
       "        vertical-align: middle;\n",
       "    }\n",
       "\n",
       "    .dataframe tbody tr th {\n",
       "        vertical-align: top;\n",
       "    }\n",
       "\n",
       "    .dataframe thead th {\n",
       "        text-align: right;\n",
       "    }\n",
       "</style>\n",
       "<table border=\"1\" class=\"dataframe\">\n",
       "  <thead>\n",
       "    <tr style=\"text-align: right;\">\n",
       "      <th></th>\n",
       "      <th>label</th>\n",
       "      <th>text</th>\n",
       "    </tr>\n",
       "  </thead>\n",
       "  <tbody>\n",
       "    <tr>\n",
       "      <th>0</th>\n",
       "      <td>1</td>\n",
       "      <td>Stopped here for a byte to eat with about 8 pe...</td>\n",
       "    </tr>\n",
       "    <tr>\n",
       "      <th>1</th>\n",
       "      <td>1</td>\n",
       "      <td>Yuk-O. I work just down the street and read th...</td>\n",
       "    </tr>\n",
       "    <tr>\n",
       "      <th>2</th>\n",
       "      <td>1</td>\n",
       "      <td>So disappointed. The BWW that we normally go t...</td>\n",
       "    </tr>\n",
       "    <tr>\n",
       "      <th>3</th>\n",
       "      <td>1</td>\n",
       "      <td>I wanted put zero but yelp does not allow.Wors...</td>\n",
       "    </tr>\n",
       "    <tr>\n",
       "      <th>4</th>\n",
       "      <td>1</td>\n",
       "      <td>Don't waste your time in vegas. \\n\\nThe good: ...</td>\n",
       "    </tr>\n",
       "    <tr>\n",
       "      <th>...</th>\n",
       "      <td>...</td>\n",
       "      <td>...</td>\n",
       "    </tr>\n",
       "    <tr>\n",
       "      <th>95</th>\n",
       "      <td>5</td>\n",
       "      <td>We are so thrilled with the service and window...</td>\n",
       "    </tr>\n",
       "    <tr>\n",
       "      <th>96</th>\n",
       "      <td>5</td>\n",
       "      <td>Good, healthy choices of typical Mediterranean...</td>\n",
       "    </tr>\n",
       "    <tr>\n",
       "      <th>97</th>\n",
       "      <td>5</td>\n",
       "      <td>I haven't even gotten my food yet and this pla...</td>\n",
       "    </tr>\n",
       "    <tr>\n",
       "      <th>98</th>\n",
       "      <td>5</td>\n",
       "      <td>Just ate here today and this place is great! T...</td>\n",
       "    </tr>\n",
       "    <tr>\n",
       "      <th>99</th>\n",
       "      <td>5</td>\n",
       "      <td>Especially in Phoenix where everything is so s...</td>\n",
       "    </tr>\n",
       "  </tbody>\n",
       "</table>\n",
       "<p>100 rows × 2 columns</p>\n",
       "</div>"
      ],
      "text/plain": [
       "   label                                               text\n",
       "0      1  Stopped here for a byte to eat with about 8 pe...\n",
       "1      1  Yuk-O. I work just down the street and read th...\n",
       "2      1  So disappointed. The BWW that we normally go t...\n",
       "3      1  I wanted put zero but yelp does not allow.Wors...\n",
       "4      1  Don't waste your time in vegas. \\n\\nThe good: ...\n",
       "..   ...                                                ...\n",
       "95     5  We are so thrilled with the service and window...\n",
       "96     5  Good, healthy choices of typical Mediterranean...\n",
       "97     5  I haven't even gotten my food yet and this pla...\n",
       "98     5  Just ate here today and this place is great! T...\n",
       "99     5  Especially in Phoenix where everything is so s...\n",
       "\n",
       "[100 rows x 2 columns]"
      ]
     },
     "execution_count": 18,
     "metadata": {},
     "output_type": "execute_result"
    }
   ],
   "source": [
    "df_train_400_train"
   ]
  },
  {
   "cell_type": "code",
   "execution_count": 19,
   "metadata": {},
   "outputs": [],
   "source": [
    "df_train_400_train.to_csv(\"C:/Users/user/Desktop/논문리뷰/Pattern-Exploiting-Training(PET)/code/testPET/data/df_train_400_train.csv\", index = False)"
   ]
  },
  {
   "cell_type": "code",
   "execution_count": 20,
   "metadata": {},
   "outputs": [],
   "source": [
    "# unlabeled data  = df_train_400 - df_train_400_train\n",
    "\n",
    "def merge_and_filter(dataframe1, dataframe2, on_columns, how='left'):\n",
    "    \n",
    "    merged_df = dataframe1.merge(dataframe2, on=on_columns, how=how, indicator=True)\n",
    "    filtered_df = merged_df[merged_df['_merge'] == 'left_only']\n",
    "    filtered_df = filtered_df.drop(columns=['_merge']).reset_index(drop=True)\n",
    "\n",
    "    return filtered_df"
   ]
  },
  {
   "cell_type": "code",
   "execution_count": 21,
   "metadata": {},
   "outputs": [],
   "source": [
    "df_train_400_train_unlabeled = merge_and_filter(df_train_400, df_train_400_train, ['label', 'text'], how='left')"
   ]
  },
  {
   "cell_type": "code",
   "execution_count": 27,
   "metadata": {},
   "outputs": [
    {
     "data": {
      "text/plain": [
       "str"
      ]
     },
     "execution_count": 27,
     "metadata": {},
     "output_type": "execute_result"
    }
   ],
   "source": [
    "type(df_train_400_train_unlabeled[\"text\"][0])"
   ]
  },
  {
   "cell_type": "code",
   "execution_count": 23,
   "metadata": {},
   "outputs": [],
   "source": [
    "df_train_400_train_unlabeled.to_csv(\"C:/Users/user/Desktop/논문리뷰/Pattern-Exploiting-Training(PET)/code/testPET/data/df_train_400_train_unlabeled.csv\", index = False)"
   ]
  },
  {
   "cell_type": "markdown",
   "metadata": {},
   "source": [
    "test data"
   ]
  },
  {
   "cell_type": "code",
   "execution_count": 24,
   "metadata": {},
   "outputs": [],
   "source": [
    "df_test.to_csv(\"C:/Users/user/Desktop/논문리뷰/Pattern-Exploiting-Training(PET)/code/testPET/data/df_test.csv\", index = False)"
   ]
  }
 ],
 "metadata": {
  "kernelspec": {
   "display_name": "PY39_",
   "language": "python",
   "name": "python3"
  },
  "language_info": {
   "codemirror_mode": {
    "name": "ipython",
    "version": 3
   },
   "file_extension": ".py",
   "mimetype": "text/x-python",
   "name": "python",
   "nbconvert_exporter": "python",
   "pygments_lexer": "ipython3",
   "version": "3.9.16"
  },
  "orig_nbformat": 4
 },
 "nbformat": 4,
 "nbformat_minor": 2
}
