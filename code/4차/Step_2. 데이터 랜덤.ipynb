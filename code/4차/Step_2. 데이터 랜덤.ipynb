{
 "cells": [
  {
   "cell_type": "markdown",
   "metadata": {},
   "source": [
    "# 데이터 랜덤"
   ]
  },
  {
   "cell_type": "markdown",
   "metadata": {},
   "source": [
    "데이터 불러오기"
   ]
  },
  {
   "cell_type": "code",
   "execution_count": 1,
   "metadata": {},
   "outputs": [],
   "source": [
    "import numpy as np\n",
    "import pandas as pd"
   ]
  },
  {
   "cell_type": "markdown",
   "metadata": {},
   "source": [
    "PVP\n",
    "\n",
    "0. It was [MASK]. x\n",
    "1. x All in all, it was [MASK].\n",
    "2. Just [MASK]!\n",
    "3. In summary, the restaurant is [MASK].\n",
    "\n",
    "4. x Taking everything into account, it was [MASK].\n",
    "5. x To wrap it up, it was [MASK].\n",
    "6. x Generally, it seems [MASK].\n",
    "7. x In a nutshell, [MASK].\n",
    "8. The place had a [MASK] vibe. x\n",
    "9. Everything gave off a [MASK] impression.x\n",
    "10. x Broadly speaking, it appears [MASK].\n",
    "11. x Summing it all up, the restaurant appears [MASK].\n",
    "12. x To conclude, the feeling is [MASK]."
   ]
  },
  {
   "cell_type": "markdown",
   "metadata": {},
   "source": [
    "good"
   ]
  },
  {
   "cell_type": "code",
   "execution_count": 5,
   "metadata": {},
   "outputs": [],
   "source": [
    "pattern_0 = \"It was ___.\"\n",
    "pattern_1 = \"All in all, it was ___.\"\n",
    "pattern_2 = \"Just ___!\"\n",
    "pattern_3 = \"In summary, the restaurant is ___.\"\n",
    "pattern_4 = \"Taking everything into account, it was ___.\"\n",
    "pattern_5 = \"To wrap it up, it was ___.\"\n",
    "pattern_6 = \"Generally, it seems ___.\"\n",
    "pattern_7 = \"In a nutshell, ___.\"\n",
    "pattern_8 = \"The place had a ___ vibe.\"\n",
    "pattern_9 = \"Everything gave off a ___ impression.\"\n",
    "pattern_10 = \"Broadly speaking, it appears ___.\"\n",
    "pattern_11= \"Summing it all up, the restaurant appears ___.\"\n",
    "pattern_12 = \"To conclude, the feeling is ___.\""
   ]
  },
  {
   "cell_type": "code",
   "execution_count": 6,
   "metadata": {},
   "outputs": [],
   "source": [
    "patterns = [\n",
    "    pattern_0,\n",
    "    pattern_1,\n",
    "    pattern_2,\n",
    "    pattern_3,\n",
    "    pattern_4,\n",
    "    pattern_5,\n",
    "    pattern_6,\n",
    "    pattern_7,\n",
    "    pattern_8,\n",
    "    pattern_9,\n",
    "    pattern_10,\n",
    "    pattern_11,\n",
    "    pattern_12\n",
    "]"
   ]
  },
  {
   "cell_type": "code",
   "execution_count": 7,
   "metadata": {},
   "outputs": [],
   "source": [
    "df_patterns = pd.DataFrame(patterns, columns=[\"pattern\"])"
   ]
  },
  {
   "cell_type": "code",
   "execution_count": 8,
   "metadata": {},
   "outputs": [
    {
     "data": {
      "text/html": [
       "<div>\n",
       "<style scoped>\n",
       "    .dataframe tbody tr th:only-of-type {\n",
       "        vertical-align: middle;\n",
       "    }\n",
       "\n",
       "    .dataframe tbody tr th {\n",
       "        vertical-align: top;\n",
       "    }\n",
       "\n",
       "    .dataframe thead th {\n",
       "        text-align: right;\n",
       "    }\n",
       "</style>\n",
       "<table border=\"1\" class=\"dataframe\">\n",
       "  <thead>\n",
       "    <tr style=\"text-align: right;\">\n",
       "      <th></th>\n",
       "      <th>pattern</th>\n",
       "    </tr>\n",
       "  </thead>\n",
       "  <tbody>\n",
       "    <tr>\n",
       "      <th>0</th>\n",
       "      <td>It was ___.</td>\n",
       "    </tr>\n",
       "    <tr>\n",
       "      <th>1</th>\n",
       "      <td>All in all, it was ___.</td>\n",
       "    </tr>\n",
       "    <tr>\n",
       "      <th>2</th>\n",
       "      <td>Just ___!</td>\n",
       "    </tr>\n",
       "    <tr>\n",
       "      <th>3</th>\n",
       "      <td>In summary, the restaurant is ___.</td>\n",
       "    </tr>\n",
       "    <tr>\n",
       "      <th>4</th>\n",
       "      <td>Taking everything into account, it was ___.</td>\n",
       "    </tr>\n",
       "    <tr>\n",
       "      <th>5</th>\n",
       "      <td>To wrap it up, it was ___.</td>\n",
       "    </tr>\n",
       "    <tr>\n",
       "      <th>6</th>\n",
       "      <td>Generally, it seems ___.</td>\n",
       "    </tr>\n",
       "    <tr>\n",
       "      <th>7</th>\n",
       "      <td>In a nutshell, ___.</td>\n",
       "    </tr>\n",
       "    <tr>\n",
       "      <th>8</th>\n",
       "      <td>The place had a ___ vibe.</td>\n",
       "    </tr>\n",
       "    <tr>\n",
       "      <th>9</th>\n",
       "      <td>Everything gave off a ___ impression.</td>\n",
       "    </tr>\n",
       "    <tr>\n",
       "      <th>10</th>\n",
       "      <td>Broadly speaking, it appears ___.</td>\n",
       "    </tr>\n",
       "    <tr>\n",
       "      <th>11</th>\n",
       "      <td>Summing it all up, the restaurant appears ___.</td>\n",
       "    </tr>\n",
       "    <tr>\n",
       "      <th>12</th>\n",
       "      <td>To conclude, the feeling is ___.</td>\n",
       "    </tr>\n",
       "  </tbody>\n",
       "</table>\n",
       "</div>"
      ],
      "text/plain": [
       "                                           pattern\n",
       "0                                      It was ___.\n",
       "1                          All in all, it was ___.\n",
       "2                                        Just ___!\n",
       "3               In summary, the restaurant is ___.\n",
       "4      Taking everything into account, it was ___.\n",
       "5                       To wrap it up, it was ___.\n",
       "6                         Generally, it seems ___.\n",
       "7                              In a nutshell, ___.\n",
       "8                        The place had a ___ vibe.\n",
       "9            Everything gave off a ___ impression.\n",
       "10               Broadly speaking, it appears ___.\n",
       "11  Summing it all up, the restaurant appears ___.\n",
       "12                To conclude, the feeling is ___."
      ]
     },
     "execution_count": 8,
     "metadata": {},
     "output_type": "execute_result"
    }
   ],
   "source": [
    "df_patterns"
   ]
  },
  {
   "cell_type": "code",
   "execution_count": 9,
   "metadata": {},
   "outputs": [],
   "source": [
    "df_patterns_suffle = df_patterns.sample(frac=1, random_state=55)"
   ]
  },
  {
   "cell_type": "code",
   "execution_count": 10,
   "metadata": {},
   "outputs": [
    {
     "data": {
      "text/html": [
       "<div>\n",
       "<style scoped>\n",
       "    .dataframe tbody tr th:only-of-type {\n",
       "        vertical-align: middle;\n",
       "    }\n",
       "\n",
       "    .dataframe tbody tr th {\n",
       "        vertical-align: top;\n",
       "    }\n",
       "\n",
       "    .dataframe thead th {\n",
       "        text-align: right;\n",
       "    }\n",
       "</style>\n",
       "<table border=\"1\" class=\"dataframe\">\n",
       "  <thead>\n",
       "    <tr style=\"text-align: right;\">\n",
       "      <th></th>\n",
       "      <th>pattern</th>\n",
       "    </tr>\n",
       "  </thead>\n",
       "  <tbody>\n",
       "    <tr>\n",
       "      <th>12</th>\n",
       "      <td>To conclude, the feeling is ___.</td>\n",
       "    </tr>\n",
       "    <tr>\n",
       "      <th>4</th>\n",
       "      <td>Taking everything into account, it was ___.</td>\n",
       "    </tr>\n",
       "    <tr>\n",
       "      <th>2</th>\n",
       "      <td>Just ___!</td>\n",
       "    </tr>\n",
       "    <tr>\n",
       "      <th>6</th>\n",
       "      <td>Generally, it seems ___.</td>\n",
       "    </tr>\n",
       "    <tr>\n",
       "      <th>0</th>\n",
       "      <td>It was ___.</td>\n",
       "    </tr>\n",
       "    <tr>\n",
       "      <th>1</th>\n",
       "      <td>All in all, it was ___.</td>\n",
       "    </tr>\n",
       "    <tr>\n",
       "      <th>3</th>\n",
       "      <td>In summary, the restaurant is ___.</td>\n",
       "    </tr>\n",
       "    <tr>\n",
       "      <th>9</th>\n",
       "      <td>Everything gave off a ___ impression.</td>\n",
       "    </tr>\n",
       "    <tr>\n",
       "      <th>11</th>\n",
       "      <td>Summing it all up, the restaurant appears ___.</td>\n",
       "    </tr>\n",
       "    <tr>\n",
       "      <th>5</th>\n",
       "      <td>To wrap it up, it was ___.</td>\n",
       "    </tr>\n",
       "    <tr>\n",
       "      <th>8</th>\n",
       "      <td>The place had a ___ vibe.</td>\n",
       "    </tr>\n",
       "    <tr>\n",
       "      <th>7</th>\n",
       "      <td>In a nutshell, ___.</td>\n",
       "    </tr>\n",
       "    <tr>\n",
       "      <th>10</th>\n",
       "      <td>Broadly speaking, it appears ___.</td>\n",
       "    </tr>\n",
       "  </tbody>\n",
       "</table>\n",
       "</div>"
      ],
      "text/plain": [
       "                                           pattern\n",
       "12                To conclude, the feeling is ___.\n",
       "4      Taking everything into account, it was ___.\n",
       "2                                        Just ___!\n",
       "6                         Generally, it seems ___.\n",
       "0                                      It was ___.\n",
       "1                          All in all, it was ___.\n",
       "3               In summary, the restaurant is ___.\n",
       "9            Everything gave off a ___ impression.\n",
       "11  Summing it all up, the restaurant appears ___.\n",
       "5                       To wrap it up, it was ___.\n",
       "8                        The place had a ___ vibe.\n",
       "7                              In a nutshell, ___.\n",
       "10               Broadly speaking, it appears ___."
      ]
     },
     "execution_count": 10,
     "metadata": {},
     "output_type": "execute_result"
    }
   ],
   "source": [
    "df_patterns_suffle"
   ]
  },
  {
   "cell_type": "code",
   "execution_count": 1,
   "metadata": {},
   "outputs": [],
   "source": [
    "random1 = [2, 4, 6, 12]\n",
    "random2 = [0, 1, 3, 9]\n",
    "random3 = [5, 8, 7, 10]"
   ]
  },
  {
   "cell_type": "code",
   "execution_count": null,
   "metadata": {},
   "outputs": [],
   "source": []
  }
 ],
 "metadata": {
  "kernelspec": {
   "display_name": "PY39_",
   "language": "python",
   "name": "python3"
  },
  "language_info": {
   "codemirror_mode": {
    "name": "ipython",
    "version": 3
   },
   "file_extension": ".py",
   "mimetype": "text/x-python",
   "name": "python",
   "nbconvert_exporter": "python",
   "pygments_lexer": "ipython3",
   "version": "3.9.16"
  },
  "orig_nbformat": 4
 },
 "nbformat": 4,
 "nbformat_minor": 2
}
