{
 "cells": [
  {
   "cell_type": "markdown",
   "metadata": {},
   "source": [
    "# 데이터 전처리"
   ]
  },
  {
   "cell_type": "markdown",
   "metadata": {},
   "source": [
    "마운트 폴더 지정"
   ]
  },
  {
   "cell_type": "code",
   "execution_count": 1,
   "metadata": {},
   "outputs": [],
   "source": [
    "import sys"
   ]
  },
  {
   "cell_type": "code",
   "execution_count": 2,
   "metadata": {},
   "outputs": [],
   "source": [
    "sys.path.append(r'C:/Users/user/Desktop/논문리뷰/Pattern-Exploiting-Training(PET)/code/testPET - 복사본/src')"
   ]
  },
  {
   "cell_type": "markdown",
   "metadata": {},
   "source": [
    "데이터 불러오기"
   ]
  },
  {
   "cell_type": "code",
   "execution_count": 3,
   "metadata": {},
   "outputs": [],
   "source": [
    "import helper_functions\n",
    "import pet.modeling\n",
    "import pet.wrapper"
   ]
  },
  {
   "cell_type": "code",
   "execution_count": 4,
   "metadata": {},
   "outputs": [],
   "source": [
    "import pandas as pd\n",
    "import numpy as np"
   ]
  },
  {
   "cell_type": "code",
   "execution_count": 5,
   "metadata": {},
   "outputs": [],
   "source": [
    "from sklearn.feature_extraction.text import CountVectorizer\n",
    "from sklearn.linear_model import LogisticRegression\n",
    "import pet\n",
    "import os\n",
    "import numpy as np\n",
    "import tqdm\n",
    "import datasets\n",
    "import pandas as pd"
   ]
  },
  {
   "cell_type": "markdown",
   "metadata": {},
   "source": [
    "yelp_review_full(2중)"
   ]
  },
  {
   "cell_type": "code",
   "execution_count": 6,
   "metadata": {},
   "outputs": [],
   "source": [
    "def get_yelp_polarity_data(show_progress_bars=False):\n",
    "\n",
    "    if not show_progress_bars: datasets.logging.disable_progress_bar()\n",
    "    yelp_polarity_dataset = datasets.load_dataset('yelp_polarity')\n",
    "    df_train = pd.DataFrame(yelp_polarity_dataset['train'])\n",
    "    df_test = pd.DataFrame(yelp_polarity_dataset['test'])\n",
    "    df_train['label'] = (df_train['label'] + 1).astype(str)\n",
    "    df_test['label'] = (df_test['label'] + 1).astype(str)\n",
    "    return df_train, df_test"
   ]
  },
  {
   "cell_type": "code",
   "execution_count": 7,
   "metadata": {},
   "outputs": [
    {
     "name": "stderr",
     "output_type": "stream",
     "text": [
      "2023-08-04 12:30:55,338 - WARNING - builder - Found cached dataset yelp_polarity (C:/Users/user/.cache/huggingface/datasets/yelp_polarity/plain_text/1.0.0/14f90415c754f47cf9087eadac25823a395fef4400c7903c5897f55cfaaa6f61)\n"
     ]
    }
   ],
   "source": [
    "df_train, df_test = get_yelp_polarity_data(show_progress_bars=False)"
   ]
  },
  {
   "cell_type": "code",
   "execution_count": 8,
   "metadata": {},
   "outputs": [
    {
     "data": {
      "text/plain": [
       "1    280000\n",
       "2    280000\n",
       "Name: label, dtype: int64"
      ]
     },
     "execution_count": 8,
     "metadata": {},
     "output_type": "execute_result"
    }
   ],
   "source": [
    "pd.value_counts(df_train[\"label\"])"
   ]
  },
  {
   "cell_type": "code",
   "execution_count": 9,
   "metadata": {},
   "outputs": [
    {
     "data": {
      "text/plain": [
       "2    19000\n",
       "1    19000\n",
       "Name: label, dtype: int64"
      ]
     },
     "execution_count": 9,
     "metadata": {},
     "output_type": "execute_result"
    }
   ],
   "source": [
    "pd.value_counts(df_test[\"label\"])"
   ]
  },
  {
   "cell_type": "code",
   "execution_count": 14,
   "metadata": {},
   "outputs": [
    {
     "data": {
      "text/plain": [
       "\"Barb's Country Junction gets a 5 star rating for me because it is truly everything that a Pittsburgh restaurant should be.  In addition to being the apple of my nostalgia's eye, it is also the constant thought of my tummy when I'm hungry on the weekends.  \\\\n\\\\nBarb's breakfasts cannot be beat, but truly any meal you get there you won't regret.  Everything is made to order, with fair portions, and great prices. My recommendation is a breakfast sandwich on a bagel and a coffee.  There's nothing better than drinking from a cup that could have come from your grandma's kitchen.\\\\n\\\\nI know that Gab N Eat is nearby, and Barb's can be a little weird get to with the strange traffic pattern but this really is a gem of Carnegie that you've gotta try!\""
      ]
     },
     "execution_count": 14,
     "metadata": {},
     "output_type": "execute_result"
    }
   ],
   "source": [
    "df_train[\"text\"][35]"
   ]
  },
  {
   "cell_type": "markdown",
   "metadata": {},
   "source": [
    "전처리 (대문자 소문자 통일, 중복 특수문자 제거)"
   ]
  },
  {
   "cell_type": "code",
   "execution_count": 10,
   "metadata": {},
   "outputs": [],
   "source": [
    "import re"
   ]
  },
  {
   "cell_type": "code",
   "execution_count": 11,
   "metadata": {},
   "outputs": [],
   "source": [
    "def cleantext(text):\n",
    "    text = re.sub(r\"[^A-Za-z0-9G-H,.\\?!\\\"']\", \" \", text)\n",
    "    text = re.sub(r\"([,.\\?!\\\"'])\\1+\", r\"\\1\", text)\n",
    "    text = re.sub(r\" +\", ' ', text)\n",
    "    return text\n"
   ]
  },
  {
   "cell_type": "code",
   "execution_count": 36,
   "metadata": {},
   "outputs": [],
   "source": [
    "df_train['text'] = df_train['text'].apply(lambda x : cleantext(x))"
   ]
  },
  {
   "cell_type": "markdown",
   "metadata": {},
   "source": [
    "문장 길이 제한"
   ]
  },
  {
   "cell_type": "code",
   "execution_count": 37,
   "metadata": {},
   "outputs": [],
   "source": [
    "df_train_400 = df_train[df_train['text'].str.len().between(300, 400)].reset_index(drop=True)"
   ]
  },
  {
   "cell_type": "markdown",
   "metadata": {},
   "source": [
    "train data(문장 제한한 데이터에서 라벨 비율 맞추기)"
   ]
  },
  {
   "cell_type": "code",
   "execution_count": 38,
   "metadata": {},
   "outputs": [],
   "source": [
    "def sample_data_by_label(dataframe, label_column, label_values, num_samples, random_state=42):\n",
    "    sampled_data = pd.concat([dataframe[dataframe[label_column] == label].sample(n=num_samples, random_state=random_state)\n",
    "                             for label in label_values], ignore_index=True)\n",
    "    return sampled_data"
   ]
  },
  {
   "cell_type": "code",
   "execution_count": 39,
   "metadata": {},
   "outputs": [],
   "source": [
    "df_train_400_train = sample_data_by_label(df_train_400, 'label', ['1', '2'], 50, random_state=42)"
   ]
  },
  {
   "cell_type": "code",
   "execution_count": 40,
   "metadata": {},
   "outputs": [
    {
     "data": {
      "text/plain": [
       "61666"
      ]
     },
     "execution_count": 40,
     "metadata": {},
     "output_type": "execute_result"
    }
   ],
   "source": [
    "len(df_train_400)"
   ]
  },
  {
   "cell_type": "code",
   "execution_count": 41,
   "metadata": {},
   "outputs": [],
   "source": [
    "df_train_400_train.to_csv(\"C:/Users/user/Desktop/논문리뷰/Pattern-Exploiting-Training(PET)/code/testPET - 복사본/data_2/df_train.csv\", index = False)"
   ]
  },
  {
   "cell_type": "code",
   "execution_count": null,
   "metadata": {},
   "outputs": [],
   "source": []
  },
  {
   "cell_type": "code",
   "execution_count": 42,
   "metadata": {},
   "outputs": [],
   "source": [
    "# unlabeled data  = df_train - df_train_400_train\n",
    "def merge_and_filter(dataframe1, dataframe2, on_columns, how='left', num_samples=1000):\n",
    "\n",
    "    merged_df = dataframe1.merge(dataframe2, on=on_columns, how=how, indicator=True)\n",
    "\n",
    "\n",
    "    filtered_df = merged_df[merged_df['_merge'] == 'left_only']\n",
    "\n",
    "\n",
    "    filtered_df = filtered_df.drop(columns=['_merge']).reset_index(drop=True)\n",
    "\n",
    "\n",
    "    num_samples = min(num_samples, filtered_df.shape[0])\n",
    "    random_indices = np.random.choice(filtered_df.index, num_samples, replace=False)\n",
    "    filtered_df = filtered_df.loc[random_indices].reset_index(drop=True)\n",
    "\n",
    "    return filtered_df"
   ]
  },
  {
   "cell_type": "code",
   "execution_count": 43,
   "metadata": {},
   "outputs": [],
   "source": [
    "# random한 값으로 1100개 뽑기(unlabeled data  = df_train - df_train_400_train)\n",
    "df_train_400_unlabeled = merge_and_filter(df_train, df_train_400_train, ['label', 'text'], how='left', num_samples=10050)"
   ]
  },
  {
   "cell_type": "code",
   "execution_count": 44,
   "metadata": {},
   "outputs": [],
   "source": [
    "df_eval_400 = df_train_400_unlabeled[:50]\n",
    "df_train_400_unlabeled = df_train_400_unlabeled[50:]"
   ]
  },
  {
   "cell_type": "code",
   "execution_count": 45,
   "metadata": {},
   "outputs": [
    {
     "data": {
      "text/plain": [
       "10000"
      ]
     },
     "execution_count": 45,
     "metadata": {},
     "output_type": "execute_result"
    }
   ],
   "source": [
    "len(df_train_400_unlabeled)"
   ]
  },
  {
   "cell_type": "code",
   "execution_count": 46,
   "metadata": {},
   "outputs": [],
   "source": [
    "df_train_400_unlabeled.to_csv(\"C:/Users/user/Desktop/논문리뷰/Pattern-Exploiting-Training(PET)/code/testPET - 복사본/data_2/df_unlabeled.csv\", index = False)"
   ]
  },
  {
   "cell_type": "code",
   "execution_count": 47,
   "metadata": {},
   "outputs": [],
   "source": [
    "df_eval_400.to_csv(\"C:/Users/user/Desktop/논문리뷰/Pattern-Exploiting-Training(PET)/code/testPET - 복사본/data_2/df_eval.csv\", index = False)"
   ]
  },
  {
   "cell_type": "markdown",
   "metadata": {},
   "source": [
    "test data"
   ]
  },
  {
   "cell_type": "code",
   "execution_count": 48,
   "metadata": {},
   "outputs": [],
   "source": [
    "df_test.to_csv(\"C:/Users/user/Desktop/논문리뷰/Pattern-Exploiting-Training(PET)/code/testPET - 복사본/data_2/df_test.csv\", index = False)"
   ]
  },
  {
   "cell_type": "code",
   "execution_count": null,
   "metadata": {},
   "outputs": [],
   "source": []
  }
 ],
 "metadata": {
  "kernelspec": {
   "display_name": "PY39_",
   "language": "python",
   "name": "python3"
  },
  "language_info": {
   "codemirror_mode": {
    "name": "ipython",
    "version": 3
   },
   "file_extension": ".py",
   "mimetype": "text/x-python",
   "name": "python",
   "nbconvert_exporter": "python",
   "pygments_lexer": "ipython3",
   "version": "3.9.16"
  },
  "orig_nbformat": 4
 },
 "nbformat": 4,
 "nbformat_minor": 2
}
