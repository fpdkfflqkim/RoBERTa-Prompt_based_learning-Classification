{
 "cells": [
  {
   "cell_type": "code",
   "execution_count": 14,
   "metadata": {},
   "outputs": [],
   "source": [
    "import numpy as np\n",
    "import pandas as pd"
   ]
  },
  {
   "cell_type": "code",
   "execution_count": 15,
   "metadata": {},
   "outputs": [],
   "source": [
    "from sklearn.metrics import accuracy_score, precision_score, recall_score, f1_score\n",
    "from sklearn.metrics import confusion_matrix"
   ]
  },
  {
   "cell_type": "markdown",
   "metadata": {},
   "source": [
    "데이터 불러오기"
   ]
  },
  {
   "cell_type": "code",
   "execution_count": 16,
   "metadata": {},
   "outputs": [],
   "source": [
    "PVP0_array = np.load('C:/Users/user/Desktop/논문리뷰/Pattern-Exploiting-Training(PET)/code/testPET - 복사본/data3/labeling/hard_label/hard_label_PVP0.npy')\n",
    "PVP1_array = np.load('C:/Users/user/Desktop/논문리뷰/Pattern-Exploiting-Training(PET)/code/testPET - 복사본/data3/labeling/hard_label/hard_label_PVP1.npy')\n",
    "PVP2_array = np.load('C:/Users/user/Desktop/논문리뷰/Pattern-Exploiting-Training(PET)/code/testPET - 복사본/data3/labeling/hard_label/hard_label_PVP2.npy')\n",
    "PVP3_array = np.load('C:/Users/user/Desktop/논문리뷰/Pattern-Exploiting-Training(PET)/code/testPET - 복사본/data3/labeling/hard_label/hard_label_PVP3.npy')\n",
    "PVP4_array = np.load('C:/Users/user/Desktop/논문리뷰/Pattern-Exploiting-Training(PET)/code/testPET - 복사본/data3/labeling/hard_label/hard_label_PVP4.npy')\n",
    "PVP5_array = np.load('C:/Users/user/Desktop/논문리뷰/Pattern-Exploiting-Training(PET)/code/testPET - 복사본/data3/labeling/hard_label/hard_label_PVP5.npy')\n",
    "PVP6_array = np.load('C:/Users/user/Desktop/논문리뷰/Pattern-Exploiting-Training(PET)/code/testPET - 복사본/data3/labeling/hard_label/hard_label_PVP6.npy')\n",
    "PVP7_array = np.load('C:/Users/user/Desktop/논문리뷰/Pattern-Exploiting-Training(PET)/code/testPET - 복사본/data3/labeling/hard_label/hard_label_PVP7.npy')\n",
    "PVP8_array = np.load('C:/Users/user/Desktop/논문리뷰/Pattern-Exploiting-Training(PET)/code/testPET - 복사본/data3/labeling/hard_label/hard_label_PVP8.npy')\n",
    "PVP9_array = np.load('C:/Users/user/Desktop/논문리뷰/Pattern-Exploiting-Training(PET)/code/testPET - 복사본/data3/labeling/hard_label/hard_label_PVP9.npy')"
   ]
  },
  {
   "cell_type": "code",
   "execution_count": 17,
   "metadata": {},
   "outputs": [],
   "source": [
    "PVP0_array = np.where(PVP0_array == 1, 0, np.where(PVP0_array == 2, 1, PVP0_array))\n",
    "PVP1_array = np.where(PVP1_array == 1, 0, np.where(PVP1_array == 2, 1, PVP1_array))\n",
    "PVP2_array = np.where(PVP2_array == 1, 0, np.where(PVP2_array == 2, 1, PVP2_array))\n",
    "PVP3_array = np.where(PVP3_array == 1, 0, np.where(PVP3_array == 2, 1, PVP3_array))\n",
    "PVP4_array = np.where(PVP4_array == 1, 0, np.where(PVP4_array == 2, 1, PVP4_array))\n",
    "PVP5_array = np.where(PVP5_array == 1, 0, np.where(PVP5_array == 2, 1, PVP5_array))\n",
    "PVP6_array = np.where(PVP6_array == 1, 0, np.where(PVP6_array == 2, 1, PVP6_array))\n",
    "PVP7_array = np.where(PVP7_array == 1, 0, np.where(PVP7_array == 2, 1, PVP7_array))\n",
    "PVP8_array = np.where(PVP8_array == 1, 0, np.where(PVP8_array == 2, 1, PVP8_array))\n",
    "PVP9_array = np.where(PVP9_array == 1, 0, np.where(PVP9_array == 2, 1, PVP9_array))"
   ]
  },
  {
   "cell_type": "code",
   "execution_count": 18,
   "metadata": {},
   "outputs": [],
   "source": [
    "df_unlabeled = pd.read_csv(\"C:/Users/user/Desktop/논문리뷰/Pattern-Exploiting-Training(PET)/code/testPET - 복사본/data3/df_unlabeled.csv\")"
   ]
  },
  {
   "cell_type": "code",
   "execution_count": 19,
   "metadata": {},
   "outputs": [],
   "source": [
    "unlabel_array = np.array(df_unlabeled[\"label\"])"
   ]
  },
  {
   "cell_type": "code",
   "execution_count": 20,
   "metadata": {},
   "outputs": [],
   "source": [
    "unlabel_array= np.where(unlabel_array == 1, 0, np.where(unlabel_array == 2, 1, unlabel_array))"
   ]
  },
  {
   "cell_type": "code",
   "execution_count": 21,
   "metadata": {},
   "outputs": [],
   "source": [
    "all_array = np.array([PVP0_array,\n",
    "                      PVP1_array,\n",
    "                      PVP2_array,\n",
    "                      PVP3_array,\n",
    "                      PVP4_array,\n",
    "                      PVP5_array,\n",
    "                      PVP6_array,\n",
    "                      PVP7_array,\n",
    "                      PVP8_array,\n",
    "                      PVP9_array])"
   ]
  },
  {
   "cell_type": "markdown",
   "metadata": {},
   "source": [
    "# accuracy, precision, recall, f1"
   ]
  },
  {
   "cell_type": "code",
   "execution_count": 22,
   "metadata": {},
   "outputs": [],
   "source": [
    "accuracy_list = []\n",
    "precision_list = []\n",
    "recall_list = []\n",
    "f1_list = []\n",
    "\n",
    "for i in all_array:\n",
    "    accuracy = accuracy_score(unlabel_array, i)\n",
    "    precision = precision_score(unlabel_array, i)\n",
    "    recall = recall_score(unlabel_array, i)\n",
    "    f1 = f1_score(unlabel_array, i)\n",
    "    \n",
    "    accuracy_list.append(accuracy)\n",
    "    precision_list.append(precision)\n",
    "    recall_list.append(recall)\n",
    "    f1_list.append(f1)"
   ]
  },
  {
   "cell_type": "markdown",
   "metadata": {},
   "source": [
    "# specificity"
   ]
  },
  {
   "cell_type": "code",
   "execution_count": 31,
   "metadata": {},
   "outputs": [],
   "source": [
    "cm_list = []\n",
    "for i in all_array:\n",
    "    cm = confusion_matrix(unlabel_array, i)\n",
    "    cm_list.append(cm)"
   ]
  },
  {
   "cell_type": "code",
   "execution_count": 34,
   "metadata": {},
   "outputs": [],
   "source": [
    "specificity_list = []\n",
    "for i in cm_list:\n",
    "    tn, fp, fn, tp = i.ravel()\n",
    "    specificity = tn / (tn + fp)\n",
    "    specificity_list.append(specificity)"
   ]
  },
  {
   "cell_type": "code",
   "execution_count": 35,
   "metadata": {},
   "outputs": [
    {
     "data": {
      "text/plain": [
       "[0.9768041237113402,\n",
       " 0.9877577319587629,\n",
       " 0.8788659793814433,\n",
       " 0.9497422680412371,\n",
       " 0.9873281786941581,\n",
       " 0.9819587628865979,\n",
       " 0.9540378006872853,\n",
       " 0.9924828178694158,\n",
       " 0.018900343642611683,\n",
       " 0.978307560137457]"
      ]
     },
     "execution_count": 35,
     "metadata": {},
     "output_type": "execute_result"
    }
   ],
   "source": [
    "specificity_list"
   ]
  },
  {
   "cell_type": "markdown",
   "metadata": {},
   "source": [
    "# Matthews Correlation Coefficient (MCC)"
   ]
  },
  {
   "cell_type": "code",
   "execution_count": 27,
   "metadata": {},
   "outputs": [],
   "source": [
    "mcc_list = []\n",
    "for i in cm_list:\n",
    "    tn, fp, fn, tp = i.ravel()\n",
    "    mcc = (tp * tn - fp * fn) / np.sqrt((tp + fp) * (tp + fn) * (tn + fp) * (tn + fn))\n",
    "    mcc_list.append(mcc)"
   ]
  },
  {
   "cell_type": "code",
   "execution_count": 28,
   "metadata": {},
   "outputs": [
    {
     "data": {
      "text/plain": [
       "[0.7841012471133944,\n",
       " 0.8737407244049437,\n",
       " 0.8842686149547753,\n",
       " 0.9271556820342349,\n",
       " 0.8958553041951381,\n",
       " 0.9283444142985516,\n",
       " 0.8560438075211538,\n",
       " 0.6656864720978841,\n",
       " 0.0918966092155373,\n",
       " 0.736938376092473]"
      ]
     },
     "execution_count": 28,
     "metadata": {},
     "output_type": "execute_result"
    }
   ],
   "source": [
    "mcc_list"
   ]
  },
  {
   "cell_type": "code",
   "execution_count": 36,
   "metadata": {},
   "outputs": [],
   "source": [
    "columns = [\"accuracy\", \"precision\", \"recall\", \"f1\", \"specificity\", \"mcc\"]"
   ]
  },
  {
   "cell_type": "code",
   "execution_count": 37,
   "metadata": {},
   "outputs": [],
   "source": [
    "index = ['PVP0',\n",
    "           'PVP1',\n",
    "           'PVP2',\n",
    "           'PVP3',\n",
    "           'PVP4',\n",
    "           'PVP5',\n",
    "           'PVP6',\n",
    "           'PVP7',\n",
    "           'PVP8',\n",
    "           'PVP9']"
   ]
  },
  {
   "cell_type": "code",
   "execution_count": 38,
   "metadata": {},
   "outputs": [],
   "source": [
    "matrics = [np.array(accuracy_list),\n",
    "           np.array(precision_list),\n",
    "           np.array(recall_list),\n",
    "           np.array(f1_list),\n",
    "           np.array(specificity_list),\n",
    "           np.array(mcc_list)]"
   ]
  },
  {
   "cell_type": "code",
   "execution_count": 39,
   "metadata": {},
   "outputs": [
    {
     "data": {
      "text/plain": [
       "[array([0.8842, 0.9341, 0.9403, 0.9637, 0.9463, 0.9639, 0.9273, 0.8056,\n",
       "        0.5426, 0.8554]),\n",
       " array([0.9754657 , 0.98812253, 0.904     , 0.95705634, 0.9880203 ,\n",
       "        0.98369249, 0.95758176, 0.98991354, 0.53886533, 0.97536585]),\n",
       " array([0.80351796, 0.8873503 , 0.99382485, 0.97586078, 0.91055389,\n",
       "        0.94816617, 0.90400449, 0.64277695, 0.99887725, 0.74831587]),\n",
       " array([0.88118202, 0.93502908, 0.9467867 , 0.96636709, 0.94770669,\n",
       "        0.96560267, 0.93002214, 0.7794418 , 0.70006557, 0.84688691]),\n",
       " array([0.97680412, 0.98775773, 0.87886598, 0.94974227, 0.98732818,\n",
       "        0.98195876, 0.9540378 , 0.99248282, 0.01890034, 0.97830756]),\n",
       " array([0.78410125, 0.87374072, 0.88426861, 0.92715568, 0.8958553 ,\n",
       "        0.92834441, 0.85604381, 0.66568647, 0.09189661, 0.73693838])]"
      ]
     },
     "execution_count": 39,
     "metadata": {},
     "output_type": "execute_result"
    }
   ],
   "source": [
    "matrics"
   ]
  },
  {
   "cell_type": "code",
   "execution_count": 40,
   "metadata": {},
   "outputs": [],
   "source": [
    "df_matrics = pd.DataFrame(matrics).T"
   ]
  },
  {
   "cell_type": "code",
   "execution_count": 41,
   "metadata": {},
   "outputs": [],
   "source": [
    "df_matrics.columns = columns"
   ]
  },
  {
   "cell_type": "code",
   "execution_count": 42,
   "metadata": {},
   "outputs": [
    {
     "data": {
      "text/html": [
       "<div>\n",
       "<style scoped>\n",
       "    .dataframe tbody tr th:only-of-type {\n",
       "        vertical-align: middle;\n",
       "    }\n",
       "\n",
       "    .dataframe tbody tr th {\n",
       "        vertical-align: top;\n",
       "    }\n",
       "\n",
       "    .dataframe thead th {\n",
       "        text-align: right;\n",
       "    }\n",
       "</style>\n",
       "<table border=\"1\" class=\"dataframe\">\n",
       "  <thead>\n",
       "    <tr style=\"text-align: right;\">\n",
       "      <th></th>\n",
       "      <th>accuracy</th>\n",
       "      <th>precision</th>\n",
       "      <th>recall</th>\n",
       "      <th>f1</th>\n",
       "      <th>specificity</th>\n",
       "      <th>mcc</th>\n",
       "    </tr>\n",
       "  </thead>\n",
       "  <tbody>\n",
       "    <tr>\n",
       "      <th>0</th>\n",
       "      <td>0.8842</td>\n",
       "      <td>0.975466</td>\n",
       "      <td>0.803518</td>\n",
       "      <td>0.881182</td>\n",
       "      <td>0.976804</td>\n",
       "      <td>0.784101</td>\n",
       "    </tr>\n",
       "    <tr>\n",
       "      <th>1</th>\n",
       "      <td>0.9341</td>\n",
       "      <td>0.988123</td>\n",
       "      <td>0.887350</td>\n",
       "      <td>0.935029</td>\n",
       "      <td>0.987758</td>\n",
       "      <td>0.873741</td>\n",
       "    </tr>\n",
       "    <tr>\n",
       "      <th>2</th>\n",
       "      <td>0.9403</td>\n",
       "      <td>0.904000</td>\n",
       "      <td>0.993825</td>\n",
       "      <td>0.946787</td>\n",
       "      <td>0.878866</td>\n",
       "      <td>0.884269</td>\n",
       "    </tr>\n",
       "    <tr>\n",
       "      <th>3</th>\n",
       "      <td>0.9637</td>\n",
       "      <td>0.957056</td>\n",
       "      <td>0.975861</td>\n",
       "      <td>0.966367</td>\n",
       "      <td>0.949742</td>\n",
       "      <td>0.927156</td>\n",
       "    </tr>\n",
       "    <tr>\n",
       "      <th>4</th>\n",
       "      <td>0.9463</td>\n",
       "      <td>0.988020</td>\n",
       "      <td>0.910554</td>\n",
       "      <td>0.947707</td>\n",
       "      <td>0.987328</td>\n",
       "      <td>0.895855</td>\n",
       "    </tr>\n",
       "    <tr>\n",
       "      <th>5</th>\n",
       "      <td>0.9639</td>\n",
       "      <td>0.983692</td>\n",
       "      <td>0.948166</td>\n",
       "      <td>0.965603</td>\n",
       "      <td>0.981959</td>\n",
       "      <td>0.928344</td>\n",
       "    </tr>\n",
       "    <tr>\n",
       "      <th>6</th>\n",
       "      <td>0.9273</td>\n",
       "      <td>0.957582</td>\n",
       "      <td>0.904004</td>\n",
       "      <td>0.930022</td>\n",
       "      <td>0.954038</td>\n",
       "      <td>0.856044</td>\n",
       "    </tr>\n",
       "    <tr>\n",
       "      <th>7</th>\n",
       "      <td>0.8056</td>\n",
       "      <td>0.989914</td>\n",
       "      <td>0.642777</td>\n",
       "      <td>0.779442</td>\n",
       "      <td>0.992483</td>\n",
       "      <td>0.665686</td>\n",
       "    </tr>\n",
       "    <tr>\n",
       "      <th>8</th>\n",
       "      <td>0.5426</td>\n",
       "      <td>0.538865</td>\n",
       "      <td>0.998877</td>\n",
       "      <td>0.700066</td>\n",
       "      <td>0.018900</td>\n",
       "      <td>0.091897</td>\n",
       "    </tr>\n",
       "    <tr>\n",
       "      <th>9</th>\n",
       "      <td>0.8554</td>\n",
       "      <td>0.975366</td>\n",
       "      <td>0.748316</td>\n",
       "      <td>0.846887</td>\n",
       "      <td>0.978308</td>\n",
       "      <td>0.736938</td>\n",
       "    </tr>\n",
       "  </tbody>\n",
       "</table>\n",
       "</div>"
      ],
      "text/plain": [
       "   accuracy  precision    recall        f1  specificity       mcc\n",
       "0    0.8842   0.975466  0.803518  0.881182     0.976804  0.784101\n",
       "1    0.9341   0.988123  0.887350  0.935029     0.987758  0.873741\n",
       "2    0.9403   0.904000  0.993825  0.946787     0.878866  0.884269\n",
       "3    0.9637   0.957056  0.975861  0.966367     0.949742  0.927156\n",
       "4    0.9463   0.988020  0.910554  0.947707     0.987328  0.895855\n",
       "5    0.9639   0.983692  0.948166  0.965603     0.981959  0.928344\n",
       "6    0.9273   0.957582  0.904004  0.930022     0.954038  0.856044\n",
       "7    0.8056   0.989914  0.642777  0.779442     0.992483  0.665686\n",
       "8    0.5426   0.538865  0.998877  0.700066     0.018900  0.091897\n",
       "9    0.8554   0.975366  0.748316  0.846887     0.978308  0.736938"
      ]
     },
     "execution_count": 42,
     "metadata": {},
     "output_type": "execute_result"
    }
   ],
   "source": [
    "df_matrics"
   ]
  },
  {
   "cell_type": "code",
   "execution_count": 43,
   "metadata": {},
   "outputs": [],
   "source": [
    "df_matrics = df_matrics.set_index(pd.Index(index))"
   ]
  },
  {
   "cell_type": "code",
   "execution_count": 44,
   "metadata": {},
   "outputs": [
    {
     "data": {
      "text/html": [
       "<div>\n",
       "<style scoped>\n",
       "    .dataframe tbody tr th:only-of-type {\n",
       "        vertical-align: middle;\n",
       "    }\n",
       "\n",
       "    .dataframe tbody tr th {\n",
       "        vertical-align: top;\n",
       "    }\n",
       "\n",
       "    .dataframe thead th {\n",
       "        text-align: right;\n",
       "    }\n",
       "</style>\n",
       "<table border=\"1\" class=\"dataframe\">\n",
       "  <thead>\n",
       "    <tr style=\"text-align: right;\">\n",
       "      <th></th>\n",
       "      <th>accuracy</th>\n",
       "      <th>precision</th>\n",
       "      <th>recall</th>\n",
       "      <th>f1</th>\n",
       "      <th>specificity</th>\n",
       "      <th>mcc</th>\n",
       "    </tr>\n",
       "  </thead>\n",
       "  <tbody>\n",
       "    <tr>\n",
       "      <th>PVP0</th>\n",
       "      <td>0.8842</td>\n",
       "      <td>0.975466</td>\n",
       "      <td>0.803518</td>\n",
       "      <td>0.881182</td>\n",
       "      <td>0.976804</td>\n",
       "      <td>0.784101</td>\n",
       "    </tr>\n",
       "    <tr>\n",
       "      <th>PVP1</th>\n",
       "      <td>0.9341</td>\n",
       "      <td>0.988123</td>\n",
       "      <td>0.887350</td>\n",
       "      <td>0.935029</td>\n",
       "      <td>0.987758</td>\n",
       "      <td>0.873741</td>\n",
       "    </tr>\n",
       "    <tr>\n",
       "      <th>PVP2</th>\n",
       "      <td>0.9403</td>\n",
       "      <td>0.904000</td>\n",
       "      <td>0.993825</td>\n",
       "      <td>0.946787</td>\n",
       "      <td>0.878866</td>\n",
       "      <td>0.884269</td>\n",
       "    </tr>\n",
       "    <tr>\n",
       "      <th>PVP3</th>\n",
       "      <td>0.9637</td>\n",
       "      <td>0.957056</td>\n",
       "      <td>0.975861</td>\n",
       "      <td>0.966367</td>\n",
       "      <td>0.949742</td>\n",
       "      <td>0.927156</td>\n",
       "    </tr>\n",
       "    <tr>\n",
       "      <th>PVP4</th>\n",
       "      <td>0.9463</td>\n",
       "      <td>0.988020</td>\n",
       "      <td>0.910554</td>\n",
       "      <td>0.947707</td>\n",
       "      <td>0.987328</td>\n",
       "      <td>0.895855</td>\n",
       "    </tr>\n",
       "    <tr>\n",
       "      <th>PVP5</th>\n",
       "      <td>0.9639</td>\n",
       "      <td>0.983692</td>\n",
       "      <td>0.948166</td>\n",
       "      <td>0.965603</td>\n",
       "      <td>0.981959</td>\n",
       "      <td>0.928344</td>\n",
       "    </tr>\n",
       "    <tr>\n",
       "      <th>PVP6</th>\n",
       "      <td>0.9273</td>\n",
       "      <td>0.957582</td>\n",
       "      <td>0.904004</td>\n",
       "      <td>0.930022</td>\n",
       "      <td>0.954038</td>\n",
       "      <td>0.856044</td>\n",
       "    </tr>\n",
       "    <tr>\n",
       "      <th>PVP7</th>\n",
       "      <td>0.8056</td>\n",
       "      <td>0.989914</td>\n",
       "      <td>0.642777</td>\n",
       "      <td>0.779442</td>\n",
       "      <td>0.992483</td>\n",
       "      <td>0.665686</td>\n",
       "    </tr>\n",
       "    <tr>\n",
       "      <th>PVP8</th>\n",
       "      <td>0.5426</td>\n",
       "      <td>0.538865</td>\n",
       "      <td>0.998877</td>\n",
       "      <td>0.700066</td>\n",
       "      <td>0.018900</td>\n",
       "      <td>0.091897</td>\n",
       "    </tr>\n",
       "    <tr>\n",
       "      <th>PVP9</th>\n",
       "      <td>0.8554</td>\n",
       "      <td>0.975366</td>\n",
       "      <td>0.748316</td>\n",
       "      <td>0.846887</td>\n",
       "      <td>0.978308</td>\n",
       "      <td>0.736938</td>\n",
       "    </tr>\n",
       "  </tbody>\n",
       "</table>\n",
       "</div>"
      ],
      "text/plain": [
       "      accuracy  precision    recall        f1  specificity       mcc\n",
       "PVP0    0.8842   0.975466  0.803518  0.881182     0.976804  0.784101\n",
       "PVP1    0.9341   0.988123  0.887350  0.935029     0.987758  0.873741\n",
       "PVP2    0.9403   0.904000  0.993825  0.946787     0.878866  0.884269\n",
       "PVP3    0.9637   0.957056  0.975861  0.966367     0.949742  0.927156\n",
       "PVP4    0.9463   0.988020  0.910554  0.947707     0.987328  0.895855\n",
       "PVP5    0.9639   0.983692  0.948166  0.965603     0.981959  0.928344\n",
       "PVP6    0.9273   0.957582  0.904004  0.930022     0.954038  0.856044\n",
       "PVP7    0.8056   0.989914  0.642777  0.779442     0.992483  0.665686\n",
       "PVP8    0.5426   0.538865  0.998877  0.700066     0.018900  0.091897\n",
       "PVP9    0.8554   0.975366  0.748316  0.846887     0.978308  0.736938"
      ]
     },
     "execution_count": 44,
     "metadata": {},
     "output_type": "execute_result"
    }
   ],
   "source": [
    "df_matrics"
   ]
  },
  {
   "cell_type": "code",
   "execution_count": 45,
   "metadata": {},
   "outputs": [],
   "source": [
    "matrics_writer = pd.ExcelWriter('C:/Users/user/Desktop/논문리뷰/Pattern-Exploiting-Training(PET)/code/testPET - 복사본/data3/result/matrics.xlsx', engine='xlsxwriter')"
   ]
  },
  {
   "cell_type": "code",
   "execution_count": 46,
   "metadata": {},
   "outputs": [],
   "source": [
    "df_matrics.to_excel(matrics_writer, sheet_name='matrics', index=True)"
   ]
  },
  {
   "cell_type": "code",
   "execution_count": 47,
   "metadata": {},
   "outputs": [
    {
     "name": "stderr",
     "output_type": "stream",
     "text": [
      "C:\\Users\\user\\AppData\\Local\\Temp\\ipykernel_8916\\1575248946.py:1: FutureWarning: save is not part of the public API, usage can give unexpected results and will be removed in a future version\n",
      "  matrics_writer.save()\n"
     ]
    }
   ],
   "source": [
    "matrics_writer.save()"
   ]
  }
 ],
 "metadata": {
  "kernelspec": {
   "display_name": "PY39_",
   "language": "python",
   "name": "python3"
  },
  "language_info": {
   "codemirror_mode": {
    "name": "ipython",
    "version": 3
   },
   "file_extension": ".py",
   "mimetype": "text/x-python",
   "name": "python",
   "nbconvert_exporter": "python",
   "pygments_lexer": "ipython3",
   "version": "3.9.16"
  },
  "orig_nbformat": 4
 },
 "nbformat": 4,
 "nbformat_minor": 2
}
