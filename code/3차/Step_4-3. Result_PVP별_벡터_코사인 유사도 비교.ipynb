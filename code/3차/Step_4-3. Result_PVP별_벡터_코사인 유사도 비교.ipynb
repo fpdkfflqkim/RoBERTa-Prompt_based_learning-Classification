{
 "cells": [
  {
   "cell_type": "markdown",
   "metadata": {},
   "source": [
    "틀린 것 비교"
   ]
  },
  {
   "cell_type": "code",
   "execution_count": 50,
   "metadata": {},
   "outputs": [],
   "source": [
    "import numpy as np\n",
    "import pandas as pd\n",
    "from sklearn.metrics.pairwise import cosine_similarity"
   ]
  },
  {
   "cell_type": "markdown",
   "metadata": {},
   "source": [
    "데이터 불러오기"
   ]
  },
  {
   "cell_type": "code",
   "execution_count": 39,
   "metadata": {},
   "outputs": [],
   "source": [
    "PVP0_array = np.load('C:/Users/user/Desktop/논문리뷰/Pattern-Exploiting-Training(PET)/code/testPET - 복사본/data3/labeling/hard_label/hard_label_PVP0.npy')\n",
    "PVP1_array = np.load('C:/Users/user/Desktop/논문리뷰/Pattern-Exploiting-Training(PET)/code/testPET - 복사본/data3/labeling/hard_label/hard_label_PVP1.npy')\n",
    "PVP2_array = np.load('C:/Users/user/Desktop/논문리뷰/Pattern-Exploiting-Training(PET)/code/testPET - 복사본/data3/labeling/hard_label/hard_label_PVP2.npy')\n",
    "PVP3_array = np.load('C:/Users/user/Desktop/논문리뷰/Pattern-Exploiting-Training(PET)/code/testPET - 복사본/data3/labeling/hard_label/hard_label_PVP3.npy')\n",
    "PVP4_array = np.load('C:/Users/user/Desktop/논문리뷰/Pattern-Exploiting-Training(PET)/code/testPET - 복사본/data3/labeling/hard_label/hard_label_PVP4.npy')\n",
    "PVP5_array = np.load('C:/Users/user/Desktop/논문리뷰/Pattern-Exploiting-Training(PET)/code/testPET - 복사본/data3/labeling/hard_label/hard_label_PVP5.npy')\n",
    "PVP6_array = np.load('C:/Users/user/Desktop/논문리뷰/Pattern-Exploiting-Training(PET)/code/testPET - 복사본/data3/labeling/hard_label/hard_label_PVP6.npy')\n",
    "PVP7_array = np.load('C:/Users/user/Desktop/논문리뷰/Pattern-Exploiting-Training(PET)/code/testPET - 복사본/data3/labeling/hard_label/hard_label_PVP7.npy')\n",
    "PVP8_array = np.load('C:/Users/user/Desktop/논문리뷰/Pattern-Exploiting-Training(PET)/code/testPET - 복사본/data3/labeling/hard_label/hard_label_PVP8.npy')\n",
    "PVP9_array = np.load('C:/Users/user/Desktop/논문리뷰/Pattern-Exploiting-Training(PET)/code/testPET - 복사본/data3/labeling/hard_label/hard_label_PVP9.npy')"
   ]
  },
  {
   "cell_type": "code",
   "execution_count": 40,
   "metadata": {},
   "outputs": [
    {
     "data": {
      "text/plain": [
       "array([1, 2, 1, ..., 1, 1, 2], dtype=int64)"
      ]
     },
     "execution_count": 40,
     "metadata": {},
     "output_type": "execute_result"
    }
   ],
   "source": [
    "PVP0_array"
   ]
  },
  {
   "cell_type": "code",
   "execution_count": 41,
   "metadata": {},
   "outputs": [],
   "source": [
    "PVP0_array = np.where(PVP0_array == 1, 0, np.where(PVP0_array == 2, 1, PVP0_array))\n",
    "PVP1_array = np.where(PVP1_array == 1, 0, np.where(PVP1_array == 2, 1, PVP1_array))\n",
    "PVP2_array = np.where(PVP2_array == 1, 0, np.where(PVP2_array == 2, 1, PVP2_array))\n",
    "PVP3_array = np.where(PVP3_array == 1, 0, np.where(PVP3_array == 2, 1, PVP3_array))\n",
    "PVP4_array = np.where(PVP4_array == 1, 0, np.where(PVP4_array == 2, 1, PVP4_array))\n",
    "PVP5_array = np.where(PVP5_array == 1, 0, np.where(PVP5_array == 2, 1, PVP5_array))\n",
    "PVP6_array = np.where(PVP6_array == 1, 0, np.where(PVP6_array == 2, 1, PVP6_array))\n",
    "PVP7_array = np.where(PVP7_array == 1, 0, np.where(PVP7_array == 2, 1, PVP7_array))\n",
    "PVP8_array = np.where(PVP8_array == 1, 0, np.where(PVP8_array == 2, 1, PVP8_array))\n",
    "PVP9_array = np.where(PVP9_array == 1, 0, np.where(PVP9_array == 2, 1, PVP9_array))"
   ]
  },
  {
   "cell_type": "code",
   "execution_count": 42,
   "metadata": {},
   "outputs": [
    {
     "data": {
      "text/plain": [
       "array([0, 1, 0, ..., 0, 0, 1], dtype=int64)"
      ]
     },
     "execution_count": 42,
     "metadata": {},
     "output_type": "execute_result"
    }
   ],
   "source": [
    "PVP0_array"
   ]
  },
  {
   "cell_type": "code",
   "execution_count": 43,
   "metadata": {},
   "outputs": [],
   "source": [
    "df_unlabeled = pd.read_csv(\"C:/Users/user/Desktop/논문리뷰/Pattern-Exploiting-Training(PET)/code/testPET - 복사본/data3/df_unlabeled.csv\")"
   ]
  },
  {
   "cell_type": "code",
   "execution_count": 44,
   "metadata": {},
   "outputs": [],
   "source": [
    "unlabel_array = np.array(df_unlabeled[\"label\"])"
   ]
  },
  {
   "cell_type": "code",
   "execution_count": 45,
   "metadata": {},
   "outputs": [],
   "source": [
    "unlabel_array= np.where(unlabel_array == 1, 0, np.where(unlabel_array == 2, 1, unlabel_array))"
   ]
  },
  {
   "cell_type": "code",
   "execution_count": 46,
   "metadata": {},
   "outputs": [
    {
     "data": {
      "text/plain": [
       "array([0, 1, 0, ..., 0, 1, 1], dtype=int64)"
      ]
     },
     "execution_count": 46,
     "metadata": {},
     "output_type": "execute_result"
    }
   ],
   "source": [
    "unlabel_array"
   ]
  },
  {
   "cell_type": "markdown",
   "metadata": {},
   "source": [
    "하나의 array로 만들기"
   ]
  },
  {
   "cell_type": "code",
   "execution_count": 47,
   "metadata": {},
   "outputs": [],
   "source": [
    "all_array = np.array([unlabel_array,\n",
    "                      PVP0_array,\n",
    "                      PVP1_array,\n",
    "                      PVP2_array,\n",
    "                      PVP3_array,\n",
    "                      PVP4_array,\n",
    "                      PVP5_array,\n",
    "                      PVP6_array,\n",
    "                      PVP7_array,\n",
    "                      PVP8_array,\n",
    "                      PVP9_array,])"
   ]
  },
  {
   "cell_type": "code",
   "execution_count": 58,
   "metadata": {},
   "outputs": [],
   "source": [
    "cosine_sim = cosine_similarity(all_array)\n"
   ]
  },
  {
   "cell_type": "code",
   "execution_count": 63,
   "metadata": {},
   "outputs": [
    {
     "data": {
      "text/plain": [
       "array([0.88532718, 1.        , 0.89486663, 0.8579387 , 0.882677  ,\n",
       "       0.90267467, 0.90029055, 0.86895703, 0.77424635, 0.66601045,\n",
       "       0.8368019 ])"
      ]
     },
     "execution_count": 63,
     "metadata": {},
     "output_type": "execute_result"
    }
   ],
   "source": [
    "cosine_sim[1]"
   ]
  },
  {
   "cell_type": "code",
   "execution_count": 68,
   "metadata": {},
   "outputs": [],
   "source": [
    "all_index = ['origin',\n",
    "           'PVP0',\n",
    "           'PVP1',\n",
    "           'PVP2',\n",
    "           'PVP3',\n",
    "           'PVP4',\n",
    "           'PVP5',\n",
    "           'PVP6',\n",
    "           'PVP7',\n",
    "           'PVP8',\n",
    "           'PVP9']"
   ]
  },
  {
   "cell_type": "code",
   "execution_count": 71,
   "metadata": {},
   "outputs": [],
   "source": [
    "df_all_vectors = pd.DataFrame(cosine_sim, columns=all_index)"
   ]
  },
  {
   "cell_type": "code",
   "execution_count": 79,
   "metadata": {},
   "outputs": [],
   "source": [
    "df_all_vectors = df_all_vectors.set_index(pd.Index(all_index))"
   ]
  },
  {
   "cell_type": "code",
   "execution_count": 80,
   "metadata": {},
   "outputs": [
    {
     "data": {
      "text/html": [
       "<div>\n",
       "<style scoped>\n",
       "    .dataframe tbody tr th:only-of-type {\n",
       "        vertical-align: middle;\n",
       "    }\n",
       "\n",
       "    .dataframe tbody tr th {\n",
       "        vertical-align: top;\n",
       "    }\n",
       "\n",
       "    .dataframe thead th {\n",
       "        text-align: right;\n",
       "    }\n",
       "</style>\n",
       "<table border=\"1\" class=\"dataframe\">\n",
       "  <thead>\n",
       "    <tr style=\"text-align: right;\">\n",
       "      <th></th>\n",
       "      <th>origin</th>\n",
       "      <th>PVP0</th>\n",
       "      <th>PVP1</th>\n",
       "      <th>PVP2</th>\n",
       "      <th>PVP3</th>\n",
       "      <th>PVP4</th>\n",
       "      <th>PVP5</th>\n",
       "      <th>PVP6</th>\n",
       "      <th>PVP7</th>\n",
       "      <th>PVP8</th>\n",
       "      <th>PVP9</th>\n",
       "    </tr>\n",
       "  </thead>\n",
       "  <tbody>\n",
       "    <tr>\n",
       "      <th>origin</th>\n",
       "      <td>1.000000</td>\n",
       "      <td>0.885327</td>\n",
       "      <td>0.936382</td>\n",
       "      <td>0.947849</td>\n",
       "      <td>0.966413</td>\n",
       "      <td>0.948497</td>\n",
       "      <td>0.965766</td>\n",
       "      <td>0.930408</td>\n",
       "      <td>0.797680</td>\n",
       "      <td>0.733662</td>\n",
       "      <td>0.854331</td>\n",
       "    </tr>\n",
       "    <tr>\n",
       "      <th>PVP0</th>\n",
       "      <td>0.885327</td>\n",
       "      <td>1.000000</td>\n",
       "      <td>0.894867</td>\n",
       "      <td>0.857939</td>\n",
       "      <td>0.882677</td>\n",
       "      <td>0.902675</td>\n",
       "      <td>0.900291</td>\n",
       "      <td>0.868957</td>\n",
       "      <td>0.774246</td>\n",
       "      <td>0.666010</td>\n",
       "      <td>0.836802</td>\n",
       "    </tr>\n",
       "    <tr>\n",
       "      <th>PVP1</th>\n",
       "      <td>0.936382</td>\n",
       "      <td>0.894867</td>\n",
       "      <td>1.000000</td>\n",
       "      <td>0.903045</td>\n",
       "      <td>0.936703</td>\n",
       "      <td>0.944135</td>\n",
       "      <td>0.950947</td>\n",
       "      <td>0.930400</td>\n",
       "      <td>0.809900</td>\n",
       "      <td>0.695592</td>\n",
       "      <td>0.855774</td>\n",
       "    </tr>\n",
       "    <tr>\n",
       "      <th>PVP2</th>\n",
       "      <td>0.947849</td>\n",
       "      <td>0.857939</td>\n",
       "      <td>0.903045</td>\n",
       "      <td>1.000000</td>\n",
       "      <td>0.956700</td>\n",
       "      <td>0.914285</td>\n",
       "      <td>0.934722</td>\n",
       "      <td>0.913265</td>\n",
       "      <td>0.766980</td>\n",
       "      <td>0.768016</td>\n",
       "      <td>0.828664</td>\n",
       "    </tr>\n",
       "    <tr>\n",
       "      <th>PVP3</th>\n",
       "      <td>0.966413</td>\n",
       "      <td>0.882677</td>\n",
       "      <td>0.936703</td>\n",
       "      <td>0.956700</td>\n",
       "      <td>1.000000</td>\n",
       "      <td>0.942402</td>\n",
       "      <td>0.965098</td>\n",
       "      <td>0.934560</td>\n",
       "      <td>0.793637</td>\n",
       "      <td>0.740579</td>\n",
       "      <td>0.850291</td>\n",
       "    </tr>\n",
       "    <tr>\n",
       "      <th>PVP4</th>\n",
       "      <td>0.948497</td>\n",
       "      <td>0.902675</td>\n",
       "      <td>0.944135</td>\n",
       "      <td>0.914285</td>\n",
       "      <td>0.942402</td>\n",
       "      <td>1.000000</td>\n",
       "      <td>0.963521</td>\n",
       "      <td>0.926446</td>\n",
       "      <td>0.813261</td>\n",
       "      <td>0.704676</td>\n",
       "      <td>0.867900</td>\n",
       "    </tr>\n",
       "    <tr>\n",
       "      <th>PVP5</th>\n",
       "      <td>0.965766</td>\n",
       "      <td>0.900291</td>\n",
       "      <td>0.950947</td>\n",
       "      <td>0.934722</td>\n",
       "      <td>0.965098</td>\n",
       "      <td>0.963521</td>\n",
       "      <td>1.000000</td>\n",
       "      <td>0.935319</td>\n",
       "      <td>0.811067</td>\n",
       "      <td>0.720122</td>\n",
       "      <td>0.863226</td>\n",
       "    </tr>\n",
       "    <tr>\n",
       "      <th>PVP6</th>\n",
       "      <td>0.930408</td>\n",
       "      <td>0.868957</td>\n",
       "      <td>0.930400</td>\n",
       "      <td>0.913265</td>\n",
       "      <td>0.934560</td>\n",
       "      <td>0.926446</td>\n",
       "      <td>0.935319</td>\n",
       "      <td>1.000000</td>\n",
       "      <td>0.815003</td>\n",
       "      <td>0.712653</td>\n",
       "      <td>0.858175</td>\n",
       "    </tr>\n",
       "    <tr>\n",
       "      <th>PVP7</th>\n",
       "      <td>0.797680</td>\n",
       "      <td>0.774246</td>\n",
       "      <td>0.809900</td>\n",
       "      <td>0.766980</td>\n",
       "      <td>0.793637</td>\n",
       "      <td>0.813261</td>\n",
       "      <td>0.811067</td>\n",
       "      <td>0.815003</td>\n",
       "      <td>1.000000</td>\n",
       "      <td>0.591514</td>\n",
       "      <td>0.793506</td>\n",
       "    </tr>\n",
       "    <tr>\n",
       "      <th>PVP8</th>\n",
       "      <td>0.733662</td>\n",
       "      <td>0.666010</td>\n",
       "      <td>0.695592</td>\n",
       "      <td>0.768016</td>\n",
       "      <td>0.740579</td>\n",
       "      <td>0.704676</td>\n",
       "      <td>0.720122</td>\n",
       "      <td>0.712653</td>\n",
       "      <td>0.591514</td>\n",
       "      <td>1.000000</td>\n",
       "      <td>0.642559</td>\n",
       "    </tr>\n",
       "    <tr>\n",
       "      <th>PVP9</th>\n",
       "      <td>0.854331</td>\n",
       "      <td>0.836802</td>\n",
       "      <td>0.855774</td>\n",
       "      <td>0.828664</td>\n",
       "      <td>0.850291</td>\n",
       "      <td>0.867900</td>\n",
       "      <td>0.863226</td>\n",
       "      <td>0.858175</td>\n",
       "      <td>0.793506</td>\n",
       "      <td>0.642559</td>\n",
       "      <td>1.000000</td>\n",
       "    </tr>\n",
       "  </tbody>\n",
       "</table>\n",
       "</div>"
      ],
      "text/plain": [
       "          origin      PVP0      PVP1      PVP2      PVP3      PVP4      PVP5  \\\n",
       "origin  1.000000  0.885327  0.936382  0.947849  0.966413  0.948497  0.965766   \n",
       "PVP0    0.885327  1.000000  0.894867  0.857939  0.882677  0.902675  0.900291   \n",
       "PVP1    0.936382  0.894867  1.000000  0.903045  0.936703  0.944135  0.950947   \n",
       "PVP2    0.947849  0.857939  0.903045  1.000000  0.956700  0.914285  0.934722   \n",
       "PVP3    0.966413  0.882677  0.936703  0.956700  1.000000  0.942402  0.965098   \n",
       "PVP4    0.948497  0.902675  0.944135  0.914285  0.942402  1.000000  0.963521   \n",
       "PVP5    0.965766  0.900291  0.950947  0.934722  0.965098  0.963521  1.000000   \n",
       "PVP6    0.930408  0.868957  0.930400  0.913265  0.934560  0.926446  0.935319   \n",
       "PVP7    0.797680  0.774246  0.809900  0.766980  0.793637  0.813261  0.811067   \n",
       "PVP8    0.733662  0.666010  0.695592  0.768016  0.740579  0.704676  0.720122   \n",
       "PVP9    0.854331  0.836802  0.855774  0.828664  0.850291  0.867900  0.863226   \n",
       "\n",
       "            PVP6      PVP7      PVP8      PVP9  \n",
       "origin  0.930408  0.797680  0.733662  0.854331  \n",
       "PVP0    0.868957  0.774246  0.666010  0.836802  \n",
       "PVP1    0.930400  0.809900  0.695592  0.855774  \n",
       "PVP2    0.913265  0.766980  0.768016  0.828664  \n",
       "PVP3    0.934560  0.793637  0.740579  0.850291  \n",
       "PVP4    0.926446  0.813261  0.704676  0.867900  \n",
       "PVP5    0.935319  0.811067  0.720122  0.863226  \n",
       "PVP6    1.000000  0.815003  0.712653  0.858175  \n",
       "PVP7    0.815003  1.000000  0.591514  0.793506  \n",
       "PVP8    0.712653  0.591514  1.000000  0.642559  \n",
       "PVP9    0.858175  0.793506  0.642559  1.000000  "
      ]
     },
     "execution_count": 80,
     "metadata": {},
     "output_type": "execute_result"
    }
   ],
   "source": [
    "df_all_vectors"
   ]
  },
  {
   "cell_type": "code",
   "execution_count": 81,
   "metadata": {},
   "outputs": [],
   "source": [
    "all_vectors_writer = pd.ExcelWriter('C:/Users/user/Desktop/논문리뷰/Pattern-Exploiting-Training(PET)/code/testPET - 복사본/data3/result/all_vectors.xlsx', engine='xlsxwriter')"
   ]
  },
  {
   "cell_type": "code",
   "execution_count": 82,
   "metadata": {},
   "outputs": [],
   "source": [
    "df_all_vectors.to_excel(all_vectors_writer, sheet_name='only_cosine', index=True)"
   ]
  },
  {
   "cell_type": "code",
   "execution_count": 83,
   "metadata": {},
   "outputs": [
    {
     "name": "stderr",
     "output_type": "stream",
     "text": [
      "C:\\Users\\user\\AppData\\Local\\Temp\\ipykernel_22492\\1541263730.py:1: FutureWarning: save is not part of the public API, usage can give unexpected results and will be removed in a future version\n",
      "  all_vectors_writer.save()\n"
     ]
    }
   ],
   "source": [
    "all_vectors_writer.save()"
   ]
  }
 ],
 "metadata": {
  "kernelspec": {
   "display_name": "PY39_",
   "language": "python",
   "name": "python3"
  },
  "language_info": {
   "codemirror_mode": {
    "name": "ipython",
    "version": 3
   },
   "file_extension": ".py",
   "mimetype": "text/x-python",
   "name": "python",
   "nbconvert_exporter": "python",
   "pygments_lexer": "ipython3",
   "version": "3.9.16"
  },
  "orig_nbformat": 4
 },
 "nbformat": 4,
 "nbformat_minor": 2
}
