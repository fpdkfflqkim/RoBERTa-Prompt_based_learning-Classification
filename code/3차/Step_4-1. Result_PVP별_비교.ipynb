{
 "cells": [
  {
   "cell_type": "markdown",
   "metadata": {},
   "source": [
    "틀린 것 비교"
   ]
  },
  {
   "cell_type": "code",
   "execution_count": 1,
   "metadata": {},
   "outputs": [],
   "source": [
    "import numpy as np\n",
    "import pandas as pd"
   ]
  },
  {
   "cell_type": "markdown",
   "metadata": {},
   "source": [
    "데이터 불러오기"
   ]
  },
  {
   "cell_type": "code",
   "execution_count": 2,
   "metadata": {},
   "outputs": [],
   "source": [
    "PVP0_array = np.load('C:/Users/user/Desktop/논문리뷰/Pattern-Exploiting-Training(PET)/code/testPET - 복사본/data3/labeling/unlabeled_probabilities_PVP0.npy')\n",
    "PVP1_array = np.load('C:/Users/user/Desktop/논문리뷰/Pattern-Exploiting-Training(PET)/code/testPET - 복사본/data3/labeling/unlabeled_probabilities_PVP1.npy')\n",
    "PVP2_array = np.load('C:/Users/user/Desktop/논문리뷰/Pattern-Exploiting-Training(PET)/code/testPET - 복사본/data3/labeling/unlabeled_probabilities_PVP2.npy')\n",
    "PVP3_array = np.load('C:/Users/user/Desktop/논문리뷰/Pattern-Exploiting-Training(PET)/code/testPET - 복사본/data3/labeling/unlabeled_probabilities_PVP3.npy')\n",
    "PVP4_array = np.load('C:/Users/user/Desktop/논문리뷰/Pattern-Exploiting-Training(PET)/code/testPET - 복사본/data3/labeling/unlabeled_probabilities_PVP4.npy')\n",
    "PVP5_array = np.load('C:/Users/user/Desktop/논문리뷰/Pattern-Exploiting-Training(PET)/code/testPET - 복사본/data3/labeling/unlabeled_probabilities_PVP5.npy')\n",
    "PVP6_array = np.load('C:/Users/user/Desktop/논문리뷰/Pattern-Exploiting-Training(PET)/code/testPET - 복사본/data3/labeling/unlabeled_probabilities_PVP6.npy')\n",
    "PVP7_array = np.load('C:/Users/user/Desktop/논문리뷰/Pattern-Exploiting-Training(PET)/code/testPET - 복사본/data3/labeling/unlabeled_probabilities_PVP7.npy')\n",
    "PVP8_array = np.load('C:/Users/user/Desktop/논문리뷰/Pattern-Exploiting-Training(PET)/code/testPET - 복사본/data3/labeling/unlabeled_probabilities_PVP8.npy')\n",
    "PVP9_array = np.load('C:/Users/user/Desktop/논문리뷰/Pattern-Exploiting-Training(PET)/code/testPET - 복사본/data3/labeling/unlabeled_probabilities_PVP9.npy')"
   ]
  },
  {
   "cell_type": "markdown",
   "metadata": {},
   "source": [
    "소프트 라벨을 하드 라벨로(임계값 = 0,5)"
   ]
  },
  {
   "cell_type": "code",
   "execution_count": 3,
   "metadata": {},
   "outputs": [],
   "source": [
    "PVP0_array_hard = np.argmax(PVP0_array, axis=1)\n",
    "PVP1_array_hard = np.argmax(PVP1_array, axis=1)\n",
    "PVP2_array_hard = np.argmax(PVP2_array, axis=1)\n",
    "PVP3_array_hard = np.argmax(PVP3_array, axis=1)\n",
    "PVP4_array_hard = np.argmax(PVP4_array, axis=1)\n",
    "PVP5_array_hard = np.argmax(PVP5_array, axis=1)\n",
    "PVP6_array_hard = np.argmax(PVP6_array, axis=1)\n",
    "PVP7_array_hard = np.argmax(PVP7_array, axis=1)\n",
    "PVP8_array_hard = np.argmax(PVP8_array, axis=1)\n",
    "PVP9_array_hard = np.argmax(PVP9_array, axis=1)"
   ]
  },
  {
   "cell_type": "code",
   "execution_count": 4,
   "metadata": {},
   "outputs": [],
   "source": [
    "np.save('C:/Users/user/Desktop/논문리뷰/Pattern-Exploiting-Training(PET)/code/testPET - 복사본/data3/labeling/hard_label/hard_label_PVP0.npy', PVP0_array_hard)\n",
    "np.save('C:/Users/user/Desktop/논문리뷰/Pattern-Exploiting-Training(PET)/code/testPET - 복사본/data3/labeling/hard_label/hard_label_PVP1.npy', PVP1_array_hard)\n",
    "np.save('C:/Users/user/Desktop/논문리뷰/Pattern-Exploiting-Training(PET)/code/testPET - 복사본/data3/labeling/hard_label/hard_label_PVP2.npy', PVP2_array_hard)\n",
    "np.save('C:/Users/user/Desktop/논문리뷰/Pattern-Exploiting-Training(PET)/code/testPET - 복사본/data3/labeling/hard_label/hard_label_PVP3.npy', PVP3_array_hard)\n",
    "np.save('C:/Users/user/Desktop/논문리뷰/Pattern-Exploiting-Training(PET)/code/testPET - 복사본/data3/labeling/hard_label/hard_label_PVP4.npy', PVP4_array_hard)\n",
    "np.save('C:/Users/user/Desktop/논문리뷰/Pattern-Exploiting-Training(PET)/code/testPET - 복사본/data3/labeling/hard_label/hard_label_PVP5.npy', PVP5_array_hard)\n",
    "np.save('C:/Users/user/Desktop/논문리뷰/Pattern-Exploiting-Training(PET)/code/testPET - 복사본/data3/labeling/hard_label/hard_label_PVP6.npy', PVP6_array_hard)\n",
    "np.save('C:/Users/user/Desktop/논문리뷰/Pattern-Exploiting-Training(PET)/code/testPET - 복사본/data3/labeling/hard_label/hard_label_PVP7.npy', PVP7_array_hard)\n",
    "np.save('C:/Users/user/Desktop/논문리뷰/Pattern-Exploiting-Training(PET)/code/testPET - 복사본/data3/labeling/hard_label/hard_label_PVP8.npy', PVP8_array_hard)\n",
    "np.save('C:/Users/user/Desktop/논문리뷰/Pattern-Exploiting-Training(PET)/code/testPET - 복사본/data3/labeling/hard_label/hard_label_PVP9.npy', PVP9_array_hard)"
   ]
  },
  {
   "cell_type": "code",
   "execution_count": 5,
   "metadata": {},
   "outputs": [],
   "source": [
    "PVP0_array_hard = np.where(PVP0_array_hard == 0, 1, np.where(PVP0_array_hard == 1, 2, PVP0_array_hard))\n",
    "PVP1_array_hard = np.where(PVP1_array_hard == 0, 1, np.where(PVP1_array_hard == 1, 2, PVP1_array_hard))\n",
    "PVP2_array_hard = np.where(PVP2_array_hard == 0, 1, np.where(PVP2_array_hard == 1, 2, PVP2_array_hard))\n",
    "PVP3_array_hard = np.where(PVP3_array_hard == 0, 1, np.where(PVP3_array_hard == 1, 2, PVP3_array_hard))\n",
    "PVP4_array_hard = np.where(PVP4_array_hard == 0, 1, np.where(PVP4_array_hard == 1, 2, PVP4_array_hard))\n",
    "PVP5_array_hard = np.where(PVP5_array_hard == 0, 1, np.where(PVP5_array_hard == 1, 2, PVP5_array_hard))\n",
    "PVP6_array_hard = np.where(PVP6_array_hard == 0, 1, np.where(PVP6_array_hard == 1, 2, PVP6_array_hard))\n",
    "PVP7_array_hard = np.where(PVP7_array_hard == 0, 1, np.where(PVP7_array_hard == 1, 2, PVP7_array_hard))\n",
    "PVP8_array_hard = np.where(PVP8_array_hard == 0, 1, np.where(PVP8_array_hard == 1, 2, PVP8_array_hard))\n",
    "PVP9_array_hard = np.where(PVP9_array_hard == 0, 1, np.where(PVP9_array_hard == 1, 2, PVP9_array_hard))"
   ]
  },
  {
   "cell_type": "markdown",
   "metadata": {},
   "source": [
    "unlabeled dataframe"
   ]
  },
  {
   "cell_type": "code",
   "execution_count": 2,
   "metadata": {},
   "outputs": [],
   "source": [
    "df_unlabeled = pd.read_csv(\"C:/Users/user/Desktop/논문리뷰/Pattern-Exploiting-Training(PET)/code/testPET - 복사본/data3/df_unlabeled.csv\")"
   ]
  },
  {
   "cell_type": "code",
   "execution_count": 3,
   "metadata": {},
   "outputs": [
    {
     "data": {
      "text/html": [
       "<div>\n",
       "<style scoped>\n",
       "    .dataframe tbody tr th:only-of-type {\n",
       "        vertical-align: middle;\n",
       "    }\n",
       "\n",
       "    .dataframe tbody tr th {\n",
       "        vertical-align: top;\n",
       "    }\n",
       "\n",
       "    .dataframe thead th {\n",
       "        text-align: right;\n",
       "    }\n",
       "</style>\n",
       "<table border=\"1\" class=\"dataframe\">\n",
       "  <thead>\n",
       "    <tr style=\"text-align: right;\">\n",
       "      <th></th>\n",
       "      <th>text</th>\n",
       "      <th>label</th>\n",
       "    </tr>\n",
       "  </thead>\n",
       "  <tbody>\n",
       "    <tr>\n",
       "      <th>0</th>\n",
       "      <td>Bagels are average at best, very stingy here. ...</td>\n",
       "      <td>1</td>\n",
       "    </tr>\n",
       "    <tr>\n",
       "      <th>1</th>\n",
       "      <td>The atmosphere is nice and intimate. Our serve...</td>\n",
       "      <td>2</td>\n",
       "    </tr>\n",
       "    <tr>\n",
       "      <th>2</th>\n",
       "      <td>Stayed 3 nights at the Grand and it was an abs...</td>\n",
       "      <td>1</td>\n",
       "    </tr>\n",
       "    <tr>\n",
       "      <th>3</th>\n",
       "      <td>Looking at past reviews, it appears there has ...</td>\n",
       "      <td>2</td>\n",
       "    </tr>\n",
       "    <tr>\n",
       "      <th>4</th>\n",
       "      <td>Apparently there are 7 Beauty Bars? This is th...</td>\n",
       "      <td>2</td>\n",
       "    </tr>\n",
       "    <tr>\n",
       "      <th>...</th>\n",
       "      <td>...</td>\n",
       "      <td>...</td>\n",
       "    </tr>\n",
       "    <tr>\n",
       "      <th>9995</th>\n",
       "      <td>Recently I have been shopping at Sprouts and I...</td>\n",
       "      <td>1</td>\n",
       "    </tr>\n",
       "    <tr>\n",
       "      <th>9996</th>\n",
       "      <td>I've been here twice for dinner and once for t...</td>\n",
       "      <td>2</td>\n",
       "    </tr>\n",
       "    <tr>\n",
       "      <th>9997</th>\n",
       "      <td>I'm giving Chipotle a 2 only to differentiate ...</td>\n",
       "      <td>1</td>\n",
       "    </tr>\n",
       "    <tr>\n",
       "      <th>9998</th>\n",
       "      <td>Went here a couple times liked the homemade le...</td>\n",
       "      <td>2</td>\n",
       "    </tr>\n",
       "    <tr>\n",
       "      <th>9999</th>\n",
       "      <td>This review is for their bakery. We have order...</td>\n",
       "      <td>2</td>\n",
       "    </tr>\n",
       "  </tbody>\n",
       "</table>\n",
       "<p>10000 rows × 2 columns</p>\n",
       "</div>"
      ],
      "text/plain": [
       "                                                   text  label\n",
       "0     Bagels are average at best, very stingy here. ...      1\n",
       "1     The atmosphere is nice and intimate. Our serve...      2\n",
       "2     Stayed 3 nights at the Grand and it was an abs...      1\n",
       "3     Looking at past reviews, it appears there has ...      2\n",
       "4     Apparently there are 7 Beauty Bars? This is th...      2\n",
       "...                                                 ...    ...\n",
       "9995  Recently I have been shopping at Sprouts and I...      1\n",
       "9996  I've been here twice for dinner and once for t...      2\n",
       "9997  I'm giving Chipotle a 2 only to differentiate ...      1\n",
       "9998  Went here a couple times liked the homemade le...      2\n",
       "9999  This review is for their bakery. We have order...      2\n",
       "\n",
       "[10000 rows x 2 columns]"
      ]
     },
     "execution_count": 3,
     "metadata": {},
     "output_type": "execute_result"
    }
   ],
   "source": [
    "df_unlabeled"
   ]
  },
  {
   "cell_type": "code",
   "execution_count": 5,
   "metadata": {},
   "outputs": [
    {
     "data": {
      "text/plain": [
       "2    5344\n",
       "1    4656\n",
       "Name: label, dtype: int64"
      ]
     },
     "execution_count": 5,
     "metadata": {},
     "output_type": "execute_result"
    }
   ],
   "source": [
    "df_unlabeled[\"label\"].value_counts()"
   ]
  },
  {
   "cell_type": "markdown",
   "metadata": {},
   "source": [
    "새로운 열로 추가"
   ]
  },
  {
   "cell_type": "code",
   "execution_count": 8,
   "metadata": {},
   "outputs": [
    {
     "data": {
      "text/plain": [
       "0       1\n",
       "1       2\n",
       "2       1\n",
       "3       2\n",
       "4       2\n",
       "       ..\n",
       "9995    1\n",
       "9996    2\n",
       "9997    1\n",
       "9998    2\n",
       "9999    2\n",
       "Name: label, Length: 10000, dtype: int64"
      ]
     },
     "execution_count": 8,
     "metadata": {},
     "output_type": "execute_result"
    }
   ],
   "source": [
    "df_unlabeled[\"label\"]"
   ]
  },
  {
   "cell_type": "code",
   "execution_count": 9,
   "metadata": {},
   "outputs": [],
   "source": [
    "df_unlabeled[\"PVP0\"] = PVP0_array_hard\n",
    "df_unlabeled[\"PVP1\"] = PVP1_array_hard\n",
    "df_unlabeled[\"PVP2\"] = PVP2_array_hard\n",
    "df_unlabeled[\"PVP3\"] = PVP3_array_hard\n",
    "df_unlabeled[\"PVP4\"] = PVP4_array_hard\n",
    "df_unlabeled[\"PVP5\"] = PVP5_array_hard\n",
    "df_unlabeled[\"PVP6\"] = PVP6_array_hard\n",
    "df_unlabeled[\"PVP7\"] = PVP7_array_hard\n",
    "df_unlabeled[\"PVP8\"] = PVP8_array_hard\n",
    "df_unlabeled[\"PVP9\"] = PVP9_array_hard"
   ]
  },
  {
   "cell_type": "markdown",
   "metadata": {},
   "source": [
    "라벨이 1(bad)일때, 기준 PVP는 1이라고 예측하고, 나머지는 2라고 예측한 값의 수"
   ]
  },
  {
   "cell_type": "code",
   "execution_count": 10,
   "metadata": {},
   "outputs": [],
   "source": [
    "PVP0_bad = df_unlabeled.loc[(df_unlabeled['label'] == 1) & (df_unlabeled['label'] == df_unlabeled['PVP0']), df_unlabeled.columns]\n",
    "PVP1_bad = df_unlabeled.loc[(df_unlabeled['label'] == 1) & (df_unlabeled['label'] == df_unlabeled['PVP1']), df_unlabeled.columns]\n",
    "PVP2_bad = df_unlabeled.loc[(df_unlabeled['label'] == 1) & (df_unlabeled['label'] == df_unlabeled['PVP2']), df_unlabeled.columns]\n",
    "PVP3_bad = df_unlabeled.loc[(df_unlabeled['label'] == 1) & (df_unlabeled['label'] == df_unlabeled['PVP3']), df_unlabeled.columns]\n",
    "PVP4_bad = df_unlabeled.loc[(df_unlabeled['label'] == 1) & (df_unlabeled['label'] == df_unlabeled['PVP4']), df_unlabeled.columns]\n",
    "PVP5_bad = df_unlabeled.loc[(df_unlabeled['label'] == 1) & (df_unlabeled['label'] == df_unlabeled['PVP5']), df_unlabeled.columns]\n",
    "PVP6_bad = df_unlabeled.loc[(df_unlabeled['label'] == 1) & (df_unlabeled['label'] == df_unlabeled['PVP6']), df_unlabeled.columns]\n",
    "PVP7_bad = df_unlabeled.loc[(df_unlabeled['label'] == 1) & (df_unlabeled['label'] == df_unlabeled['PVP7']), df_unlabeled.columns]\n",
    "PVP8_bad = df_unlabeled.loc[(df_unlabeled['label'] == 1) & (df_unlabeled['label'] == df_unlabeled['PVP8']), df_unlabeled.columns]\n",
    "PVP9_bad = df_unlabeled.loc[(df_unlabeled['label'] == 1) & (df_unlabeled['label'] == df_unlabeled['PVP9']), df_unlabeled.columns]"
   ]
  },
  {
   "cell_type": "code",
   "execution_count": 11,
   "metadata": {},
   "outputs": [],
   "source": [
    "# # PVP0_bad\n",
    "# PVP0_count = []\n",
    "\n",
    "# for i in range(0,10):\n",
    "#     if i == 0:\n",
    "#         count_2 = 0\n",
    "#     else:\n",
    "#         count_2 = PVP0_bad[f'PVP{i}'].value_counts()[2]\n",
    "    \n",
    "#     PVP0_count.append(count_2)"
   ]
  },
  {
   "cell_type": "code",
   "execution_count": 12,
   "metadata": {},
   "outputs": [],
   "source": [
    "PVP0_bad_count = [0 if i == 0 else PVP0_bad[f'PVP{i}'].value_counts().get(2, 0) for i in range(10)]\n",
    "PVP1_bad_count = [0 if i == 1 else PVP1_bad[f'PVP{i}'].value_counts().get(2, 0) for i in range(10)]\n",
    "PVP2_bad_count = [0 if i == 2 else PVP2_bad[f'PVP{i}'].value_counts().get(2, 0) for i in range(10)]\n",
    "PVP3_bad_count = [0 if i == 3 else PVP3_bad[f'PVP{i}'].value_counts().get(2, 0) for i in range(10)]\n",
    "PVP4_bad_count = [0 if i == 4 else PVP4_bad[f'PVP{i}'].value_counts().get(2, 0) for i in range(10)]\n",
    "PVP5_bad_count = [0 if i == 5 else PVP5_bad[f'PVP{i}'].value_counts().get(2, 0) for i in range(10)]\n",
    "PVP6_bad_count = [0 if i == 6 else PVP6_bad[f'PVP{i}'].value_counts().get(2, 0) for i in range(10)]\n",
    "PVP7_bad_count = [0 if i == 7 else PVP7_bad[f'PVP{i}'].value_counts().get(2, 0) for i in range(10)]\n",
    "PVP8_bad_count = [0 if i == 8 else PVP8_bad[f'PVP{i}'].value_counts().get(2, 0) for i in range(10)]\n",
    "PVP9_bad_count = [0 if i == 9 else PVP9_bad[f'PVP{i}'].value_counts().get(2, 0) for i in range(10)]"
   ]
  },
  {
   "cell_type": "markdown",
   "metadata": {},
   "source": [
    "라벨이 2(goood)일때, 기준 PVP는 2이라고 예측하고, 나머지는 1이라고 예측한 값의 수"
   ]
  },
  {
   "cell_type": "code",
   "execution_count": 13,
   "metadata": {},
   "outputs": [],
   "source": [
    "PVP0_good = df_unlabeled.loc[(df_unlabeled['label'] == 2) & (df_unlabeled['label'] == df_unlabeled['PVP0']), df_unlabeled.columns]\n",
    "PVP1_good = df_unlabeled.loc[(df_unlabeled['label'] == 2) & (df_unlabeled['label'] == df_unlabeled['PVP1']), df_unlabeled.columns]\n",
    "PVP2_good = df_unlabeled.loc[(df_unlabeled['label'] == 2) & (df_unlabeled['label'] == df_unlabeled['PVP2']), df_unlabeled.columns]\n",
    "PVP3_good = df_unlabeled.loc[(df_unlabeled['label'] == 2) & (df_unlabeled['label'] == df_unlabeled['PVP3']), df_unlabeled.columns]\n",
    "PVP4_good = df_unlabeled.loc[(df_unlabeled['label'] == 2) & (df_unlabeled['label'] == df_unlabeled['PVP4']), df_unlabeled.columns]\n",
    "PVP5_good = df_unlabeled.loc[(df_unlabeled['label'] == 2) & (df_unlabeled['label'] == df_unlabeled['PVP5']), df_unlabeled.columns]\n",
    "PVP6_good = df_unlabeled.loc[(df_unlabeled['label'] == 2) & (df_unlabeled['label'] == df_unlabeled['PVP6']), df_unlabeled.columns]\n",
    "PVP7_good = df_unlabeled.loc[(df_unlabeled['label'] == 2) & (df_unlabeled['label'] == df_unlabeled['PVP7']), df_unlabeled.columns]\n",
    "PVP8_good = df_unlabeled.loc[(df_unlabeled['label'] == 2) & (df_unlabeled['label'] == df_unlabeled['PVP8']), df_unlabeled.columns]\n",
    "PVP9_good = df_unlabeled.loc[(df_unlabeled['label'] == 2) & (df_unlabeled['label'] == df_unlabeled['PVP9']), df_unlabeled.columns]"
   ]
  },
  {
   "cell_type": "code",
   "execution_count": 14,
   "metadata": {},
   "outputs": [],
   "source": [
    "PVP0_good_count = [0 if i == 0 else PVP0_good[f'PVP{i}'].value_counts().get(1, 0) for i in range(10)]\n",
    "PVP1_good_count = [0 if i == 1 else PVP1_good[f'PVP{i}'].value_counts().get(1, 0) for i in range(10)]\n",
    "PVP2_good_count = [0 if i == 2 else PVP2_good[f'PVP{i}'].value_counts().get(1, 0) for i in range(10)]\n",
    "PVP3_good_count = [0 if i == 3 else PVP3_good[f'PVP{i}'].value_counts().get(1, 0) for i in range(10)]\n",
    "PVP4_good_count = [0 if i == 4 else PVP4_good[f'PVP{i}'].value_counts().get(1, 0) for i in range(10)]\n",
    "PVP5_good_count = [0 if i == 5 else PVP5_good[f'PVP{i}'].value_counts().get(1, 0) for i in range(10)]\n",
    "PVP6_good_count = [0 if i == 6 else PVP6_good[f'PVP{i}'].value_counts().get(1, 0) for i in range(10)]\n",
    "PVP7_good_count = [0 if i == 7 else PVP7_good[f'PVP{i}'].value_counts().get(1, 0) for i in range(10)]\n",
    "PVP8_good_count = [0 if i == 8 else PVP8_good[f'PVP{i}'].value_counts().get(1, 0) for i in range(10)]\n",
    "PVP9_good_count = [0 if i == 9 else PVP9_good[f'PVP{i}'].value_counts().get(1, 0) for i in range(10)]"
   ]
  },
  {
   "cell_type": "markdown",
   "metadata": {},
   "source": [
    "데이터프레임 만들기"
   ]
  },
  {
   "cell_type": "code",
   "execution_count": 15,
   "metadata": {},
   "outputs": [],
   "source": [
    "pvp_good = {\"PVP0\" : PVP0_good_count,\n",
    "               \"PVP1\" : PVP1_good_count,\n",
    "               \"PVP2\" : PVP2_good_count,\n",
    "               \"PVP3\" : PVP3_good_count,\n",
    "               \"PVP4\" : PVP4_good_count,\n",
    "               \"PVP5\" : PVP5_good_count,\n",
    "               \"PVP6\" : PVP6_good_count,\n",
    "               \"PVP7\" : PVP7_good_count,\n",
    "               \"PVP8\" : PVP8_good_count,\n",
    "               \"PVP9\" : PVP9_good_count}"
   ]
  },
  {
   "cell_type": "code",
   "execution_count": 16,
   "metadata": {},
   "outputs": [],
   "source": [
    "pvp_bad = {\"PVP0\" : PVP0_bad_count,\n",
    "               \"PVP1\" : PVP1_bad_count,\n",
    "               \"PVP2\" : PVP2_bad_count,\n",
    "               \"PVP3\" : PVP3_bad_count,\n",
    "               \"PVP4\" : PVP4_bad_count,\n",
    "               \"PVP5\" : PVP5_bad_count,\n",
    "               \"PVP6\" : PVP6_bad_count,\n",
    "               \"PVP7\" : PVP7_bad_count,\n",
    "               \"PVP8\" : PVP8_bad_count,\n",
    "               \"PVP9\" : PVP9_bad_count}"
   ]
  },
  {
   "cell_type": "code",
   "execution_count": 17,
   "metadata": {},
   "outputs": [],
   "source": [
    "df_pvp_good = pd.DataFrame(pvp_good).T\n",
    "df_pvp_bad = pd.DataFrame(pvp_bad).T"
   ]
  },
  {
   "cell_type": "code",
   "execution_count": 19,
   "metadata": {},
   "outputs": [
    {
     "data": {
      "text/plain": [
       "Index(['PVP0', 'PVP1', 'PVP2', 'PVP3', 'PVP4', 'PVP5', 'PVP6', 'PVP7', 'PVP8',\n",
       "       'PVP9'],\n",
       "      dtype='object')"
      ]
     },
     "execution_count": 19,
     "metadata": {},
     "output_type": "execute_result"
    }
   ],
   "source": [
    "df_unlabeled.columns[2:]"
   ]
  },
  {
   "cell_type": "code",
   "execution_count": 20,
   "metadata": {},
   "outputs": [],
   "source": [
    "columns = df_unlabeled.columns[2:]"
   ]
  },
  {
   "cell_type": "code",
   "execution_count": 21,
   "metadata": {},
   "outputs": [],
   "source": [
    "df_pvp_good.columns = columns"
   ]
  },
  {
   "cell_type": "code",
   "execution_count": 22,
   "metadata": {},
   "outputs": [],
   "source": [
    "df_pvp_bad.columns = columns"
   ]
  },
  {
   "cell_type": "code",
   "execution_count": 23,
   "metadata": {},
   "outputs": [],
   "source": [
    "PVPs_comparison_writer = pd.ExcelWriter('C:/Users/user/Desktop/논문리뷰/Pattern-Exploiting-Training(PET)/code/testPET - 복사본/data3/result/PVPs_comparison.xlsx', engine='xlsxwriter')"
   ]
  },
  {
   "cell_type": "code",
   "execution_count": 24,
   "metadata": {},
   "outputs": [],
   "source": [
    "df_pvp_good.to_excel(PVPs_comparison_writer, sheet_name='good', index=True)\n",
    "df_pvp_bad.to_excel(PVPs_comparison_writer, sheet_name='bad', index=True)"
   ]
  },
  {
   "cell_type": "code",
   "execution_count": 25,
   "metadata": {},
   "outputs": [
    {
     "name": "stderr",
     "output_type": "stream",
     "text": [
      "C:\\Users\\user\\AppData\\Local\\Temp\\ipykernel_9712\\1817239633.py:1: FutureWarning: save is not part of the public API, usage can give unexpected results and will be removed in a future version\n",
      "  PVPs_comparison_writer.save()\n"
     ]
    }
   ],
   "source": [
    "PVPs_comparison_writer.save()"
   ]
  },
  {
   "cell_type": "code",
   "execution_count": null,
   "metadata": {},
   "outputs": [],
   "source": []
  },
  {
   "cell_type": "code",
   "execution_count": null,
   "metadata": {},
   "outputs": [],
   "source": []
  },
  {
   "cell_type": "code",
   "execution_count": null,
   "metadata": {},
   "outputs": [],
   "source": []
  },
  {
   "cell_type": "code",
   "execution_count": 11,
   "metadata": {},
   "outputs": [],
   "source": [
    "wrong_answer_random_1 = df_unlabeled.index[df_unlabeled['label'] != df_unlabeled['random1_label']]\n",
    "wrong_answer_random_2 = df_unlabeled.index[df_unlabeled['label'] != df_unlabeled['random2_label']]\n",
    "wrong_answer_random_3 = df_unlabeled.index[df_unlabeled['label'] != df_unlabeled['random3_label']]\n",
    "wrong_answer_cosine = df_unlabeled.index[df_unlabeled['label'] != df_unlabeled['cosine_label']]\n",
    "wrong_answer_clustering_1 = df_unlabeled.index[df_unlabeled['label'] != df_unlabeled['clustering_1_label']]\n",
    "wrong_answer_clustering_2 = df_unlabeled.index[df_unlabeled['label'] != df_unlabeled['clustering_2_label']]"
   ]
  },
  {
   "cell_type": "code",
   "execution_count": 12,
   "metadata": {},
   "outputs": [],
   "source": [
    "df_wrong_answer_random_1 = df_unlabeled.loc[wrong_answer_random_1]\n",
    "df_wrong_answer_random_2 = df_unlabeled.loc[wrong_answer_random_2]\n",
    "df_wrong_answer_random_3 = df_unlabeled.loc[wrong_answer_random_3]\n",
    "df_wrong_answer_cosine = df_unlabeled.loc[wrong_answer_cosine]\n",
    "df_wrong_answer_clustering_1 = df_unlabeled.loc[wrong_answer_clustering_1]\n",
    "df_wrong_answer_clustering_2 = df_unlabeled.loc[wrong_answer_clustering_2]"
   ]
  },
  {
   "cell_type": "code",
   "execution_count": 13,
   "metadata": {},
   "outputs": [],
   "source": [
    "wrong_answer_writer = pd.ExcelWriter('C:/Users/user/Desktop/논문리뷰/Pattern-Exploiting-Training(PET)/code/testPET - 복사본/data_2/result_df/wrong_answers.xlsx', engine='xlsxwriter')"
   ]
  },
  {
   "cell_type": "code",
   "execution_count": 14,
   "metadata": {},
   "outputs": [],
   "source": [
    "df_wrong_answer_random_1.to_excel(wrong_answer_writer, sheet_name='random_1', index=True)\n",
    "df_wrong_answer_random_2.to_excel(wrong_answer_writer, sheet_name='random_2', index=True)\n",
    "df_wrong_answer_random_3.to_excel(wrong_answer_writer, sheet_name='random_3', index=True)\n",
    "df_wrong_answer_cosine.to_excel(wrong_answer_writer, sheet_name='cosine', index=True)\n",
    "df_wrong_answer_clustering_1.to_excel(wrong_answer_writer, sheet_name='clustering_1', index=True)\n",
    "df_wrong_answer_clustering_2.to_excel(wrong_answer_writer, sheet_name='clustering_2', index=True)"
   ]
  },
  {
   "cell_type": "code",
   "execution_count": 15,
   "metadata": {},
   "outputs": [
    {
     "name": "stderr",
     "output_type": "stream",
     "text": [
      "C:\\Users\\user\\AppData\\Local\\Temp\\ipykernel_32992\\772461091.py:1: FutureWarning: save is not part of the public API, usage can give unexpected results and will be removed in a future version\n",
      "  wrong_answer_writer.save()\n"
     ]
    }
   ],
   "source": [
    "wrong_answer_writer.save()"
   ]
  },
  {
   "cell_type": "markdown",
   "metadata": {},
   "source": [
    "유사도 기준으로 유사도는 맞았는데, 다른 기준은 틀린 값"
   ]
  },
  {
   "cell_type": "code",
   "execution_count": 17,
   "metadata": {},
   "outputs": [],
   "source": [
    "df_difference_random_1 = df_unlabeled.loc[(df_unlabeled['label'] == df_unlabeled['cosine_label']) & (df_unlabeled['label'] != df_unlabeled['random1_label']), ['text', 'label','cosine_label','random1_label']]\n",
    "df_difference_random_2 = df_unlabeled.loc[(df_unlabeled['label'] == df_unlabeled['cosine_label']) & (df_unlabeled['label'] != df_unlabeled['random2_label']), ['text', 'label','cosine_label','random2_label']]\n",
    "df_difference_random_3 = df_unlabeled.loc[(df_unlabeled['label'] == df_unlabeled['cosine_label']) & (df_unlabeled['label'] != df_unlabeled['random3_label']), ['text', 'label','cosine_label','random3_label']]\n",
    "df_difference_clustering_1 = df_unlabeled.loc[(df_unlabeled['label'] == df_unlabeled['cosine_label']) & (df_unlabeled['label'] != df_unlabeled['clustering_1_label']), ['text', 'label','cosine_label','clustering_1_label']]\n",
    "df_difference_clustering_2 = df_unlabeled.loc[(df_unlabeled['label'] == df_unlabeled['cosine_label']) & (df_unlabeled['label'] != df_unlabeled['clustering_2_label']), ['text', 'label','cosine_label','clustering_2_label']]"
   ]
  },
  {
   "cell_type": "code",
   "execution_count": 18,
   "metadata": {},
   "outputs": [],
   "source": [
    "different_answer_writer = pd.ExcelWriter('C:/Users/user/Desktop/논문리뷰/Pattern-Exploiting-Training(PET)/code/testPET - 복사본/data_2/result_df/different_answers.xlsx', engine='xlsxwriter')"
   ]
  },
  {
   "cell_type": "code",
   "execution_count": 19,
   "metadata": {},
   "outputs": [],
   "source": [
    "df_difference_random_1.to_excel(different_answer_writer, sheet_name='random_1', index=True)\n",
    "df_difference_random_2.to_excel(different_answer_writer, sheet_name='random_2', index=True)\n",
    "df_difference_random_3.to_excel(different_answer_writer, sheet_name='random_3', index=True)\n",
    "df_difference_clustering_1.to_excel(different_answer_writer, sheet_name='clustering_1', index=True)\n",
    "df_difference_clustering_2.to_excel(different_answer_writer, sheet_name='clustering_2', index=True)"
   ]
  },
  {
   "cell_type": "code",
   "execution_count": 20,
   "metadata": {},
   "outputs": [
    {
     "name": "stderr",
     "output_type": "stream",
     "text": [
      "C:\\Users\\user\\AppData\\Local\\Temp\\ipykernel_32992\\1482095935.py:1: FutureWarning: save is not part of the public API, usage can give unexpected results and will be removed in a future version\n",
      "  different_answer_writer.save()\n"
     ]
    }
   ],
   "source": [
    "different_answer_writer.save()"
   ]
  },
  {
   "cell_type": "markdown",
   "metadata": {},
   "source": [
    "# 유사도만 맞춘 값"
   ]
  },
  {
   "cell_type": "code",
   "execution_count": 12,
   "metadata": {},
   "outputs": [],
   "source": [
    "only_cosine = df_unlabeled.loc[(df_unlabeled['label'] == df_unlabeled['cosine_label']) &\n",
    "                               (df_unlabeled['label'] != df_unlabeled['random1_label']) &\n",
    "                               (df_unlabeled['label'] != df_unlabeled['random2_label']) &\n",
    "                               (df_unlabeled['label'] != df_unlabeled['random3_label']) &\n",
    "                               (df_unlabeled['label'] != df_unlabeled['clustering_1_label']) &\n",
    "                               (df_unlabeled['label'] != df_unlabeled['clustering_2_label']),\n",
    "                               ['text', 'label','cosine_label','random1_label', 'random2_label','random3_label', 'clustering_1_label','clustering_2_label']\n",
    "]"
   ]
  },
  {
   "cell_type": "code",
   "execution_count": 19,
   "metadata": {},
   "outputs": [
    {
     "data": {
      "text/html": [
       "<div>\n",
       "<style scoped>\n",
       "    .dataframe tbody tr th:only-of-type {\n",
       "        vertical-align: middle;\n",
       "    }\n",
       "\n",
       "    .dataframe tbody tr th {\n",
       "        vertical-align: top;\n",
       "    }\n",
       "\n",
       "    .dataframe thead th {\n",
       "        text-align: right;\n",
       "    }\n",
       "</style>\n",
       "<table border=\"1\" class=\"dataframe\">\n",
       "  <thead>\n",
       "    <tr style=\"text-align: right;\">\n",
       "      <th></th>\n",
       "      <th>text</th>\n",
       "      <th>label</th>\n",
       "      <th>cosine_label</th>\n",
       "      <th>random1_label</th>\n",
       "      <th>random2_label</th>\n",
       "      <th>random3_label</th>\n",
       "      <th>clustering_1_label</th>\n",
       "      <th>clustering_2_label</th>\n",
       "    </tr>\n",
       "  </thead>\n",
       "  <tbody>\n",
       "    <tr>\n",
       "      <th>223</th>\n",
       "      <td>The food was awesome.the service, not so much....</td>\n",
       "      <td>2</td>\n",
       "      <td>2</td>\n",
       "      <td>1</td>\n",
       "      <td>1</td>\n",
       "      <td>1</td>\n",
       "      <td>1</td>\n",
       "      <td>1</td>\n",
       "    </tr>\n",
       "    <tr>\n",
       "      <th>698</th>\n",
       "      <td>For those of us who like good clothing but are...</td>\n",
       "      <td>2</td>\n",
       "      <td>2</td>\n",
       "      <td>1</td>\n",
       "      <td>1</td>\n",
       "      <td>1</td>\n",
       "      <td>1</td>\n",
       "      <td>1</td>\n",
       "    </tr>\n",
       "    <tr>\n",
       "      <th>755</th>\n",
       "      <td>Treacherous! Bring a DD and have fun!</td>\n",
       "      <td>2</td>\n",
       "      <td>2</td>\n",
       "      <td>1</td>\n",
       "      <td>1</td>\n",
       "      <td>1</td>\n",
       "      <td>1</td>\n",
       "      <td>1</td>\n",
       "    </tr>\n",
       "    <tr>\n",
       "      <th>2832</th>\n",
       "      <td>Not everything has to stay in vegas</td>\n",
       "      <td>2</td>\n",
       "      <td>2</td>\n",
       "      <td>1</td>\n",
       "      <td>1</td>\n",
       "      <td>1</td>\n",
       "      <td>1</td>\n",
       "      <td>1</td>\n",
       "    </tr>\n",
       "    <tr>\n",
       "      <th>2971</th>\n",
       "      <td>do i feel stupid that i'm always the only litt...</td>\n",
       "      <td>2</td>\n",
       "      <td>2</td>\n",
       "      <td>1</td>\n",
       "      <td>1</td>\n",
       "      <td>1</td>\n",
       "      <td>1</td>\n",
       "      <td>1</td>\n",
       "    </tr>\n",
       "    <tr>\n",
       "      <th>3061</th>\n",
       "      <td>My wife will literally punch a baby seal in th...</td>\n",
       "      <td>2</td>\n",
       "      <td>2</td>\n",
       "      <td>1</td>\n",
       "      <td>1</td>\n",
       "      <td>1</td>\n",
       "      <td>1</td>\n",
       "      <td>1</td>\n",
       "    </tr>\n",
       "    <tr>\n",
       "      <th>3104</th>\n",
       "      <td>Vons is expensive. I barely go to any grocery ...</td>\n",
       "      <td>2</td>\n",
       "      <td>2</td>\n",
       "      <td>1</td>\n",
       "      <td>1</td>\n",
       "      <td>1</td>\n",
       "      <td>1</td>\n",
       "      <td>1</td>\n",
       "    </tr>\n",
       "    <tr>\n",
       "      <th>4588</th>\n",
       "      <td>Just wanted to write a note that this location...</td>\n",
       "      <td>2</td>\n",
       "      <td>2</td>\n",
       "      <td>1</td>\n",
       "      <td>1</td>\n",
       "      <td>1</td>\n",
       "      <td>1</td>\n",
       "      <td>1</td>\n",
       "    </tr>\n",
       "    <tr>\n",
       "      <th>4589</th>\n",
       "      <td>My daughter and I went to this mall for a casu...</td>\n",
       "      <td>2</td>\n",
       "      <td>2</td>\n",
       "      <td>1</td>\n",
       "      <td>1</td>\n",
       "      <td>1</td>\n",
       "      <td>1</td>\n",
       "      <td>1</td>\n",
       "    </tr>\n",
       "    <tr>\n",
       "      <th>4866</th>\n",
       "      <td>I can honestly admit I'm a lazy person when it...</td>\n",
       "      <td>2</td>\n",
       "      <td>2</td>\n",
       "      <td>1</td>\n",
       "      <td>1</td>\n",
       "      <td>1</td>\n",
       "      <td>1</td>\n",
       "      <td>1</td>\n",
       "    </tr>\n",
       "    <tr>\n",
       "      <th>5360</th>\n",
       "      <td>Went on a wednesday at 2 30 pm and I was the o...</td>\n",
       "      <td>2</td>\n",
       "      <td>2</td>\n",
       "      <td>1</td>\n",
       "      <td>1</td>\n",
       "      <td>1</td>\n",
       "      <td>1</td>\n",
       "      <td>1</td>\n",
       "    </tr>\n",
       "    <tr>\n",
       "      <th>6531</th>\n",
       "      <td>My only complaint is that they only have brunc...</td>\n",
       "      <td>2</td>\n",
       "      <td>2</td>\n",
       "      <td>1</td>\n",
       "      <td>1</td>\n",
       "      <td>1</td>\n",
       "      <td>1</td>\n",
       "      <td>1</td>\n",
       "    </tr>\n",
       "    <tr>\n",
       "      <th>7576</th>\n",
       "      <td>Before I even start, I want to make note that ...</td>\n",
       "      <td>1</td>\n",
       "      <td>1</td>\n",
       "      <td>2</td>\n",
       "      <td>2</td>\n",
       "      <td>2</td>\n",
       "      <td>2</td>\n",
       "      <td>2</td>\n",
       "    </tr>\n",
       "    <tr>\n",
       "      <th>9193</th>\n",
       "      <td>FETALICIOIUS. n nThat is all.</td>\n",
       "      <td>2</td>\n",
       "      <td>2</td>\n",
       "      <td>1</td>\n",
       "      <td>1</td>\n",
       "      <td>1</td>\n",
       "      <td>1</td>\n",
       "      <td>1</td>\n",
       "    </tr>\n",
       "    <tr>\n",
       "      <th>9781</th>\n",
       "      <td>This is my 300th review. nThe end. nHahahaha, ...</td>\n",
       "      <td>2</td>\n",
       "      <td>2</td>\n",
       "      <td>1</td>\n",
       "      <td>1</td>\n",
       "      <td>1</td>\n",
       "      <td>1</td>\n",
       "      <td>1</td>\n",
       "    </tr>\n",
       "    <tr>\n",
       "      <th>9977</th>\n",
       "      <td>Omg all i have to say is get the mac n' cheese...</td>\n",
       "      <td>2</td>\n",
       "      <td>2</td>\n",
       "      <td>1</td>\n",
       "      <td>1</td>\n",
       "      <td>1</td>\n",
       "      <td>1</td>\n",
       "      <td>1</td>\n",
       "    </tr>\n",
       "  </tbody>\n",
       "</table>\n",
       "</div>"
      ],
      "text/plain": [
       "                                                   text  label  cosine_label  \\\n",
       "223   The food was awesome.the service, not so much....      2             2   \n",
       "698   For those of us who like good clothing but are...      2             2   \n",
       "755               Treacherous! Bring a DD and have fun!      2             2   \n",
       "2832               Not everything has to stay in vegas       2             2   \n",
       "2971  do i feel stupid that i'm always the only litt...      2             2   \n",
       "3061  My wife will literally punch a baby seal in th...      2             2   \n",
       "3104  Vons is expensive. I barely go to any grocery ...      2             2   \n",
       "4588  Just wanted to write a note that this location...      2             2   \n",
       "4589  My daughter and I went to this mall for a casu...      2             2   \n",
       "4866  I can honestly admit I'm a lazy person when it...      2             2   \n",
       "5360  Went on a wednesday at 2 30 pm and I was the o...      2             2   \n",
       "6531  My only complaint is that they only have brunc...      2             2   \n",
       "7576  Before I even start, I want to make note that ...      1             1   \n",
       "9193                      FETALICIOIUS. n nThat is all.      2             2   \n",
       "9781  This is my 300th review. nThe end. nHahahaha, ...      2             2   \n",
       "9977  Omg all i have to say is get the mac n' cheese...      2             2   \n",
       "\n",
       "      random1_label  random2_label  random3_label  clustering_1_label  \\\n",
       "223               1              1              1                   1   \n",
       "698               1              1              1                   1   \n",
       "755               1              1              1                   1   \n",
       "2832              1              1              1                   1   \n",
       "2971              1              1              1                   1   \n",
       "3061              1              1              1                   1   \n",
       "3104              1              1              1                   1   \n",
       "4588              1              1              1                   1   \n",
       "4589              1              1              1                   1   \n",
       "4866              1              1              1                   1   \n",
       "5360              1              1              1                   1   \n",
       "6531              1              1              1                   1   \n",
       "7576              2              2              2                   2   \n",
       "9193              1              1              1                   1   \n",
       "9781              1              1              1                   1   \n",
       "9977              1              1              1                   1   \n",
       "\n",
       "      clustering_2_label  \n",
       "223                    1  \n",
       "698                    1  \n",
       "755                    1  \n",
       "2832                   1  \n",
       "2971                   1  \n",
       "3061                   1  \n",
       "3104                   1  \n",
       "4588                   1  \n",
       "4589                   1  \n",
       "4866                   1  \n",
       "5360                   1  \n",
       "6531                   1  \n",
       "7576                   2  \n",
       "9193                   1  \n",
       "9781                   1  \n",
       "9977                   1  "
      ]
     },
     "execution_count": 19,
     "metadata": {},
     "output_type": "execute_result"
    }
   ],
   "source": [
    "only_cosine"
   ]
  },
  {
   "cell_type": "code",
   "execution_count": 20,
   "metadata": {},
   "outputs": [],
   "source": [
    "only_cosine_writer = pd.ExcelWriter('C:/Users/user/Desktop/논문리뷰/Pattern-Exploiting-Training(PET)/code/testPET - 복사본/data_2/result_df/only_cosine.xlsx', engine='xlsxwriter')"
   ]
  },
  {
   "cell_type": "code",
   "execution_count": 21,
   "metadata": {},
   "outputs": [],
   "source": [
    "only_cosine.to_excel(only_cosine_writer, sheet_name='only_cosine', index=True)"
   ]
  },
  {
   "cell_type": "code",
   "execution_count": 22,
   "metadata": {},
   "outputs": [
    {
     "name": "stderr",
     "output_type": "stream",
     "text": [
      "C:\\Users\\user\\AppData\\Local\\Temp\\ipykernel_33628\\3780706832.py:1: FutureWarning: save is not part of the public API, usage can give unexpected results and will be removed in a future version\n",
      "  only_cosine_writer.save()\n"
     ]
    }
   ],
   "source": [
    "only_cosine_writer.save()"
   ]
  }
 ],
 "metadata": {
  "kernelspec": {
   "display_name": "PY39_",
   "language": "python",
   "name": "python3"
  },
  "language_info": {
   "codemirror_mode": {
    "name": "ipython",
    "version": 3
   },
   "file_extension": ".py",
   "mimetype": "text/x-python",
   "name": "python",
   "nbconvert_exporter": "python",
   "pygments_lexer": "ipython3",
   "version": "3.9.16"
  },
  "orig_nbformat": 4
 },
 "nbformat": 4,
 "nbformat_minor": 2
}
