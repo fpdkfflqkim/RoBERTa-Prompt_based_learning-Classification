{
 "cells": [
  {
   "cell_type": "markdown",
   "metadata": {},
   "source": [
    "# PET 학습"
   ]
  },
  {
   "cell_type": "code",
   "execution_count": 3,
   "metadata": {},
   "outputs": [],
   "source": [
    "import sys"
   ]
  },
  {
   "cell_type": "code",
   "execution_count": 4,
   "metadata": {},
   "outputs": [],
   "source": [
    "sys.path.append(r'C:/Users/user/Desktop/논문리뷰/Pattern-Exploiting-Training(PET)/code/testPET - 복사본/src')\n",
    "sys.path.append(r'C:/Users/user/Desktop/논문리뷰/Pattern-Exploiting-Training(PET)/code/testPET - 복사본/trained_pet모델')"
   ]
  },
  {
   "cell_type": "code",
   "execution_count": 5,
   "metadata": {},
   "outputs": [],
   "source": [
    "import helper_functions\n",
    "import pet.modeling\n",
    "import pet.wrapper"
   ]
  },
  {
   "cell_type": "code",
   "execution_count": 6,
   "metadata": {},
   "outputs": [],
   "source": [
    "import pandas as pd\n",
    "import numpy as np"
   ]
  },
  {
   "cell_type": "markdown",
   "metadata": {},
   "source": [
    "데이터 불러오기"
   ]
  },
  {
   "cell_type": "code",
   "execution_count": 7,
   "metadata": {},
   "outputs": [],
   "source": [
    "df_train = pd.read_csv(\"C:/Users/user/Desktop/논문리뷰/Pattern-Exploiting-Training(PET)/code/testPET - 복사본/data3/df_train.csv\")\n",
    "df_test = pd.read_csv(\"C:/Users/user/Desktop/논문리뷰/Pattern-Exploiting-Training(PET)/code/testPET - 복사본/data3/df_test.csv\")\n",
    "df_unlabeled = pd.read_csv(\"C:/Users/user/Desktop/논문리뷰/Pattern-Exploiting-Training(PET)/code/testPET - 복사본/data3/df_unlabeled.csv\")\n",
    "df_eval = pd.read_csv(\"C:/Users/user/Desktop/논문리뷰/Pattern-Exploiting-Training(PET)/code/testPET - 복사본/data3/df_eval.csv\")"
   ]
  },
  {
   "cell_type": "code",
   "execution_count": 8,
   "metadata": {},
   "outputs": [],
   "source": [
    "df_train = df_train.astype(str)\n",
    "df_test = df_test.astype(str)\n",
    "df_unlabeled = df_unlabeled.astype(str)\n",
    "df_eval = df_eval.astype(str)"
   ]
  },
  {
   "cell_type": "code",
   "execution_count": 9,
   "metadata": {},
   "outputs": [],
   "source": [
    "label_list = np.array(['1', '2'])"
   ]
  },
  {
   "cell_type": "markdown",
   "metadata": {},
   "source": [
    "개별 학습"
   ]
  },
  {
   "cell_type": "code",
   "execution_count": 10,
   "metadata": {},
   "outputs": [],
   "source": [
    "pvp_numbers = [0, 1, 2, 3, 4, 5, 6, 7, 8, 9]"
   ]
  },
  {
   "cell_type": "code",
   "execution_count": 23,
   "metadata": {},
   "outputs": [
    {
     "name": "stderr",
     "output_type": "stream",
     "text": [
      "Training patterns: 100%|██████████| 1/1 [05:15<00:00, 315.40s/it]\n",
      "Training patterns: 100%|██████████| 1/1 [04:19<00:00, 259.85s/it]\n",
      "Training patterns: 100%|██████████| 1/1 [04:20<00:00, 260.56s/it]\n",
      "Training patterns: 100%|██████████| 1/1 [04:19<00:00, 259.46s/it]\n",
      "Training patterns: 100%|██████████| 1/1 [04:19<00:00, 259.28s/it]\n",
      "Training patterns: 100%|██████████| 1/1 [04:20<00:00, 260.94s/it]\n",
      "Training patterns: 100%|██████████| 1/1 [04:20<00:00, 260.71s/it]\n",
      "Training patterns: 100%|██████████| 1/1 [04:18<00:00, 258.78s/it]\n",
      "Training patterns: 100%|██████████| 1/1 [04:16<00:00, 256.53s/it]\n",
      "Training patterns: 100%|██████████| 1/1 [04:19<00:00, 259.47s/it]\n"
     ]
    }
   ],
   "source": [
    "# model_paths = []\n",
    "# for i in pvp_numbers:\n",
    "#     pvp_numbers = [i]\n",
    "#     output_dir=f'C:/Users/user/Desktop/PET_trained_model/PVP{i}/'\n",
    "#     model_path = helper_functions.train_models(pvp_numbers, df_train['text'], df_train['label'], df_eval['text'], df_eval['label'], 'yelp-polarity', label_list, output_dir=output_dir)\n",
    "#     model_paths.append(model_path)"
   ]
  },
  {
   "cell_type": "code",
   "execution_count": 9,
   "metadata": {},
   "outputs": [],
   "source": [
    "model_paths = ['C:/Users/user/Desktop/PET_trained_model/PVP0/p0-i0',\n",
    "                'C:/Users/user/Desktop/PET_trained_model/PVP1/p1-i0',\n",
    "                'C:/Users/user/Desktop/PET_trained_model/PVP2/p2-i8',\n",
    "                'C:/Users/user/Desktop/PET_trained_model/PVP3/p3-i0',\n",
    "                'C:/Users/user/Desktop/PET_trained_model/PVP4/p4-i1',\n",
    "                'C:/Users/user/Desktop/PET_trained_model/PVP5/p5-i9',\n",
    "                'C:/Users/user/Desktop/PET_trained_model/PVP6/p6-i0',\n",
    "                'C:/Users/user/Desktop/PET_trained_model/PVP7/p7-i4',\n",
    "                'C:/Users/user/Desktop/PET_trained_model/PVP8/p8-i0',\n",
    "                'C:/Users/user/Desktop/PET_trained_model/PVP9/p9-i0']"
   ]
  },
  {
   "cell_type": "code",
   "execution_count": 11,
   "metadata": {},
   "outputs": [],
   "source": [
    "model_paths = ['C:/Users/user/Desktop/PET_trained_model/PVP1/p1-i0',\n",
    "                'C:/Users/user/Desktop/PET_trained_model/PVP3/p3-i0',\n",
    "                'C:/Users/user/Desktop/PET_trained_model/PVP6/p6-i0'               \n",
    "]"
   ]
  },
  {
   "cell_type": "markdown",
   "metadata": {},
   "source": [
    "각 모델 별 점수 내기(scores 내는 데이터 1:test data, 2:unlabel data)"
   ]
  },
  {
   "cell_type": "code",
   "execution_count": 12,
   "metadata": {},
   "outputs": [
    {
     "name": "stderr",
     "output_type": "stream",
     "text": [
      "                                                               \r"
     ]
    }
   ],
   "source": [
    "scores_test = helper_functions.score_models(\n",
    "    model_paths, df_test['text'], df_test['label'], label_list\n",
    ")"
   ]
  },
  {
   "cell_type": "code",
   "execution_count": 13,
   "metadata": {},
   "outputs": [
    {
     "name": "stderr",
     "output_type": "stream",
     "text": [
      "                                                               \r"
     ]
    }
   ],
   "source": [
    "scores_unlabel = helper_functions.score_models(\n",
    "    model_paths, df_unlabeled['text'], df_unlabeled['label'], label_list\n",
    ")"
   ]
  },
  {
   "cell_type": "code",
   "execution_count": 14,
   "metadata": {},
   "outputs": [
    {
     "name": "stderr",
     "output_type": "stream",
     "text": [
      "                                                               \r"
     ]
    },
    {
     "data": {
      "text/plain": [
       "0.9596"
      ]
     },
     "execution_count": 14,
     "metadata": {},
     "output_type": "execute_result"
    }
   ],
   "source": [
    "unlabeled_probabilities_1 = helper_functions.ensemble_predict(model_paths, scores_test, df_unlabeled['text'])\n",
    "acc_1 = helper_functions.score_predictions(df_unlabeled['label'], unlabeled_probabilities_1, label_list)\n",
    "acc_1"
   ]
  },
  {
   "cell_type": "code",
   "execution_count": 15,
   "metadata": {},
   "outputs": [
    {
     "name": "stderr",
     "output_type": "stream",
     "text": [
      "                                                               \r"
     ]
    },
    {
     "data": {
      "text/plain": [
       "0.9595"
      ]
     },
     "execution_count": 15,
     "metadata": {},
     "output_type": "execute_result"
    }
   ],
   "source": [
    "unlabeled_probabilities_2 = helper_functions.ensemble_predict(model_paths, scores_unlabel, df_unlabeled['text'])\n",
    "acc_2 = helper_functions.score_predictions(df_unlabeled['label'], unlabeled_probabilities_2, label_list)\n",
    "acc_2"
   ]
  }
 ],
 "metadata": {
  "kernelspec": {
   "display_name": "PY39_",
   "language": "python",
   "name": "python3"
  },
  "language_info": {
   "codemirror_mode": {
    "name": "ipython",
    "version": 3
   },
   "file_extension": ".py",
   "mimetype": "text/x-python",
   "name": "python",
   "nbconvert_exporter": "python",
   "pygments_lexer": "ipython3",
   "version": "3.9.16"
  },
  "orig_nbformat": 4
 },
 "nbformat": 4,
 "nbformat_minor": 2
}
