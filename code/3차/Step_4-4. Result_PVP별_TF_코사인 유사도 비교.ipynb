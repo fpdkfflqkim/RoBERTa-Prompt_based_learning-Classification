{
 "cells": [
  {
   "cell_type": "markdown",
   "metadata": {},
   "source": [
    "틀린 것 비교"
   ]
  },
  {
   "cell_type": "code",
   "execution_count": 1,
   "metadata": {},
   "outputs": [],
   "source": [
    "import numpy as np\n",
    "import pandas as pd\n",
    "from sklearn.metrics.pairwise import cosine_similarity"
   ]
  },
  {
   "cell_type": "markdown",
   "metadata": {},
   "source": [
    "데이터 불러오기"
   ]
  },
  {
   "cell_type": "code",
   "execution_count": 2,
   "metadata": {},
   "outputs": [],
   "source": [
    "PVP0_array = np.load('C:/Users/user/Desktop/논문리뷰/Pattern-Exploiting-Training(PET)/code/testPET - 복사본/data3/labeling/hard_label/hard_label_PVP0.npy')\n",
    "PVP1_array = np.load('C:/Users/user/Desktop/논문리뷰/Pattern-Exploiting-Training(PET)/code/testPET - 복사본/data3/labeling/hard_label/hard_label_PVP1.npy')\n",
    "PVP2_array = np.load('C:/Users/user/Desktop/논문리뷰/Pattern-Exploiting-Training(PET)/code/testPET - 복사본/data3/labeling/hard_label/hard_label_PVP2.npy')\n",
    "PVP3_array = np.load('C:/Users/user/Desktop/논문리뷰/Pattern-Exploiting-Training(PET)/code/testPET - 복사본/data3/labeling/hard_label/hard_label_PVP3.npy')\n",
    "PVP4_array = np.load('C:/Users/user/Desktop/논문리뷰/Pattern-Exploiting-Training(PET)/code/testPET - 복사본/data3/labeling/hard_label/hard_label_PVP4.npy')\n",
    "PVP5_array = np.load('C:/Users/user/Desktop/논문리뷰/Pattern-Exploiting-Training(PET)/code/testPET - 복사본/data3/labeling/hard_label/hard_label_PVP5.npy')\n",
    "PVP6_array = np.load('C:/Users/user/Desktop/논문리뷰/Pattern-Exploiting-Training(PET)/code/testPET - 복사본/data3/labeling/hard_label/hard_label_PVP6.npy')\n",
    "PVP7_array = np.load('C:/Users/user/Desktop/논문리뷰/Pattern-Exploiting-Training(PET)/code/testPET - 복사본/data3/labeling/hard_label/hard_label_PVP7.npy')\n",
    "PVP8_array = np.load('C:/Users/user/Desktop/논문리뷰/Pattern-Exploiting-Training(PET)/code/testPET - 복사본/data3/labeling/hard_label/hard_label_PVP8.npy')\n",
    "PVP9_array = np.load('C:/Users/user/Desktop/논문리뷰/Pattern-Exploiting-Training(PET)/code/testPET - 복사본/data3/labeling/hard_label/hard_label_PVP9.npy')"
   ]
  },
  {
   "cell_type": "code",
   "execution_count": 3,
   "metadata": {},
   "outputs": [
    {
     "data": {
      "text/plain": [
       "array([1, 2, 1, ..., 1, 1, 2], dtype=int64)"
      ]
     },
     "execution_count": 3,
     "metadata": {},
     "output_type": "execute_result"
    }
   ],
   "source": [
    "PVP0_array"
   ]
  },
  {
   "cell_type": "code",
   "execution_count": 4,
   "metadata": {},
   "outputs": [],
   "source": [
    "PVP0_array = np.where(PVP0_array == 1, 0, np.where(PVP0_array == 2, 1, PVP0_array))\n",
    "PVP1_array = np.where(PVP1_array == 1, 0, np.where(PVP1_array == 2, 1, PVP1_array))\n",
    "PVP2_array = np.where(PVP2_array == 1, 0, np.where(PVP2_array == 2, 1, PVP2_array))\n",
    "PVP3_array = np.where(PVP3_array == 1, 0, np.where(PVP3_array == 2, 1, PVP3_array))\n",
    "PVP4_array = np.where(PVP4_array == 1, 0, np.where(PVP4_array == 2, 1, PVP4_array))\n",
    "PVP5_array = np.where(PVP5_array == 1, 0, np.where(PVP5_array == 2, 1, PVP5_array))\n",
    "PVP6_array = np.where(PVP6_array == 1, 0, np.where(PVP6_array == 2, 1, PVP6_array))\n",
    "PVP7_array = np.where(PVP7_array == 1, 0, np.where(PVP7_array == 2, 1, PVP7_array))\n",
    "PVP8_array = np.where(PVP8_array == 1, 0, np.where(PVP8_array == 2, 1, PVP8_array))\n",
    "PVP9_array = np.where(PVP9_array == 1, 0, np.where(PVP9_array == 2, 1, PVP9_array))"
   ]
  },
  {
   "cell_type": "code",
   "execution_count": 5,
   "metadata": {},
   "outputs": [
    {
     "data": {
      "text/plain": [
       "array([0, 1, 0, ..., 0, 0, 1], dtype=int64)"
      ]
     },
     "execution_count": 5,
     "metadata": {},
     "output_type": "execute_result"
    }
   ],
   "source": [
    "PVP0_array"
   ]
  },
  {
   "cell_type": "code",
   "execution_count": 6,
   "metadata": {},
   "outputs": [],
   "source": [
    "df_unlabeled = pd.read_csv(\"C:/Users/user/Desktop/논문리뷰/Pattern-Exploiting-Training(PET)/code/testPET - 복사본/data3/df_unlabeled.csv\")"
   ]
  },
  {
   "cell_type": "code",
   "execution_count": 7,
   "metadata": {},
   "outputs": [],
   "source": [
    "unlabel_array = np.array(df_unlabeled[\"label\"])"
   ]
  },
  {
   "cell_type": "code",
   "execution_count": 8,
   "metadata": {},
   "outputs": [],
   "source": [
    "unlabel_array= np.where(unlabel_array == 1, 0, np.where(unlabel_array == 2, 1, unlabel_array))"
   ]
  },
  {
   "cell_type": "code",
   "execution_count": 10,
   "metadata": {},
   "outputs": [],
   "source": [
    "PVP0_tf_array = (unlabel_array == PVP0_array).astype(int)\n",
    "PVP1_tf_array = (unlabel_array == PVP1_array).astype(int)\n",
    "PVP2_tf_array = (unlabel_array == PVP2_array).astype(int)\n",
    "PVP3_tf_array = (unlabel_array == PVP3_array).astype(int)\n",
    "PVP4_tf_array = (unlabel_array == PVP4_array).astype(int)\n",
    "PVP5_tf_array = (unlabel_array == PVP5_array).astype(int)\n",
    "PVP6_tf_array = (unlabel_array == PVP6_array).astype(int)\n",
    "PVP7_tf_array = (unlabel_array == PVP7_array).astype(int)\n",
    "PVP8_tf_array = (unlabel_array == PVP8_array).astype(int)\n",
    "PVP9_tf_array = (unlabel_array == PVP9_array).astype(int)"
   ]
  },
  {
   "cell_type": "markdown",
   "metadata": {},
   "source": [
    "하나의 array로 만들기"
   ]
  },
  {
   "cell_type": "code",
   "execution_count": 11,
   "metadata": {},
   "outputs": [],
   "source": [
    "all_array = np.array([PVP0_tf_array,\n",
    "                      PVP1_tf_array,\n",
    "                      PVP2_tf_array,\n",
    "                      PVP3_tf_array,\n",
    "                      PVP4_tf_array,\n",
    "                      PVP5_tf_array,\n",
    "                      PVP6_tf_array,\n",
    "                      PVP7_tf_array,\n",
    "                      PVP8_tf_array,\n",
    "                      PVP9_tf_array])"
   ]
  },
  {
   "cell_type": "code",
   "execution_count": 12,
   "metadata": {},
   "outputs": [],
   "source": [
    "cosine_sim = cosine_similarity(all_array)\n"
   ]
  },
  {
   "cell_type": "code",
   "execution_count": 14,
   "metadata": {},
   "outputs": [],
   "source": [
    "all_index = ['PVP0',\n",
    "           'PVP1',\n",
    "           'PVP2',\n",
    "           'PVP3',\n",
    "           'PVP4',\n",
    "           'PVP5',\n",
    "           'PVP6',\n",
    "           'PVP7',\n",
    "           'PVP8',\n",
    "           'PVP9']"
   ]
  },
  {
   "cell_type": "code",
   "execution_count": 15,
   "metadata": {},
   "outputs": [],
   "source": [
    "df_all_vectors = pd.DataFrame(cosine_sim, columns=all_index)"
   ]
  },
  {
   "cell_type": "code",
   "execution_count": 16,
   "metadata": {},
   "outputs": [],
   "source": [
    "df_all_vectors = df_all_vectors.set_index(pd.Index(all_index))"
   ]
  },
  {
   "cell_type": "code",
   "execution_count": 17,
   "metadata": {},
   "outputs": [
    {
     "data": {
      "text/html": [
       "<div>\n",
       "<style scoped>\n",
       "    .dataframe tbody tr th:only-of-type {\n",
       "        vertical-align: middle;\n",
       "    }\n",
       "\n",
       "    .dataframe tbody tr th {\n",
       "        vertical-align: top;\n",
       "    }\n",
       "\n",
       "    .dataframe thead th {\n",
       "        text-align: right;\n",
       "    }\n",
       "</style>\n",
       "<table border=\"1\" class=\"dataframe\">\n",
       "  <thead>\n",
       "    <tr style=\"text-align: right;\">\n",
       "      <th></th>\n",
       "      <th>PVP0</th>\n",
       "      <th>PVP1</th>\n",
       "      <th>PVP2</th>\n",
       "      <th>PVP3</th>\n",
       "      <th>PVP4</th>\n",
       "      <th>PVP5</th>\n",
       "      <th>PVP6</th>\n",
       "      <th>PVP7</th>\n",
       "      <th>PVP8</th>\n",
       "      <th>PVP9</th>\n",
       "    </tr>\n",
       "  </thead>\n",
       "  <tbody>\n",
       "    <tr>\n",
       "      <th>PVP0</th>\n",
       "      <td>1.000000</td>\n",
       "      <td>0.946735</td>\n",
       "      <td>0.915423</td>\n",
       "      <td>0.935657</td>\n",
       "      <td>0.950233</td>\n",
       "      <td>0.947909</td>\n",
       "      <td>0.930874</td>\n",
       "      <td>0.893262</td>\n",
       "      <td>0.632063</td>\n",
       "      <td>0.920108</td>\n",
       "    </tr>\n",
       "    <tr>\n",
       "      <th>PVP1</th>\n",
       "      <td>0.946735</td>\n",
       "      <td>1.000000</td>\n",
       "      <td>0.942173</td>\n",
       "      <td>0.964919</td>\n",
       "      <td>0.971090</td>\n",
       "      <td>0.974093</td>\n",
       "      <td>0.963045</td>\n",
       "      <td>0.907117</td>\n",
       "      <td>0.678017</td>\n",
       "      <td>0.927861</td>\n",
       "    </tr>\n",
       "    <tr>\n",
       "      <th>PVP2</th>\n",
       "      <td>0.915423</td>\n",
       "      <td>0.942173</td>\n",
       "      <td>1.000000</td>\n",
       "      <td>0.973918</td>\n",
       "      <td>0.948908</td>\n",
       "      <td>0.961107</td>\n",
       "      <td>0.947763</td>\n",
       "      <td>0.864022</td>\n",
       "      <td>0.753618</td>\n",
       "      <td>0.898482</td>\n",
       "    </tr>\n",
       "    <tr>\n",
       "      <th>PVP3</th>\n",
       "      <td>0.935657</td>\n",
       "      <td>0.964919</td>\n",
       "      <td>0.973918</td>\n",
       "      <td>1.000000</td>\n",
       "      <td>0.968103</td>\n",
       "      <td>0.980598</td>\n",
       "      <td>0.963478</td>\n",
       "      <td>0.889559</td>\n",
       "      <td>0.732243</td>\n",
       "      <td>0.918566</td>\n",
       "    </tr>\n",
       "    <tr>\n",
       "      <th>PVP4</th>\n",
       "      <td>0.950233</td>\n",
       "      <td>0.971090</td>\n",
       "      <td>0.948908</td>\n",
       "      <td>0.968103</td>\n",
       "      <td>1.000000</td>\n",
       "      <td>0.980672</td>\n",
       "      <td>0.960873</td>\n",
       "      <td>0.907549</td>\n",
       "      <td>0.690937</td>\n",
       "      <td>0.933197</td>\n",
       "    </tr>\n",
       "    <tr>\n",
       "      <th>PVP5</th>\n",
       "      <td>0.947909</td>\n",
       "      <td>0.974093</td>\n",
       "      <td>0.961107</td>\n",
       "      <td>0.980598</td>\n",
       "      <td>0.980672</td>\n",
       "      <td>1.000000</td>\n",
       "      <td>0.965282</td>\n",
       "      <td>0.903992</td>\n",
       "      <td>0.711840</td>\n",
       "      <td>0.929264</td>\n",
       "    </tr>\n",
       "    <tr>\n",
       "      <th>PVP6</th>\n",
       "      <td>0.930874</td>\n",
       "      <td>0.963045</td>\n",
       "      <td>0.947763</td>\n",
       "      <td>0.963478</td>\n",
       "      <td>0.960873</td>\n",
       "      <td>0.965282</td>\n",
       "      <td>1.000000</td>\n",
       "      <td>0.904420</td>\n",
       "      <td>0.692482</td>\n",
       "      <td>0.925642</td>\n",
       "    </tr>\n",
       "    <tr>\n",
       "      <th>PVP7</th>\n",
       "      <td>0.893262</td>\n",
       "      <td>0.907117</td>\n",
       "      <td>0.864022</td>\n",
       "      <td>0.889559</td>\n",
       "      <td>0.907549</td>\n",
       "      <td>0.903992</td>\n",
       "      <td>0.904420</td>\n",
       "      <td>1.000000</td>\n",
       "      <td>0.532557</td>\n",
       "      <td>0.905043</td>\n",
       "    </tr>\n",
       "    <tr>\n",
       "      <th>PVP8</th>\n",
       "      <td>0.632063</td>\n",
       "      <td>0.678017</td>\n",
       "      <td>0.753618</td>\n",
       "      <td>0.732243</td>\n",
       "      <td>0.690937</td>\n",
       "      <td>0.711840</td>\n",
       "      <td>0.692482</td>\n",
       "      <td>0.532557</td>\n",
       "      <td>1.000000</td>\n",
       "      <td>0.599168</td>\n",
       "    </tr>\n",
       "    <tr>\n",
       "      <th>PVP9</th>\n",
       "      <td>0.920108</td>\n",
       "      <td>0.927861</td>\n",
       "      <td>0.898482</td>\n",
       "      <td>0.918566</td>\n",
       "      <td>0.933197</td>\n",
       "      <td>0.929264</td>\n",
       "      <td>0.925642</td>\n",
       "      <td>0.905043</td>\n",
       "      <td>0.599168</td>\n",
       "      <td>1.000000</td>\n",
       "    </tr>\n",
       "  </tbody>\n",
       "</table>\n",
       "</div>"
      ],
      "text/plain": [
       "          PVP0      PVP1      PVP2      PVP3      PVP4      PVP5      PVP6  \\\n",
       "PVP0  1.000000  0.946735  0.915423  0.935657  0.950233  0.947909  0.930874   \n",
       "PVP1  0.946735  1.000000  0.942173  0.964919  0.971090  0.974093  0.963045   \n",
       "PVP2  0.915423  0.942173  1.000000  0.973918  0.948908  0.961107  0.947763   \n",
       "PVP3  0.935657  0.964919  0.973918  1.000000  0.968103  0.980598  0.963478   \n",
       "PVP4  0.950233  0.971090  0.948908  0.968103  1.000000  0.980672  0.960873   \n",
       "PVP5  0.947909  0.974093  0.961107  0.980598  0.980672  1.000000  0.965282   \n",
       "PVP6  0.930874  0.963045  0.947763  0.963478  0.960873  0.965282  1.000000   \n",
       "PVP7  0.893262  0.907117  0.864022  0.889559  0.907549  0.903992  0.904420   \n",
       "PVP8  0.632063  0.678017  0.753618  0.732243  0.690937  0.711840  0.692482   \n",
       "PVP9  0.920108  0.927861  0.898482  0.918566  0.933197  0.929264  0.925642   \n",
       "\n",
       "          PVP7      PVP8      PVP9  \n",
       "PVP0  0.893262  0.632063  0.920108  \n",
       "PVP1  0.907117  0.678017  0.927861  \n",
       "PVP2  0.864022  0.753618  0.898482  \n",
       "PVP3  0.889559  0.732243  0.918566  \n",
       "PVP4  0.907549  0.690937  0.933197  \n",
       "PVP5  0.903992  0.711840  0.929264  \n",
       "PVP6  0.904420  0.692482  0.925642  \n",
       "PVP7  1.000000  0.532557  0.905043  \n",
       "PVP8  0.532557  1.000000  0.599168  \n",
       "PVP9  0.905043  0.599168  1.000000  "
      ]
     },
     "execution_count": 17,
     "metadata": {},
     "output_type": "execute_result"
    }
   ],
   "source": [
    "df_all_vectors"
   ]
  },
  {
   "cell_type": "code",
   "execution_count": 18,
   "metadata": {},
   "outputs": [],
   "source": [
    "all_vectors_writer = pd.ExcelWriter('C:/Users/user/Desktop/논문리뷰/Pattern-Exploiting-Training(PET)/code/testPET - 복사본/data3/result/all_vectors_TF.xlsx', engine='xlsxwriter')"
   ]
  },
  {
   "cell_type": "code",
   "execution_count": 19,
   "metadata": {},
   "outputs": [],
   "source": [
    "df_all_vectors.to_excel(all_vectors_writer, sheet_name='TF_vectors', index=True)"
   ]
  },
  {
   "cell_type": "code",
   "execution_count": 20,
   "metadata": {},
   "outputs": [
    {
     "name": "stderr",
     "output_type": "stream",
     "text": [
      "C:\\Users\\user\\AppData\\Local\\Temp\\ipykernel_5128\\1541263730.py:1: FutureWarning: save is not part of the public API, usage can give unexpected results and will be removed in a future version\n",
      "  all_vectors_writer.save()\n"
     ]
    }
   ],
   "source": [
    "all_vectors_writer.save()"
   ]
  }
 ],
 "metadata": {
  "kernelspec": {
   "display_name": "PY39_",
   "language": "python",
   "name": "python3"
  },
  "language_info": {
   "codemirror_mode": {
    "name": "ipython",
    "version": 3
   },
   "file_extension": ".py",
   "mimetype": "text/x-python",
   "name": "python",
   "nbconvert_exporter": "python",
   "pygments_lexer": "ipython3",
   "version": "3.9.16"
  },
  "orig_nbformat": 4
 },
 "nbformat": 4,
 "nbformat_minor": 2
}
