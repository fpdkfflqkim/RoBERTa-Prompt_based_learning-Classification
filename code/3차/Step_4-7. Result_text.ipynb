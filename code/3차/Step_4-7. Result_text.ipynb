{
 "cells": [
  {
   "cell_type": "markdown",
   "metadata": {},
   "source": [
    "틀린 것 비교"
   ]
  },
  {
   "cell_type": "code",
   "execution_count": 3,
   "metadata": {},
   "outputs": [],
   "source": [
    "import numpy as np\n",
    "import pandas as pd"
   ]
  },
  {
   "cell_type": "markdown",
   "metadata": {},
   "source": [
    "데이터 불러오기"
   ]
  },
  {
   "cell_type": "code",
   "execution_count": 4,
   "metadata": {},
   "outputs": [],
   "source": [
    "random1_array = np.load('C:/Users/user/Desktop/논문리뷰/Pattern-Exploiting-Training(PET)/code/testPET - 복사본/data3/labeling/hard_label/hard_label_random1.npy')\n",
    "random2_array = np.load('C:/Users/user/Desktop/논문리뷰/Pattern-Exploiting-Training(PET)/code/testPET - 복사본/data3/labeling/hard_label/hard_label_random2.npy')\n",
    "random3_array = np.load('C:/Users/user/Desktop/논문리뷰/Pattern-Exploiting-Training(PET)/code/testPET - 복사본/data3/labeling/hard_label/hard_label_random3.npy')\n",
    "cosine_array = np.load('C:/Users/user/Desktop/논문리뷰/Pattern-Exploiting-Training(PET)/code/testPET - 복사본/data3/labeling/hard_label/hard_label_cosine.npy')"
   ]
  },
  {
   "cell_type": "code",
   "execution_count": 5,
   "metadata": {},
   "outputs": [
    {
     "data": {
      "text/plain": [
       "array([0, 1, 0, ..., 0, 1, 1], dtype=int64)"
      ]
     },
     "execution_count": 5,
     "metadata": {},
     "output_type": "execute_result"
    }
   ],
   "source": [
    "random1_array"
   ]
  },
  {
   "cell_type": "code",
   "execution_count": 6,
   "metadata": {},
   "outputs": [],
   "source": [
    "random1_array = np.where(random1_array == 0, 1, np.where(random1_array == 1, 2, random1_array))\n",
    "random2_array = np.where(random2_array == 0, 1, np.where(random2_array == 1, 2, random2_array))\n",
    "random3_array = np.where(random3_array == 0, 1, np.where(random3_array == 1, 2, random3_array))\n",
    "cosine_array = np.where(cosine_array == 0, 1, np.where(cosine_array == 1, 2, cosine_array))"
   ]
  },
  {
   "cell_type": "code",
   "execution_count": 7,
   "metadata": {},
   "outputs": [
    {
     "data": {
      "text/plain": [
       "array([1, 2, 1, ..., 1, 2, 2], dtype=int64)"
      ]
     },
     "execution_count": 7,
     "metadata": {},
     "output_type": "execute_result"
    }
   ],
   "source": [
    "random1_array"
   ]
  },
  {
   "cell_type": "markdown",
   "metadata": {},
   "source": [
    "unlabeled dataframe"
   ]
  },
  {
   "cell_type": "code",
   "execution_count": 8,
   "metadata": {},
   "outputs": [],
   "source": [
    "df_unlabeled = pd.read_csv(\"C:/Users/user/Desktop/논문리뷰/Pattern-Exploiting-Training(PET)/code/testPET - 복사본/data3/df_unlabeled.csv\")"
   ]
  },
  {
   "cell_type": "code",
   "execution_count": 9,
   "metadata": {},
   "outputs": [
    {
     "data": {
      "text/html": [
       "<div>\n",
       "<style scoped>\n",
       "    .dataframe tbody tr th:only-of-type {\n",
       "        vertical-align: middle;\n",
       "    }\n",
       "\n",
       "    .dataframe tbody tr th {\n",
       "        vertical-align: top;\n",
       "    }\n",
       "\n",
       "    .dataframe thead th {\n",
       "        text-align: right;\n",
       "    }\n",
       "</style>\n",
       "<table border=\"1\" class=\"dataframe\">\n",
       "  <thead>\n",
       "    <tr style=\"text-align: right;\">\n",
       "      <th></th>\n",
       "      <th>text</th>\n",
       "      <th>label</th>\n",
       "    </tr>\n",
       "  </thead>\n",
       "  <tbody>\n",
       "    <tr>\n",
       "      <th>0</th>\n",
       "      <td>Bagels are average at best, very stingy here. ...</td>\n",
       "      <td>1</td>\n",
       "    </tr>\n",
       "    <tr>\n",
       "      <th>1</th>\n",
       "      <td>The atmosphere is nice and intimate. Our serve...</td>\n",
       "      <td>2</td>\n",
       "    </tr>\n",
       "    <tr>\n",
       "      <th>2</th>\n",
       "      <td>Stayed 3 nights at the Grand and it was an abs...</td>\n",
       "      <td>1</td>\n",
       "    </tr>\n",
       "    <tr>\n",
       "      <th>3</th>\n",
       "      <td>Looking at past reviews, it appears there has ...</td>\n",
       "      <td>2</td>\n",
       "    </tr>\n",
       "    <tr>\n",
       "      <th>4</th>\n",
       "      <td>Apparently there are 7 Beauty Bars? This is th...</td>\n",
       "      <td>2</td>\n",
       "    </tr>\n",
       "    <tr>\n",
       "      <th>...</th>\n",
       "      <td>...</td>\n",
       "      <td>...</td>\n",
       "    </tr>\n",
       "    <tr>\n",
       "      <th>9995</th>\n",
       "      <td>Recently I have been shopping at Sprouts and I...</td>\n",
       "      <td>1</td>\n",
       "    </tr>\n",
       "    <tr>\n",
       "      <th>9996</th>\n",
       "      <td>I've been here twice for dinner and once for t...</td>\n",
       "      <td>2</td>\n",
       "    </tr>\n",
       "    <tr>\n",
       "      <th>9997</th>\n",
       "      <td>I'm giving Chipotle a 2 only to differentiate ...</td>\n",
       "      <td>1</td>\n",
       "    </tr>\n",
       "    <tr>\n",
       "      <th>9998</th>\n",
       "      <td>Went here a couple times liked the homemade le...</td>\n",
       "      <td>2</td>\n",
       "    </tr>\n",
       "    <tr>\n",
       "      <th>9999</th>\n",
       "      <td>This review is for their bakery. We have order...</td>\n",
       "      <td>2</td>\n",
       "    </tr>\n",
       "  </tbody>\n",
       "</table>\n",
       "<p>10000 rows × 2 columns</p>\n",
       "</div>"
      ],
      "text/plain": [
       "                                                   text  label\n",
       "0     Bagels are average at best, very stingy here. ...      1\n",
       "1     The atmosphere is nice and intimate. Our serve...      2\n",
       "2     Stayed 3 nights at the Grand and it was an abs...      1\n",
       "3     Looking at past reviews, it appears there has ...      2\n",
       "4     Apparently there are 7 Beauty Bars? This is th...      2\n",
       "...                                                 ...    ...\n",
       "9995  Recently I have been shopping at Sprouts and I...      1\n",
       "9996  I've been here twice for dinner and once for t...      2\n",
       "9997  I'm giving Chipotle a 2 only to differentiate ...      1\n",
       "9998  Went here a couple times liked the homemade le...      2\n",
       "9999  This review is for their bakery. We have order...      2\n",
       "\n",
       "[10000 rows x 2 columns]"
      ]
     },
     "execution_count": 9,
     "metadata": {},
     "output_type": "execute_result"
    }
   ],
   "source": [
    "df_unlabeled"
   ]
  },
  {
   "cell_type": "markdown",
   "metadata": {},
   "source": [
    "새로운 열로 추가"
   ]
  },
  {
   "cell_type": "code",
   "execution_count": 10,
   "metadata": {},
   "outputs": [],
   "source": [
    "df_unlabeled[\"random1_label\"] = random1_array\n",
    "df_unlabeled[\"random2_label\"] = random2_array\n",
    "df_unlabeled[\"random3_label\"] = random3_array\n",
    "df_unlabeled[\"cosine_label\"] = cosine_array"
   ]
  },
  {
   "cell_type": "code",
   "execution_count": 11,
   "metadata": {},
   "outputs": [
    {
     "data": {
      "text/html": [
       "<div>\n",
       "<style scoped>\n",
       "    .dataframe tbody tr th:only-of-type {\n",
       "        vertical-align: middle;\n",
       "    }\n",
       "\n",
       "    .dataframe tbody tr th {\n",
       "        vertical-align: top;\n",
       "    }\n",
       "\n",
       "    .dataframe thead th {\n",
       "        text-align: right;\n",
       "    }\n",
       "</style>\n",
       "<table border=\"1\" class=\"dataframe\">\n",
       "  <thead>\n",
       "    <tr style=\"text-align: right;\">\n",
       "      <th></th>\n",
       "      <th>text</th>\n",
       "      <th>label</th>\n",
       "      <th>random1_label</th>\n",
       "      <th>random2_label</th>\n",
       "      <th>random3_label</th>\n",
       "      <th>cosine_label</th>\n",
       "    </tr>\n",
       "  </thead>\n",
       "  <tbody>\n",
       "    <tr>\n",
       "      <th>0</th>\n",
       "      <td>Bagels are average at best, very stingy here. ...</td>\n",
       "      <td>1</td>\n",
       "      <td>1</td>\n",
       "      <td>1</td>\n",
       "      <td>1</td>\n",
       "      <td>1</td>\n",
       "    </tr>\n",
       "    <tr>\n",
       "      <th>1</th>\n",
       "      <td>The atmosphere is nice and intimate. Our serve...</td>\n",
       "      <td>2</td>\n",
       "      <td>2</td>\n",
       "      <td>2</td>\n",
       "      <td>2</td>\n",
       "      <td>2</td>\n",
       "    </tr>\n",
       "    <tr>\n",
       "      <th>2</th>\n",
       "      <td>Stayed 3 nights at the Grand and it was an abs...</td>\n",
       "      <td>1</td>\n",
       "      <td>1</td>\n",
       "      <td>1</td>\n",
       "      <td>1</td>\n",
       "      <td>1</td>\n",
       "    </tr>\n",
       "    <tr>\n",
       "      <th>3</th>\n",
       "      <td>Looking at past reviews, it appears there has ...</td>\n",
       "      <td>2</td>\n",
       "      <td>2</td>\n",
       "      <td>2</td>\n",
       "      <td>2</td>\n",
       "      <td>2</td>\n",
       "    </tr>\n",
       "    <tr>\n",
       "      <th>4</th>\n",
       "      <td>Apparently there are 7 Beauty Bars? This is th...</td>\n",
       "      <td>2</td>\n",
       "      <td>1</td>\n",
       "      <td>1</td>\n",
       "      <td>1</td>\n",
       "      <td>1</td>\n",
       "    </tr>\n",
       "    <tr>\n",
       "      <th>...</th>\n",
       "      <td>...</td>\n",
       "      <td>...</td>\n",
       "      <td>...</td>\n",
       "      <td>...</td>\n",
       "      <td>...</td>\n",
       "      <td>...</td>\n",
       "    </tr>\n",
       "    <tr>\n",
       "      <th>9995</th>\n",
       "      <td>Recently I have been shopping at Sprouts and I...</td>\n",
       "      <td>1</td>\n",
       "      <td>2</td>\n",
       "      <td>1</td>\n",
       "      <td>1</td>\n",
       "      <td>1</td>\n",
       "    </tr>\n",
       "    <tr>\n",
       "      <th>9996</th>\n",
       "      <td>I've been here twice for dinner and once for t...</td>\n",
       "      <td>2</td>\n",
       "      <td>2</td>\n",
       "      <td>1</td>\n",
       "      <td>2</td>\n",
       "      <td>2</td>\n",
       "    </tr>\n",
       "    <tr>\n",
       "      <th>9997</th>\n",
       "      <td>I'm giving Chipotle a 2 only to differentiate ...</td>\n",
       "      <td>1</td>\n",
       "      <td>1</td>\n",
       "      <td>1</td>\n",
       "      <td>1</td>\n",
       "      <td>1</td>\n",
       "    </tr>\n",
       "    <tr>\n",
       "      <th>9998</th>\n",
       "      <td>Went here a couple times liked the homemade le...</td>\n",
       "      <td>2</td>\n",
       "      <td>2</td>\n",
       "      <td>2</td>\n",
       "      <td>2</td>\n",
       "      <td>2</td>\n",
       "    </tr>\n",
       "    <tr>\n",
       "      <th>9999</th>\n",
       "      <td>This review is for their bakery. We have order...</td>\n",
       "      <td>2</td>\n",
       "      <td>2</td>\n",
       "      <td>2</td>\n",
       "      <td>2</td>\n",
       "      <td>2</td>\n",
       "    </tr>\n",
       "  </tbody>\n",
       "</table>\n",
       "<p>10000 rows × 6 columns</p>\n",
       "</div>"
      ],
      "text/plain": [
       "                                                   text  label  random1_label  \\\n",
       "0     Bagels are average at best, very stingy here. ...      1              1   \n",
       "1     The atmosphere is nice and intimate. Our serve...      2              2   \n",
       "2     Stayed 3 nights at the Grand and it was an abs...      1              1   \n",
       "3     Looking at past reviews, it appears there has ...      2              2   \n",
       "4     Apparently there are 7 Beauty Bars? This is th...      2              1   \n",
       "...                                                 ...    ...            ...   \n",
       "9995  Recently I have been shopping at Sprouts and I...      1              2   \n",
       "9996  I've been here twice for dinner and once for t...      2              2   \n",
       "9997  I'm giving Chipotle a 2 only to differentiate ...      1              1   \n",
       "9998  Went here a couple times liked the homemade le...      2              2   \n",
       "9999  This review is for their bakery. We have order...      2              2   \n",
       "\n",
       "      random2_label  random3_label  cosine_label  \n",
       "0                 1              1             1  \n",
       "1                 2              2             2  \n",
       "2                 1              1             1  \n",
       "3                 2              2             2  \n",
       "4                 1              1             1  \n",
       "...             ...            ...           ...  \n",
       "9995              1              1             1  \n",
       "9996              1              2             2  \n",
       "9997              1              1             1  \n",
       "9998              2              2             2  \n",
       "9999              2              2             2  \n",
       "\n",
       "[10000 rows x 6 columns]"
      ]
     },
     "execution_count": 11,
     "metadata": {},
     "output_type": "execute_result"
    }
   ],
   "source": [
    "df_unlabeled"
   ]
  },
  {
   "cell_type": "markdown",
   "metadata": {},
   "source": [
    "틀린 값 찾기_엑셀로 저장"
   ]
  },
  {
   "cell_type": "code",
   "execution_count": 12,
   "metadata": {},
   "outputs": [],
   "source": [
    "wrong_answer_random_1 = df_unlabeled.index[df_unlabeled['label'] != df_unlabeled['random1_label']]\n",
    "wrong_answer_random_2 = df_unlabeled.index[df_unlabeled['label'] != df_unlabeled['random2_label']]\n",
    "wrong_answer_random_3 = df_unlabeled.index[df_unlabeled['label'] != df_unlabeled['random3_label']]\n",
    "wrong_answer_cosine = df_unlabeled.index[df_unlabeled['label'] != df_unlabeled['cosine_label']]"
   ]
  },
  {
   "cell_type": "code",
   "execution_count": 13,
   "metadata": {},
   "outputs": [],
   "source": [
    "df_wrong_answer_random_1 = df_unlabeled.loc[wrong_answer_random_1]\n",
    "df_wrong_answer_random_2 = df_unlabeled.loc[wrong_answer_random_2]\n",
    "df_wrong_answer_random_3 = df_unlabeled.loc[wrong_answer_random_3]\n",
    "df_wrong_answer_cosine = df_unlabeled.loc[wrong_answer_cosine]"
   ]
  },
  {
   "cell_type": "code",
   "execution_count": 14,
   "metadata": {},
   "outputs": [],
   "source": [
    "wrong_answer_writer = pd.ExcelWriter('C:/Users/user/Desktop/논문리뷰/Pattern-Exploiting-Training(PET)/code/testPET - 복사본/data3/result/wrong_answers.xlsx', engine='xlsxwriter')"
   ]
  },
  {
   "cell_type": "code",
   "execution_count": 15,
   "metadata": {},
   "outputs": [],
   "source": [
    "df_wrong_answer_random_1.to_excel(wrong_answer_writer, sheet_name='random_1', index=True)\n",
    "df_wrong_answer_random_2.to_excel(wrong_answer_writer, sheet_name='random_2', index=True)\n",
    "df_wrong_answer_random_3.to_excel(wrong_answer_writer, sheet_name='random_3', index=True)\n",
    "df_wrong_answer_cosine.to_excel(wrong_answer_writer, sheet_name='cosine', index=True)"
   ]
  },
  {
   "cell_type": "code",
   "execution_count": 16,
   "metadata": {},
   "outputs": [
    {
     "name": "stderr",
     "output_type": "stream",
     "text": [
      "C:\\Users\\user\\AppData\\Local\\Temp\\ipykernel_13488\\772461091.py:1: FutureWarning: save is not part of the public API, usage can give unexpected results and will be removed in a future version\n",
      "  wrong_answer_writer.save()\n"
     ]
    }
   ],
   "source": [
    "wrong_answer_writer.save()"
   ]
  },
  {
   "cell_type": "markdown",
   "metadata": {},
   "source": [
    "유사도 기준으로 유사도는 맞았는데, 다른 기준은 틀린 값"
   ]
  },
  {
   "cell_type": "code",
   "execution_count": 17,
   "metadata": {},
   "outputs": [],
   "source": [
    "df_difference_random_1 = df_unlabeled.loc[(df_unlabeled['label'] == df_unlabeled['cosine_label']) & (df_unlabeled['label'] != df_unlabeled['random1_label']), ['text', 'label','cosine_label','random1_label']]\n",
    "df_difference_random_2 = df_unlabeled.loc[(df_unlabeled['label'] == df_unlabeled['cosine_label']) & (df_unlabeled['label'] != df_unlabeled['random2_label']), ['text', 'label','cosine_label','random2_label']]\n",
    "df_difference_random_3 = df_unlabeled.loc[(df_unlabeled['label'] == df_unlabeled['cosine_label']) & (df_unlabeled['label'] != df_unlabeled['random3_label']), ['text', 'label','cosine_label','random3_label']]"
   ]
  },
  {
   "cell_type": "code",
   "execution_count": 18,
   "metadata": {},
   "outputs": [],
   "source": [
    "different_answer_writer = pd.ExcelWriter('C:/Users/user/Desktop/논문리뷰/Pattern-Exploiting-Training(PET)/code/testPET - 복사본/data_2/result_df/different_answers.xlsx', engine='xlsxwriter')"
   ]
  },
  {
   "cell_type": "code",
   "execution_count": 19,
   "metadata": {},
   "outputs": [],
   "source": [
    "df_difference_random_1.to_excel(different_answer_writer, sheet_name='random_1', index=True)\n",
    "df_difference_random_2.to_excel(different_answer_writer, sheet_name='random_2', index=True)\n",
    "df_difference_random_3.to_excel(different_answer_writer, sheet_name='random_3', index=True)"
   ]
  },
  {
   "cell_type": "code",
   "execution_count": 20,
   "metadata": {},
   "outputs": [
    {
     "name": "stderr",
     "output_type": "stream",
     "text": [
      "C:\\Users\\user\\AppData\\Local\\Temp\\ipykernel_13488\\1482095935.py:1: FutureWarning: save is not part of the public API, usage can give unexpected results and will be removed in a future version\n",
      "  different_answer_writer.save()\n"
     ]
    }
   ],
   "source": [
    "different_answer_writer.save()"
   ]
  },
  {
   "cell_type": "markdown",
   "metadata": {},
   "source": [
    "# 유사도만 맞춘 값"
   ]
  },
  {
   "cell_type": "code",
   "execution_count": 21,
   "metadata": {},
   "outputs": [],
   "source": [
    "only_cosine = df_unlabeled.loc[(df_unlabeled['label'] == df_unlabeled['cosine_label']) &\n",
    "                               (df_unlabeled['label'] != df_unlabeled['random1_label']) &\n",
    "                               (df_unlabeled['label'] != df_unlabeled['random2_label']) &\n",
    "                               (df_unlabeled['label'] != df_unlabeled['random3_label']),\n",
    "                               ['text', 'label','cosine_label','random1_label', 'random2_label','random3_label']\n",
    "]"
   ]
  },
  {
   "cell_type": "code",
   "execution_count": 22,
   "metadata": {},
   "outputs": [
    {
     "data": {
      "text/html": [
       "<div>\n",
       "<style scoped>\n",
       "    .dataframe tbody tr th:only-of-type {\n",
       "        vertical-align: middle;\n",
       "    }\n",
       "\n",
       "    .dataframe tbody tr th {\n",
       "        vertical-align: top;\n",
       "    }\n",
       "\n",
       "    .dataframe thead th {\n",
       "        text-align: right;\n",
       "    }\n",
       "</style>\n",
       "<table border=\"1\" class=\"dataframe\">\n",
       "  <thead>\n",
       "    <tr style=\"text-align: right;\">\n",
       "      <th></th>\n",
       "      <th>text</th>\n",
       "      <th>label</th>\n",
       "      <th>cosine_label</th>\n",
       "      <th>random1_label</th>\n",
       "      <th>random2_label</th>\n",
       "      <th>random3_label</th>\n",
       "    </tr>\n",
       "  </thead>\n",
       "  <tbody>\n",
       "    <tr>\n",
       "      <th>779</th>\n",
       "      <td>There were some dishes on the menu that were g...</td>\n",
       "      <td>2</td>\n",
       "      <td>2</td>\n",
       "      <td>1</td>\n",
       "      <td>1</td>\n",
       "      <td>1</td>\n",
       "    </tr>\n",
       "    <tr>\n",
       "      <th>1348</th>\n",
       "      <td>This place was pretty good I got there version...</td>\n",
       "      <td>2</td>\n",
       "      <td>2</td>\n",
       "      <td>1</td>\n",
       "      <td>1</td>\n",
       "      <td>1</td>\n",
       "    </tr>\n",
       "    <tr>\n",
       "      <th>2970</th>\n",
       "      <td>We had the chicken burrito chimi style. Wasn't...</td>\n",
       "      <td>2</td>\n",
       "      <td>2</td>\n",
       "      <td>1</td>\n",
       "      <td>1</td>\n",
       "      <td>1</td>\n",
       "    </tr>\n",
       "    <tr>\n",
       "      <th>3508</th>\n",
       "      <td>Decent Thai place for lunch in downtown Phoeni...</td>\n",
       "      <td>2</td>\n",
       "      <td>2</td>\n",
       "      <td>1</td>\n",
       "      <td>1</td>\n",
       "      <td>1</td>\n",
       "    </tr>\n",
       "    <tr>\n",
       "      <th>4913</th>\n",
       "      <td>My family absolutely loves the pizza and wings...</td>\n",
       "      <td>2</td>\n",
       "      <td>2</td>\n",
       "      <td>1</td>\n",
       "      <td>1</td>\n",
       "      <td>1</td>\n",
       "    </tr>\n",
       "    <tr>\n",
       "      <th>5691</th>\n",
       "      <td>The hard rock is a decent place to stay. The r...</td>\n",
       "      <td>2</td>\n",
       "      <td>2</td>\n",
       "      <td>1</td>\n",
       "      <td>1</td>\n",
       "      <td>1</td>\n",
       "    </tr>\n",
       "    <tr>\n",
       "      <th>6171</th>\n",
       "      <td>Nice atmosphere, live music, If your a wine bu...</td>\n",
       "      <td>2</td>\n",
       "      <td>2</td>\n",
       "      <td>1</td>\n",
       "      <td>1</td>\n",
       "      <td>1</td>\n",
       "    </tr>\n",
       "    <tr>\n",
       "      <th>6458</th>\n",
       "      <td>Very clean. Nice room stayed in a junior suite...</td>\n",
       "      <td>2</td>\n",
       "      <td>2</td>\n",
       "      <td>1</td>\n",
       "      <td>1</td>\n",
       "      <td>1</td>\n",
       "    </tr>\n",
       "    <tr>\n",
       "      <th>9015</th>\n",
       "      <td>Considering the options in the food court at t...</td>\n",
       "      <td>2</td>\n",
       "      <td>2</td>\n",
       "      <td>1</td>\n",
       "      <td>1</td>\n",
       "      <td>1</td>\n",
       "    </tr>\n",
       "  </tbody>\n",
       "</table>\n",
       "</div>"
      ],
      "text/plain": [
       "                                                   text  label  cosine_label  \\\n",
       "779   There were some dishes on the menu that were g...      2             2   \n",
       "1348  This place was pretty good I got there version...      2             2   \n",
       "2970  We had the chicken burrito chimi style. Wasn't...      2             2   \n",
       "3508  Decent Thai place for lunch in downtown Phoeni...      2             2   \n",
       "4913  My family absolutely loves the pizza and wings...      2             2   \n",
       "5691  The hard rock is a decent place to stay. The r...      2             2   \n",
       "6171  Nice atmosphere, live music, If your a wine bu...      2             2   \n",
       "6458  Very clean. Nice room stayed in a junior suite...      2             2   \n",
       "9015  Considering the options in the food court at t...      2             2   \n",
       "\n",
       "      random1_label  random2_label  random3_label  \n",
       "779               1              1              1  \n",
       "1348              1              1              1  \n",
       "2970              1              1              1  \n",
       "3508              1              1              1  \n",
       "4913              1              1              1  \n",
       "5691              1              1              1  \n",
       "6171              1              1              1  \n",
       "6458              1              1              1  \n",
       "9015              1              1              1  "
      ]
     },
     "execution_count": 22,
     "metadata": {},
     "output_type": "execute_result"
    }
   ],
   "source": [
    "only_cosine"
   ]
  },
  {
   "cell_type": "code",
   "execution_count": 23,
   "metadata": {},
   "outputs": [],
   "source": [
    "only_cosine_writer = pd.ExcelWriter('C:/Users/user/Desktop/논문리뷰/Pattern-Exploiting-Training(PET)/code/testPET - 복사본/data3/result/only_cosine.xlsx', engine='xlsxwriter')"
   ]
  },
  {
   "cell_type": "code",
   "execution_count": 24,
   "metadata": {},
   "outputs": [],
   "source": [
    "only_cosine.to_excel(only_cosine_writer, sheet_name='only_cosine', index=True)"
   ]
  },
  {
   "cell_type": "code",
   "execution_count": 25,
   "metadata": {},
   "outputs": [
    {
     "name": "stderr",
     "output_type": "stream",
     "text": [
      "C:\\Users\\user\\AppData\\Local\\Temp\\ipykernel_13488\\3780706832.py:1: FutureWarning: save is not part of the public API, usage can give unexpected results and will be removed in a future version\n",
      "  only_cosine_writer.save()\n"
     ]
    }
   ],
   "source": [
    "only_cosine_writer.save()"
   ]
  },
  {
   "cell_type": "code",
   "execution_count": null,
   "metadata": {},
   "outputs": [],
   "source": []
  }
 ],
 "metadata": {
  "kernelspec": {
   "display_name": "PY39_",
   "language": "python",
   "name": "python3"
  },
  "language_info": {
   "codemirror_mode": {
    "name": "ipython",
    "version": 3
   },
   "file_extension": ".py",
   "mimetype": "text/x-python",
   "name": "python",
   "nbconvert_exporter": "python",
   "pygments_lexer": "ipython3",
   "version": "3.9.16"
  },
  "orig_nbformat": 4
 },
 "nbformat": 4,
 "nbformat_minor": 2
}
