{
 "cells": [
  {
   "cell_type": "markdown",
   "metadata": {},
   "source": [
    "틀린 것 비교"
   ]
  },
  {
   "cell_type": "code",
   "execution_count": 1,
   "metadata": {},
   "outputs": [],
   "source": [
    "import numpy as np\n",
    "import pandas as pd\n",
    "from sklearn.metrics import jaccard_score"
   ]
  },
  {
   "cell_type": "markdown",
   "metadata": {},
   "source": [
    "데이터 불러오기"
   ]
  },
  {
   "cell_type": "code",
   "execution_count": 2,
   "metadata": {},
   "outputs": [],
   "source": [
    "PVP0_array = np.load('C:/Users/user/Desktop/논문리뷰/Pattern-Exploiting-Training(PET)/code/testPET - 복사본/data3/labeling/hard_label/hard_label_PVP0.npy')\n",
    "PVP1_array = np.load('C:/Users/user/Desktop/논문리뷰/Pattern-Exploiting-Training(PET)/code/testPET - 복사본/data3/labeling/hard_label/hard_label_PVP1.npy')\n",
    "PVP2_array = np.load('C:/Users/user/Desktop/논문리뷰/Pattern-Exploiting-Training(PET)/code/testPET - 복사본/data3/labeling/hard_label/hard_label_PVP2.npy')\n",
    "PVP3_array = np.load('C:/Users/user/Desktop/논문리뷰/Pattern-Exploiting-Training(PET)/code/testPET - 복사본/data3/labeling/hard_label/hard_label_PVP3.npy')\n",
    "PVP4_array = np.load('C:/Users/user/Desktop/논문리뷰/Pattern-Exploiting-Training(PET)/code/testPET - 복사본/data3/labeling/hard_label/hard_label_PVP4.npy')\n",
    "PVP5_array = np.load('C:/Users/user/Desktop/논문리뷰/Pattern-Exploiting-Training(PET)/code/testPET - 복사본/data3/labeling/hard_label/hard_label_PVP5.npy')\n",
    "PVP6_array = np.load('C:/Users/user/Desktop/논문리뷰/Pattern-Exploiting-Training(PET)/code/testPET - 복사본/data3/labeling/hard_label/hard_label_PVP6.npy')\n",
    "PVP7_array = np.load('C:/Users/user/Desktop/논문리뷰/Pattern-Exploiting-Training(PET)/code/testPET - 복사본/data3/labeling/hard_label/hard_label_PVP7.npy')\n",
    "PVP8_array = np.load('C:/Users/user/Desktop/논문리뷰/Pattern-Exploiting-Training(PET)/code/testPET - 복사본/data3/labeling/hard_label/hard_label_PVP8.npy')\n",
    "PVP9_array = np.load('C:/Users/user/Desktop/논문리뷰/Pattern-Exploiting-Training(PET)/code/testPET - 복사본/data3/labeling/hard_label/hard_label_PVP9.npy')"
   ]
  },
  {
   "cell_type": "code",
   "execution_count": 3,
   "metadata": {},
   "outputs": [
    {
     "data": {
      "text/plain": [
       "array([1, 2, 1, ..., 1, 1, 2], dtype=int64)"
      ]
     },
     "execution_count": 3,
     "metadata": {},
     "output_type": "execute_result"
    }
   ],
   "source": [
    "PVP0_array"
   ]
  },
  {
   "cell_type": "code",
   "execution_count": 4,
   "metadata": {},
   "outputs": [],
   "source": [
    "PVP0_array = np.where(PVP0_array == 1, 0, np.where(PVP0_array == 2, 1, PVP0_array))\n",
    "PVP1_array = np.where(PVP1_array == 1, 0, np.where(PVP1_array == 2, 1, PVP1_array))\n",
    "PVP2_array = np.where(PVP2_array == 1, 0, np.where(PVP2_array == 2, 1, PVP2_array))\n",
    "PVP3_array = np.where(PVP3_array == 1, 0, np.where(PVP3_array == 2, 1, PVP3_array))\n",
    "PVP4_array = np.where(PVP4_array == 1, 0, np.where(PVP4_array == 2, 1, PVP4_array))\n",
    "PVP5_array = np.where(PVP5_array == 1, 0, np.where(PVP5_array == 2, 1, PVP5_array))\n",
    "PVP6_array = np.where(PVP6_array == 1, 0, np.where(PVP6_array == 2, 1, PVP6_array))\n",
    "PVP7_array = np.where(PVP7_array == 1, 0, np.where(PVP7_array == 2, 1, PVP7_array))\n",
    "PVP8_array = np.where(PVP8_array == 1, 0, np.where(PVP8_array == 2, 1, PVP8_array))\n",
    "PVP9_array = np.where(PVP9_array == 1, 0, np.where(PVP9_array == 2, 1, PVP9_array))"
   ]
  },
  {
   "cell_type": "code",
   "execution_count": 5,
   "metadata": {},
   "outputs": [],
   "source": [
    "df_unlabeled = pd.read_csv(\"C:/Users/user/Desktop/논문리뷰/Pattern-Exploiting-Training(PET)/code/testPET - 복사본/data3/df_unlabeled.csv\")"
   ]
  },
  {
   "cell_type": "code",
   "execution_count": 6,
   "metadata": {},
   "outputs": [],
   "source": [
    "unlabel_array = np.array(df_unlabeled[\"label\"])"
   ]
  },
  {
   "cell_type": "code",
   "execution_count": 7,
   "metadata": {},
   "outputs": [],
   "source": [
    "unlabel_array= np.where(unlabel_array == 1, 0, np.where(unlabel_array == 2, 1, unlabel_array))"
   ]
  },
  {
   "cell_type": "code",
   "execution_count": 8,
   "metadata": {},
   "outputs": [],
   "source": [
    "PVP0_tf_array = (unlabel_array == PVP0_array).astype(int)\n",
    "PVP1_tf_array = (unlabel_array == PVP1_array).astype(int)\n",
    "PVP2_tf_array = (unlabel_array == PVP2_array).astype(int)\n",
    "PVP3_tf_array = (unlabel_array == PVP3_array).astype(int)\n",
    "PVP4_tf_array = (unlabel_array == PVP4_array).astype(int)\n",
    "PVP5_tf_array = (unlabel_array == PVP5_array).astype(int)\n",
    "PVP6_tf_array = (unlabel_array == PVP6_array).astype(int)\n",
    "PVP7_tf_array = (unlabel_array == PVP7_array).astype(int)\n",
    "PVP8_tf_array = (unlabel_array == PVP8_array).astype(int)\n",
    "PVP9_tf_array = (unlabel_array == PVP9_array).astype(int)"
   ]
  },
  {
   "cell_type": "markdown",
   "metadata": {},
   "source": [
    "하나의 array로 만들기"
   ]
  },
  {
   "cell_type": "code",
   "execution_count": 10,
   "metadata": {},
   "outputs": [],
   "source": [
    "all_array = np.array([PVP0_tf_array,\n",
    "                      PVP1_tf_array,\n",
    "                      PVP2_tf_array,\n",
    "                      PVP3_tf_array,\n",
    "                      PVP4_tf_array,\n",
    "                      PVP5_tf_array,\n",
    "                      PVP6_tf_array,\n",
    "                      PVP7_tf_array,\n",
    "                      PVP8_tf_array,\n",
    "                      PVP9_tf_array])"
   ]
  },
  {
   "cell_type": "code",
   "execution_count": 11,
   "metadata": {},
   "outputs": [],
   "source": [
    "def jaccard_similarity(arr1, arr2):\n",
    "    intersection = np.logical_and(arr1, arr2).sum()\n",
    "    union = np.logical_or(arr1, arr2).sum()\n",
    "    jaccard_index = intersection / union\n",
    "    return jaccard_index"
   ]
  },
  {
   "cell_type": "code",
   "execution_count": 12,
   "metadata": {},
   "outputs": [],
   "source": [
    "num_arrays = all_array.shape[0]"
   ]
  },
  {
   "cell_type": "code",
   "execution_count": 13,
   "metadata": {},
   "outputs": [],
   "source": [
    "jaccard_matrix = np.zeros((num_arrays, num_arrays))"
   ]
  },
  {
   "cell_type": "code",
   "execution_count": 14,
   "metadata": {},
   "outputs": [],
   "source": [
    "for i in range(num_arrays):\n",
    "    for j in range(i, num_arrays):  # Use i instead of i+1 to include self-similarity (diagonal elements)\n",
    "        jaccard_index = jaccard_similarity(all_array[i], all_array[j])\n",
    "        jaccard_matrix[i, j] = jaccard_index\n",
    "        jaccard_matrix[j, i] = jaccard_index"
   ]
  },
  {
   "cell_type": "code",
   "execution_count": 17,
   "metadata": {},
   "outputs": [],
   "source": [
    "all_index = [\"PVP0\",\n",
    "                \"PVP1\",\n",
    "                \"PVP2\",\n",
    "                \"PVP3\",\n",
    "                \"PVP4\",\n",
    "                \"PVP5\",\n",
    "                \"PVP6\",\n",
    "                \"PVP7\",\n",
    "                \"PVP8\",\n",
    "                \"PVP9\",]"
   ]
  },
  {
   "cell_type": "code",
   "execution_count": 18,
   "metadata": {},
   "outputs": [],
   "source": [
    "df_jaccard_matrix = pd.DataFrame(jaccard_matrix, columns=all_index)"
   ]
  },
  {
   "cell_type": "code",
   "execution_count": 19,
   "metadata": {},
   "outputs": [],
   "source": [
    "df_jaccard_matrix = df_jaccard_matrix.set_index(pd.Index(all_index))"
   ]
  },
  {
   "cell_type": "code",
   "execution_count": 20,
   "metadata": {},
   "outputs": [
    {
     "data": {
      "text/html": [
       "<div>\n",
       "<style scoped>\n",
       "    .dataframe tbody tr th:only-of-type {\n",
       "        vertical-align: middle;\n",
       "    }\n",
       "\n",
       "    .dataframe tbody tr th {\n",
       "        vertical-align: top;\n",
       "    }\n",
       "\n",
       "    .dataframe thead th {\n",
       "        text-align: right;\n",
       "    }\n",
       "</style>\n",
       "<table border=\"1\" class=\"dataframe\">\n",
       "  <thead>\n",
       "    <tr style=\"text-align: right;\">\n",
       "      <th></th>\n",
       "      <th>PVP0</th>\n",
       "      <th>PVP1</th>\n",
       "      <th>PVP2</th>\n",
       "      <th>PVP3</th>\n",
       "      <th>PVP4</th>\n",
       "      <th>PVP5</th>\n",
       "      <th>PVP6</th>\n",
       "      <th>PVP7</th>\n",
       "      <th>PVP8</th>\n",
       "      <th>PVP9</th>\n",
       "    </tr>\n",
       "  </thead>\n",
       "  <tbody>\n",
       "    <tr>\n",
       "      <th>PVP0</th>\n",
       "      <td>1.000000</td>\n",
       "      <td>0.898215</td>\n",
       "      <td>0.843302</td>\n",
       "      <td>0.877566</td>\n",
       "      <td>0.904192</td>\n",
       "      <td>0.899383</td>\n",
       "      <td>0.870225</td>\n",
       "      <td>0.805535</td>\n",
       "      <td>0.442669</td>\n",
       "      <td>0.851820</td>\n",
       "    </tr>\n",
       "    <tr>\n",
       "      <th>PVP1</th>\n",
       "      <td>0.898215</td>\n",
       "      <td>1.000000</td>\n",
       "      <td>0.890660</td>\n",
       "      <td>0.931996</td>\n",
       "      <td>0.943767</td>\n",
       "      <td>0.949266</td>\n",
       "      <td>0.928712</td>\n",
       "      <td>0.825882</td>\n",
       "      <td>0.485614</td>\n",
       "      <td>0.863868</td>\n",
       "    </tr>\n",
       "    <tr>\n",
       "      <th>PVP2</th>\n",
       "      <td>0.843302</td>\n",
       "      <td>0.890660</td>\n",
       "      <td>1.000000</td>\n",
       "      <td>0.949022</td>\n",
       "      <td>0.902774</td>\n",
       "      <td>0.924990</td>\n",
       "      <td>0.900672</td>\n",
       "      <td>0.756615</td>\n",
       "      <td>0.569871</td>\n",
       "      <td>0.814022</td>\n",
       "    </tr>\n",
       "    <tr>\n",
       "      <th>PVP3</th>\n",
       "      <td>0.877566</td>\n",
       "      <td>0.931996</td>\n",
       "      <td>0.949022</td>\n",
       "      <td>1.000000</td>\n",
       "      <td>0.938102</td>\n",
       "      <td>0.961934</td>\n",
       "      <td>0.929198</td>\n",
       "      <td>0.795332</td>\n",
       "      <td>0.542076</td>\n",
       "      <td>0.846615</td>\n",
       "    </tr>\n",
       "    <tr>\n",
       "      <th>PVP4</th>\n",
       "      <td>0.904192</td>\n",
       "      <td>0.943767</td>\n",
       "      <td>0.902774</td>\n",
       "      <td>0.938102</td>\n",
       "      <td>1.000000</td>\n",
       "      <td>0.961997</td>\n",
       "      <td>0.924602</td>\n",
       "      <td>0.825847</td>\n",
       "      <td>0.498189</td>\n",
       "      <td>0.872674</td>\n",
       "    </tr>\n",
       "    <tr>\n",
       "      <th>PVP5</th>\n",
       "      <td>0.899383</td>\n",
       "      <td>0.949266</td>\n",
       "      <td>0.924990</td>\n",
       "      <td>0.961934</td>\n",
       "      <td>0.961997</td>\n",
       "      <td>1.000000</td>\n",
       "      <td>0.932557</td>\n",
       "      <td>0.818789</td>\n",
       "      <td>0.519109</td>\n",
       "      <td>0.864992</td>\n",
       "    </tr>\n",
       "    <tr>\n",
       "      <th>PVP6</th>\n",
       "      <td>0.870225</td>\n",
       "      <td>0.928712</td>\n",
       "      <td>0.900672</td>\n",
       "      <td>0.929198</td>\n",
       "      <td>0.924602</td>\n",
       "      <td>0.932557</td>\n",
       "      <td>1.000000</td>\n",
       "      <td>0.821804</td>\n",
       "      <td>0.501890</td>\n",
       "      <td>0.860273</td>\n",
       "    </tr>\n",
       "    <tr>\n",
       "      <th>PVP7</th>\n",
       "      <td>0.805535</td>\n",
       "      <td>0.825882</td>\n",
       "      <td>0.756615</td>\n",
       "      <td>0.795332</td>\n",
       "      <td>0.825847</td>\n",
       "      <td>0.818789</td>\n",
       "      <td>0.821804</td>\n",
       "      <td>1.000000</td>\n",
       "      <td>0.353479</td>\n",
       "      <td>0.825877</td>\n",
       "    </tr>\n",
       "    <tr>\n",
       "      <th>PVP8</th>\n",
       "      <td>0.442669</td>\n",
       "      <td>0.485614</td>\n",
       "      <td>0.569871</td>\n",
       "      <td>0.542076</td>\n",
       "      <td>0.498189</td>\n",
       "      <td>0.519109</td>\n",
       "      <td>0.501890</td>\n",
       "      <td>0.353479</td>\n",
       "      <td>1.000000</td>\n",
       "      <td>0.412407</td>\n",
       "    </tr>\n",
       "    <tr>\n",
       "      <th>PVP9</th>\n",
       "      <td>0.851820</td>\n",
       "      <td>0.863868</td>\n",
       "      <td>0.814022</td>\n",
       "      <td>0.846615</td>\n",
       "      <td>0.872674</td>\n",
       "      <td>0.864992</td>\n",
       "      <td>0.860273</td>\n",
       "      <td>0.825877</td>\n",
       "      <td>0.412407</td>\n",
       "      <td>1.000000</td>\n",
       "    </tr>\n",
       "  </tbody>\n",
       "</table>\n",
       "</div>"
      ],
      "text/plain": [
       "          PVP0      PVP1      PVP2      PVP3      PVP4      PVP5      PVP6  \\\n",
       "PVP0  1.000000  0.898215  0.843302  0.877566  0.904192  0.899383  0.870225   \n",
       "PVP1  0.898215  1.000000  0.890660  0.931996  0.943767  0.949266  0.928712   \n",
       "PVP2  0.843302  0.890660  1.000000  0.949022  0.902774  0.924990  0.900672   \n",
       "PVP3  0.877566  0.931996  0.949022  1.000000  0.938102  0.961934  0.929198   \n",
       "PVP4  0.904192  0.943767  0.902774  0.938102  1.000000  0.961997  0.924602   \n",
       "PVP5  0.899383  0.949266  0.924990  0.961934  0.961997  1.000000  0.932557   \n",
       "PVP6  0.870225  0.928712  0.900672  0.929198  0.924602  0.932557  1.000000   \n",
       "PVP7  0.805535  0.825882  0.756615  0.795332  0.825847  0.818789  0.821804   \n",
       "PVP8  0.442669  0.485614  0.569871  0.542076  0.498189  0.519109  0.501890   \n",
       "PVP9  0.851820  0.863868  0.814022  0.846615  0.872674  0.864992  0.860273   \n",
       "\n",
       "          PVP7      PVP8      PVP9  \n",
       "PVP0  0.805535  0.442669  0.851820  \n",
       "PVP1  0.825882  0.485614  0.863868  \n",
       "PVP2  0.756615  0.569871  0.814022  \n",
       "PVP3  0.795332  0.542076  0.846615  \n",
       "PVP4  0.825847  0.498189  0.872674  \n",
       "PVP5  0.818789  0.519109  0.864992  \n",
       "PVP6  0.821804  0.501890  0.860273  \n",
       "PVP7  1.000000  0.353479  0.825877  \n",
       "PVP8  0.353479  1.000000  0.412407  \n",
       "PVP9  0.825877  0.412407  1.000000  "
      ]
     },
     "execution_count": 20,
     "metadata": {},
     "output_type": "execute_result"
    }
   ],
   "source": [
    "df_jaccard_matrix"
   ]
  },
  {
   "cell_type": "code",
   "execution_count": 21,
   "metadata": {},
   "outputs": [],
   "source": [
    "df_jaccard_matrix_writer = pd.ExcelWriter('C:/Users/user/Desktop/논문리뷰/Pattern-Exploiting-Training(PET)/code/testPET - 복사본/data3/result/all_vectors_jaccard.xlsx', engine='xlsxwriter')"
   ]
  },
  {
   "cell_type": "code",
   "execution_count": 22,
   "metadata": {},
   "outputs": [],
   "source": [
    "df_jaccard_matrix.to_excel(df_jaccard_matrix_writer, sheet_name='jaccard', index=True)"
   ]
  },
  {
   "cell_type": "code",
   "execution_count": 23,
   "metadata": {},
   "outputs": [
    {
     "name": "stderr",
     "output_type": "stream",
     "text": [
      "C:\\Users\\user\\AppData\\Local\\Temp\\ipykernel_19812\\3740891982.py:1: FutureWarning: save is not part of the public API, usage can give unexpected results and will be removed in a future version\n",
      "  df_jaccard_matrix_writer.save()\n"
     ]
    }
   ],
   "source": [
    "df_jaccard_matrix_writer.save()"
   ]
  }
 ],
 "metadata": {
  "kernelspec": {
   "display_name": "PY39_",
   "language": "python",
   "name": "python3"
  },
  "language_info": {
   "codemirror_mode": {
    "name": "ipython",
    "version": 3
   },
   "file_extension": ".py",
   "mimetype": "text/x-python",
   "name": "python",
   "nbconvert_exporter": "python",
   "pygments_lexer": "ipython3",
   "version": "3.9.16"
  },
  "orig_nbformat": 4
 },
 "nbformat": 4,
 "nbformat_minor": 2
}
