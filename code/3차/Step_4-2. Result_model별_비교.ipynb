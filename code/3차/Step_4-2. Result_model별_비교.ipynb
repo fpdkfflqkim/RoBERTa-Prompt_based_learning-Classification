{
 "cells": [
  {
   "cell_type": "markdown",
   "metadata": {},
   "source": [
    "틀린 것 비교"
   ]
  },
  {
   "cell_type": "code",
   "execution_count": 1,
   "metadata": {},
   "outputs": [],
   "source": [
    "import numpy as np\n",
    "import pandas as pd"
   ]
  },
  {
   "cell_type": "markdown",
   "metadata": {},
   "source": [
    "데이터 불러오기"
   ]
  },
  {
   "cell_type": "code",
   "execution_count": 2,
   "metadata": {},
   "outputs": [],
   "source": [
    "random1_array = np.load('C:/Users/user/Desktop/논문리뷰/Pattern-Exploiting-Training(PET)/code/testPET - 복사본/data3/labeling/unlabeled_probabilities_model[0, 2, 4]_test.npy')\n",
    "random2_array = np.load('C:/Users/user/Desktop/논문리뷰/Pattern-Exploiting-Training(PET)/code/testPET - 복사본/data3/labeling/unlabeled_probabilities_model[1, 3, 6]_test.npy')\n",
    "random3_array = np.load('C:/Users/user/Desktop/논문리뷰/Pattern-Exploiting-Training(PET)/code/testPET - 복사본/data3/labeling/unlabeled_probabilities_model[5, 8, 9]_test.npy')\n",
    "cosine_array = np.load('C:/Users/user/Desktop/논문리뷰/Pattern-Exploiting-Training(PET)/code/testPET - 복사본/data3/labeling/unlabeled_probabilities_model[3, 4, 5]_test.npy')"
   ]
  },
  {
   "cell_type": "markdown",
   "metadata": {},
   "source": [
    "소프트 라벨을 하드 라벨로(임계값 = 0,5)"
   ]
  },
  {
   "cell_type": "code",
   "execution_count": 3,
   "metadata": {},
   "outputs": [],
   "source": [
    "random1_array_hard = np.argmax(random1_array, axis=1)\n",
    "random2_array_hard = np.argmax(random2_array, axis=1)\n",
    "random3_array_hard = np.argmax(random3_array, axis=1)\n",
    "cosine_array_hard = np.argmax(cosine_array, axis=1)"
   ]
  },
  {
   "cell_type": "code",
   "execution_count": 4,
   "metadata": {},
   "outputs": [],
   "source": [
    "np.save('C:/Users/user/Desktop/논문리뷰/Pattern-Exploiting-Training(PET)/code/testPET - 복사본/data3/labeling/hard_label/hard_label_random1.npy', random1_array_hard)\n",
    "np.save('C:/Users/user/Desktop/논문리뷰/Pattern-Exploiting-Training(PET)/code/testPET - 복사본/data3/labeling/hard_label/hard_label_random2.npy', random2_array_hard)\n",
    "np.save('C:/Users/user/Desktop/논문리뷰/Pattern-Exploiting-Training(PET)/code/testPET - 복사본/data3/labeling/hard_label/hard_label_random3.npy', random3_array_hard)\n",
    "np.save('C:/Users/user/Desktop/논문리뷰/Pattern-Exploiting-Training(PET)/code/testPET - 복사본/data3/labeling/hard_label/hard_label_cosine.npy', cosine_array_hard)"
   ]
  },
  {
   "cell_type": "code",
   "execution_count": 5,
   "metadata": {},
   "outputs": [],
   "source": [
    "random1_array_hard = np.where(random1_array_hard == 0, 1, np.where(random1_array_hard == 1, 2, random1_array_hard))\n",
    "random2_array_hard = np.where(random2_array_hard == 0, 1, np.where(random2_array_hard == 1, 2, random2_array_hard))\n",
    "random3_array_hard = np.where(random3_array_hard == 0, 1, np.where(random3_array_hard == 1, 2, random3_array_hard))\n",
    "cosine_array_hard = np.where(cosine_array_hard == 0, 1, np.where(cosine_array_hard == 1, 2, cosine_array_hard))"
   ]
  },
  {
   "cell_type": "markdown",
   "metadata": {},
   "source": [
    "unlabeled dataframe"
   ]
  },
  {
   "cell_type": "code",
   "execution_count": 6,
   "metadata": {},
   "outputs": [],
   "source": [
    "df_unlabeled = pd.read_csv(\"C:/Users/user/Desktop/논문리뷰/Pattern-Exploiting-Training(PET)/code/testPET - 복사본/data3/df_unlabeled.csv\")"
   ]
  },
  {
   "cell_type": "code",
   "execution_count": 7,
   "metadata": {},
   "outputs": [
    {
     "data": {
      "text/html": [
       "<div>\n",
       "<style scoped>\n",
       "    .dataframe tbody tr th:only-of-type {\n",
       "        vertical-align: middle;\n",
       "    }\n",
       "\n",
       "    .dataframe tbody tr th {\n",
       "        vertical-align: top;\n",
       "    }\n",
       "\n",
       "    .dataframe thead th {\n",
       "        text-align: right;\n",
       "    }\n",
       "</style>\n",
       "<table border=\"1\" class=\"dataframe\">\n",
       "  <thead>\n",
       "    <tr style=\"text-align: right;\">\n",
       "      <th></th>\n",
       "      <th>text</th>\n",
       "      <th>label</th>\n",
       "    </tr>\n",
       "  </thead>\n",
       "  <tbody>\n",
       "    <tr>\n",
       "      <th>0</th>\n",
       "      <td>Bagels are average at best, very stingy here. ...</td>\n",
       "      <td>1</td>\n",
       "    </tr>\n",
       "    <tr>\n",
       "      <th>1</th>\n",
       "      <td>The atmosphere is nice and intimate. Our serve...</td>\n",
       "      <td>2</td>\n",
       "    </tr>\n",
       "    <tr>\n",
       "      <th>2</th>\n",
       "      <td>Stayed 3 nights at the Grand and it was an abs...</td>\n",
       "      <td>1</td>\n",
       "    </tr>\n",
       "    <tr>\n",
       "      <th>3</th>\n",
       "      <td>Looking at past reviews, it appears there has ...</td>\n",
       "      <td>2</td>\n",
       "    </tr>\n",
       "    <tr>\n",
       "      <th>4</th>\n",
       "      <td>Apparently there are 7 Beauty Bars? This is th...</td>\n",
       "      <td>2</td>\n",
       "    </tr>\n",
       "    <tr>\n",
       "      <th>...</th>\n",
       "      <td>...</td>\n",
       "      <td>...</td>\n",
       "    </tr>\n",
       "    <tr>\n",
       "      <th>9995</th>\n",
       "      <td>Recently I have been shopping at Sprouts and I...</td>\n",
       "      <td>1</td>\n",
       "    </tr>\n",
       "    <tr>\n",
       "      <th>9996</th>\n",
       "      <td>I've been here twice for dinner and once for t...</td>\n",
       "      <td>2</td>\n",
       "    </tr>\n",
       "    <tr>\n",
       "      <th>9997</th>\n",
       "      <td>I'm giving Chipotle a 2 only to differentiate ...</td>\n",
       "      <td>1</td>\n",
       "    </tr>\n",
       "    <tr>\n",
       "      <th>9998</th>\n",
       "      <td>Went here a couple times liked the homemade le...</td>\n",
       "      <td>2</td>\n",
       "    </tr>\n",
       "    <tr>\n",
       "      <th>9999</th>\n",
       "      <td>This review is for their bakery. We have order...</td>\n",
       "      <td>2</td>\n",
       "    </tr>\n",
       "  </tbody>\n",
       "</table>\n",
       "<p>10000 rows × 2 columns</p>\n",
       "</div>"
      ],
      "text/plain": [
       "                                                   text  label\n",
       "0     Bagels are average at best, very stingy here. ...      1\n",
       "1     The atmosphere is nice and intimate. Our serve...      2\n",
       "2     Stayed 3 nights at the Grand and it was an abs...      1\n",
       "3     Looking at past reviews, it appears there has ...      2\n",
       "4     Apparently there are 7 Beauty Bars? This is th...      2\n",
       "...                                                 ...    ...\n",
       "9995  Recently I have been shopping at Sprouts and I...      1\n",
       "9996  I've been here twice for dinner and once for t...      2\n",
       "9997  I'm giving Chipotle a 2 only to differentiate ...      1\n",
       "9998  Went here a couple times liked the homemade le...      2\n",
       "9999  This review is for their bakery. We have order...      2\n",
       "\n",
       "[10000 rows x 2 columns]"
      ]
     },
     "execution_count": 7,
     "metadata": {},
     "output_type": "execute_result"
    }
   ],
   "source": [
    "df_unlabeled"
   ]
  },
  {
   "cell_type": "markdown",
   "metadata": {},
   "source": [
    "새로운 열로 추가"
   ]
  },
  {
   "cell_type": "code",
   "execution_count": 8,
   "metadata": {},
   "outputs": [],
   "source": [
    "df_unlabeled[\"random1_label\"] = random1_array_hard\n",
    "df_unlabeled[\"random2_label\"] = random2_array_hard\n",
    "df_unlabeled[\"random3_label\"] = random3_array_hard\n",
    "df_unlabeled[\"cosine_label\"] = cosine_array_hard"
   ]
  },
  {
   "cell_type": "code",
   "execution_count": 14,
   "metadata": {},
   "outputs": [
    {
     "data": {
      "text/html": [
       "<div>\n",
       "<style scoped>\n",
       "    .dataframe tbody tr th:only-of-type {\n",
       "        vertical-align: middle;\n",
       "    }\n",
       "\n",
       "    .dataframe tbody tr th {\n",
       "        vertical-align: top;\n",
       "    }\n",
       "\n",
       "    .dataframe thead th {\n",
       "        text-align: right;\n",
       "    }\n",
       "</style>\n",
       "<table border=\"1\" class=\"dataframe\">\n",
       "  <thead>\n",
       "    <tr style=\"text-align: right;\">\n",
       "      <th></th>\n",
       "      <th>text</th>\n",
       "      <th>label</th>\n",
       "      <th>random1_label</th>\n",
       "      <th>random2_label</th>\n",
       "      <th>random3_label</th>\n",
       "      <th>cosine_label</th>\n",
       "    </tr>\n",
       "  </thead>\n",
       "  <tbody>\n",
       "    <tr>\n",
       "      <th>0</th>\n",
       "      <td>Bagels are average at best, very stingy here. ...</td>\n",
       "      <td>1</td>\n",
       "      <td>1</td>\n",
       "      <td>1</td>\n",
       "      <td>1</td>\n",
       "      <td>1</td>\n",
       "    </tr>\n",
       "    <tr>\n",
       "      <th>1</th>\n",
       "      <td>The atmosphere is nice and intimate. Our serve...</td>\n",
       "      <td>2</td>\n",
       "      <td>2</td>\n",
       "      <td>2</td>\n",
       "      <td>2</td>\n",
       "      <td>2</td>\n",
       "    </tr>\n",
       "    <tr>\n",
       "      <th>2</th>\n",
       "      <td>Stayed 3 nights at the Grand and it was an abs...</td>\n",
       "      <td>1</td>\n",
       "      <td>1</td>\n",
       "      <td>1</td>\n",
       "      <td>1</td>\n",
       "      <td>1</td>\n",
       "    </tr>\n",
       "    <tr>\n",
       "      <th>3</th>\n",
       "      <td>Looking at past reviews, it appears there has ...</td>\n",
       "      <td>2</td>\n",
       "      <td>2</td>\n",
       "      <td>2</td>\n",
       "      <td>2</td>\n",
       "      <td>2</td>\n",
       "    </tr>\n",
       "    <tr>\n",
       "      <th>4</th>\n",
       "      <td>Apparently there are 7 Beauty Bars? This is th...</td>\n",
       "      <td>2</td>\n",
       "      <td>1</td>\n",
       "      <td>1</td>\n",
       "      <td>1</td>\n",
       "      <td>1</td>\n",
       "    </tr>\n",
       "    <tr>\n",
       "      <th>...</th>\n",
       "      <td>...</td>\n",
       "      <td>...</td>\n",
       "      <td>...</td>\n",
       "      <td>...</td>\n",
       "      <td>...</td>\n",
       "      <td>...</td>\n",
       "    </tr>\n",
       "    <tr>\n",
       "      <th>9995</th>\n",
       "      <td>Recently I have been shopping at Sprouts and I...</td>\n",
       "      <td>1</td>\n",
       "      <td>2</td>\n",
       "      <td>1</td>\n",
       "      <td>1</td>\n",
       "      <td>1</td>\n",
       "    </tr>\n",
       "    <tr>\n",
       "      <th>9996</th>\n",
       "      <td>I've been here twice for dinner and once for t...</td>\n",
       "      <td>2</td>\n",
       "      <td>2</td>\n",
       "      <td>1</td>\n",
       "      <td>2</td>\n",
       "      <td>2</td>\n",
       "    </tr>\n",
       "    <tr>\n",
       "      <th>9997</th>\n",
       "      <td>I'm giving Chipotle a 2 only to differentiate ...</td>\n",
       "      <td>1</td>\n",
       "      <td>1</td>\n",
       "      <td>1</td>\n",
       "      <td>1</td>\n",
       "      <td>1</td>\n",
       "    </tr>\n",
       "    <tr>\n",
       "      <th>9998</th>\n",
       "      <td>Went here a couple times liked the homemade le...</td>\n",
       "      <td>2</td>\n",
       "      <td>2</td>\n",
       "      <td>2</td>\n",
       "      <td>2</td>\n",
       "      <td>2</td>\n",
       "    </tr>\n",
       "    <tr>\n",
       "      <th>9999</th>\n",
       "      <td>This review is for their bakery. We have order...</td>\n",
       "      <td>2</td>\n",
       "      <td>2</td>\n",
       "      <td>2</td>\n",
       "      <td>2</td>\n",
       "      <td>2</td>\n",
       "    </tr>\n",
       "  </tbody>\n",
       "</table>\n",
       "<p>10000 rows × 6 columns</p>\n",
       "</div>"
      ],
      "text/plain": [
       "                                                   text  label  random1_label  \\\n",
       "0     Bagels are average at best, very stingy here. ...      1              1   \n",
       "1     The atmosphere is nice and intimate. Our serve...      2              2   \n",
       "2     Stayed 3 nights at the Grand and it was an abs...      1              1   \n",
       "3     Looking at past reviews, it appears there has ...      2              2   \n",
       "4     Apparently there are 7 Beauty Bars? This is th...      2              1   \n",
       "...                                                 ...    ...            ...   \n",
       "9995  Recently I have been shopping at Sprouts and I...      1              2   \n",
       "9996  I've been here twice for dinner and once for t...      2              2   \n",
       "9997  I'm giving Chipotle a 2 only to differentiate ...      1              1   \n",
       "9998  Went here a couple times liked the homemade le...      2              2   \n",
       "9999  This review is for their bakery. We have order...      2              2   \n",
       "\n",
       "      random2_label  random3_label  cosine_label  \n",
       "0                 1              1             1  \n",
       "1                 2              2             2  \n",
       "2                 1              1             1  \n",
       "3                 2              2             2  \n",
       "4                 1              1             1  \n",
       "...             ...            ...           ...  \n",
       "9995              1              1             1  \n",
       "9996              1              2             2  \n",
       "9997              1              1             1  \n",
       "9998              2              2             2  \n",
       "9999              2              2             2  \n",
       "\n",
       "[10000 rows x 6 columns]"
      ]
     },
     "execution_count": 14,
     "metadata": {},
     "output_type": "execute_result"
    }
   ],
   "source": [
    "df_unlabeled"
   ]
  },
  {
   "cell_type": "markdown",
   "metadata": {},
   "source": [
    "라벨이 1(bad)일때, 기준 모델은 1이라고 예측하고, 나머지는 2라고 예측한 값의 수"
   ]
  },
  {
   "cell_type": "code",
   "execution_count": 17,
   "metadata": {},
   "outputs": [
    {
     "data": {
      "text/plain": [
       "Index(['text', 'label', 'random1_label', 'random2_label', 'random3_label',\n",
       "       'cosine_label'],\n",
       "      dtype='object')"
      ]
     },
     "execution_count": 17,
     "metadata": {},
     "output_type": "execute_result"
    }
   ],
   "source": [
    "df_unlabeled.columns"
   ]
  },
  {
   "cell_type": "code",
   "execution_count": 18,
   "metadata": {},
   "outputs": [],
   "source": [
    "random1_bad = df_unlabeled.loc[(df_unlabeled['label'] == 1) & (df_unlabeled['label'] == df_unlabeled['random1_label']), df_unlabeled.columns]\n",
    "random2_bad = df_unlabeled.loc[(df_unlabeled['label'] == 1) & (df_unlabeled['label'] == df_unlabeled['random2_label']), df_unlabeled.columns]\n",
    "random3_bad = df_unlabeled.loc[(df_unlabeled['label'] == 1) & (df_unlabeled['label'] == df_unlabeled['random3_label']), df_unlabeled.columns]\n",
    "cosine_bad = df_unlabeled.loc[(df_unlabeled['label'] == 1) & (df_unlabeled['label'] == df_unlabeled['cosine_label']),df_unlabeled.columns]"
   ]
  },
  {
   "cell_type": "code",
   "execution_count": 19,
   "metadata": {},
   "outputs": [],
   "source": [
    "columns = df_unlabeled.columns[2:]"
   ]
  },
  {
   "cell_type": "code",
   "execution_count": 20,
   "metadata": {},
   "outputs": [
    {
     "data": {
      "text/plain": [
       "Index(['random1_label', 'random2_label', 'random3_label', 'cosine_label'], dtype='object')"
      ]
     },
     "execution_count": 20,
     "metadata": {},
     "output_type": "execute_result"
    }
   ],
   "source": [
    "columns"
   ]
  },
  {
   "cell_type": "code",
   "execution_count": 25,
   "metadata": {},
   "outputs": [],
   "source": [
    "random1_bad_count = [0 if i == 'random1_label' else random1_bad[f'{i}'].value_counts().get(2, 0) for i in columns]\n",
    "random2_bad_count = [0 if i == 'random2_bad' else random2_bad[f'{i}'].value_counts().get(2, 0) for i in columns]\n",
    "random3_bad_count = [0 if i == 'random3_bad' else random3_bad[f'{i}'].value_counts().get(2, 0) for i in columns]\n",
    "cosine_bad_count = [0 if i == 'cosine_bad' else cosine_bad[f'{i}'].value_counts().get(2, 0) for i in columns]"
   ]
  },
  {
   "cell_type": "code",
   "execution_count": 26,
   "metadata": {},
   "outputs": [],
   "source": [
    "model_bad = {\"random1\" : random1_bad_count,\n",
    "               \"random2\" : random2_bad_count,\n",
    "               \"random3\" : random3_bad_count,\n",
    "               \"cosine\" : cosine_bad_count\n",
    "               }"
   ]
  },
  {
   "cell_type": "code",
   "execution_count": 27,
   "metadata": {},
   "outputs": [
    {
     "data": {
      "text/plain": [
       "{'random1': [0, 75, 21, 23],\n",
       " 'random2': [52, 0, 23, 24],\n",
       " 'random3': [56, 81, 0, 24],\n",
       " 'cosine': [42, 66, 8, 0]}"
      ]
     },
     "execution_count": 27,
     "metadata": {},
     "output_type": "execute_result"
    }
   ],
   "source": [
    "model_bad"
   ]
  },
  {
   "cell_type": "code",
   "execution_count": 32,
   "metadata": {},
   "outputs": [],
   "source": [
    "df_model_bad = pd.DataFrame(model_bad).T"
   ]
  },
  {
   "cell_type": "code",
   "execution_count": 34,
   "metadata": {},
   "outputs": [],
   "source": [
    "df_model_bad.columns = columns"
   ]
  },
  {
   "cell_type": "code",
   "execution_count": 35,
   "metadata": {},
   "outputs": [
    {
     "data": {
      "text/html": [
       "<div>\n",
       "<style scoped>\n",
       "    .dataframe tbody tr th:only-of-type {\n",
       "        vertical-align: middle;\n",
       "    }\n",
       "\n",
       "    .dataframe tbody tr th {\n",
       "        vertical-align: top;\n",
       "    }\n",
       "\n",
       "    .dataframe thead th {\n",
       "        text-align: right;\n",
       "    }\n",
       "</style>\n",
       "<table border=\"1\" class=\"dataframe\">\n",
       "  <thead>\n",
       "    <tr style=\"text-align: right;\">\n",
       "      <th></th>\n",
       "      <th>random1_label</th>\n",
       "      <th>random2_label</th>\n",
       "      <th>random3_label</th>\n",
       "      <th>cosine_label</th>\n",
       "    </tr>\n",
       "  </thead>\n",
       "  <tbody>\n",
       "    <tr>\n",
       "      <th>random1</th>\n",
       "      <td>0</td>\n",
       "      <td>75</td>\n",
       "      <td>21</td>\n",
       "      <td>23</td>\n",
       "    </tr>\n",
       "    <tr>\n",
       "      <th>random2</th>\n",
       "      <td>52</td>\n",
       "      <td>0</td>\n",
       "      <td>23</td>\n",
       "      <td>24</td>\n",
       "    </tr>\n",
       "    <tr>\n",
       "      <th>random3</th>\n",
       "      <td>56</td>\n",
       "      <td>81</td>\n",
       "      <td>0</td>\n",
       "      <td>24</td>\n",
       "    </tr>\n",
       "    <tr>\n",
       "      <th>cosine</th>\n",
       "      <td>42</td>\n",
       "      <td>66</td>\n",
       "      <td>8</td>\n",
       "      <td>0</td>\n",
       "    </tr>\n",
       "  </tbody>\n",
       "</table>\n",
       "</div>"
      ],
      "text/plain": [
       "         random1_label  random2_label  random3_label  cosine_label\n",
       "random1              0             75             21            23\n",
       "random2             52              0             23            24\n",
       "random3             56             81              0            24\n",
       "cosine              42             66              8             0"
      ]
     },
     "execution_count": 35,
     "metadata": {},
     "output_type": "execute_result"
    }
   ],
   "source": [
    "df_model_bad"
   ]
  },
  {
   "cell_type": "markdown",
   "metadata": {},
   "source": [
    "라벨이 2(good)일때, 기준 모델은 2라고 예측하고, 나머지는 1이라고 예측한 값의 수"
   ]
  },
  {
   "cell_type": "code",
   "execution_count": 37,
   "metadata": {},
   "outputs": [],
   "source": [
    "random1_good = df_unlabeled.loc[(df_unlabeled['label'] == 2) & (df_unlabeled['label'] == df_unlabeled['random1_label']), df_unlabeled.columns]\n",
    "random2_good = df_unlabeled.loc[(df_unlabeled['label'] == 2) & (df_unlabeled['label'] == df_unlabeled['random2_label']), df_unlabeled.columns]\n",
    "random3_good = df_unlabeled.loc[(df_unlabeled['label'] == 2) & (df_unlabeled['label'] == df_unlabeled['random3_label']), df_unlabeled.columns]\n",
    "cosine_good = df_unlabeled.loc[(df_unlabeled['label'] == 2) & (df_unlabeled['label'] == df_unlabeled['cosine_label']),df_unlabeled.columns]"
   ]
  },
  {
   "cell_type": "code",
   "execution_count": 40,
   "metadata": {},
   "outputs": [],
   "source": [
    "random1_good_count = [0 if i == 'random1_label' else random1_good[f'{i}'].value_counts().get(1, 0) for i in columns]\n",
    "random2_good_count = [0 if i == 'random2_bad' else random2_good[f'{i}'].value_counts().get(1, 0) for i in columns]\n",
    "random3_good_count = [0 if i == 'random3_bad' else random3_good[f'{i}'].value_counts().get(1, 0) for i in columns]\n",
    "cosine_good_count = [0 if i == 'cosine_bad' else cosine_good[f'{i}'].value_counts().get(1, 0) for i in columns]"
   ]
  },
  {
   "cell_type": "code",
   "execution_count": 41,
   "metadata": {},
   "outputs": [],
   "source": [
    "model_good = {\"random1\" : random1_good_count,\n",
    "               \"random2\" : random2_good_count,\n",
    "               \"random3\" : random3_good_count,\n",
    "               \"cosine\" : cosine_good_count\n",
    "               }"
   ]
  },
  {
   "cell_type": "code",
   "execution_count": 42,
   "metadata": {},
   "outputs": [],
   "source": [
    "df_model_good = pd.DataFrame(model_good).T"
   ]
  },
  {
   "cell_type": "code",
   "execution_count": 43,
   "metadata": {},
   "outputs": [],
   "source": [
    "df_model_good.columns = columns"
   ]
  },
  {
   "cell_type": "code",
   "execution_count": 45,
   "metadata": {},
   "outputs": [
    {
     "data": {
      "text/html": [
       "<div>\n",
       "<style scoped>\n",
       "    .dataframe tbody tr th:only-of-type {\n",
       "        vertical-align: middle;\n",
       "    }\n",
       "\n",
       "    .dataframe tbody tr th {\n",
       "        vertical-align: top;\n",
       "    }\n",
       "\n",
       "    .dataframe thead th {\n",
       "        text-align: right;\n",
       "    }\n",
       "</style>\n",
       "<table border=\"1\" class=\"dataframe\">\n",
       "  <thead>\n",
       "    <tr style=\"text-align: right;\">\n",
       "      <th></th>\n",
       "      <th>random1_label</th>\n",
       "      <th>random2_label</th>\n",
       "      <th>random3_label</th>\n",
       "      <th>cosine_label</th>\n",
       "    </tr>\n",
       "  </thead>\n",
       "  <tbody>\n",
       "    <tr>\n",
       "      <th>random1</th>\n",
       "      <td>0</td>\n",
       "      <td>162</td>\n",
       "      <td>104</td>\n",
       "      <td>50</td>\n",
       "    </tr>\n",
       "    <tr>\n",
       "      <th>random2</th>\n",
       "      <td>158</td>\n",
       "      <td>0</td>\n",
       "      <td>123</td>\n",
       "      <td>74</td>\n",
       "    </tr>\n",
       "    <tr>\n",
       "      <th>random3</th>\n",
       "      <td>107</td>\n",
       "      <td>130</td>\n",
       "      <td>0</td>\n",
       "      <td>9</td>\n",
       "    </tr>\n",
       "    <tr>\n",
       "      <th>cosine</th>\n",
       "      <td>122</td>\n",
       "      <td>150</td>\n",
       "      <td>78</td>\n",
       "      <td>0</td>\n",
       "    </tr>\n",
       "  </tbody>\n",
       "</table>\n",
       "</div>"
      ],
      "text/plain": [
       "         random1_label  random2_label  random3_label  cosine_label\n",
       "random1              0            162            104            50\n",
       "random2            158              0            123            74\n",
       "random3            107            130              0             9\n",
       "cosine             122            150             78             0"
      ]
     },
     "execution_count": 45,
     "metadata": {},
     "output_type": "execute_result"
    }
   ],
   "source": [
    "df_model_good"
   ]
  },
  {
   "cell_type": "code",
   "execution_count": 46,
   "metadata": {},
   "outputs": [],
   "source": [
    "models_comparison_writer = pd.ExcelWriter('C:/Users/user/Desktop/논문리뷰/Pattern-Exploiting-Training(PET)/code/testPET - 복사본/data3/result/models_comparison.xlsx', engine='xlsxwriter')"
   ]
  },
  {
   "cell_type": "code",
   "execution_count": 47,
   "metadata": {},
   "outputs": [],
   "source": [
    "df_model_good.to_excel(models_comparison_writer, sheet_name='good', index=True)\n",
    "df_model_bad.to_excel(models_comparison_writer, sheet_name='bad', index=True)"
   ]
  },
  {
   "cell_type": "code",
   "execution_count": 48,
   "metadata": {},
   "outputs": [
    {
     "name": "stderr",
     "output_type": "stream",
     "text": [
      "C:\\Users\\user\\AppData\\Local\\Temp\\ipykernel_11628\\2258865812.py:1: FutureWarning: save is not part of the public API, usage can give unexpected results and will be removed in a future version\n",
      "  models_comparison_writer.save()\n"
     ]
    }
   ],
   "source": [
    "models_comparison_writer.save()"
   ]
  }
 ],
 "metadata": {
  "kernelspec": {
   "display_name": "PY39_",
   "language": "python",
   "name": "python3"
  },
  "language_info": {
   "codemirror_mode": {
    "name": "ipython",
    "version": 3
   },
   "file_extension": ".py",
   "mimetype": "text/x-python",
   "name": "python",
   "nbconvert_exporter": "python",
   "pygments_lexer": "ipython3",
   "version": "3.9.16"
  },
  "orig_nbformat": 4
 },
 "nbformat": 4,
 "nbformat_minor": 2
}
