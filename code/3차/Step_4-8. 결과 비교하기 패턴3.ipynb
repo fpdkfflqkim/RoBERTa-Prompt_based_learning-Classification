{
 "cells": [
  {
   "cell_type": "markdown",
   "metadata": {},
   "source": [
    "틀린 것 비교"
   ]
  },
  {
   "cell_type": "code",
   "execution_count": 1,
   "metadata": {},
   "outputs": [],
   "source": [
    "import numpy as np\n",
    "import pandas as pd"
   ]
  },
  {
   "cell_type": "markdown",
   "metadata": {},
   "source": [
    "데이터 불러오기"
   ]
  },
  {
   "cell_type": "code",
   "execution_count": 43,
   "metadata": {},
   "outputs": [],
   "source": [
    "PVP0_soft_array = np.load('C:/Users/user/Desktop/논문리뷰/Pattern-Exploiting-Training(PET)/code/testPET - 복사본/data3/labeling/unlabeled_probabilities_PVP0.npy')\n",
    "PVP1_soft_array = np.load('C:/Users/user/Desktop/논문리뷰/Pattern-Exploiting-Training(PET)/code/testPET - 복사본/data3/labeling/unlabeled_probabilities_PVP1.npy')\n",
    "PVP2_soft_array = np.load('C:/Users/user/Desktop/논문리뷰/Pattern-Exploiting-Training(PET)/code/testPET - 복사본/data3/labeling/unlabeled_probabilities_PVP2.npy')\n",
    "PVP3_soft_array = np.load('C:/Users/user/Desktop/논문리뷰/Pattern-Exploiting-Training(PET)/code/testPET - 복사본/data3/labeling/unlabeled_probabilities_PVP3.npy')\n",
    "PVP4_soft_array = np.load('C:/Users/user/Desktop/논문리뷰/Pattern-Exploiting-Training(PET)/code/testPET - 복사본/data3/labeling/unlabeled_probabilities_PVP4.npy')\n",
    "PVP5_soft_array = np.load('C:/Users/user/Desktop/논문리뷰/Pattern-Exploiting-Training(PET)/code/testPET - 복사본/data3/labeling/unlabeled_probabilities_PVP5.npy')\n",
    "PVP6_soft_array = np.load('C:/Users/user/Desktop/논문리뷰/Pattern-Exploiting-Training(PET)/code/testPET - 복사본/data3/labeling/unlabeled_probabilities_PVP6.npy')\n",
    "PVP7_soft_array = np.load('C:/Users/user/Desktop/논문리뷰/Pattern-Exploiting-Training(PET)/code/testPET - 복사본/data3/labeling/unlabeled_probabilities_PVP7.npy')\n",
    "PVP8_soft_array = np.load('C:/Users/user/Desktop/논문리뷰/Pattern-Exploiting-Training(PET)/code/testPET - 복사본/data3/labeling/unlabeled_probabilities_PVP8.npy')\n",
    "PVP9_soft_array = np.load('C:/Users/user/Desktop/논문리뷰/Pattern-Exploiting-Training(PET)/code/testPET - 복사본/data3/labeling/unlabeled_probabilities_PVP9.npy')"
   ]
  },
  {
   "cell_type": "code",
   "execution_count": 44,
   "metadata": {},
   "outputs": [],
   "source": [
    "random2_soft_array = np.load('C:/Users/user/Desktop/논문리뷰/Pattern-Exploiting-Training(PET)/code/testPET - 복사본/data3/labeling/unlabeled_probabilities_model[1, 3, 6]_test.npy')\n",
    "cosine_soft_array = np.load('C:/Users/user/Desktop/논문리뷰/Pattern-Exploiting-Training(PET)/code/testPET - 복사본/data3/labeling/unlabeled_probabilities_model[3, 4, 5]_test.npy')"
   ]
  },
  {
   "cell_type": "code",
   "execution_count": 49,
   "metadata": {},
   "outputs": [],
   "source": [
    "PVP0_soft_df = pd.DataFrame(PVP0_soft_array)\n",
    "PVP1_soft_df = pd.DataFrame(PVP1_soft_array)\n",
    "PVP2_soft_df = pd.DataFrame(PVP2_soft_array)\n",
    "PVP3_soft_df = pd.DataFrame(PVP3_soft_array)\n",
    "PVP4_soft_df = pd.DataFrame(PVP4_soft_array)\n",
    "PVP5_soft_df = pd.DataFrame(PVP5_soft_array)\n",
    "PVP6_soft_df = pd.DataFrame(PVP6_soft_array)\n",
    "PVP7_soft_df = pd.DataFrame(PVP7_soft_array)\n",
    "PVP8_soft_df = pd.DataFrame(PVP8_soft_array)\n",
    "PVP9_soft_df = pd.DataFrame(PVP9_soft_array)"
   ]
  },
  {
   "cell_type": "code",
   "execution_count": 45,
   "metadata": {},
   "outputs": [],
   "source": [
    "random2_soft_df = pd.DataFrame(random2_soft_array)\n",
    "cosine_soft_df = pd.DataFrame(cosine_soft_array)"
   ]
  },
  {
   "cell_type": "code",
   "execution_count": 2,
   "metadata": {},
   "outputs": [],
   "source": [
    "PVP0_array = np.load('C:/Users/user/Desktop/논문리뷰/Pattern-Exploiting-Training(PET)/code/testPET - 복사본/data3/labeling/hard_label/hard_label_PVP0.npy')\n",
    "PVP1_array = np.load('C:/Users/user/Desktop/논문리뷰/Pattern-Exploiting-Training(PET)/code/testPET - 복사본/data3/labeling/hard_label/hard_label_PVP1.npy')\n",
    "PVP2_array = np.load('C:/Users/user/Desktop/논문리뷰/Pattern-Exploiting-Training(PET)/code/testPET - 복사본/data3/labeling/hard_label/hard_label_PVP2.npy')\n",
    "PVP3_array = np.load('C:/Users/user/Desktop/논문리뷰/Pattern-Exploiting-Training(PET)/code/testPET - 복사본/data3/labeling/hard_label/hard_label_PVP3.npy')\n",
    "PVP4_array = np.load('C:/Users/user/Desktop/논문리뷰/Pattern-Exploiting-Training(PET)/code/testPET - 복사본/data3/labeling/hard_label/hard_label_PVP4.npy')\n",
    "PVP5_array = np.load('C:/Users/user/Desktop/논문리뷰/Pattern-Exploiting-Training(PET)/code/testPET - 복사본/data3/labeling/hard_label/hard_label_PVP5.npy')\n",
    "PVP6_array = np.load('C:/Users/user/Desktop/논문리뷰/Pattern-Exploiting-Training(PET)/code/testPET - 복사본/data3/labeling/hard_label/hard_label_PVP6.npy')\n",
    "PVP7_array = np.load('C:/Users/user/Desktop/논문리뷰/Pattern-Exploiting-Training(PET)/code/testPET - 복사본/data3/labeling/hard_label/hard_label_PVP7.npy')\n",
    "PVP8_array = np.load('C:/Users/user/Desktop/논문리뷰/Pattern-Exploiting-Training(PET)/code/testPET - 복사본/data3/labeling/hard_label/hard_label_PVP8.npy')\n",
    "PVP9_array = np.load('C:/Users/user/Desktop/논문리뷰/Pattern-Exploiting-Training(PET)/code/testPET - 복사본/data3/labeling/hard_label/hard_label_PVP9.npy')"
   ]
  },
  {
   "cell_type": "code",
   "execution_count": 6,
   "metadata": {},
   "outputs": [],
   "source": [
    "PVP0_array = np.where(PVP0_array == 1, 0, np.where(PVP0_array == 2, 1, PVP0_array))\n",
    "PVP1_array = np.where(PVP1_array == 1, 0, np.where(PVP1_array == 2, 1, PVP1_array))\n",
    "PVP2_array = np.where(PVP2_array == 1, 0, np.where(PVP2_array == 2, 1, PVP2_array))\n",
    "PVP3_array = np.where(PVP3_array == 1, 0, np.where(PVP3_array == 2, 1, PVP3_array))\n",
    "PVP4_array = np.where(PVP4_array == 1, 0, np.where(PVP4_array == 2, 1, PVP4_array))\n",
    "PVP5_array = np.where(PVP5_array == 1, 0, np.where(PVP5_array == 2, 1, PVP5_array))\n",
    "PVP6_array = np.where(PVP6_array == 1, 0, np.where(PVP6_array == 2, 1, PVP6_array))\n",
    "PVP7_array = np.where(PVP7_array == 1, 0, np.where(PVP7_array == 2, 1, PVP7_array))\n",
    "PVP8_array = np.where(PVP8_array == 1, 0, np.where(PVP8_array == 2, 1, PVP8_array))\n",
    "PVP9_array = np.where(PVP9_array == 1, 0, np.where(PVP9_array == 2, 1, PVP9_array))"
   ]
  },
  {
   "cell_type": "code",
   "execution_count": 3,
   "metadata": {},
   "outputs": [],
   "source": [
    "random1_array = np.load('C:/Users/user/Desktop/논문리뷰/Pattern-Exploiting-Training(PET)/code/testPET - 복사본/data3/labeling/hard_label/hard_label_random1.npy')\n",
    "random2_array = np.load('C:/Users/user/Desktop/논문리뷰/Pattern-Exploiting-Training(PET)/code/testPET - 복사본/data3/labeling/hard_label/hard_label_random2.npy')\n",
    "random3_array = np.load('C:/Users/user/Desktop/논문리뷰/Pattern-Exploiting-Training(PET)/code/testPET - 복사본/data3/labeling/hard_label/hard_label_random3.npy')\n",
    "cosine_array = np.load('C:/Users/user/Desktop/논문리뷰/Pattern-Exploiting-Training(PET)/code/testPET - 복사본/data3/labeling/hard_label/hard_label_cosine.npy')"
   ]
  },
  {
   "cell_type": "code",
   "execution_count": 7,
   "metadata": {},
   "outputs": [
    {
     "data": {
      "text/plain": [
       "array([0, 1, 0, ..., 0, 0, 1], dtype=int64)"
      ]
     },
     "execution_count": 7,
     "metadata": {},
     "output_type": "execute_result"
    }
   ],
   "source": [
    "PVP7_array"
   ]
  },
  {
   "cell_type": "markdown",
   "metadata": {},
   "source": [
    "unlabeled dataframe"
   ]
  },
  {
   "cell_type": "code",
   "execution_count": 8,
   "metadata": {},
   "outputs": [],
   "source": [
    "df_unlabeled = pd.read_csv(\"C:/Users/user/Desktop/논문리뷰/Pattern-Exploiting-Training(PET)/code/testPET - 복사본/data3/df_unlabeled.csv\")"
   ]
  },
  {
   "cell_type": "markdown",
   "metadata": {},
   "source": [
    "새로운 열로 추가"
   ]
  },
  {
   "cell_type": "code",
   "execution_count": 10,
   "metadata": {},
   "outputs": [],
   "source": [
    "df_unlabeled[\"random1_label\"] = random1_array\n",
    "df_unlabeled[\"random2_label\"] = random2_array\n",
    "df_unlabeled[\"random3_label\"] = random3_array\n",
    "df_unlabeled[\"pvp0\"] = PVP0_array\n",
    "df_unlabeled[\"pvp1\"] = PVP1_array\n",
    "df_unlabeled[\"pvp2\"] = PVP2_array\n",
    "df_unlabeled[\"pvp3\"] = PVP3_array\n",
    "df_unlabeled[\"pvp4\"] = PVP4_array\n",
    "df_unlabeled[\"pvp5\"] = PVP5_array\n",
    "df_unlabeled[\"pvp6\"] = PVP6_array\n",
    "df_unlabeled[\"pvp7\"] = PVP7_array\n",
    "df_unlabeled[\"pvp8\"] = PVP8_array\n",
    "df_unlabeled[\"pvp9\"] = PVP9_array"
   ]
  },
  {
   "cell_type": "code",
   "execution_count": 18,
   "metadata": {},
   "outputs": [],
   "source": [
    "unlabeled_array = df_unlabeled[\"label\"]"
   ]
  },
  {
   "cell_type": "code",
   "execution_count": 19,
   "metadata": {},
   "outputs": [],
   "source": [
    "unlabeled_array = np.where(unlabeled_array == 1, 0, np.where(unlabeled_array == 2, 1, unlabeled_array))"
   ]
  },
  {
   "cell_type": "code",
   "execution_count": 21,
   "metadata": {},
   "outputs": [],
   "source": [
    "df_unlabeled[\"label\"] = unlabeled_array"
   ]
  },
  {
   "cell_type": "code",
   "execution_count": 22,
   "metadata": {},
   "outputs": [
    {
     "data": {
      "text/html": [
       "<div>\n",
       "<style scoped>\n",
       "    .dataframe tbody tr th:only-of-type {\n",
       "        vertical-align: middle;\n",
       "    }\n",
       "\n",
       "    .dataframe tbody tr th {\n",
       "        vertical-align: top;\n",
       "    }\n",
       "\n",
       "    .dataframe thead th {\n",
       "        text-align: right;\n",
       "    }\n",
       "</style>\n",
       "<table border=\"1\" class=\"dataframe\">\n",
       "  <thead>\n",
       "    <tr style=\"text-align: right;\">\n",
       "      <th></th>\n",
       "      <th>text</th>\n",
       "      <th>label</th>\n",
       "      <th>random1_label</th>\n",
       "      <th>random2_label</th>\n",
       "      <th>random3_label</th>\n",
       "      <th>cosine_label</th>\n",
       "      <th>pvp0</th>\n",
       "      <th>pvp1</th>\n",
       "      <th>pvp2</th>\n",
       "      <th>pvp3</th>\n",
       "      <th>pvp4</th>\n",
       "      <th>pvp5</th>\n",
       "      <th>pvp6</th>\n",
       "      <th>pvp7</th>\n",
       "      <th>pvp8</th>\n",
       "      <th>pvp9</th>\n",
       "    </tr>\n",
       "  </thead>\n",
       "  <tbody>\n",
       "    <tr>\n",
       "      <th>0</th>\n",
       "      <td>Bagels are average at best, very stingy here. ...</td>\n",
       "      <td>0</td>\n",
       "      <td>0</td>\n",
       "      <td>0</td>\n",
       "      <td>0</td>\n",
       "      <td>0</td>\n",
       "      <td>0</td>\n",
       "      <td>0</td>\n",
       "      <td>0</td>\n",
       "      <td>0</td>\n",
       "      <td>0</td>\n",
       "      <td>0</td>\n",
       "      <td>0</td>\n",
       "      <td>0</td>\n",
       "      <td>1</td>\n",
       "      <td>0</td>\n",
       "    </tr>\n",
       "    <tr>\n",
       "      <th>1</th>\n",
       "      <td>The atmosphere is nice and intimate. Our serve...</td>\n",
       "      <td>1</td>\n",
       "      <td>1</td>\n",
       "      <td>1</td>\n",
       "      <td>1</td>\n",
       "      <td>1</td>\n",
       "      <td>1</td>\n",
       "      <td>1</td>\n",
       "      <td>1</td>\n",
       "      <td>1</td>\n",
       "      <td>1</td>\n",
       "      <td>1</td>\n",
       "      <td>1</td>\n",
       "      <td>1</td>\n",
       "      <td>1</td>\n",
       "      <td>1</td>\n",
       "    </tr>\n",
       "    <tr>\n",
       "      <th>2</th>\n",
       "      <td>Stayed 3 nights at the Grand and it was an abs...</td>\n",
       "      <td>0</td>\n",
       "      <td>0</td>\n",
       "      <td>0</td>\n",
       "      <td>0</td>\n",
       "      <td>0</td>\n",
       "      <td>0</td>\n",
       "      <td>0</td>\n",
       "      <td>0</td>\n",
       "      <td>0</td>\n",
       "      <td>0</td>\n",
       "      <td>0</td>\n",
       "      <td>0</td>\n",
       "      <td>0</td>\n",
       "      <td>1</td>\n",
       "      <td>0</td>\n",
       "    </tr>\n",
       "    <tr>\n",
       "      <th>3</th>\n",
       "      <td>Looking at past reviews, it appears there has ...</td>\n",
       "      <td>1</td>\n",
       "      <td>1</td>\n",
       "      <td>1</td>\n",
       "      <td>1</td>\n",
       "      <td>1</td>\n",
       "      <td>1</td>\n",
       "      <td>1</td>\n",
       "      <td>1</td>\n",
       "      <td>1</td>\n",
       "      <td>0</td>\n",
       "      <td>1</td>\n",
       "      <td>1</td>\n",
       "      <td>0</td>\n",
       "      <td>1</td>\n",
       "      <td>0</td>\n",
       "    </tr>\n",
       "    <tr>\n",
       "      <th>4</th>\n",
       "      <td>Apparently there are 7 Beauty Bars? This is th...</td>\n",
       "      <td>1</td>\n",
       "      <td>0</td>\n",
       "      <td>0</td>\n",
       "      <td>0</td>\n",
       "      <td>0</td>\n",
       "      <td>0</td>\n",
       "      <td>0</td>\n",
       "      <td>1</td>\n",
       "      <td>1</td>\n",
       "      <td>0</td>\n",
       "      <td>0</td>\n",
       "      <td>0</td>\n",
       "      <td>0</td>\n",
       "      <td>1</td>\n",
       "      <td>0</td>\n",
       "    </tr>\n",
       "    <tr>\n",
       "      <th>...</th>\n",
       "      <td>...</td>\n",
       "      <td>...</td>\n",
       "      <td>...</td>\n",
       "      <td>...</td>\n",
       "      <td>...</td>\n",
       "      <td>...</td>\n",
       "      <td>...</td>\n",
       "      <td>...</td>\n",
       "      <td>...</td>\n",
       "      <td>...</td>\n",
       "      <td>...</td>\n",
       "      <td>...</td>\n",
       "      <td>...</td>\n",
       "      <td>...</td>\n",
       "      <td>...</td>\n",
       "      <td>...</td>\n",
       "    </tr>\n",
       "    <tr>\n",
       "      <th>9995</th>\n",
       "      <td>Recently I have been shopping at Sprouts and I...</td>\n",
       "      <td>0</td>\n",
       "      <td>1</td>\n",
       "      <td>0</td>\n",
       "      <td>0</td>\n",
       "      <td>0</td>\n",
       "      <td>1</td>\n",
       "      <td>0</td>\n",
       "      <td>1</td>\n",
       "      <td>0</td>\n",
       "      <td>0</td>\n",
       "      <td>0</td>\n",
       "      <td>0</td>\n",
       "      <td>0</td>\n",
       "      <td>1</td>\n",
       "      <td>0</td>\n",
       "    </tr>\n",
       "    <tr>\n",
       "      <th>9996</th>\n",
       "      <td>I've been here twice for dinner and once for t...</td>\n",
       "      <td>1</td>\n",
       "      <td>1</td>\n",
       "      <td>0</td>\n",
       "      <td>1</td>\n",
       "      <td>1</td>\n",
       "      <td>0</td>\n",
       "      <td>0</td>\n",
       "      <td>1</td>\n",
       "      <td>1</td>\n",
       "      <td>1</td>\n",
       "      <td>1</td>\n",
       "      <td>0</td>\n",
       "      <td>0</td>\n",
       "      <td>1</td>\n",
       "      <td>0</td>\n",
       "    </tr>\n",
       "    <tr>\n",
       "      <th>9997</th>\n",
       "      <td>I'm giving Chipotle a 2 only to differentiate ...</td>\n",
       "      <td>0</td>\n",
       "      <td>0</td>\n",
       "      <td>0</td>\n",
       "      <td>0</td>\n",
       "      <td>0</td>\n",
       "      <td>0</td>\n",
       "      <td>0</td>\n",
       "      <td>0</td>\n",
       "      <td>0</td>\n",
       "      <td>0</td>\n",
       "      <td>0</td>\n",
       "      <td>0</td>\n",
       "      <td>0</td>\n",
       "      <td>1</td>\n",
       "      <td>0</td>\n",
       "    </tr>\n",
       "    <tr>\n",
       "      <th>9998</th>\n",
       "      <td>Went here a couple times liked the homemade le...</td>\n",
       "      <td>1</td>\n",
       "      <td>1</td>\n",
       "      <td>1</td>\n",
       "      <td>1</td>\n",
       "      <td>1</td>\n",
       "      <td>0</td>\n",
       "      <td>1</td>\n",
       "      <td>1</td>\n",
       "      <td>1</td>\n",
       "      <td>1</td>\n",
       "      <td>1</td>\n",
       "      <td>1</td>\n",
       "      <td>0</td>\n",
       "      <td>1</td>\n",
       "      <td>0</td>\n",
       "    </tr>\n",
       "    <tr>\n",
       "      <th>9999</th>\n",
       "      <td>This review is for their bakery. We have order...</td>\n",
       "      <td>1</td>\n",
       "      <td>1</td>\n",
       "      <td>1</td>\n",
       "      <td>1</td>\n",
       "      <td>1</td>\n",
       "      <td>1</td>\n",
       "      <td>1</td>\n",
       "      <td>1</td>\n",
       "      <td>1</td>\n",
       "      <td>0</td>\n",
       "      <td>1</td>\n",
       "      <td>1</td>\n",
       "      <td>1</td>\n",
       "      <td>1</td>\n",
       "      <td>1</td>\n",
       "    </tr>\n",
       "  </tbody>\n",
       "</table>\n",
       "<p>10000 rows × 16 columns</p>\n",
       "</div>"
      ],
      "text/plain": [
       "                                                   text  label  random1_label  \\\n",
       "0     Bagels are average at best, very stingy here. ...      0              0   \n",
       "1     The atmosphere is nice and intimate. Our serve...      1              1   \n",
       "2     Stayed 3 nights at the Grand and it was an abs...      0              0   \n",
       "3     Looking at past reviews, it appears there has ...      1              1   \n",
       "4     Apparently there are 7 Beauty Bars? This is th...      1              0   \n",
       "...                                                 ...    ...            ...   \n",
       "9995  Recently I have been shopping at Sprouts and I...      0              1   \n",
       "9996  I've been here twice for dinner and once for t...      1              1   \n",
       "9997  I'm giving Chipotle a 2 only to differentiate ...      0              0   \n",
       "9998  Went here a couple times liked the homemade le...      1              1   \n",
       "9999  This review is for their bakery. We have order...      1              1   \n",
       "\n",
       "      random2_label  random3_label  cosine_label  pvp0  pvp1  pvp2  pvp3  \\\n",
       "0                 0              0             0     0     0     0     0   \n",
       "1                 1              1             1     1     1     1     1   \n",
       "2                 0              0             0     0     0     0     0   \n",
       "3                 1              1             1     1     1     1     1   \n",
       "4                 0              0             0     0     0     1     1   \n",
       "...             ...            ...           ...   ...   ...   ...   ...   \n",
       "9995              0              0             0     1     0     1     0   \n",
       "9996              0              1             1     0     0     1     1   \n",
       "9997              0              0             0     0     0     0     0   \n",
       "9998              1              1             1     0     1     1     1   \n",
       "9999              1              1             1     1     1     1     1   \n",
       "\n",
       "      pvp4  pvp5  pvp6  pvp7  pvp8  pvp9  \n",
       "0        0     0     0     0     1     0  \n",
       "1        1     1     1     1     1     1  \n",
       "2        0     0     0     0     1     0  \n",
       "3        0     1     1     0     1     0  \n",
       "4        0     0     0     0     1     0  \n",
       "...    ...   ...   ...   ...   ...   ...  \n",
       "9995     0     0     0     0     1     0  \n",
       "9996     1     1     0     0     1     0  \n",
       "9997     0     0     0     0     1     0  \n",
       "9998     1     1     1     0     1     0  \n",
       "9999     0     1     1     1     1     1  \n",
       "\n",
       "[10000 rows x 16 columns]"
      ]
     },
     "execution_count": 22,
     "metadata": {},
     "output_type": "execute_result"
    }
   ],
   "source": [
    "df_unlabeled"
   ]
  },
  {
   "cell_type": "code",
   "execution_count": null,
   "metadata": {},
   "outputs": [],
   "source": []
  },
  {
   "cell_type": "code",
   "execution_count": null,
   "metadata": {},
   "outputs": [],
   "source": []
  },
  {
   "cell_type": "code",
   "execution_count": 35,
   "metadata": {},
   "outputs": [],
   "source": [
    "t3f16 = df_unlabeled.index[(df_unlabeled['label'] == df_unlabeled['pvp3'])&\n",
    "    (df_unlabeled['pvp3'] != df_unlabeled['pvp1']) &\n",
    "                           (df_unlabeled['pvp3'] != df_unlabeled['pvp6'])]"
   ]
  },
  {
   "cell_type": "code",
   "execution_count": 36,
   "metadata": {},
   "outputs": [
    {
     "data": {
      "text/plain": [
       "Int64Index([   4,   30,   78,  164,  165,  211,  230,  258,  315,  403,\n",
       "            ...\n",
       "            9625, 9649, 9713, 9724, 9777, 9780, 9810, 9953, 9969, 9996],\n",
       "           dtype='int64', length=216)"
      ]
     },
     "execution_count": 36,
     "metadata": {},
     "output_type": "execute_result"
    }
   ],
   "source": [
    "t3f16"
   ]
  },
  {
   "cell_type": "code",
   "execution_count": 37,
   "metadata": {},
   "outputs": [],
   "source": [
    "frm3 = df_unlabeled.index[(df_unlabeled['label'] != df_unlabeled['random2_label'])]"
   ]
  },
  {
   "cell_type": "code",
   "execution_count": 38,
   "metadata": {},
   "outputs": [
    {
     "data": {
      "text/plain": [
       "Int64Index([   4,   30,   71,   78,   83,   99,  130,  164,  190,  211,\n",
       "            ...\n",
       "            9649, 9679, 9708, 9713, 9724, 9777, 9810, 9854, 9949, 9996],\n",
       "           dtype='int64', length=432)"
      ]
     },
     "execution_count": 38,
     "metadata": {},
     "output_type": "execute_result"
    }
   ],
   "source": [
    "frm3"
   ]
  },
  {
   "cell_type": "code",
   "execution_count": 39,
   "metadata": {},
   "outputs": [
    {
     "name": "stderr",
     "output_type": "stream",
     "text": [
      "C:\\Users\\user\\AppData\\Local\\Temp\\ipykernel_1228\\2321512930.py:1: FutureWarning: Index.__and__ operating as a set operation is deprecated, in the future this will be a logical operation matching Series.__and__.  Use index.intersection(other) instead.\n",
      "  common_indices = t3f16 &frm3\n"
     ]
    }
   ],
   "source": [
    "common_indices = t3f16 &frm3"
   ]
  },
  {
   "cell_type": "code",
   "execution_count": 40,
   "metadata": {},
   "outputs": [
    {
     "data": {
      "text/plain": [
       "Int64Index([   4,   30,   78,  164,  211,  230,  258,  315,  403,  450,\n",
       "            ...\n",
       "            9553, 9579, 9614, 9625, 9649, 9713, 9724, 9777, 9810, 9996],\n",
       "           dtype='int64', length=178)"
      ]
     },
     "execution_count": 40,
     "metadata": {},
     "output_type": "execute_result"
    }
   ],
   "source": [
    "common_indices"
   ]
  },
  {
   "cell_type": "code",
   "execution_count": 48,
   "metadata": {},
   "outputs": [
    {
     "data": {
      "text/html": [
       "<div>\n",
       "<style scoped>\n",
       "    .dataframe tbody tr th:only-of-type {\n",
       "        vertical-align: middle;\n",
       "    }\n",
       "\n",
       "    .dataframe tbody tr th {\n",
       "        vertical-align: top;\n",
       "    }\n",
       "\n",
       "    .dataframe thead th {\n",
       "        text-align: right;\n",
       "    }\n",
       "</style>\n",
       "<table border=\"1\" class=\"dataframe\">\n",
       "  <thead>\n",
       "    <tr style=\"text-align: right;\">\n",
       "      <th></th>\n",
       "      <th>0</th>\n",
       "      <th>1</th>\n",
       "    </tr>\n",
       "  </thead>\n",
       "  <tbody>\n",
       "    <tr>\n",
       "      <th>4</th>\n",
       "      <td>0.616223</td>\n",
       "      <td>0.383778</td>\n",
       "    </tr>\n",
       "    <tr>\n",
       "      <th>30</th>\n",
       "      <td>0.636600</td>\n",
       "      <td>0.363400</td>\n",
       "    </tr>\n",
       "    <tr>\n",
       "      <th>78</th>\n",
       "      <td>0.524690</td>\n",
       "      <td>0.475310</td>\n",
       "    </tr>\n",
       "    <tr>\n",
       "      <th>164</th>\n",
       "      <td>0.632714</td>\n",
       "      <td>0.367286</td>\n",
       "    </tr>\n",
       "    <tr>\n",
       "      <th>211</th>\n",
       "      <td>0.560232</td>\n",
       "      <td>0.439768</td>\n",
       "    </tr>\n",
       "    <tr>\n",
       "      <th>...</th>\n",
       "      <td>...</td>\n",
       "      <td>...</td>\n",
       "    </tr>\n",
       "    <tr>\n",
       "      <th>9713</th>\n",
       "      <td>0.616643</td>\n",
       "      <td>0.383357</td>\n",
       "    </tr>\n",
       "    <tr>\n",
       "      <th>9724</th>\n",
       "      <td>0.542444</td>\n",
       "      <td>0.457556</td>\n",
       "    </tr>\n",
       "    <tr>\n",
       "      <th>9777</th>\n",
       "      <td>0.667499</td>\n",
       "      <td>0.332501</td>\n",
       "    </tr>\n",
       "    <tr>\n",
       "      <th>9810</th>\n",
       "      <td>0.641706</td>\n",
       "      <td>0.358294</td>\n",
       "    </tr>\n",
       "    <tr>\n",
       "      <th>9996</th>\n",
       "      <td>0.531644</td>\n",
       "      <td>0.468356</td>\n",
       "    </tr>\n",
       "  </tbody>\n",
       "</table>\n",
       "<p>178 rows × 2 columns</p>\n",
       "</div>"
      ],
      "text/plain": [
       "             0         1\n",
       "4     0.616223  0.383778\n",
       "30    0.636600  0.363400\n",
       "78    0.524690  0.475310\n",
       "164   0.632714  0.367286\n",
       "211   0.560232  0.439768\n",
       "...        ...       ...\n",
       "9713  0.616643  0.383357\n",
       "9724  0.542444  0.457556\n",
       "9777  0.667499  0.332501\n",
       "9810  0.641706  0.358294\n",
       "9996  0.531644  0.468356\n",
       "\n",
       "[178 rows x 2 columns]"
      ]
     },
     "execution_count": 48,
     "metadata": {},
     "output_type": "execute_result"
    }
   ],
   "source": [
    "random2_soft_df.loc[common_indices]"
   ]
  },
  {
   "cell_type": "code",
   "execution_count": 50,
   "metadata": {},
   "outputs": [
    {
     "data": {
      "text/html": [
       "<div>\n",
       "<style scoped>\n",
       "    .dataframe tbody tr th:only-of-type {\n",
       "        vertical-align: middle;\n",
       "    }\n",
       "\n",
       "    .dataframe tbody tr th {\n",
       "        vertical-align: top;\n",
       "    }\n",
       "\n",
       "    .dataframe thead th {\n",
       "        text-align: right;\n",
       "    }\n",
       "</style>\n",
       "<table border=\"1\" class=\"dataframe\">\n",
       "  <thead>\n",
       "    <tr style=\"text-align: right;\">\n",
       "      <th></th>\n",
       "      <th>0</th>\n",
       "      <th>1</th>\n",
       "    </tr>\n",
       "  </thead>\n",
       "  <tbody>\n",
       "    <tr>\n",
       "      <th>4</th>\n",
       "      <td>0.002260</td>\n",
       "      <td>0.997740</td>\n",
       "    </tr>\n",
       "    <tr>\n",
       "      <th>30</th>\n",
       "      <td>0.000543</td>\n",
       "      <td>0.999457</td>\n",
       "    </tr>\n",
       "    <tr>\n",
       "      <th>78</th>\n",
       "      <td>0.000915</td>\n",
       "      <td>0.999085</td>\n",
       "    </tr>\n",
       "    <tr>\n",
       "      <th>164</th>\n",
       "      <td>0.000751</td>\n",
       "      <td>0.999249</td>\n",
       "    </tr>\n",
       "    <tr>\n",
       "      <th>211</th>\n",
       "      <td>0.000988</td>\n",
       "      <td>0.999012</td>\n",
       "    </tr>\n",
       "    <tr>\n",
       "      <th>...</th>\n",
       "      <td>...</td>\n",
       "      <td>...</td>\n",
       "    </tr>\n",
       "    <tr>\n",
       "      <th>9713</th>\n",
       "      <td>0.003289</td>\n",
       "      <td>0.996711</td>\n",
       "    </tr>\n",
       "    <tr>\n",
       "      <th>9724</th>\n",
       "      <td>0.001360</td>\n",
       "      <td>0.998640</td>\n",
       "    </tr>\n",
       "    <tr>\n",
       "      <th>9777</th>\n",
       "      <td>0.095544</td>\n",
       "      <td>0.904456</td>\n",
       "    </tr>\n",
       "    <tr>\n",
       "      <th>9810</th>\n",
       "      <td>0.002292</td>\n",
       "      <td>0.997708</td>\n",
       "    </tr>\n",
       "    <tr>\n",
       "      <th>9996</th>\n",
       "      <td>0.000369</td>\n",
       "      <td>0.999631</td>\n",
       "    </tr>\n",
       "  </tbody>\n",
       "</table>\n",
       "<p>178 rows × 2 columns</p>\n",
       "</div>"
      ],
      "text/plain": [
       "             0         1\n",
       "4     0.002260  0.997740\n",
       "30    0.000543  0.999457\n",
       "78    0.000915  0.999085\n",
       "164   0.000751  0.999249\n",
       "211   0.000988  0.999012\n",
       "...        ...       ...\n",
       "9713  0.003289  0.996711\n",
       "9724  0.001360  0.998640\n",
       "9777  0.095544  0.904456\n",
       "9810  0.002292  0.997708\n",
       "9996  0.000369  0.999631\n",
       "\n",
       "[178 rows x 2 columns]"
      ]
     },
     "execution_count": 50,
     "metadata": {},
     "output_type": "execute_result"
    }
   ],
   "source": [
    "PVP3_soft_df.loc[common_indices]"
   ]
  },
  {
   "cell_type": "code",
   "execution_count": null,
   "metadata": {},
   "outputs": [],
   "source": [
    "common_indices"
   ]
  },
  {
   "cell_type": "code",
   "execution_count": 51,
   "metadata": {},
   "outputs": [
    {
     "data": {
      "text/html": [
       "<div>\n",
       "<style scoped>\n",
       "    .dataframe tbody tr th:only-of-type {\n",
       "        vertical-align: middle;\n",
       "    }\n",
       "\n",
       "    .dataframe tbody tr th {\n",
       "        vertical-align: top;\n",
       "    }\n",
       "\n",
       "    .dataframe thead th {\n",
       "        text-align: right;\n",
       "    }\n",
       "</style>\n",
       "<table border=\"1\" class=\"dataframe\">\n",
       "  <thead>\n",
       "    <tr style=\"text-align: right;\">\n",
       "      <th></th>\n",
       "      <th>0</th>\n",
       "      <th>1</th>\n",
       "    </tr>\n",
       "  </thead>\n",
       "  <tbody>\n",
       "    <tr>\n",
       "      <th>4</th>\n",
       "      <td>0.661972</td>\n",
       "      <td>0.338028</td>\n",
       "    </tr>\n",
       "    <tr>\n",
       "      <th>30</th>\n",
       "      <td>0.083833</td>\n",
       "      <td>0.916167</td>\n",
       "    </tr>\n",
       "    <tr>\n",
       "      <th>78</th>\n",
       "      <td>0.009707</td>\n",
       "      <td>0.990293</td>\n",
       "    </tr>\n",
       "    <tr>\n",
       "      <th>164</th>\n",
       "      <td>0.037410</td>\n",
       "      <td>0.962590</td>\n",
       "    </tr>\n",
       "    <tr>\n",
       "      <th>211</th>\n",
       "      <td>0.115943</td>\n",
       "      <td>0.884057</td>\n",
       "    </tr>\n",
       "    <tr>\n",
       "      <th>...</th>\n",
       "      <td>...</td>\n",
       "      <td>...</td>\n",
       "    </tr>\n",
       "    <tr>\n",
       "      <th>9713</th>\n",
       "      <td>0.421907</td>\n",
       "      <td>0.578093</td>\n",
       "    </tr>\n",
       "    <tr>\n",
       "      <th>9724</th>\n",
       "      <td>0.026099</td>\n",
       "      <td>0.973901</td>\n",
       "    </tr>\n",
       "    <tr>\n",
       "      <th>9777</th>\n",
       "      <td>0.693822</td>\n",
       "      <td>0.306178</td>\n",
       "    </tr>\n",
       "    <tr>\n",
       "      <th>9810</th>\n",
       "      <td>0.348176</td>\n",
       "      <td>0.651824</td>\n",
       "    </tr>\n",
       "    <tr>\n",
       "      <th>9996</th>\n",
       "      <td>0.012711</td>\n",
       "      <td>0.987289</td>\n",
       "    </tr>\n",
       "  </tbody>\n",
       "</table>\n",
       "<p>178 rows × 2 columns</p>\n",
       "</div>"
      ],
      "text/plain": [
       "             0         1\n",
       "4     0.661972  0.338028\n",
       "30    0.083833  0.916167\n",
       "78    0.009707  0.990293\n",
       "164   0.037410  0.962590\n",
       "211   0.115943  0.884057\n",
       "...        ...       ...\n",
       "9713  0.421907  0.578093\n",
       "9724  0.026099  0.973901\n",
       "9777  0.693822  0.306178\n",
       "9810  0.348176  0.651824\n",
       "9996  0.012711  0.987289\n",
       "\n",
       "[178 rows x 2 columns]"
      ]
     },
     "execution_count": 51,
     "metadata": {},
     "output_type": "execute_result"
    }
   ],
   "source": [
    "cosine_soft_df.loc[common_indices]"
   ]
  },
  {
   "cell_type": "code",
   "execution_count": 54,
   "metadata": {},
   "outputs": [],
   "source": [
    "a = df_unlabeled.loc[common_indices]"
   ]
  },
  {
   "cell_type": "code",
   "execution_count": 65,
   "metadata": {},
   "outputs": [],
   "source": [
    "result = a.index[(a['label'] == a['cosine_label'])]"
   ]
  },
  {
   "cell_type": "code",
   "execution_count": 66,
   "metadata": {},
   "outputs": [
    {
     "data": {
      "text/plain": [
       "136"
      ]
     },
     "execution_count": 66,
     "metadata": {},
     "output_type": "execute_result"
    }
   ],
   "source": [
    "len(result)"
   ]
  },
  {
   "cell_type": "code",
   "execution_count": 68,
   "metadata": {},
   "outputs": [
    {
     "data": {
      "text/html": [
       "<div>\n",
       "<style scoped>\n",
       "    .dataframe tbody tr th:only-of-type {\n",
       "        vertical-align: middle;\n",
       "    }\n",
       "\n",
       "    .dataframe tbody tr th {\n",
       "        vertical-align: top;\n",
       "    }\n",
       "\n",
       "    .dataframe thead th {\n",
       "        text-align: right;\n",
       "    }\n",
       "</style>\n",
       "<table border=\"1\" class=\"dataframe\">\n",
       "  <thead>\n",
       "    <tr style=\"text-align: right;\">\n",
       "      <th></th>\n",
       "      <th>0</th>\n",
       "      <th>1</th>\n",
       "    </tr>\n",
       "  </thead>\n",
       "  <tbody>\n",
       "    <tr>\n",
       "      <th>30</th>\n",
       "      <td>0.083833</td>\n",
       "      <td>0.916167</td>\n",
       "    </tr>\n",
       "    <tr>\n",
       "      <th>78</th>\n",
       "      <td>0.009707</td>\n",
       "      <td>0.990293</td>\n",
       "    </tr>\n",
       "    <tr>\n",
       "      <th>164</th>\n",
       "      <td>0.037410</td>\n",
       "      <td>0.962590</td>\n",
       "    </tr>\n",
       "    <tr>\n",
       "      <th>211</th>\n",
       "      <td>0.115943</td>\n",
       "      <td>0.884057</td>\n",
       "    </tr>\n",
       "    <tr>\n",
       "      <th>258</th>\n",
       "      <td>0.396668</td>\n",
       "      <td>0.603332</td>\n",
       "    </tr>\n",
       "    <tr>\n",
       "      <th>...</th>\n",
       "      <td>...</td>\n",
       "      <td>...</td>\n",
       "    </tr>\n",
       "    <tr>\n",
       "      <th>9649</th>\n",
       "      <td>0.234157</td>\n",
       "      <td>0.765844</td>\n",
       "    </tr>\n",
       "    <tr>\n",
       "      <th>9713</th>\n",
       "      <td>0.421907</td>\n",
       "      <td>0.578093</td>\n",
       "    </tr>\n",
       "    <tr>\n",
       "      <th>9724</th>\n",
       "      <td>0.026099</td>\n",
       "      <td>0.973901</td>\n",
       "    </tr>\n",
       "    <tr>\n",
       "      <th>9810</th>\n",
       "      <td>0.348176</td>\n",
       "      <td>0.651824</td>\n",
       "    </tr>\n",
       "    <tr>\n",
       "      <th>9996</th>\n",
       "      <td>0.012711</td>\n",
       "      <td>0.987289</td>\n",
       "    </tr>\n",
       "  </tbody>\n",
       "</table>\n",
       "<p>136 rows × 2 columns</p>\n",
       "</div>"
      ],
      "text/plain": [
       "             0         1\n",
       "30    0.083833  0.916167\n",
       "78    0.009707  0.990293\n",
       "164   0.037410  0.962590\n",
       "211   0.115943  0.884057\n",
       "258   0.396668  0.603332\n",
       "...        ...       ...\n",
       "9649  0.234157  0.765844\n",
       "9713  0.421907  0.578093\n",
       "9724  0.026099  0.973901\n",
       "9810  0.348176  0.651824\n",
       "9996  0.012711  0.987289\n",
       "\n",
       "[136 rows x 2 columns]"
      ]
     },
     "execution_count": 68,
     "metadata": {},
     "output_type": "execute_result"
    }
   ],
   "source": [
    "cosine_soft_df.loc[result]"
   ]
  },
  {
   "cell_type": "code",
   "execution_count": 13,
   "metadata": {},
   "outputs": [],
   "source": [
    "df_wrong_answer_random_1 = df_unlabeled.loc[wrong_answer_random_1]\n",
    "df_wrong_answer_random_2 = df_unlabeled.loc[wrong_answer_random_2]\n",
    "df_wrong_answer_random_3 = df_unlabeled.loc[wrong_answer_random_3]\n",
    "df_wrong_answer_cosine = df_unlabeled.loc[wrong_answer_cosine]"
   ]
  },
  {
   "cell_type": "code",
   "execution_count": 14,
   "metadata": {},
   "outputs": [],
   "source": [
    "wrong_answer_writer = pd.ExcelWriter('C:/Users/user/Desktop/논문리뷰/Pattern-Exploiting-Training(PET)/code/testPET - 복사본/data3/result/wrong_answers.xlsx', engine='xlsxwriter')"
   ]
  },
  {
   "cell_type": "code",
   "execution_count": 15,
   "metadata": {},
   "outputs": [],
   "source": [
    "df_wrong_answer_random_1.to_excel(wrong_answer_writer, sheet_name='random_1', index=True)\n",
    "df_wrong_answer_random_2.to_excel(wrong_answer_writer, sheet_name='random_2', index=True)\n",
    "df_wrong_answer_random_3.to_excel(wrong_answer_writer, sheet_name='random_3', index=True)\n",
    "df_wrong_answer_cosine.to_excel(wrong_answer_writer, sheet_name='cosine', index=True)"
   ]
  },
  {
   "cell_type": "code",
   "execution_count": 16,
   "metadata": {},
   "outputs": [
    {
     "name": "stderr",
     "output_type": "stream",
     "text": [
      "C:\\Users\\user\\AppData\\Local\\Temp\\ipykernel_13488\\772461091.py:1: FutureWarning: save is not part of the public API, usage can give unexpected results and will be removed in a future version\n",
      "  wrong_answer_writer.save()\n"
     ]
    }
   ],
   "source": [
    "wrong_answer_writer.save()"
   ]
  },
  {
   "cell_type": "markdown",
   "metadata": {},
   "source": [
    "유사도 기준으로 유사도는 맞았는데, 다른 기준은 틀린 값"
   ]
  },
  {
   "cell_type": "code",
   "execution_count": 17,
   "metadata": {},
   "outputs": [],
   "source": [
    "df_difference_random_1 = df_unlabeled.loc[(df_unlabeled['label'] == df_unlabeled['cosine_label']) & (df_unlabeled['label'] != df_unlabeled['random1_label']), ['text', 'label','cosine_label','random1_label']]\n",
    "df_difference_random_2 = df_unlabeled.loc[(df_unlabeled['label'] == df_unlabeled['cosine_label']) & (df_unlabeled['label'] != df_unlabeled['random2_label']), ['text', 'label','cosine_label','random2_label']]\n",
    "df_difference_random_3 = df_unlabeled.loc[(df_unlabeled['label'] == df_unlabeled['cosine_label']) & (df_unlabeled['label'] != df_unlabeled['random3_label']), ['text', 'label','cosine_label','random3_label']]"
   ]
  },
  {
   "cell_type": "code",
   "execution_count": 18,
   "metadata": {},
   "outputs": [],
   "source": [
    "different_answer_writer = pd.ExcelWriter('C:/Users/user/Desktop/논문리뷰/Pattern-Exploiting-Training(PET)/code/testPET - 복사본/data_2/result_df/different_answers.xlsx', engine='xlsxwriter')"
   ]
  },
  {
   "cell_type": "code",
   "execution_count": 19,
   "metadata": {},
   "outputs": [],
   "source": [
    "df_difference_random_1.to_excel(different_answer_writer, sheet_name='random_1', index=True)\n",
    "df_difference_random_2.to_excel(different_answer_writer, sheet_name='random_2', index=True)\n",
    "df_difference_random_3.to_excel(different_answer_writer, sheet_name='random_3', index=True)"
   ]
  },
  {
   "cell_type": "code",
   "execution_count": 20,
   "metadata": {},
   "outputs": [
    {
     "name": "stderr",
     "output_type": "stream",
     "text": [
      "C:\\Users\\user\\AppData\\Local\\Temp\\ipykernel_13488\\1482095935.py:1: FutureWarning: save is not part of the public API, usage can give unexpected results and will be removed in a future version\n",
      "  different_answer_writer.save()\n"
     ]
    }
   ],
   "source": [
    "different_answer_writer.save()"
   ]
  },
  {
   "cell_type": "markdown",
   "metadata": {},
   "source": [
    "# 유사도만 맞춘 값"
   ]
  },
  {
   "cell_type": "code",
   "execution_count": 21,
   "metadata": {},
   "outputs": [],
   "source": [
    "only_cosine = df_unlabeled.loc[(df_unlabeled['label'] == df_unlabeled['cosine_label']) &\n",
    "                               (df_unlabeled['label'] != df_unlabeled['random1_label']) &\n",
    "                               (df_unlabeled['label'] != df_unlabeled['random2_label']) &\n",
    "                               (df_unlabeled['label'] != df_unlabeled['random3_label']),\n",
    "                               ['text', 'label','cosine_label','random1_label', 'random2_label','random3_label']\n",
    "]"
   ]
  },
  {
   "cell_type": "code",
   "execution_count": 22,
   "metadata": {},
   "outputs": [
    {
     "data": {
      "text/html": [
       "<div>\n",
       "<style scoped>\n",
       "    .dataframe tbody tr th:only-of-type {\n",
       "        vertical-align: middle;\n",
       "    }\n",
       "\n",
       "    .dataframe tbody tr th {\n",
       "        vertical-align: top;\n",
       "    }\n",
       "\n",
       "    .dataframe thead th {\n",
       "        text-align: right;\n",
       "    }\n",
       "</style>\n",
       "<table border=\"1\" class=\"dataframe\">\n",
       "  <thead>\n",
       "    <tr style=\"text-align: right;\">\n",
       "      <th></th>\n",
       "      <th>text</th>\n",
       "      <th>label</th>\n",
       "      <th>cosine_label</th>\n",
       "      <th>random1_label</th>\n",
       "      <th>random2_label</th>\n",
       "      <th>random3_label</th>\n",
       "    </tr>\n",
       "  </thead>\n",
       "  <tbody>\n",
       "    <tr>\n",
       "      <th>779</th>\n",
       "      <td>There were some dishes on the menu that were g...</td>\n",
       "      <td>2</td>\n",
       "      <td>2</td>\n",
       "      <td>1</td>\n",
       "      <td>1</td>\n",
       "      <td>1</td>\n",
       "    </tr>\n",
       "    <tr>\n",
       "      <th>1348</th>\n",
       "      <td>This place was pretty good I got there version...</td>\n",
       "      <td>2</td>\n",
       "      <td>2</td>\n",
       "      <td>1</td>\n",
       "      <td>1</td>\n",
       "      <td>1</td>\n",
       "    </tr>\n",
       "    <tr>\n",
       "      <th>2970</th>\n",
       "      <td>We had the chicken burrito chimi style. Wasn't...</td>\n",
       "      <td>2</td>\n",
       "      <td>2</td>\n",
       "      <td>1</td>\n",
       "      <td>1</td>\n",
       "      <td>1</td>\n",
       "    </tr>\n",
       "    <tr>\n",
       "      <th>3508</th>\n",
       "      <td>Decent Thai place for lunch in downtown Phoeni...</td>\n",
       "      <td>2</td>\n",
       "      <td>2</td>\n",
       "      <td>1</td>\n",
       "      <td>1</td>\n",
       "      <td>1</td>\n",
       "    </tr>\n",
       "    <tr>\n",
       "      <th>4913</th>\n",
       "      <td>My family absolutely loves the pizza and wings...</td>\n",
       "      <td>2</td>\n",
       "      <td>2</td>\n",
       "      <td>1</td>\n",
       "      <td>1</td>\n",
       "      <td>1</td>\n",
       "    </tr>\n",
       "    <tr>\n",
       "      <th>5691</th>\n",
       "      <td>The hard rock is a decent place to stay. The r...</td>\n",
       "      <td>2</td>\n",
       "      <td>2</td>\n",
       "      <td>1</td>\n",
       "      <td>1</td>\n",
       "      <td>1</td>\n",
       "    </tr>\n",
       "    <tr>\n",
       "      <th>6171</th>\n",
       "      <td>Nice atmosphere, live music, If your a wine bu...</td>\n",
       "      <td>2</td>\n",
       "      <td>2</td>\n",
       "      <td>1</td>\n",
       "      <td>1</td>\n",
       "      <td>1</td>\n",
       "    </tr>\n",
       "    <tr>\n",
       "      <th>6458</th>\n",
       "      <td>Very clean. Nice room stayed in a junior suite...</td>\n",
       "      <td>2</td>\n",
       "      <td>2</td>\n",
       "      <td>1</td>\n",
       "      <td>1</td>\n",
       "      <td>1</td>\n",
       "    </tr>\n",
       "    <tr>\n",
       "      <th>9015</th>\n",
       "      <td>Considering the options in the food court at t...</td>\n",
       "      <td>2</td>\n",
       "      <td>2</td>\n",
       "      <td>1</td>\n",
       "      <td>1</td>\n",
       "      <td>1</td>\n",
       "    </tr>\n",
       "  </tbody>\n",
       "</table>\n",
       "</div>"
      ],
      "text/plain": [
       "                                                   text  label  cosine_label  \\\n",
       "779   There were some dishes on the menu that were g...      2             2   \n",
       "1348  This place was pretty good I got there version...      2             2   \n",
       "2970  We had the chicken burrito chimi style. Wasn't...      2             2   \n",
       "3508  Decent Thai place for lunch in downtown Phoeni...      2             2   \n",
       "4913  My family absolutely loves the pizza and wings...      2             2   \n",
       "5691  The hard rock is a decent place to stay. The r...      2             2   \n",
       "6171  Nice atmosphere, live music, If your a wine bu...      2             2   \n",
       "6458  Very clean. Nice room stayed in a junior suite...      2             2   \n",
       "9015  Considering the options in the food court at t...      2             2   \n",
       "\n",
       "      random1_label  random2_label  random3_label  \n",
       "779               1              1              1  \n",
       "1348              1              1              1  \n",
       "2970              1              1              1  \n",
       "3508              1              1              1  \n",
       "4913              1              1              1  \n",
       "5691              1              1              1  \n",
       "6171              1              1              1  \n",
       "6458              1              1              1  \n",
       "9015              1              1              1  "
      ]
     },
     "execution_count": 22,
     "metadata": {},
     "output_type": "execute_result"
    }
   ],
   "source": [
    "only_cosine"
   ]
  },
  {
   "cell_type": "code",
   "execution_count": 23,
   "metadata": {},
   "outputs": [],
   "source": [
    "only_cosine_writer = pd.ExcelWriter('C:/Users/user/Desktop/논문리뷰/Pattern-Exploiting-Training(PET)/code/testPET - 복사본/data3/result/only_cosine.xlsx', engine='xlsxwriter')"
   ]
  },
  {
   "cell_type": "code",
   "execution_count": 24,
   "metadata": {},
   "outputs": [],
   "source": [
    "only_cosine.to_excel(only_cosine_writer, sheet_name='only_cosine', index=True)"
   ]
  },
  {
   "cell_type": "code",
   "execution_count": 25,
   "metadata": {},
   "outputs": [
    {
     "name": "stderr",
     "output_type": "stream",
     "text": [
      "C:\\Users\\user\\AppData\\Local\\Temp\\ipykernel_13488\\3780706832.py:1: FutureWarning: save is not part of the public API, usage can give unexpected results and will be removed in a future version\n",
      "  only_cosine_writer.save()\n"
     ]
    }
   ],
   "source": [
    "only_cosine_writer.save()"
   ]
  },
  {
   "cell_type": "code",
   "execution_count": null,
   "metadata": {},
   "outputs": [],
   "source": []
  }
 ],
 "metadata": {
  "kernelspec": {
   "display_name": "PY39_",
   "language": "python",
   "name": "python3"
  },
  "language_info": {
   "codemirror_mode": {
    "name": "ipython",
    "version": 3
   },
   "file_extension": ".py",
   "mimetype": "text/x-python",
   "name": "python",
   "nbconvert_exporter": "python",
   "pygments_lexer": "ipython3",
   "version": "3.9.16"
  },
  "orig_nbformat": 4
 },
 "nbformat": 4,
 "nbformat_minor": 2
}
