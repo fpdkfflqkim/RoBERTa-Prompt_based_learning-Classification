{
 "cells": [
  {
   "cell_type": "markdown",
   "metadata": {},
   "source": [
    "# 유사도 비교"
   ]
  },
  {
   "cell_type": "markdown",
   "metadata": {},
   "source": [
    "데이터 불러오기"
   ]
  },
  {
   "cell_type": "code",
   "execution_count": 5,
   "metadata": {},
   "outputs": [],
   "source": [
    "import pandas as pd\n",
    "import numpy as np"
   ]
  },
  {
   "cell_type": "code",
   "execution_count": 6,
   "metadata": {},
   "outputs": [],
   "source": [
    "df_train = pd.read_csv(\"C:/Users/user/Desktop/논문리뷰/Pattern-Exploiting-Training(PET)/code/testPET - 복사본/data/df_train_400_train.csv\")\n",
    "df_test = pd.read_csv(\"C:/Users/user/Desktop/논문리뷰/Pattern-Exploiting-Training(PET)/code/testPET - 복사본/data/df_test.csv\")\n",
    "df_unlabeled = pd.read_csv(\"C:/Users/user/Desktop/논문리뷰/Pattern-Exploiting-Training(PET)/code/testPET - 복사본/data/df_train_40_unlabeled.csv\")"
   ]
  },
  {
   "cell_type": "markdown",
   "metadata": {},
   "source": [
    "라벨 str로 변경"
   ]
  },
  {
   "cell_type": "code",
   "execution_count": 7,
   "metadata": {},
   "outputs": [],
   "source": [
    "df_train = df_train.astype(str)\n",
    "df_test = df_test.astype(str)\n",
    "df_unlabeled = df_unlabeled.astype(str)"
   ]
  },
  {
   "cell_type": "markdown",
   "metadata": {},
   "source": [
    "pvp+text 만들기"
   ]
  },
  {
   "cell_type": "code",
   "execution_count": 13,
   "metadata": {},
   "outputs": [],
   "source": [
    "def text_with_pattern_1(df):\n",
    "    if df['label'] == '1':\n",
    "        return f\"It was bad. {df['text']}.\"\n",
    "    elif df['label'] == '2':\n",
    "        return f\"It was good. {df['text']}.\"\n"
   ]
  },
  {
   "cell_type": "code",
   "execution_count": 5,
   "metadata": {},
   "outputs": [],
   "source": [
    "def text_with_pattern_2(df):\n",
    "    if df['label'] == '1':\n",
    "        return f\"{df['text'] }. All in all, it was bad.\"\n",
    "    elif df['label'] == '2':\n",
    "        return f\"{df['text']}. All in all, it was good.\"\n"
   ]
  },
  {
   "cell_type": "code",
   "execution_count": 6,
   "metadata": {},
   "outputs": [],
   "source": [
    "def text_with_pattern_3(df):\n",
    "    if df['label'] == '1':\n",
    "        return f\"In summary, the restaurant is bad. {df['text']}.\"\n",
    "    elif df['label'] == '2':\n",
    "        return f\"In summary, the restaurant is good. {df['text']}.\"\n"
   ]
  },
  {
   "cell_type": "code",
   "execution_count": 7,
   "metadata": {},
   "outputs": [],
   "source": [
    "df_train['PVPtext_1'] = df_train.apply(text_with_pattern_1, axis=1)\n",
    "df_train['PVPtext_2'] = df_train.apply(text_with_pattern_2, axis=1)\n",
    "df_train['PVPtext_3'] = df_train.apply(text_with_pattern_3, axis=1)"
   ]
  },
  {
   "cell_type": "markdown",
   "metadata": {},
   "source": [
    "Pvp만 비교"
   ]
  },
  {
   "cell_type": "markdown",
   "metadata": {},
   "source": [
    "PVP\n",
    "0. It was [MASK]. x\n",
    "1. x All in all, it was [MASK].\n",
    "2. Just [MASK]!\n",
    "3. In summary, the restaurant is [MASK].\n",
    "\n",
    "4. x Taking everything into account, it was [MASK].\n",
    "5. x To wrap it up, it was [MASK].\n",
    "6. x Generally, it seems [MASK].\n",
    "7. x In a nutshell, [MASK].\n",
    "8. The place had a [MASK] vibe. x\n",
    "9. Everything gave off a [MASK] impression.x"
   ]
  },
  {
   "cell_type": "code",
   "execution_count": 8,
   "metadata": {},
   "outputs": [],
   "source": [
    "def pvp_0(df):\n",
    "    if df['label'] == '1':\n",
    "        return f\"It was bad.\"\n",
    "    elif df['label'] == '2':\n",
    "        return f\"It was good.\"\n"
   ]
  },
  {
   "cell_type": "code",
   "execution_count": 9,
   "metadata": {},
   "outputs": [],
   "source": [
    "def pvp_1(df):\n",
    "    if df['label'] == '1':\n",
    "        return f\"All in all, it was bad.\"\n",
    "    elif df['label'] == '2':\n",
    "        return f\"All in all, it was good.\""
   ]
  },
  {
   "cell_type": "code",
   "execution_count": 10,
   "metadata": {},
   "outputs": [],
   "source": [
    "def pvp_2(df):\n",
    "    if df['label'] == '1':\n",
    "        return f\"Just bad!.\"\n",
    "    elif df['label'] == '2':\n",
    "        return f\"Just good!.\""
   ]
  },
  {
   "cell_type": "code",
   "execution_count": 11,
   "metadata": {},
   "outputs": [],
   "source": [
    "def pvp_3(df):\n",
    "    if df['label'] == '1':\n",
    "        return f\"In summary, the restaurant is bad.\"\n",
    "    elif df['label'] == '2':\n",
    "        return f\"In summary, the restaurant is good.\"\n"
   ]
  },
  {
   "cell_type": "code",
   "execution_count": 12,
   "metadata": {},
   "outputs": [],
   "source": [
    "def pvp_4(df):\n",
    "    if df['label'] == '1':\n",
    "        return f\"Taking everything into account, it was bad.\"\n",
    "    elif df['label'] == '2':\n",
    "        return f\"Taking everything into account, it was good.\""
   ]
  },
  {
   "cell_type": "code",
   "execution_count": 13,
   "metadata": {},
   "outputs": [],
   "source": [
    "def pvp_5(df):\n",
    "    if df['label'] == '1':\n",
    "        return f\"To wrap it up, it was bad.\"\n",
    "    elif df['label'] == '2':\n",
    "        return f\"To wrap it up, it was good.\""
   ]
  },
  {
   "cell_type": "code",
   "execution_count": 14,
   "metadata": {},
   "outputs": [],
   "source": [
    "def pvp_6(df):\n",
    "    if df['label'] == '1':\n",
    "        return f\"Generally, it seems bad.\"\n",
    "    elif df['label'] == '2':\n",
    "        return f\"Generally, it seems good.\""
   ]
  },
  {
   "cell_type": "code",
   "execution_count": 15,
   "metadata": {},
   "outputs": [],
   "source": [
    "def pvp_7(df):\n",
    "    if df['label'] == '1':\n",
    "        return f\"In a nutshell, bad.\"\n",
    "    elif df['label'] == '2':\n",
    "        return f\"In a nutshell, good.\""
   ]
  },
  {
   "cell_type": "code",
   "execution_count": 16,
   "metadata": {},
   "outputs": [],
   "source": [
    "def pvp_8(df):\n",
    "    if df['label'] == '1':\n",
    "        return f\"The place had a bad vibe.\"\n",
    "    elif df['label'] == '2':\n",
    "        return f\"The place had a good vibe.\""
   ]
  },
  {
   "cell_type": "code",
   "execution_count": 17,
   "metadata": {},
   "outputs": [],
   "source": [
    "def pvp_9(df):\n",
    "    if df['label'] == '1':\n",
    "        return f\"Everything gave off a bad impression.\"\n",
    "    elif df['label'] == '2':\n",
    "        return f\"Everything gave off a good impression.\""
   ]
  },
  {
   "cell_type": "code",
   "execution_count": null,
   "metadata": {},
   "outputs": [],
   "source": []
  },
  {
   "cell_type": "code",
   "execution_count": 18,
   "metadata": {},
   "outputs": [],
   "source": [
    "df_train['PVP_0'] = df_train.apply(pvp_0, axis=1)\n",
    "df_train['PVP_1'] = df_train.apply(pvp_1, axis=1)\n",
    "df_train['PVP_2'] = df_train.apply(pvp_2, axis=1)\n",
    "df_train['PVP_3'] = df_train.apply(pvp_3, axis=1)\n",
    "df_train['PVP_4'] = df_train.apply(pvp_4, axis=1)\n",
    "df_train['PVP_5'] = df_train.apply(pvp_5, axis=1)\n",
    "df_train['PVP_6'] = df_train.apply(pvp_6, axis=1)\n",
    "df_train['PVP_7'] = df_train.apply(pvp_7, axis=1)\n",
    "df_train['PVP_8'] = df_train.apply(pvp_8, axis=1)\n",
    "df_train['PVP_9'] = df_train.apply(pvp_9, axis=1)"
   ]
  },
  {
   "cell_type": "code",
   "execution_count": 19,
   "metadata": {},
   "outputs": [
    {
     "data": {
      "text/html": [
       "<div>\n",
       "<style scoped>\n",
       "    .dataframe tbody tr th:only-of-type {\n",
       "        vertical-align: middle;\n",
       "    }\n",
       "\n",
       "    .dataframe tbody tr th {\n",
       "        vertical-align: top;\n",
       "    }\n",
       "\n",
       "    .dataframe thead th {\n",
       "        text-align: right;\n",
       "    }\n",
       "</style>\n",
       "<table border=\"1\" class=\"dataframe\">\n",
       "  <thead>\n",
       "    <tr style=\"text-align: right;\">\n",
       "      <th></th>\n",
       "      <th>text</th>\n",
       "      <th>label</th>\n",
       "      <th>PVP_0</th>\n",
       "      <th>PVP_1</th>\n",
       "      <th>PVP_2</th>\n",
       "      <th>PVP_3</th>\n",
       "      <th>PVP_4</th>\n",
       "      <th>PVP_5</th>\n",
       "      <th>PVP_6</th>\n",
       "      <th>PVP_7</th>\n",
       "      <th>PVP_8</th>\n",
       "      <th>PVP_9</th>\n",
       "    </tr>\n",
       "  </thead>\n",
       "  <tbody>\n",
       "    <tr>\n",
       "      <th>0</th>\n",
       "      <td>I haven't gone on a weekday. but OMG! going th...</td>\n",
       "      <td>1</td>\n",
       "      <td>It was bad.</td>\n",
       "      <td>All in all, it was bad.</td>\n",
       "      <td>Just bad!.</td>\n",
       "      <td>In summary, the restaurant is bad.</td>\n",
       "      <td>Taking everything into account, it was bad.</td>\n",
       "      <td>To wrap it up, it was bad.</td>\n",
       "      <td>Generally, it seems bad.</td>\n",
       "      <td>In a nutshell, bad.</td>\n",
       "      <td>The place had a bad vibe.</td>\n",
       "      <td>Everything gave off a bad impression.</td>\n",
       "    </tr>\n",
       "    <tr>\n",
       "      <th>1</th>\n",
       "      <td>Meh! n nWe ordered this for room service and t...</td>\n",
       "      <td>1</td>\n",
       "      <td>It was bad.</td>\n",
       "      <td>All in all, it was bad.</td>\n",
       "      <td>Just bad!.</td>\n",
       "      <td>In summary, the restaurant is bad.</td>\n",
       "      <td>Taking everything into account, it was bad.</td>\n",
       "      <td>To wrap it up, it was bad.</td>\n",
       "      <td>Generally, it seems bad.</td>\n",
       "      <td>In a nutshell, bad.</td>\n",
       "      <td>The place had a bad vibe.</td>\n",
       "      <td>Everything gave off a bad impression.</td>\n",
       "    </tr>\n",
       "    <tr>\n",
       "      <th>2</th>\n",
       "      <td>It was a dive atmosphere which I like . I play...</td>\n",
       "      <td>1</td>\n",
       "      <td>It was bad.</td>\n",
       "      <td>All in all, it was bad.</td>\n",
       "      <td>Just bad!.</td>\n",
       "      <td>In summary, the restaurant is bad.</td>\n",
       "      <td>Taking everything into account, it was bad.</td>\n",
       "      <td>To wrap it up, it was bad.</td>\n",
       "      <td>Generally, it seems bad.</td>\n",
       "      <td>In a nutshell, bad.</td>\n",
       "      <td>The place had a bad vibe.</td>\n",
       "      <td>Everything gave off a bad impression.</td>\n",
       "    </tr>\n",
       "    <tr>\n",
       "      <th>3</th>\n",
       "      <td>As an update I would like to say that the Oliv...</td>\n",
       "      <td>1</td>\n",
       "      <td>It was bad.</td>\n",
       "      <td>All in all, it was bad.</td>\n",
       "      <td>Just bad!.</td>\n",
       "      <td>In summary, the restaurant is bad.</td>\n",
       "      <td>Taking everything into account, it was bad.</td>\n",
       "      <td>To wrap it up, it was bad.</td>\n",
       "      <td>Generally, it seems bad.</td>\n",
       "      <td>In a nutshell, bad.</td>\n",
       "      <td>The place had a bad vibe.</td>\n",
       "      <td>Everything gave off a bad impression.</td>\n",
       "    </tr>\n",
       "    <tr>\n",
       "      <th>4</th>\n",
       "      <td>I have been here a few times when it was busy....</td>\n",
       "      <td>1</td>\n",
       "      <td>It was bad.</td>\n",
       "      <td>All in all, it was bad.</td>\n",
       "      <td>Just bad!.</td>\n",
       "      <td>In summary, the restaurant is bad.</td>\n",
       "      <td>Taking everything into account, it was bad.</td>\n",
       "      <td>To wrap it up, it was bad.</td>\n",
       "      <td>Generally, it seems bad.</td>\n",
       "      <td>In a nutshell, bad.</td>\n",
       "      <td>The place had a bad vibe.</td>\n",
       "      <td>Everything gave off a bad impression.</td>\n",
       "    </tr>\n",
       "    <tr>\n",
       "      <th>...</th>\n",
       "      <td>...</td>\n",
       "      <td>...</td>\n",
       "      <td>...</td>\n",
       "      <td>...</td>\n",
       "      <td>...</td>\n",
       "      <td>...</td>\n",
       "      <td>...</td>\n",
       "      <td>...</td>\n",
       "      <td>...</td>\n",
       "      <td>...</td>\n",
       "      <td>...</td>\n",
       "      <td>...</td>\n",
       "    </tr>\n",
       "    <tr>\n",
       "      <th>95</th>\n",
       "      <td>Yummooo! This place is simple and delicious! T...</td>\n",
       "      <td>2</td>\n",
       "      <td>It was good.</td>\n",
       "      <td>All in all, it was good.</td>\n",
       "      <td>Just good!.</td>\n",
       "      <td>In summary, the restaurant is good.</td>\n",
       "      <td>Taking everything into account, it was good.</td>\n",
       "      <td>To wrap it up, it was good.</td>\n",
       "      <td>Generally, it seems good.</td>\n",
       "      <td>In a nutshell, good.</td>\n",
       "      <td>The place had a good vibe.</td>\n",
       "      <td>Everything gave off a good impression.</td>\n",
       "    </tr>\n",
       "    <tr>\n",
       "      <th>96</th>\n",
       "      <td>I was seen in a timely manner. I thought I had...</td>\n",
       "      <td>2</td>\n",
       "      <td>It was good.</td>\n",
       "      <td>All in all, it was good.</td>\n",
       "      <td>Just good!.</td>\n",
       "      <td>In summary, the restaurant is good.</td>\n",
       "      <td>Taking everything into account, it was good.</td>\n",
       "      <td>To wrap it up, it was good.</td>\n",
       "      <td>Generally, it seems good.</td>\n",
       "      <td>In a nutshell, good.</td>\n",
       "      <td>The place had a good vibe.</td>\n",
       "      <td>Everything gave off a good impression.</td>\n",
       "    </tr>\n",
       "    <tr>\n",
       "      <th>97</th>\n",
       "      <td>Excellent fast mexican food, and the staff is ...</td>\n",
       "      <td>2</td>\n",
       "      <td>It was good.</td>\n",
       "      <td>All in all, it was good.</td>\n",
       "      <td>Just good!.</td>\n",
       "      <td>In summary, the restaurant is good.</td>\n",
       "      <td>Taking everything into account, it was good.</td>\n",
       "      <td>To wrap it up, it was good.</td>\n",
       "      <td>Generally, it seems good.</td>\n",
       "      <td>In a nutshell, good.</td>\n",
       "      <td>The place had a good vibe.</td>\n",
       "      <td>Everything gave off a good impression.</td>\n",
       "    </tr>\n",
       "    <tr>\n",
       "      <th>98</th>\n",
       "      <td>Been here about 4x now close to my work. I had...</td>\n",
       "      <td>2</td>\n",
       "      <td>It was good.</td>\n",
       "      <td>All in all, it was good.</td>\n",
       "      <td>Just good!.</td>\n",
       "      <td>In summary, the restaurant is good.</td>\n",
       "      <td>Taking everything into account, it was good.</td>\n",
       "      <td>To wrap it up, it was good.</td>\n",
       "      <td>Generally, it seems good.</td>\n",
       "      <td>In a nutshell, good.</td>\n",
       "      <td>The place had a good vibe.</td>\n",
       "      <td>Everything gave off a good impression.</td>\n",
       "    </tr>\n",
       "    <tr>\n",
       "      <th>99</th>\n",
       "      <td>Just ordered 2 club sandwiches for pickup, eas...</td>\n",
       "      <td>2</td>\n",
       "      <td>It was good.</td>\n",
       "      <td>All in all, it was good.</td>\n",
       "      <td>Just good!.</td>\n",
       "      <td>In summary, the restaurant is good.</td>\n",
       "      <td>Taking everything into account, it was good.</td>\n",
       "      <td>To wrap it up, it was good.</td>\n",
       "      <td>Generally, it seems good.</td>\n",
       "      <td>In a nutshell, good.</td>\n",
       "      <td>The place had a good vibe.</td>\n",
       "      <td>Everything gave off a good impression.</td>\n",
       "    </tr>\n",
       "  </tbody>\n",
       "</table>\n",
       "<p>100 rows × 12 columns</p>\n",
       "</div>"
      ],
      "text/plain": [
       "                                                 text label         PVP_0  \\\n",
       "0   I haven't gone on a weekday. but OMG! going th...     1   It was bad.   \n",
       "1   Meh! n nWe ordered this for room service and t...     1   It was bad.   \n",
       "2   It was a dive atmosphere which I like . I play...     1   It was bad.   \n",
       "3   As an update I would like to say that the Oliv...     1   It was bad.   \n",
       "4   I have been here a few times when it was busy....     1   It was bad.   \n",
       "..                                                ...   ...           ...   \n",
       "95  Yummooo! This place is simple and delicious! T...     2  It was good.   \n",
       "96  I was seen in a timely manner. I thought I had...     2  It was good.   \n",
       "97  Excellent fast mexican food, and the staff is ...     2  It was good.   \n",
       "98  Been here about 4x now close to my work. I had...     2  It was good.   \n",
       "99  Just ordered 2 club sandwiches for pickup, eas...     2  It was good.   \n",
       "\n",
       "                       PVP_1        PVP_2  \\\n",
       "0    All in all, it was bad.   Just bad!.   \n",
       "1    All in all, it was bad.   Just bad!.   \n",
       "2    All in all, it was bad.   Just bad!.   \n",
       "3    All in all, it was bad.   Just bad!.   \n",
       "4    All in all, it was bad.   Just bad!.   \n",
       "..                       ...          ...   \n",
       "95  All in all, it was good.  Just good!.   \n",
       "96  All in all, it was good.  Just good!.   \n",
       "97  All in all, it was good.  Just good!.   \n",
       "98  All in all, it was good.  Just good!.   \n",
       "99  All in all, it was good.  Just good!.   \n",
       "\n",
       "                                  PVP_3  \\\n",
       "0    In summary, the restaurant is bad.   \n",
       "1    In summary, the restaurant is bad.   \n",
       "2    In summary, the restaurant is bad.   \n",
       "3    In summary, the restaurant is bad.   \n",
       "4    In summary, the restaurant is bad.   \n",
       "..                                  ...   \n",
       "95  In summary, the restaurant is good.   \n",
       "96  In summary, the restaurant is good.   \n",
       "97  In summary, the restaurant is good.   \n",
       "98  In summary, the restaurant is good.   \n",
       "99  In summary, the restaurant is good.   \n",
       "\n",
       "                                           PVP_4                        PVP_5  \\\n",
       "0    Taking everything into account, it was bad.   To wrap it up, it was bad.   \n",
       "1    Taking everything into account, it was bad.   To wrap it up, it was bad.   \n",
       "2    Taking everything into account, it was bad.   To wrap it up, it was bad.   \n",
       "3    Taking everything into account, it was bad.   To wrap it up, it was bad.   \n",
       "4    Taking everything into account, it was bad.   To wrap it up, it was bad.   \n",
       "..                                           ...                          ...   \n",
       "95  Taking everything into account, it was good.  To wrap it up, it was good.   \n",
       "96  Taking everything into account, it was good.  To wrap it up, it was good.   \n",
       "97  Taking everything into account, it was good.  To wrap it up, it was good.   \n",
       "98  Taking everything into account, it was good.  To wrap it up, it was good.   \n",
       "99  Taking everything into account, it was good.  To wrap it up, it was good.   \n",
       "\n",
       "                        PVP_6                 PVP_7  \\\n",
       "0    Generally, it seems bad.   In a nutshell, bad.   \n",
       "1    Generally, it seems bad.   In a nutshell, bad.   \n",
       "2    Generally, it seems bad.   In a nutshell, bad.   \n",
       "3    Generally, it seems bad.   In a nutshell, bad.   \n",
       "4    Generally, it seems bad.   In a nutshell, bad.   \n",
       "..                        ...                   ...   \n",
       "95  Generally, it seems good.  In a nutshell, good.   \n",
       "96  Generally, it seems good.  In a nutshell, good.   \n",
       "97  Generally, it seems good.  In a nutshell, good.   \n",
       "98  Generally, it seems good.  In a nutshell, good.   \n",
       "99  Generally, it seems good.  In a nutshell, good.   \n",
       "\n",
       "                         PVP_8                                   PVP_9  \n",
       "0    The place had a bad vibe.   Everything gave off a bad impression.  \n",
       "1    The place had a bad vibe.   Everything gave off a bad impression.  \n",
       "2    The place had a bad vibe.   Everything gave off a bad impression.  \n",
       "3    The place had a bad vibe.   Everything gave off a bad impression.  \n",
       "4    The place had a bad vibe.   Everything gave off a bad impression.  \n",
       "..                         ...                                     ...  \n",
       "95  The place had a good vibe.  Everything gave off a good impression.  \n",
       "96  The place had a good vibe.  Everything gave off a good impression.  \n",
       "97  The place had a good vibe.  Everything gave off a good impression.  \n",
       "98  The place had a good vibe.  Everything gave off a good impression.  \n",
       "99  The place had a good vibe.  Everything gave off a good impression.  \n",
       "\n",
       "[100 rows x 12 columns]"
      ]
     },
     "execution_count": 19,
     "metadata": {},
     "output_type": "execute_result"
    }
   ],
   "source": [
    "df_train"
   ]
  },
  {
   "cell_type": "markdown",
   "metadata": {},
   "source": [
    "임베딩"
   ]
  },
  {
   "cell_type": "code",
   "execution_count": 20,
   "metadata": {},
   "outputs": [],
   "source": [
    "from transformers import RobertaTokenizer, RobertaModel\n",
    "import torch"
   ]
  },
  {
   "cell_type": "code",
   "execution_count": 21,
   "metadata": {},
   "outputs": [
    {
     "name": "stderr",
     "output_type": "stream",
     "text": [
      "Some weights of the model checkpoint at roberta-large were not used when initializing RobertaModel: ['lm_head.layer_norm.bias', 'lm_head.dense.weight', 'lm_head.dense.bias', 'lm_head.bias', 'lm_head.layer_norm.weight', 'lm_head.decoder.weight']\n",
      "- This IS expected if you are initializing RobertaModel from the checkpoint of a model trained on another task or with another architecture (e.g. initializing a BertForSequenceClassification model from a BertForPreTraining model).\n",
      "- This IS NOT expected if you are initializing RobertaModel from the checkpoint of a model that you expect to be exactly identical (initializing a BertForSequenceClassification model from a BertForSequenceClassification model).\n"
     ]
    }
   ],
   "source": [
    "tokenizer = RobertaTokenizer.from_pretrained('roberta-large')\n",
    "model = RobertaModel.from_pretrained('roberta-large')"
   ]
  },
  {
   "cell_type": "code",
   "execution_count": 22,
   "metadata": {},
   "outputs": [],
   "source": [
    "texts = df_train['text'].tolist()\n",
    "# pvp_texts_1 = df_train['PVPtext_1'].tolist()\n",
    "# pvp_texts_2 = df_train['PVPtext_2'].tolist()\n",
    "# pvp_texts_3 = df_train['PVPtext_3'].tolist()\n",
    "pvp_0 = df_train['PVP_0'].tolist()\n",
    "pvp_1 = df_train['PVP_1'].tolist()\n",
    "pvp_2 = df_train['PVP_2'].tolist()\n",
    "pvp_3 = df_train['PVP_3'].tolist()\n",
    "pvp_4 = df_train['PVP_4'].tolist()\n",
    "pvp_5 = df_train['PVP_5'].tolist()\n",
    "pvp_6 = df_train['PVP_6'].tolist()\n",
    "pvp_7 = df_train['PVP_7'].tolist()\n",
    "pvp_8 = df_train['PVP_8'].tolist()\n",
    "pvp_9 = df_train['PVP_9'].tolist()"
   ]
  },
  {
   "cell_type": "code",
   "execution_count": 23,
   "metadata": {},
   "outputs": [],
   "source": [
    "text_tokens = tokenizer(texts, padding=True, truncation=True, return_tensors='pt')\n",
    "\n",
    "#pvp_texts_1_tokens = tokenizer(pvp_texts_1, padding=True, truncation=True, return_tensors='pt')\n",
    "#pvp_texts_2_tokens = tokenizer(pvp_texts_2, padding=True, truncation=True, return_tensors='pt')\n",
    "#pvp_texts_3_tokens = tokenizer(pvp_texts_3, padding=True, truncation=True, return_tensors='pt')\n",
    "\n",
    "pvp_0_tokens = tokenizer(pvp_0, padding=True, truncation=True, return_tensors='pt')\n",
    "pvp_1_tokens = tokenizer(pvp_1, padding=True, truncation=True, return_tensors='pt')\n",
    "pvp_2_tokens = tokenizer(pvp_2, padding=True, truncation=True, return_tensors='pt')\n",
    "pvp_3_tokens = tokenizer(pvp_3, padding=True, truncation=True, return_tensors='pt')\n",
    "pvp_4_tokens = tokenizer(pvp_4, padding=True, truncation=True, return_tensors='pt')\n",
    "pvp_5_tokens = tokenizer(pvp_5, padding=True, truncation=True, return_tensors='pt')\n",
    "pvp_6_tokens = tokenizer(pvp_6, padding=True, truncation=True, return_tensors='pt')\n",
    "pvp_7_tokens = tokenizer(pvp_7, padding=True, truncation=True, return_tensors='pt')\n",
    "pvp_8_tokens = tokenizer(pvp_8, padding=True, truncation=True, return_tensors='pt')\n",
    "pvp_9_tokens = tokenizer(pvp_9, padding=True, truncation=True, return_tensors='pt')"
   ]
  },
  {
   "cell_type": "code",
   "execution_count": 24,
   "metadata": {},
   "outputs": [],
   "source": [
    "with torch.no_grad():\n",
    "    text_outputs = model(**text_tokens)\n",
    "    \n",
    "    #pvp_text_outputs_1 = model(**pvp_texts_1_tokens)\n",
    "    #pvp_text_outputs_2 = model(**pvp_texts_2_tokens)\n",
    "    #pvp_text_outputs_3 = model(**pvp_texts_3_tokens)\n",
    "    pvp_outputs_0 = model(**pvp_0_tokens)    \n",
    "    pvp_outputs_1 = model(**pvp_1_tokens)\n",
    "    pvp_outputs_2 = model(**pvp_2_tokens)\n",
    "    pvp_outputs_3 = model(**pvp_3_tokens)\n",
    "    pvp_outputs_4 = model(**pvp_4_tokens)\n",
    "    pvp_outputs_5 = model(**pvp_5_tokens)\n",
    "    pvp_outputs_6 = model(**pvp_6_tokens)\n",
    "    pvp_outputs_7 = model(**pvp_7_tokens)\n",
    "    pvp_outputs_8 = model(**pvp_8_tokens)\n",
    "    pvp_outputs_9 = model(**pvp_9_tokens)"
   ]
  },
  {
   "cell_type": "code",
   "execution_count": 25,
   "metadata": {},
   "outputs": [],
   "source": [
    "text_embeddings = text_outputs.last_hidden_state[:, 0, :].numpy()\n",
    "\n",
    "#pvp_text_1_embeddings = pvp_text_outputs_1.last_hidden_state[:, 0, :].numpy()\n",
    "#pvp_text_2_embeddings = pvp_text_outputs_2.last_hidden_state[:, 0, :].numpy()\n",
    "#pvp_text_3_embeddings = pvp_text_outputs_3.last_hidden_state[:, 0, :].numpy()\n",
    "\n",
    "pvp_0_embeddings = pvp_outputs_0.last_hidden_state[:, 0, :].numpy()\n",
    "pvp_1_embeddings = pvp_outputs_1.last_hidden_state[:, 0, :].numpy()\n",
    "pvp_2_embeddings = pvp_outputs_2.last_hidden_state[:, 0, :].numpy()\n",
    "pvp_3_embeddings = pvp_outputs_3.last_hidden_state[:, 0, :].numpy()\n",
    "pvp_4_embeddings = pvp_outputs_4.last_hidden_state[:, 0, :].numpy()\n",
    "pvp_5_embeddings = pvp_outputs_5.last_hidden_state[:, 0, :].numpy()\n",
    "pvp_6_embeddings = pvp_outputs_6.last_hidden_state[:, 0, :].numpy()\n",
    "pvp_7_embeddings = pvp_outputs_7.last_hidden_state[:, 0, :].numpy()\n",
    "pvp_8_embeddings = pvp_outputs_8.last_hidden_state[:, 0, :].numpy()\n",
    "pvp_9_embeddings = pvp_outputs_9.last_hidden_state[:, 0, :].numpy()"
   ]
  },
  {
   "cell_type": "markdown",
   "metadata": {},
   "source": [
    "유사도 비교"
   ]
  },
  {
   "cell_type": "code",
   "execution_count": 26,
   "metadata": {},
   "outputs": [],
   "source": [
    "from sklearn.metrics.pairwise import cosine_similarity"
   ]
  },
  {
   "cell_type": "code",
   "execution_count": 27,
   "metadata": {},
   "outputs": [],
   "source": [
    "def cosine_similarity_mean(text_embeddings, pvp_embeddings):\n",
    "    cosine_similarities = cosine_similarity(text_embeddings, pvp_embeddings)\n",
    "\n",
    "    num_rows = cosine_similarities.shape[0]\n",
    "\n",
    "    similarity_scores = np.zeros(num_rows)\n",
    "\n",
    "    for i in range(num_rows):\n",
    "        similarity_scores[i] = cosine_similarities[i, i]\n",
    "\n",
    "    cosine_similarity_mean = np.mean(similarity_scores)\n",
    "\n",
    "    return cosine_similarity_mean"
   ]
  },
  {
   "cell_type": "code",
   "execution_count": 28,
   "metadata": {},
   "outputs": [],
   "source": [
    "#pvp_text_1_cosine_similarity_mean = cosine_similarity_mean(text_embeddings, pvp_text_1_embeddings)\n",
    "#pvp_text_2_cosine_similarity_mean = cosine_similarity_mean(text_embeddings, pvp_text_2_embeddings)\n",
    "#pvp_text_3_cosine_similarity_mean = cosine_similarity_mean(text_embeddings, pvp_text_3_embeddings)\n",
    "pvp_0_cosine_similarity_mean = cosine_similarity_mean(text_embeddings, pvp_0_embeddings)\n",
    "pvp_1_cosine_similarity_mean = cosine_similarity_mean(text_embeddings, pvp_1_embeddings)\n",
    "pvp_2_cosine_similarity_mean = cosine_similarity_mean(text_embeddings, pvp_2_embeddings)\n",
    "pvp_3_cosine_similarity_mean = cosine_similarity_mean(text_embeddings, pvp_3_embeddings)\n",
    "pvp_4_cosine_similarity_mean = cosine_similarity_mean(text_embeddings, pvp_4_embeddings)\n",
    "pvp_5_cosine_similarity_mean = cosine_similarity_mean(text_embeddings, pvp_5_embeddings)\n",
    "pvp_6_cosine_similarity_mean = cosine_similarity_mean(text_embeddings, pvp_6_embeddings)\n",
    "pvp_7_cosine_similarity_mean = cosine_similarity_mean(text_embeddings, pvp_7_embeddings)\n",
    "pvp_8_cosine_similarity_mean = cosine_similarity_mean(text_embeddings, pvp_8_embeddings)\n",
    "pvp_9_cosine_similarity_mean = cosine_similarity_mean(text_embeddings, pvp_9_embeddings)"
   ]
  },
  {
   "cell_type": "code",
   "execution_count": 30,
   "metadata": {},
   "outputs": [],
   "source": [
    "def cosine_dataframe(result_dict):\n",
    "\n",
    "    df = pd.DataFrame(result_dict)\n",
    "    df = df.transpose()\n",
    "    df.reset_index(inplace=True)\n",
    "    df.columns = ['PVP', 'Value']\n",
    "    df.sort_values(by='Value', ascending=False, inplace=True)\n",
    "    df.reset_index(drop=True, inplace=True)\n",
    "    return df"
   ]
  },
  {
   "cell_type": "code",
   "execution_count": 29,
   "metadata": {},
   "outputs": [],
   "source": [
    "cosine_result = {\n",
    "    'pvp_0': [pvp_0_cosine_similarity_mean],\n",
    "    'pvp_1': [pvp_1_cosine_similarity_mean],\n",
    "    'pvp_2': [pvp_2_cosine_similarity_mean],\n",
    "    'pvp_3': [pvp_3_cosine_similarity_mean],\n",
    "    'pvp_4': [pvp_4_cosine_similarity_mean],\n",
    "    'pvp_5': [pvp_5_cosine_similarity_mean],\n",
    "    'pvp_6': [pvp_6_cosine_similarity_mean],\n",
    "    'pvp_7': [pvp_7_cosine_similarity_mean],\n",
    "    'pvp_8': [pvp_8_cosine_similarity_mean],\n",
    "    'pvp_9': [pvp_9_cosine_similarity_mean],\n",
    "}"
   ]
  },
  {
   "cell_type": "code",
   "execution_count": 31,
   "metadata": {},
   "outputs": [],
   "source": [
    "cosine_result_df = cosine_dataframe(cosine_result)"
   ]
  },
  {
   "cell_type": "code",
   "execution_count": 32,
   "metadata": {},
   "outputs": [
    {
     "data": {
      "text/html": [
       "<div>\n",
       "<style scoped>\n",
       "    .dataframe tbody tr th:only-of-type {\n",
       "        vertical-align: middle;\n",
       "    }\n",
       "\n",
       "    .dataframe tbody tr th {\n",
       "        vertical-align: top;\n",
       "    }\n",
       "\n",
       "    .dataframe thead th {\n",
       "        text-align: right;\n",
       "    }\n",
       "</style>\n",
       "<table border=\"1\" class=\"dataframe\">\n",
       "  <thead>\n",
       "    <tr style=\"text-align: right;\">\n",
       "      <th></th>\n",
       "      <th>PVP</th>\n",
       "      <th>Value</th>\n",
       "    </tr>\n",
       "  </thead>\n",
       "  <tbody>\n",
       "    <tr>\n",
       "      <th>0</th>\n",
       "      <td>pvp_4</td>\n",
       "      <td>0.979198</td>\n",
       "    </tr>\n",
       "    <tr>\n",
       "      <th>1</th>\n",
       "      <td>pvp_5</td>\n",
       "      <td>0.965835</td>\n",
       "    </tr>\n",
       "    <tr>\n",
       "      <th>2</th>\n",
       "      <td>pvp_3</td>\n",
       "      <td>0.956057</td>\n",
       "    </tr>\n",
       "    <tr>\n",
       "      <th>3</th>\n",
       "      <td>pvp_1</td>\n",
       "      <td>0.955369</td>\n",
       "    </tr>\n",
       "    <tr>\n",
       "      <th>4</th>\n",
       "      <td>pvp_8</td>\n",
       "      <td>0.955013</td>\n",
       "    </tr>\n",
       "    <tr>\n",
       "      <th>5</th>\n",
       "      <td>pvp_7</td>\n",
       "      <td>0.954881</td>\n",
       "    </tr>\n",
       "    <tr>\n",
       "      <th>6</th>\n",
       "      <td>pvp_9</td>\n",
       "      <td>0.954614</td>\n",
       "    </tr>\n",
       "    <tr>\n",
       "      <th>7</th>\n",
       "      <td>pvp_6</td>\n",
       "      <td>0.954320</td>\n",
       "    </tr>\n",
       "    <tr>\n",
       "      <th>8</th>\n",
       "      <td>pvp_0</td>\n",
       "      <td>0.953627</td>\n",
       "    </tr>\n",
       "    <tr>\n",
       "      <th>9</th>\n",
       "      <td>pvp_2</td>\n",
       "      <td>0.889848</td>\n",
       "    </tr>\n",
       "  </tbody>\n",
       "</table>\n",
       "</div>"
      ],
      "text/plain": [
       "     PVP     Value\n",
       "0  pvp_4  0.979198\n",
       "1  pvp_5  0.965835\n",
       "2  pvp_3  0.956057\n",
       "3  pvp_1  0.955369\n",
       "4  pvp_8  0.955013\n",
       "5  pvp_7  0.954881\n",
       "6  pvp_9  0.954614\n",
       "7  pvp_6  0.954320\n",
       "8  pvp_0  0.953627\n",
       "9  pvp_2  0.889848"
      ]
     },
     "execution_count": 32,
     "metadata": {},
     "output_type": "execute_result"
    }
   ],
   "source": [
    "cosine_result_df"
   ]
  }
 ],
 "metadata": {
  "kernelspec": {
   "display_name": "PY39_",
   "language": "python",
   "name": "python3"
  },
  "language_info": {
   "codemirror_mode": {
    "name": "ipython",
    "version": 3
   },
   "file_extension": ".py",
   "mimetype": "text/x-python",
   "name": "python",
   "nbconvert_exporter": "python",
   "pygments_lexer": "ipython3",
   "version": "3.9.16"
  },
  "orig_nbformat": 4
 },
 "nbformat": 4,
 "nbformat_minor": 2
}
