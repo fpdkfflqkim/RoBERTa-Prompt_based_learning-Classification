{
 "cells": [
  {
   "cell_type": "markdown",
   "metadata": {},
   "source": [
    "# 클러스터링 K-Means"
   ]
  },
  {
   "cell_type": "markdown",
   "metadata": {},
   "source": [
    "데이터 불러오기"
   ]
  },
  {
   "cell_type": "code",
   "execution_count": 169,
   "metadata": {},
   "outputs": [],
   "source": [
    "import matplotlib.pyplot as plt\n",
    "from sklearn.cluster import KMeans\n",
    "from sklearn.decomposition import PCA\n",
    "import numpy as np\n",
    "import pandas as pd"
   ]
  },
  {
   "cell_type": "markdown",
   "metadata": {},
   "source": [
    "PVP\n",
    "\n",
    "0. It was [MASK]. x\n",
    "1. x All in all, it was [MASK].\n",
    "2. Just [MASK]!\n",
    "3. In summary, the restaurant is [MASK].\n",
    "\n",
    "4. x Taking everything into account, it was [MASK].\n",
    "5. x To wrap it up, it was [MASK].\n",
    "6. x Generally, it seems [MASK].\n",
    "7. x In a nutshell, [MASK].\n",
    "8. The place had a [MASK] vibe. x\n",
    "9. Everything gave off a [MASK] impression.x"
   ]
  },
  {
   "cell_type": "markdown",
   "metadata": {},
   "source": [
    "good"
   ]
  },
  {
   "cell_type": "code",
   "execution_count": 170,
   "metadata": {},
   "outputs": [],
   "source": [
    "pattern_good_0 = \"It was good.\"\n",
    "pattern_good_1 = \"All in all, it was good.\"\n",
    "pattern_good_2 = \"Just good!\"\n",
    "pattern_good_3 = \"In summary, the restaurant is good.\"\n",
    "pattern_good_4 = \"Taking everything into account, it was good.\"\n",
    "pattern_good_5 = \"To wrap it up, it was good.\"\n",
    "pattern_good_6 = \"Generally, it seems good.\"\n",
    "pattern_good_7 = \"In a nutshell, good.\"\n",
    "pattern_good_8 = \"The place had a good vibe.\"\n",
    "pattern_good_9 = \"Everything gave off a good impression.\""
   ]
  },
  {
   "cell_type": "code",
   "execution_count": 171,
   "metadata": {},
   "outputs": [],
   "source": [
    "sentences_good = [\n",
    "    pattern_good_0,\n",
    "    pattern_good_1,\n",
    "    pattern_good_2,\n",
    "    pattern_good_3,\n",
    "    pattern_good_4,\n",
    "    pattern_good_5,\n",
    "    pattern_good_6,\n",
    "    pattern_good_7,\n",
    "    pattern_good_8,\n",
    "    pattern_good_9,\n",
    "]"
   ]
  },
  {
   "cell_type": "markdown",
   "metadata": {},
   "source": [
    "임베딩"
   ]
  },
  {
   "cell_type": "code",
   "execution_count": 172,
   "metadata": {},
   "outputs": [],
   "source": [
    "from transformers import RobertaTokenizer, RobertaModel\n",
    "import torch"
   ]
  },
  {
   "cell_type": "code",
   "execution_count": 173,
   "metadata": {},
   "outputs": [
    {
     "name": "stderr",
     "output_type": "stream",
     "text": [
      "Some weights of the model checkpoint at roberta-large were not used when initializing RobertaModel: ['lm_head.decoder.weight', 'lm_head.dense.bias', 'lm_head.dense.weight', 'lm_head.bias', 'lm_head.layer_norm.bias', 'lm_head.layer_norm.weight']\n",
      "- This IS expected if you are initializing RobertaModel from the checkpoint of a model trained on another task or with another architecture (e.g. initializing a BertForSequenceClassification model from a BertForPreTraining model).\n",
      "- This IS NOT expected if you are initializing RobertaModel from the checkpoint of a model that you expect to be exactly identical (initializing a BertForSequenceClassification model from a BertForSequenceClassification model).\n"
     ]
    }
   ],
   "source": [
    "tokenizer = RobertaTokenizer.from_pretrained('roberta-large')\n",
    "model = RobertaModel.from_pretrained('roberta-large')"
   ]
  },
  {
   "cell_type": "code",
   "execution_count": 175,
   "metadata": {},
   "outputs": [],
   "source": [
    "input_ids_good = torch.tensor([tokenizer.encode(sent, add_special_tokens=True, padding='max_length', truncation=True, max_length=32) for sent in sentences_good])"
   ]
  },
  {
   "cell_type": "code",
   "execution_count": 176,
   "metadata": {},
   "outputs": [],
   "source": [
    "with torch.no_grad():\n",
    "    model.eval()\n",
    "    embeddings_good = model(input_ids_good)[0]"
   ]
  },
  {
   "cell_type": "code",
   "execution_count": 177,
   "metadata": {},
   "outputs": [],
   "source": [
    "flattened_embeddings_good = torch.mean(embeddings_good, dim=1)\n",
    "embeddings_np_good = flattened_embeddings_good.numpy()"
   ]
  },
  {
   "cell_type": "code",
   "execution_count": 178,
   "metadata": {},
   "outputs": [],
   "source": [
    "num_clusters = 3"
   ]
  },
  {
   "cell_type": "code",
   "execution_count": 243,
   "metadata": {},
   "outputs": [
    {
     "name": "stderr",
     "output_type": "stream",
     "text": [
      "c:\\Users\\user\\anaconda3\\envs\\PY39_\\lib\\site-packages\\sklearn\\cluster\\_kmeans.py:870: FutureWarning: The default value of `n_init` will change from 10 to 'auto' in 1.4. Set the value of `n_init` explicitly to suppress the warning\n",
      "  warnings.warn(\n"
     ]
    }
   ],
   "source": [
    "kmeans_good = KMeans(n_clusters=num_clusters, random_state=42)\n",
    "cluster_labels_good = kmeans_good.fit_predict(embeddings_np_good)"
   ]
  },
  {
   "cell_type": "code",
   "execution_count": 244,
   "metadata": {},
   "outputs": [],
   "source": [
    "# 문장 / 클러스터 / 중심 벡터 확인\n",
    "cluster_data_good = {\n",
    "    \"Sentence\": sentences_good,\n",
    "    \"Vector\": embeddings_np_good.tolist(),\n",
    "    \"Cluster\": cluster_labels_good,\n",
    "    \"Centroid Vector\": [kmeans_good.cluster_centers_[i] for i in cluster_labels_good],\n",
    "}\n",
    "df_cluster_data_good = pd.DataFrame(cluster_data_good)"
   ]
  },
  {
   "cell_type": "code",
   "execution_count": 245,
   "metadata": {},
   "outputs": [
    {
     "data": {
      "text/html": [
       "<div>\n",
       "<style scoped>\n",
       "    .dataframe tbody tr th:only-of-type {\n",
       "        vertical-align: middle;\n",
       "    }\n",
       "\n",
       "    .dataframe tbody tr th {\n",
       "        vertical-align: top;\n",
       "    }\n",
       "\n",
       "    .dataframe thead th {\n",
       "        text-align: right;\n",
       "    }\n",
       "</style>\n",
       "<table border=\"1\" class=\"dataframe\">\n",
       "  <thead>\n",
       "    <tr style=\"text-align: right;\">\n",
       "      <th></th>\n",
       "      <th>Sentence</th>\n",
       "      <th>Vector</th>\n",
       "      <th>Cluster</th>\n",
       "      <th>Centroid Vector</th>\n",
       "    </tr>\n",
       "  </thead>\n",
       "  <tbody>\n",
       "    <tr>\n",
       "      <th>0</th>\n",
       "      <td>It was good.</td>\n",
       "      <td>[-0.21478337049484253, 0.5505541563034058, -0....</td>\n",
       "      <td>1</td>\n",
       "      <td>[-0.21478336, 0.55055416, -0.65014356, 0.53784...</td>\n",
       "    </tr>\n",
       "    <tr>\n",
       "      <th>1</th>\n",
       "      <td>All in all, it was good.</td>\n",
       "      <td>[0.08696834743022919, 0.008737122640013695, -0...</td>\n",
       "      <td>0</td>\n",
       "      <td>[0.1039329, 0.021140054, -0.1653259, 0.0381702...</td>\n",
       "    </tr>\n",
       "    <tr>\n",
       "      <th>2</th>\n",
       "      <td>Just good!</td>\n",
       "      <td>[0.1829804927110672, 0.4087640643119812, -0.54...</td>\n",
       "      <td>2</td>\n",
       "      <td>[0.07447437, 0.4159885, -0.48751757, 0.2233334...</td>\n",
       "    </tr>\n",
       "    <tr>\n",
       "      <th>3</th>\n",
       "      <td>In summary, the restaurant is good.</td>\n",
       "      <td>[0.10899806767702103, 0.05437375605106354, -0....</td>\n",
       "      <td>0</td>\n",
       "      <td>[0.1039329, 0.021140054, -0.1653259, 0.0381702...</td>\n",
       "    </tr>\n",
       "    <tr>\n",
       "      <th>4</th>\n",
       "      <td>Taking everything into account, it was good.</td>\n",
       "      <td>[0.130397230386734, 0.03923868387937546, -0.16...</td>\n",
       "      <td>0</td>\n",
       "      <td>[0.1039329, 0.021140054, -0.1653259, 0.0381702...</td>\n",
       "    </tr>\n",
       "    <tr>\n",
       "      <th>5</th>\n",
       "      <td>To wrap it up, it was good.</td>\n",
       "      <td>[0.046118754893541336, -0.034946996718645096, ...</td>\n",
       "      <td>0</td>\n",
       "      <td>[0.1039329, 0.021140054, -0.1653259, 0.0381702...</td>\n",
       "    </tr>\n",
       "    <tr>\n",
       "      <th>6</th>\n",
       "      <td>Generally, it seems good.</td>\n",
       "      <td>[0.030870070680975914, -0.039086319506168365, ...</td>\n",
       "      <td>0</td>\n",
       "      <td>[0.1039329, 0.021140054, -0.1653259, 0.0381702...</td>\n",
       "    </tr>\n",
       "    <tr>\n",
       "      <th>7</th>\n",
       "      <td>In a nutshell, good.</td>\n",
       "      <td>[0.126734659075737, -0.03050783835351467, -0.0...</td>\n",
       "      <td>0</td>\n",
       "      <td>[0.1039329, 0.021140054, -0.1653259, 0.0381702...</td>\n",
       "    </tr>\n",
       "    <tr>\n",
       "      <th>8</th>\n",
       "      <td>The place had a good vibe.</td>\n",
       "      <td>[0.1974431872367859, 0.15017201006412506, -0.2...</td>\n",
       "      <td>0</td>\n",
       "      <td>[0.1039329, 0.021140054, -0.1653259, 0.0381702...</td>\n",
       "    </tr>\n",
       "    <tr>\n",
       "      <th>9</th>\n",
       "      <td>Everything gave off a good impression.</td>\n",
       "      <td>[-0.03403174877166748, 0.4232129454612732, -0....</td>\n",
       "      <td>2</td>\n",
       "      <td>[0.07447437, 0.4159885, -0.48751757, 0.2233334...</td>\n",
       "    </tr>\n",
       "  </tbody>\n",
       "</table>\n",
       "</div>"
      ],
      "text/plain": [
       "                                       Sentence  \\\n",
       "0                                  It was good.   \n",
       "1                      All in all, it was good.   \n",
       "2                                    Just good!   \n",
       "3           In summary, the restaurant is good.   \n",
       "4  Taking everything into account, it was good.   \n",
       "5                   To wrap it up, it was good.   \n",
       "6                     Generally, it seems good.   \n",
       "7                          In a nutshell, good.   \n",
       "8                    The place had a good vibe.   \n",
       "9        Everything gave off a good impression.   \n",
       "\n",
       "                                              Vector  Cluster  \\\n",
       "0  [-0.21478337049484253, 0.5505541563034058, -0....        1   \n",
       "1  [0.08696834743022919, 0.008737122640013695, -0...        0   \n",
       "2  [0.1829804927110672, 0.4087640643119812, -0.54...        2   \n",
       "3  [0.10899806767702103, 0.05437375605106354, -0....        0   \n",
       "4  [0.130397230386734, 0.03923868387937546, -0.16...        0   \n",
       "5  [0.046118754893541336, -0.034946996718645096, ...        0   \n",
       "6  [0.030870070680975914, -0.039086319506168365, ...        0   \n",
       "7  [0.126734659075737, -0.03050783835351467, -0.0...        0   \n",
       "8  [0.1974431872367859, 0.15017201006412506, -0.2...        0   \n",
       "9  [-0.03403174877166748, 0.4232129454612732, -0....        2   \n",
       "\n",
       "                                     Centroid Vector  \n",
       "0  [-0.21478336, 0.55055416, -0.65014356, 0.53784...  \n",
       "1  [0.1039329, 0.021140054, -0.1653259, 0.0381702...  \n",
       "2  [0.07447437, 0.4159885, -0.48751757, 0.2233334...  \n",
       "3  [0.1039329, 0.021140054, -0.1653259, 0.0381702...  \n",
       "4  [0.1039329, 0.021140054, -0.1653259, 0.0381702...  \n",
       "5  [0.1039329, 0.021140054, -0.1653259, 0.0381702...  \n",
       "6  [0.1039329, 0.021140054, -0.1653259, 0.0381702...  \n",
       "7  [0.1039329, 0.021140054, -0.1653259, 0.0381702...  \n",
       "8  [0.1039329, 0.021140054, -0.1653259, 0.0381702...  \n",
       "9  [0.07447437, 0.4159885, -0.48751757, 0.2233334...  "
      ]
     },
     "execution_count": 245,
     "metadata": {},
     "output_type": "execute_result"
    }
   ],
   "source": [
    "df_cluster_data_good"
   ]
  },
  {
   "cell_type": "code",
   "execution_count": 246,
   "metadata": {},
   "outputs": [
    {
     "name": "stdout",
     "output_type": "stream",
     "text": [
      "Cluster 1 - Representative Sentence: 'To wrap it up, it was good.'\n",
      "Cluster 2 - Representative Sentence: 'It was good.'\n",
      "Cluster 3 - Representative Sentence: 'Just good!'\n"
     ]
    }
   ],
   "source": [
    "# 중심문장 알아보기\n",
    "representative_sentences_good = []\n",
    "for i in range(num_clusters):\n",
    "    cluster_indices = np.where(cluster_labels_good == i)[0]\n",
    "    cluster_embeddings = embeddings_np_good[cluster_indices]\n",
    "    centroid_vector = kmeans_good.cluster_centers_[i]\n",
    "    centroid_vector = np.tile(centroid_vector, (cluster_embeddings.shape[0], 1))\n",
    "    closest_index = np.argmin(np.linalg.norm(cluster_embeddings - centroid_vector, axis=1))\n",
    "    representative_sentence = sentences_good[cluster_indices[closest_index]]\n",
    "    representative_sentences_good.append(representative_sentence)\n",
    "\n",
    "for i, sentence in enumerate(representative_sentences_good):\n",
    "    print(f\"Cluster {i + 1} - Representative Sentence: '{sentence}'\")"
   ]
  },
  {
   "cell_type": "markdown",
   "metadata": {},
   "source": [
    "# 전체의 중심벡터와의 거리"
   ]
  },
  {
   "cell_type": "code",
   "execution_count": 247,
   "metadata": {},
   "outputs": [],
   "source": [
    "all_center_vector_good = np.mean(embeddings_np_good, axis=0)"
   ]
  },
  {
   "cell_type": "markdown",
   "metadata": {},
   "source": [
    "전체의 중심벡터와의 거리(유클리드)_클수록 멀다"
   ]
  },
  {
   "cell_type": "code",
   "execution_count": 248,
   "metadata": {},
   "outputs": [],
   "source": [
    "euclidean_distance_good = np.zeros(embeddings_np_good.shape[0])"
   ]
  },
  {
   "cell_type": "code",
   "execution_count": 249,
   "metadata": {},
   "outputs": [],
   "source": [
    "for i in range(embeddings_np_good.shape[0]):\n",
    "    euclidean_distance_good[i] = np.linalg.norm(embeddings_np_good[i] - all_center_vector_good)"
   ]
  },
  {
   "cell_type": "code",
   "execution_count": 250,
   "metadata": {},
   "outputs": [
    {
     "data": {
      "text/plain": [
       "array([9.66908836, 3.53352833, 8.48380089, 5.26765776, 4.35486221,\n",
       "       3.58219171, 3.42800283, 4.9894762 , 3.81193972, 5.93755054])"
      ]
     },
     "execution_count": 250,
     "metadata": {},
     "output_type": "execute_result"
    }
   ],
   "source": [
    "euclidean_distance_good"
   ]
  },
  {
   "cell_type": "markdown",
   "metadata": {},
   "source": [
    "bad"
   ]
  },
  {
   "cell_type": "code",
   "execution_count": 251,
   "metadata": {},
   "outputs": [],
   "source": [
    "pattern_bad_0 = \"It was bad.\"\n",
    "pattern_bad_1 = \"All in all, it was bad.\"\n",
    "pattern_bad_2 = \"Just bad!\"\n",
    "pattern_bad_3 = \"In summary, the restaurant is bad.\"\n",
    "pattern_bad_4 = \"Taking everything into account, it was bad.\"\n",
    "pattern_bad_5 = \"To wrap it up, it was bad.\"\n",
    "pattern_bad_6 = \"Generally, it seems bad.\"\n",
    "pattern_bad_7 = \"In a nutshell, bad.\"\n",
    "pattern_bad_8 = \"The place had a bad vibe.\"\n",
    "pattern_bad_9 = \"Everything gave off a bad impression.\""
   ]
  },
  {
   "cell_type": "code",
   "execution_count": 252,
   "metadata": {},
   "outputs": [],
   "source": [
    "sentences_bad = [\n",
    "    pattern_bad_0,\n",
    "    pattern_bad_1,\n",
    "    pattern_bad_2,\n",
    "    pattern_bad_3,\n",
    "    pattern_bad_4,\n",
    "    pattern_bad_5,\n",
    "    pattern_bad_6,\n",
    "    pattern_bad_7,\n",
    "    pattern_bad_8,\n",
    "    pattern_bad_9,\n",
    "]"
   ]
  },
  {
   "cell_type": "code",
   "execution_count": 253,
   "metadata": {},
   "outputs": [],
   "source": [
    "input_ids_bad = torch.tensor([tokenizer.encode(sent, add_special_tokens=True, padding='max_length', truncation=True, max_length=32) for sent in sentences_bad])"
   ]
  },
  {
   "cell_type": "code",
   "execution_count": 254,
   "metadata": {},
   "outputs": [],
   "source": [
    "with torch.no_grad():\n",
    "    model.eval()\n",
    "    embeddings_bad = model(input_ids_bad)[0]"
   ]
  },
  {
   "cell_type": "code",
   "execution_count": 255,
   "metadata": {},
   "outputs": [],
   "source": [
    "flattened_embeddings_bad = torch.mean(embeddings_bad, dim=1)\n",
    "embeddings_np_bad = flattened_embeddings_bad.numpy()"
   ]
  },
  {
   "cell_type": "code",
   "execution_count": 256,
   "metadata": {},
   "outputs": [
    {
     "name": "stderr",
     "output_type": "stream",
     "text": [
      "c:\\Users\\user\\anaconda3\\envs\\PY39_\\lib\\site-packages\\sklearn\\cluster\\_kmeans.py:870: FutureWarning: The default value of `n_init` will change from 10 to 'auto' in 1.4. Set the value of `n_init` explicitly to suppress the warning\n",
      "  warnings.warn(\n"
     ]
    }
   ],
   "source": [
    "kmeans_bad = KMeans(n_clusters=num_clusters, random_state=42)\n",
    "cluster_labels_bad = kmeans_bad.fit_predict(embeddings_np_bad)"
   ]
  },
  {
   "cell_type": "code",
   "execution_count": 257,
   "metadata": {},
   "outputs": [],
   "source": [
    "cluster_data_bad = {\n",
    "    \"Sentence\": sentences_bad,\n",
    "    \"Vector\": embeddings_np_bad.tolist(),\n",
    "    \"Cluster\": cluster_labels_bad,\n",
    "    \"Centroid Vector\": [kmeans_bad.cluster_centers_[i] for i in cluster_labels_bad],\n",
    "}\n",
    "df_cluster_data_bad = pd.DataFrame(cluster_data_bad)"
   ]
  },
  {
   "cell_type": "code",
   "execution_count": 258,
   "metadata": {},
   "outputs": [
    {
     "data": {
      "text/html": [
       "<div>\n",
       "<style scoped>\n",
       "    .dataframe tbody tr th:only-of-type {\n",
       "        vertical-align: middle;\n",
       "    }\n",
       "\n",
       "    .dataframe tbody tr th {\n",
       "        vertical-align: top;\n",
       "    }\n",
       "\n",
       "    .dataframe thead th {\n",
       "        text-align: right;\n",
       "    }\n",
       "</style>\n",
       "<table border=\"1\" class=\"dataframe\">\n",
       "  <thead>\n",
       "    <tr style=\"text-align: right;\">\n",
       "      <th></th>\n",
       "      <th>Sentence</th>\n",
       "      <th>Vector</th>\n",
       "      <th>Cluster</th>\n",
       "      <th>Centroid Vector</th>\n",
       "    </tr>\n",
       "  </thead>\n",
       "  <tbody>\n",
       "    <tr>\n",
       "      <th>0</th>\n",
       "      <td>It was bad.</td>\n",
       "      <td>[-0.13653989136219025, 0.791196346282959, -0.5...</td>\n",
       "      <td>1</td>\n",
       "      <td>[-0.13653989, 0.79119635, -0.534098, 0.1279827...</td>\n",
       "    </tr>\n",
       "    <tr>\n",
       "      <th>1</th>\n",
       "      <td>All in all, it was bad.</td>\n",
       "      <td>[0.12056316435337067, 0.09876592457294464, -0....</td>\n",
       "      <td>0</td>\n",
       "      <td>[0.15526329, 0.029701762, -0.23348857, -0.0647...</td>\n",
       "    </tr>\n",
       "    <tr>\n",
       "      <th>2</th>\n",
       "      <td>Just bad!</td>\n",
       "      <td>[0.3127707540988922, 0.008738189935684204, -0....</td>\n",
       "      <td>2</td>\n",
       "      <td>[0.18086562, 0.10949418, -0.427746, 0.01422318...</td>\n",
       "    </tr>\n",
       "    <tr>\n",
       "      <th>3</th>\n",
       "      <td>In summary, the restaurant is bad.</td>\n",
       "      <td>[0.36867088079452515, -0.059411048889160156, -...</td>\n",
       "      <td>0</td>\n",
       "      <td>[0.15526329, 0.029701762, -0.23348857, -0.0647...</td>\n",
       "    </tr>\n",
       "    <tr>\n",
       "      <th>4</th>\n",
       "      <td>Taking everything into account, it was bad.</td>\n",
       "      <td>[0.13010944426059723, 0.083163321018219, -0.30...</td>\n",
       "      <td>0</td>\n",
       "      <td>[0.15526329, 0.029701762, -0.23348857, -0.0647...</td>\n",
       "    </tr>\n",
       "    <tr>\n",
       "      <th>5</th>\n",
       "      <td>To wrap it up, it was bad.</td>\n",
       "      <td>[0.10257554054260254, 0.008314615115523338, -0...</td>\n",
       "      <td>0</td>\n",
       "      <td>[0.15526329, 0.029701762, -0.23348857, -0.0647...</td>\n",
       "    </tr>\n",
       "    <tr>\n",
       "      <th>6</th>\n",
       "      <td>Generally, it seems bad.</td>\n",
       "      <td>[0.08288760483264923, 0.006541324779391289, -0...</td>\n",
       "      <td>0</td>\n",
       "      <td>[0.15526329, 0.029701762, -0.23348857, -0.0647...</td>\n",
       "    </tr>\n",
       "    <tr>\n",
       "      <th>7</th>\n",
       "      <td>In a nutshell, bad.</td>\n",
       "      <td>[0.10015606135129929, 0.026305150240659714, -0...</td>\n",
       "      <td>0</td>\n",
       "      <td>[0.15526329, 0.029701762, -0.23348857, -0.0647...</td>\n",
       "    </tr>\n",
       "    <tr>\n",
       "      <th>8</th>\n",
       "      <td>The place had a bad vibe.</td>\n",
       "      <td>[0.18188033998012543, 0.04423307254910469, -0....</td>\n",
       "      <td>0</td>\n",
       "      <td>[0.15526329, 0.029701762, -0.23348857, -0.0647...</td>\n",
       "    </tr>\n",
       "    <tr>\n",
       "      <th>9</th>\n",
       "      <td>Everything gave off a bad impression.</td>\n",
       "      <td>[0.04896049201488495, 0.21025016903877258, -0....</td>\n",
       "      <td>2</td>\n",
       "      <td>[0.18086562, 0.10949418, -0.427746, 0.01422318...</td>\n",
       "    </tr>\n",
       "  </tbody>\n",
       "</table>\n",
       "</div>"
      ],
      "text/plain": [
       "                                      Sentence  \\\n",
       "0                                  It was bad.   \n",
       "1                      All in all, it was bad.   \n",
       "2                                    Just bad!   \n",
       "3           In summary, the restaurant is bad.   \n",
       "4  Taking everything into account, it was bad.   \n",
       "5                   To wrap it up, it was bad.   \n",
       "6                     Generally, it seems bad.   \n",
       "7                          In a nutshell, bad.   \n",
       "8                    The place had a bad vibe.   \n",
       "9        Everything gave off a bad impression.   \n",
       "\n",
       "                                              Vector  Cluster  \\\n",
       "0  [-0.13653989136219025, 0.791196346282959, -0.5...        1   \n",
       "1  [0.12056316435337067, 0.09876592457294464, -0....        0   \n",
       "2  [0.3127707540988922, 0.008738189935684204, -0....        2   \n",
       "3  [0.36867088079452515, -0.059411048889160156, -...        0   \n",
       "4  [0.13010944426059723, 0.083163321018219, -0.30...        0   \n",
       "5  [0.10257554054260254, 0.008314615115523338, -0...        0   \n",
       "6  [0.08288760483264923, 0.006541324779391289, -0...        0   \n",
       "7  [0.10015606135129929, 0.026305150240659714, -0...        0   \n",
       "8  [0.18188033998012543, 0.04423307254910469, -0....        0   \n",
       "9  [0.04896049201488495, 0.21025016903877258, -0....        2   \n",
       "\n",
       "                                     Centroid Vector  \n",
       "0  [-0.13653989, 0.79119635, -0.534098, 0.1279827...  \n",
       "1  [0.15526329, 0.029701762, -0.23348857, -0.0647...  \n",
       "2  [0.18086562, 0.10949418, -0.427746, 0.01422318...  \n",
       "3  [0.15526329, 0.029701762, -0.23348857, -0.0647...  \n",
       "4  [0.15526329, 0.029701762, -0.23348857, -0.0647...  \n",
       "5  [0.15526329, 0.029701762, -0.23348857, -0.0647...  \n",
       "6  [0.15526329, 0.029701762, -0.23348857, -0.0647...  \n",
       "7  [0.15526329, 0.029701762, -0.23348857, -0.0647...  \n",
       "8  [0.15526329, 0.029701762, -0.23348857, -0.0647...  \n",
       "9  [0.18086562, 0.10949418, -0.427746, 0.01422318...  "
      ]
     },
     "execution_count": 258,
     "metadata": {},
     "output_type": "execute_result"
    }
   ],
   "source": [
    "df_cluster_data_bad"
   ]
  },
  {
   "cell_type": "code",
   "execution_count": 259,
   "metadata": {},
   "outputs": [
    {
     "name": "stdout",
     "output_type": "stream",
     "text": [
      "Cluster 1 - Representative Sentence: 'All in all, it was good.'\n",
      "Cluster 2 - Representative Sentence: 'It was good.'\n",
      "Cluster 3 - Representative Sentence: 'Just good!'\n"
     ]
    }
   ],
   "source": [
    "# 중심문장 알아보기\n",
    "representative_sentences_bad = []\n",
    "for i in range(num_clusters):\n",
    "    cluster_indices = np.where(cluster_labels_bad == i)[0]\n",
    "    cluster_embeddings = embeddings_np_bad[cluster_indices]\n",
    "    centroid_vector = kmeans_bad.cluster_centers_[i]\n",
    "    centroid_vector = np.tile(centroid_vector, (cluster_embeddings.shape[0], 1))\n",
    "    closest_index = np.argmin(np.linalg.norm(cluster_embeddings - centroid_vector, axis=1))\n",
    "    representative_sentence = sentences_good[cluster_indices[closest_index]]\n",
    "    representative_sentences_bad.append(representative_sentence)\n",
    "\n",
    "for i, sentence in enumerate(representative_sentences_bad):\n",
    "    print(f\"Cluster {i + 1} - Representative Sentence: '{sentence}'\")"
   ]
  },
  {
   "cell_type": "markdown",
   "metadata": {},
   "source": [
    "중심벡터_bad"
   ]
  },
  {
   "cell_type": "code",
   "execution_count": 260,
   "metadata": {},
   "outputs": [],
   "source": [
    "all_center_vector_bad = np.mean(embeddings_np_bad, axis=0)"
   ]
  },
  {
   "cell_type": "markdown",
   "metadata": {},
   "source": [
    "전체 중심벡터와의 거리"
   ]
  },
  {
   "cell_type": "code",
   "execution_count": 261,
   "metadata": {},
   "outputs": [],
   "source": [
    "euclidean_distance_bad = np.zeros(embeddings_np_bad.shape[0])"
   ]
  },
  {
   "cell_type": "code",
   "execution_count": 262,
   "metadata": {},
   "outputs": [],
   "source": [
    "for i in range(embeddings_np_bad.shape[0]):\n",
    "    euclidean_distance_bad[i] = np.linalg.norm(embeddings_np_bad[i] - all_center_vector_bad)"
   ]
  },
  {
   "cell_type": "code",
   "execution_count": 263,
   "metadata": {},
   "outputs": [
    {
     "data": {
      "text/plain": [
       "array([11.02524948,  2.58820391,  4.30388546,  3.9355011 ,  3.56832004,\n",
       "        4.34391212,  2.98811555,  4.65435219,  4.00161076,  4.97521305])"
      ]
     },
     "execution_count": 263,
     "metadata": {},
     "output_type": "execute_result"
    }
   ],
   "source": [
    "euclidean_distance_bad"
   ]
  },
  {
   "cell_type": "markdown",
   "metadata": {},
   "source": [
    "# 가장 이질적인 것\n",
    "후보 good : [0, 2, 5], bad : [0, 1, 2]"
   ]
  },
  {
   "cell_type": "code",
   "execution_count": 264,
   "metadata": {},
   "outputs": [],
   "source": [
    "candi_1 = [0, 2, 5]"
   ]
  },
  {
   "cell_type": "code",
   "execution_count": 265,
   "metadata": {},
   "outputs": [],
   "source": [
    "candi_1_list = []\n",
    "for i in candi_1:\n",
    "    candi_1_list.append(euclidean_distance_good[i])\n",
    "    candi_1_list.append(euclidean_distance_bad[i])\n"
   ]
  },
  {
   "cell_type": "code",
   "execution_count": 266,
   "metadata": {},
   "outputs": [
    {
     "data": {
      "text/plain": [
       "[9.669088363647461,\n",
       " 11.025249481201172,\n",
       " 8.483800888061523,\n",
       " 4.303885459899902,\n",
       " 3.5821917057037354,\n",
       " 4.343912124633789]"
      ]
     },
     "execution_count": 266,
     "metadata": {},
     "output_type": "execute_result"
    }
   ],
   "source": [
    "candi_1_list"
   ]
  },
  {
   "cell_type": "code",
   "execution_count": 267,
   "metadata": {},
   "outputs": [],
   "source": [
    "candi_1_sum = sum(candi_1_list)"
   ]
  },
  {
   "cell_type": "code",
   "execution_count": 268,
   "metadata": {},
   "outputs": [
    {
     "data": {
      "text/plain": [
       "41.40812802314758"
      ]
     },
     "execution_count": 268,
     "metadata": {},
     "output_type": "execute_result"
    }
   ],
   "source": [
    "candi_1_sum"
   ]
  },
  {
   "cell_type": "code",
   "execution_count": 269,
   "metadata": {},
   "outputs": [],
   "source": [
    "candi_2 = [0, 1, 2]"
   ]
  },
  {
   "cell_type": "code",
   "execution_count": 270,
   "metadata": {},
   "outputs": [],
   "source": [
    "candi_2_list = []\n",
    "for i in candi_2:\n",
    "    candi_2_list.append(euclidean_distance_good[i])\n",
    "    candi_2_list.append(euclidean_distance_bad[i])"
   ]
  },
  {
   "cell_type": "code",
   "execution_count": 271,
   "metadata": {},
   "outputs": [
    {
     "data": {
      "text/plain": [
       "[9.669088363647461,\n",
       " 11.025249481201172,\n",
       " 3.5335283279418945,\n",
       " 2.5882039070129395,\n",
       " 8.483800888061523,\n",
       " 4.303885459899902]"
      ]
     },
     "execution_count": 271,
     "metadata": {},
     "output_type": "execute_result"
    }
   ],
   "source": [
    "candi_2_list"
   ]
  },
  {
   "cell_type": "code",
   "execution_count": 272,
   "metadata": {},
   "outputs": [],
   "source": [
    "candi_2_sum = sum(candi_2_list)"
   ]
  },
  {
   "cell_type": "code",
   "execution_count": 273,
   "metadata": {},
   "outputs": [
    {
     "data": {
      "text/plain": [
       "39.60375642776489"
      ]
     },
     "execution_count": 273,
     "metadata": {},
     "output_type": "execute_result"
    }
   ],
   "source": [
    "candi_2_sum"
   ]
  },
  {
   "cell_type": "markdown",
   "metadata": {},
   "source": [
    "# 클러스터링 시각화 PCA"
   ]
  },
  {
   "cell_type": "markdown",
   "metadata": {},
   "source": [
    "차원 축소(2차원)(미완)"
   ]
  },
  {
   "cell_type": "code",
   "execution_count": 280,
   "metadata": {},
   "outputs": [],
   "source": [
    "#차원 줄이기(시각화 위해)\n",
    "pca = PCA(n_components=2)\n",
    "embeddings_2d_PCA_good = pd.DataFrame(pca.fit_transform(np.stack(df_cluster_data_good['Vector'].values)), columns=(\"PCA Component 1\", \"PCA Component 2\"))\n",
    "embeddings_2d_PCA_good[\"Cluster\"] = df_cluster_data_good[\"Cluster\"]\n",
    "\n",
    "embeddings_2d_PCA_bad = pd.DataFrame(pca.fit_transform(np.stack(df_cluster_data_bad['Vector'].values)),columns=(\"PCA Component 1\", \"PCA Component 2\"))\n",
    "embeddings_2d_PCA_bad[\"Cluster\"] = df_cluster_data_bad[\"Cluster\"]"
   ]
  },
  {
   "cell_type": "code",
   "execution_count": 279,
   "metadata": {},
   "outputs": [
    {
     "data": {
      "text/html": [
       "<div>\n",
       "<style scoped>\n",
       "    .dataframe tbody tr th:only-of-type {\n",
       "        vertical-align: middle;\n",
       "    }\n",
       "\n",
       "    .dataframe tbody tr th {\n",
       "        vertical-align: top;\n",
       "    }\n",
       "\n",
       "    .dataframe thead th {\n",
       "        text-align: right;\n",
       "    }\n",
       "</style>\n",
       "<table border=\"1\" class=\"dataframe\">\n",
       "  <thead>\n",
       "    <tr style=\"text-align: right;\">\n",
       "      <th></th>\n",
       "      <th>PCA Component 1</th>\n",
       "      <th>PCA Component 2</th>\n",
       "      <th>Cluster</th>\n",
       "    </tr>\n",
       "  </thead>\n",
       "  <tbody>\n",
       "    <tr>\n",
       "      <th>0</th>\n",
       "      <td>8.793053</td>\n",
       "      <td>3.904568</td>\n",
       "      <td>1</td>\n",
       "    </tr>\n",
       "    <tr>\n",
       "      <th>1</th>\n",
       "      <td>-2.667511</td>\n",
       "      <td>0.524844</td>\n",
       "      <td>0</td>\n",
       "    </tr>\n",
       "    <tr>\n",
       "      <th>2</th>\n",
       "      <td>7.306944</td>\n",
       "      <td>-3.691453</td>\n",
       "      <td>2</td>\n",
       "    </tr>\n",
       "    <tr>\n",
       "      <th>3</th>\n",
       "      <td>-4.596294</td>\n",
       "      <td>0.217197</td>\n",
       "      <td>0</td>\n",
       "    </tr>\n",
       "    <tr>\n",
       "      <th>4</th>\n",
       "      <td>-3.410822</td>\n",
       "      <td>-0.255773</td>\n",
       "      <td>0</td>\n",
       "    </tr>\n",
       "    <tr>\n",
       "      <th>5</th>\n",
       "      <td>-2.890745</td>\n",
       "      <td>0.105842</td>\n",
       "      <td>0</td>\n",
       "    </tr>\n",
       "    <tr>\n",
       "      <th>6</th>\n",
       "      <td>-2.439311</td>\n",
       "      <td>0.136966</td>\n",
       "      <td>0</td>\n",
       "    </tr>\n",
       "    <tr>\n",
       "      <th>7</th>\n",
       "      <td>-3.861329</td>\n",
       "      <td>0.907068</td>\n",
       "      <td>0</td>\n",
       "    </tr>\n",
       "    <tr>\n",
       "      <th>8</th>\n",
       "      <td>-0.967313</td>\n",
       "      <td>-1.238772</td>\n",
       "      <td>0</td>\n",
       "    </tr>\n",
       "    <tr>\n",
       "      <th>9</th>\n",
       "      <td>4.733328</td>\n",
       "      <td>-0.610487</td>\n",
       "      <td>2</td>\n",
       "    </tr>\n",
       "  </tbody>\n",
       "</table>\n",
       "</div>"
      ],
      "text/plain": [
       "   PCA Component 1  PCA Component 2  Cluster\n",
       "0         8.793053         3.904568        1\n",
       "1        -2.667511         0.524844        0\n",
       "2         7.306944        -3.691453        2\n",
       "3        -4.596294         0.217197        0\n",
       "4        -3.410822        -0.255773        0\n",
       "5        -2.890745         0.105842        0\n",
       "6        -2.439311         0.136966        0\n",
       "7        -3.861329         0.907068        0\n",
       "8        -0.967313        -1.238772        0\n",
       "9         4.733328        -0.610487        2"
      ]
     },
     "execution_count": 279,
     "metadata": {},
     "output_type": "execute_result"
    }
   ],
   "source": [
    "embeddings_2d_PCA_good"
   ]
  },
  {
   "cell_type": "code",
   "execution_count": 282,
   "metadata": {},
   "outputs": [
    {
     "data": {
      "text/html": [
       "<div>\n",
       "<style scoped>\n",
       "    .dataframe tbody tr th:only-of-type {\n",
       "        vertical-align: middle;\n",
       "    }\n",
       "\n",
       "    .dataframe tbody tr th {\n",
       "        vertical-align: top;\n",
       "    }\n",
       "\n",
       "    .dataframe thead th {\n",
       "        text-align: right;\n",
       "    }\n",
       "</style>\n",
       "<table border=\"1\" class=\"dataframe\">\n",
       "  <thead>\n",
       "    <tr style=\"text-align: right;\">\n",
       "      <th></th>\n",
       "      <th>PCA Component 1</th>\n",
       "      <th>PCA Component 2</th>\n",
       "      <th>Cluster</th>\n",
       "    </tr>\n",
       "  </thead>\n",
       "  <tbody>\n",
       "    <tr>\n",
       "      <th>0</th>\n",
       "      <td>10.840154</td>\n",
       "      <td>-1.829283</td>\n",
       "      <td>1</td>\n",
       "    </tr>\n",
       "    <tr>\n",
       "      <th>1</th>\n",
       "      <td>-1.620795</td>\n",
       "      <td>-0.622596</td>\n",
       "      <td>0</td>\n",
       "    </tr>\n",
       "    <tr>\n",
       "      <th>2</th>\n",
       "      <td>0.731420</td>\n",
       "      <td>3.052445</td>\n",
       "      <td>2</td>\n",
       "    </tr>\n",
       "    <tr>\n",
       "      <th>3</th>\n",
       "      <td>-2.722847</td>\n",
       "      <td>-0.296845</td>\n",
       "      <td>0</td>\n",
       "    </tr>\n",
       "    <tr>\n",
       "      <th>4</th>\n",
       "      <td>-1.973899</td>\n",
       "      <td>-0.642722</td>\n",
       "      <td>0</td>\n",
       "    </tr>\n",
       "    <tr>\n",
       "      <th>5</th>\n",
       "      <td>-3.382561</td>\n",
       "      <td>-0.904686</td>\n",
       "      <td>0</td>\n",
       "    </tr>\n",
       "    <tr>\n",
       "      <th>6</th>\n",
       "      <td>-0.916824</td>\n",
       "      <td>0.029332</td>\n",
       "      <td>0</td>\n",
       "    </tr>\n",
       "    <tr>\n",
       "      <th>7</th>\n",
       "      <td>-2.808774</td>\n",
       "      <td>-1.977074</td>\n",
       "      <td>0</td>\n",
       "    </tr>\n",
       "    <tr>\n",
       "      <th>8</th>\n",
       "      <td>-1.542785</td>\n",
       "      <td>0.995277</td>\n",
       "      <td>0</td>\n",
       "    </tr>\n",
       "    <tr>\n",
       "      <th>9</th>\n",
       "      <td>3.396912</td>\n",
       "      <td>2.196152</td>\n",
       "      <td>2</td>\n",
       "    </tr>\n",
       "  </tbody>\n",
       "</table>\n",
       "</div>"
      ],
      "text/plain": [
       "   PCA Component 1  PCA Component 2  Cluster\n",
       "0        10.840154        -1.829283        1\n",
       "1        -1.620795        -0.622596        0\n",
       "2         0.731420         3.052445        2\n",
       "3        -2.722847        -0.296845        0\n",
       "4        -1.973899        -0.642722        0\n",
       "5        -3.382561        -0.904686        0\n",
       "6        -0.916824         0.029332        0\n",
       "7        -2.808774        -1.977074        0\n",
       "8        -1.542785         0.995277        0\n",
       "9         3.396912         2.196152        2"
      ]
     },
     "execution_count": 282,
     "metadata": {},
     "output_type": "execute_result"
    }
   ],
   "source": [
    "embeddings_2d_PCA_bad"
   ]
  },
  {
   "cell_type": "markdown",
   "metadata": {},
   "source": [
    "good 그래프"
   ]
  },
  {
   "cell_type": "code",
   "execution_count": 286,
   "metadata": {},
   "outputs": [],
   "source": [
    "import matplotlib.pyplot as plt"
   ]
  },
  {
   "cell_type": "code",
   "execution_count": 287,
   "metadata": {},
   "outputs": [
    {
     "data": {
      "image/png": "[encoded data removed]",
      "text/plain": [
       "<Figure size 1000x800 with 1 Axes>"
      ]
     },
     "metadata": {},
     "output_type": "display_data"
    }
   ],
   "source": [
    "plt.figure(figsize=(10, 8))\n",
    "colors = ['red', 'blue', 'green']\n",
    "markers = ['o', 's', '^']\n",
    "\n",
    "for i in range(num_clusters):\n",
    "    cluster_data = embeddings_2d_PCA_good[embeddings_2d_PCA_good['Cluster'] == i]\n",
    "    plt.scatter(cluster_data['PCA Component 1'], cluster_data['PCA Component 2'],\n",
    "                c=colors[i], marker=markers[i], label=f'Cluster {i+1} Sentences', alpha=0.7)\n",
    "    for index, row in cluster_data.iterrows():\n",
    "        plt.text(row['PCA Component 1'], row['PCA Component 2'], str(index), fontsize=9, ha='right', va='bottom')\n",
    "\n",
    "plt.xlabel('Principal Component 1')\n",
    "plt.ylabel('Principal Component 2')\n",
    "plt.title('Clustering Visualization')\n",
    "plt.legend()\n",
    "plt.show()"
   ]
  },
  {
   "cell_type": "code",
   "execution_count": 288,
   "metadata": {},
   "outputs": [
    {
     "data": {
      "image/png": "[encoded data removed]",
      "text/plain": [
       "<Figure size 1000x800 with 1 Axes>"
      ]
     },
     "metadata": {},
     "output_type": "display_data"
    }
   ],
   "source": [
    "plt.figure(figsize=(10, 8))\n",
    "colors = ['red', 'blue', 'green']\n",
    "markers = ['o', 's', '^']\n",
    "\n",
    "for i in range(num_clusters):\n",
    "    cluster_data = embeddings_2d_PCA_bad[embeddings_2d_PCA_bad['Cluster'] == i]\n",
    "    plt.scatter(cluster_data['PCA Component 1'], cluster_data['PCA Component 2'],\n",
    "                c=colors[i], marker=markers[i], label=f'Cluster {i+1} Sentences', alpha=0.7)\n",
    "    for index, row in cluster_data.iterrows():\n",
    "        plt.text(row['PCA Component 1'], row['PCA Component 2'], str(index), fontsize=9, ha='right', va='bottom')\n",
    "\n",
    "plt.xlabel('Principal Component 1')\n",
    "plt.ylabel('Principal Component 2')\n",
    "plt.title('Clustering Visualization')\n",
    "plt.legend()\n",
    "plt.show()"
   ]
  }
 ],
 "metadata": {
  "kernelspec": {
   "display_name": "PY39_",
   "language": "python",
   "name": "python3"
  },
  "language_info": {
   "codemirror_mode": {
    "name": "ipython",
    "version": 3
   },
   "file_extension": ".py",
   "mimetype": "text/x-python",
   "name": "python",
   "nbconvert_exporter": "python",
   "pygments_lexer": "ipython3",
   "version": "3.9.16"
  },
  "orig_nbformat": 4
 },
 "nbformat": 4,
 "nbformat_minor": 2
}
